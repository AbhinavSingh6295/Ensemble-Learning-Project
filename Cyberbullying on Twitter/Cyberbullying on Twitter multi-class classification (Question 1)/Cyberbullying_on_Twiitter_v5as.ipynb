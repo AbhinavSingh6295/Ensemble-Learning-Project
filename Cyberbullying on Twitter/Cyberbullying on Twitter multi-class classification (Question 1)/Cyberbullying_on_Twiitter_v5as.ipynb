{
  "cells": [
    {
      "cell_type": "code",
      "execution_count": 2,
      "metadata": {
        "colab": {
          "base_uri": "https://localhost:8080/"
        },
        "id": "wvN1oTQvibM1",
        "outputId": "baff40c1-13a9-4e59-887d-535609fe8cd8"
      },
      "outputs": [
        {
          "output_type": "stream",
          "name": "stdout",
          "text": [
            "Drive already mounted at /content/drive; to attempt to forcibly remount, call drive.mount(\"/content/drive\", force_remount=True).\n"
          ]
        }
      ],
      "source": [
        "from google.colab import drive\n",
        "drive.mount('/content/drive')"
      ]
    },
    {
      "cell_type": "code",
      "execution_count": 3,
      "metadata": {
        "id": "kfhBpW2GjqQZ"
      },
      "outputs": [],
      "source": [
        "import pandas as pd\n",
        "import numpy as np\n",
        "import nltk\n",
        "import matplotlib.pyplot as plt\n",
        "\n",
        "data= pd.read_csv(\"/content/drive/MyDrive/Cyberbullying_Kaggle_Data/cyberbullying_tweets.csv\")"
      ]
    },
    {
      "cell_type": "code",
      "execution_count": 4,
      "metadata": {
        "colab": {
          "base_uri": "https://localhost:8080/",
          "height": 206
        },
        "id": "2cPxuibKj-IA",
        "outputId": "fe796fff-9985-4713-e27d-c98349ad136c"
      },
      "outputs": [
        {
          "output_type": "execute_result",
          "data": {
            "text/html": [
              "\n",
              "  <div id=\"df-ab381197-9097-483a-97e5-becb9f80547f\">\n",
              "    <div class=\"colab-df-container\">\n",
              "      <div>\n",
              "<style scoped>\n",
              "    .dataframe tbody tr th:only-of-type {\n",
              "        vertical-align: middle;\n",
              "    }\n",
              "\n",
              "    .dataframe tbody tr th {\n",
              "        vertical-align: top;\n",
              "    }\n",
              "\n",
              "    .dataframe thead th {\n",
              "        text-align: right;\n",
              "    }\n",
              "</style>\n",
              "<table border=\"1\" class=\"dataframe\">\n",
              "  <thead>\n",
              "    <tr style=\"text-align: right;\">\n",
              "      <th></th>\n",
              "      <th>tweet_text</th>\n",
              "      <th>cyberbullying_type</th>\n",
              "    </tr>\n",
              "  </thead>\n",
              "  <tbody>\n",
              "    <tr>\n",
              "      <th>0</th>\n",
              "      <td>In other words #katandandre, your food was cra...</td>\n",
              "      <td>not_cyberbullying</td>\n",
              "    </tr>\n",
              "    <tr>\n",
              "      <th>1</th>\n",
              "      <td>Why is #aussietv so white? #MKR #theblock #ImA...</td>\n",
              "      <td>not_cyberbullying</td>\n",
              "    </tr>\n",
              "    <tr>\n",
              "      <th>2</th>\n",
              "      <td>@XochitlSuckkks a classy whore? Or more red ve...</td>\n",
              "      <td>not_cyberbullying</td>\n",
              "    </tr>\n",
              "    <tr>\n",
              "      <th>3</th>\n",
              "      <td>@Jason_Gio meh. :P  thanks for the heads up, b...</td>\n",
              "      <td>not_cyberbullying</td>\n",
              "    </tr>\n",
              "    <tr>\n",
              "      <th>4</th>\n",
              "      <td>@RudhoeEnglish This is an ISIS account pretend...</td>\n",
              "      <td>not_cyberbullying</td>\n",
              "    </tr>\n",
              "  </tbody>\n",
              "</table>\n",
              "</div>\n",
              "      <button class=\"colab-df-convert\" onclick=\"convertToInteractive('df-ab381197-9097-483a-97e5-becb9f80547f')\"\n",
              "              title=\"Convert this dataframe to an interactive table.\"\n",
              "              style=\"display:none;\">\n",
              "        \n",
              "  <svg xmlns=\"http://www.w3.org/2000/svg\" height=\"24px\"viewBox=\"0 0 24 24\"\n",
              "       width=\"24px\">\n",
              "    <path d=\"M0 0h24v24H0V0z\" fill=\"none\"/>\n",
              "    <path d=\"M18.56 5.44l.94 2.06.94-2.06 2.06-.94-2.06-.94-.94-2.06-.94 2.06-2.06.94zm-11 1L8.5 8.5l.94-2.06 2.06-.94-2.06-.94L8.5 2.5l-.94 2.06-2.06.94zm10 10l.94 2.06.94-2.06 2.06-.94-2.06-.94-.94-2.06-.94 2.06-2.06.94z\"/><path d=\"M17.41 7.96l-1.37-1.37c-.4-.4-.92-.59-1.43-.59-.52 0-1.04.2-1.43.59L10.3 9.45l-7.72 7.72c-.78.78-.78 2.05 0 2.83L4 21.41c.39.39.9.59 1.41.59.51 0 1.02-.2 1.41-.59l7.78-7.78 2.81-2.81c.8-.78.8-2.07 0-2.86zM5.41 20L4 18.59l7.72-7.72 1.47 1.35L5.41 20z\"/>\n",
              "  </svg>\n",
              "      </button>\n",
              "      \n",
              "  <style>\n",
              "    .colab-df-container {\n",
              "      display:flex;\n",
              "      flex-wrap:wrap;\n",
              "      gap: 12px;\n",
              "    }\n",
              "\n",
              "    .colab-df-convert {\n",
              "      background-color: #E8F0FE;\n",
              "      border: none;\n",
              "      border-radius: 50%;\n",
              "      cursor: pointer;\n",
              "      display: none;\n",
              "      fill: #1967D2;\n",
              "      height: 32px;\n",
              "      padding: 0 0 0 0;\n",
              "      width: 32px;\n",
              "    }\n",
              "\n",
              "    .colab-df-convert:hover {\n",
              "      background-color: #E2EBFA;\n",
              "      box-shadow: 0px 1px 2px rgba(60, 64, 67, 0.3), 0px 1px 3px 1px rgba(60, 64, 67, 0.15);\n",
              "      fill: #174EA6;\n",
              "    }\n",
              "\n",
              "    [theme=dark] .colab-df-convert {\n",
              "      background-color: #3B4455;\n",
              "      fill: #D2E3FC;\n",
              "    }\n",
              "\n",
              "    [theme=dark] .colab-df-convert:hover {\n",
              "      background-color: #434B5C;\n",
              "      box-shadow: 0px 1px 3px 1px rgba(0, 0, 0, 0.15);\n",
              "      filter: drop-shadow(0px 1px 2px rgba(0, 0, 0, 0.3));\n",
              "      fill: #FFFFFF;\n",
              "    }\n",
              "  </style>\n",
              "\n",
              "      <script>\n",
              "        const buttonEl =\n",
              "          document.querySelector('#df-ab381197-9097-483a-97e5-becb9f80547f button.colab-df-convert');\n",
              "        buttonEl.style.display =\n",
              "          google.colab.kernel.accessAllowed ? 'block' : 'none';\n",
              "\n",
              "        async function convertToInteractive(key) {\n",
              "          const element = document.querySelector('#df-ab381197-9097-483a-97e5-becb9f80547f');\n",
              "          const dataTable =\n",
              "            await google.colab.kernel.invokeFunction('convertToInteractive',\n",
              "                                                     [key], {});\n",
              "          if (!dataTable) return;\n",
              "\n",
              "          const docLinkHtml = 'Like what you see? Visit the ' +\n",
              "            '<a target=\"_blank\" href=https://colab.research.google.com/notebooks/data_table.ipynb>data table notebook</a>'\n",
              "            + ' to learn more about interactive tables.';\n",
              "          element.innerHTML = '';\n",
              "          dataTable['output_type'] = 'display_data';\n",
              "          await google.colab.output.renderOutput(dataTable, element);\n",
              "          const docLink = document.createElement('div');\n",
              "          docLink.innerHTML = docLinkHtml;\n",
              "          element.appendChild(docLink);\n",
              "        }\n",
              "      </script>\n",
              "    </div>\n",
              "  </div>\n",
              "  "
            ],
            "text/plain": [
              "                                          tweet_text cyberbullying_type\n",
              "0  In other words #katandandre, your food was cra...  not_cyberbullying\n",
              "1  Why is #aussietv so white? #MKR #theblock #ImA...  not_cyberbullying\n",
              "2  @XochitlSuckkks a classy whore? Or more red ve...  not_cyberbullying\n",
              "3  @Jason_Gio meh. :P  thanks for the heads up, b...  not_cyberbullying\n",
              "4  @RudhoeEnglish This is an ISIS account pretend...  not_cyberbullying"
            ]
          },
          "metadata": {},
          "execution_count": 4
        }
      ],
      "source": [
        "data.head()"
      ]
    },
    {
      "cell_type": "markdown",
      "metadata": {
        "id": "2RX6d_7HpV0E"
      },
      "source": [
        "**Phase 1: EDA to see distribution of** **Tweets**"
      ]
    },
    {
      "cell_type": "code",
      "execution_count": 5,
      "metadata": {
        "colab": {
          "base_uri": "https://localhost:8080/",
          "height": 284
        },
        "id": "ZHgFuYk1kBfD",
        "outputId": "071d0259-5018-4bd5-aea2-7eedb41af62b"
      },
      "outputs": [
        {
          "output_type": "execute_result",
          "data": {
            "text/plain": [
              "<matplotlib.axes._subplots.AxesSubplot at 0x7faa76282550>"
            ]
          },
          "metadata": {},
          "execution_count": 5
        },
        {
          "output_type": "display_data",
          "data": {
            "image/png": "[encoded data removed]",
            "text/plain": [
              "<Figure size 432x288 with 1 Axes>"
            ]
          },
          "metadata": {
            "needs_background": "light"
          }
        }
      ],
      "source": [
        "#Distribution of tweets\n",
        "data.cyberbullying_type.hist() #Histogram shows that the dataset is balanced and has equal representation for all labels"
      ]
    },
    {
      "cell_type": "code",
      "execution_count": 6,
      "metadata": {
        "colab": {
          "base_uri": "https://localhost:8080/",
          "height": 237
        },
        "id": "dB6eb5yzlyMT",
        "outputId": "2886d515-b586-4a62-b07c-03ec7d2648d0"
      },
      "outputs": [
        {
          "output_type": "execute_result",
          "data": {
            "text/html": [
              "<style type=\"text/css\">\n",
              "#T_85062_row0_col1 {\n",
              "  background-color: #3f007d;\n",
              "  color: #f1f1f1;\n",
              "}\n",
              "#T_85062_row1_col1 {\n",
              "  background-color: #440a82;\n",
              "  color: #f1f1f1;\n",
              "}\n",
              "#T_85062_row2_col1 {\n",
              "  background-color: #572c92;\n",
              "  color: #f1f1f1;\n",
              "}\n",
              "#T_85062_row3_col1 {\n",
              "  background-color: #63449d;\n",
              "  color: #f1f1f1;\n",
              "}\n",
              "#T_85062_row4_col1 {\n",
              "  background-color: #7363ad;\n",
              "  color: #f1f1f1;\n",
              "}\n",
              "#T_85062_row5_col1 {\n",
              "  background-color: #fcfbfd;\n",
              "  color: #000000;\n",
              "}\n",
              "</style>\n",
              "<table id=\"T_85062_\" class=\"dataframe\">\n",
              "  <thead>\n",
              "    <tr>\n",
              "      <th class=\"blank level0\" >&nbsp;</th>\n",
              "      <th class=\"col_heading level0 col0\" >cyberbullying_type</th>\n",
              "      <th class=\"col_heading level0 col1\" >tweet_text</th>\n",
              "    </tr>\n",
              "  </thead>\n",
              "  <tbody>\n",
              "    <tr>\n",
              "      <th id=\"T_85062_level0_row0\" class=\"row_heading level0 row0\" >5</th>\n",
              "      <td id=\"T_85062_row0_col0\" class=\"data row0 col0\" >religion</td>\n",
              "      <td id=\"T_85062_row0_col1\" class=\"data row0 col1\" >7998</td>\n",
              "    </tr>\n",
              "    <tr>\n",
              "      <th id=\"T_85062_level0_row1\" class=\"row_heading level0 row1\" >0</th>\n",
              "      <td id=\"T_85062_row1_col0\" class=\"data row1 col0\" >age</td>\n",
              "      <td id=\"T_85062_row1_col1\" class=\"data row1 col1\" >7992</td>\n",
              "    </tr>\n",
              "    <tr>\n",
              "      <th id=\"T_85062_level0_row2\" class=\"row_heading level0 row2\" >2</th>\n",
              "      <td id=\"T_85062_row2_col0\" class=\"data row2 col0\" >gender</td>\n",
              "      <td id=\"T_85062_row2_col1\" class=\"data row2 col1\" >7973</td>\n",
              "    </tr>\n",
              "    <tr>\n",
              "      <th id=\"T_85062_level0_row3\" class=\"row_heading level0 row3\" >1</th>\n",
              "      <td id=\"T_85062_row3_col0\" class=\"data row3 col0\" >ethnicity</td>\n",
              "      <td id=\"T_85062_row3_col1\" class=\"data row3 col1\" >7961</td>\n",
              "    </tr>\n",
              "    <tr>\n",
              "      <th id=\"T_85062_level0_row4\" class=\"row_heading level0 row4\" >3</th>\n",
              "      <td id=\"T_85062_row4_col0\" class=\"data row4 col0\" >not_cyberbullying</td>\n",
              "      <td id=\"T_85062_row4_col1\" class=\"data row4 col1\" >7945</td>\n",
              "    </tr>\n",
              "    <tr>\n",
              "      <th id=\"T_85062_level0_row5\" class=\"row_heading level0 row5\" >4</th>\n",
              "      <td id=\"T_85062_row5_col0\" class=\"data row5 col0\" >other_cyberbullying</td>\n",
              "      <td id=\"T_85062_row5_col1\" class=\"data row5 col1\" >7823</td>\n",
              "    </tr>\n",
              "  </tbody>\n",
              "</table>\n"
            ],
            "text/plain": [
              "<pandas.io.formats.style.Styler at 0x7faa74159790>"
            ]
          },
          "metadata": {},
          "execution_count": 6
        }
      ],
      "source": [
        "temp = data.groupby('cyberbullying_type').count().reset_index().sort_values(by='tweet_text',ascending=False)\n",
        "temp.style.background_gradient(cmap='Purples')"
      ]
    },
    {
      "cell_type": "code",
      "execution_count": 7,
      "metadata": {
        "colab": {
          "base_uri": "https://localhost:8080/",
          "height": 542
        },
        "id": "_51G13E9oEfZ",
        "outputId": "4b779177-6c9b-4a76-ec67-55df60eb31fb"
      },
      "outputs": [
        {
          "output_type": "display_data",
          "data": {
            "text/html": [
              "<html>\n",
              "<head><meta charset=\"utf-8\" /></head>\n",
              "<body>\n",
              "    <div>            <script src=\"https://cdnjs.cloudflare.com/ajax/libs/mathjax/2.7.5/MathJax.js?config=TeX-AMS-MML_SVG\"></script><script type=\"text/javascript\">if (window.MathJax) {MathJax.Hub.Config({SVG: {font: \"STIX-Web\"}});}</script>                <script type=\"text/javascript\">window.PlotlyConfig = {MathJaxConfig: 'local'};</script>\n",
              "        <script src=\"https://cdn.plot.ly/plotly-2.8.3.min.js\"></script>                <div id=\"458bb1cd-6733-48ad-8ace-f9931b0ef824\" class=\"plotly-graph-div\" style=\"height:525px; width:100%;\"></div>            <script type=\"text/javascript\">                                    window.PLOTLYENV=window.PLOTLYENV || {};                                    if (document.getElementById(\"458bb1cd-6733-48ad-8ace-f9931b0ef824\")) {                    Plotly.newPlot(                        \"458bb1cd-6733-48ad-8ace-f9931b0ef824\",                        [{\"text\":[[\"religion\",7998],[\"age\",7992],[\"gender\",7973],[\"ethnicity\",7961],[\"not_cyberbullying\",7945],[\"other_cyberbullying\",7823]],\"title\":{\"position\":\"top center\",\"text\":\"Funnel-Chart of Bullying Type Distribution\"},\"values\":[7998,7992,7973,7961,7945,7823],\"type\":\"funnelarea\"}],                        {\"template\":{\"data\":{\"bar\":[{\"error_x\":{\"color\":\"#2a3f5f\"},\"error_y\":{\"color\":\"#2a3f5f\"},\"marker\":{\"line\":{\"color\":\"#E5ECF6\",\"width\":0.5},\"pattern\":{\"fillmode\":\"overlay\",\"size\":10,\"solidity\":0.2}},\"type\":\"bar\"}],\"barpolar\":[{\"marker\":{\"line\":{\"color\":\"#E5ECF6\",\"width\":0.5},\"pattern\":{\"fillmode\":\"overlay\",\"size\":10,\"solidity\":0.2}},\"type\":\"barpolar\"}],\"carpet\":[{\"aaxis\":{\"endlinecolor\":\"#2a3f5f\",\"gridcolor\":\"white\",\"linecolor\":\"white\",\"minorgridcolor\":\"white\",\"startlinecolor\":\"#2a3f5f\"},\"baxis\":{\"endlinecolor\":\"#2a3f5f\",\"gridcolor\":\"white\",\"linecolor\":\"white\",\"minorgridcolor\":\"white\",\"startlinecolor\":\"#2a3f5f\"},\"type\":\"carpet\"}],\"choropleth\":[{\"colorbar\":{\"outlinewidth\":0,\"ticks\":\"\"},\"type\":\"choropleth\"}],\"contour\":[{\"colorbar\":{\"outlinewidth\":0,\"ticks\":\"\"},\"colorscale\":[[0.0,\"#0d0887\"],[0.1111111111111111,\"#46039f\"],[0.2222222222222222,\"#7201a8\"],[0.3333333333333333,\"#9c179e\"],[0.4444444444444444,\"#bd3786\"],[0.5555555555555556,\"#d8576b\"],[0.6666666666666666,\"#ed7953\"],[0.7777777777777778,\"#fb9f3a\"],[0.8888888888888888,\"#fdca26\"],[1.0,\"#f0f921\"]],\"type\":\"contour\"}],\"contourcarpet\":[{\"colorbar\":{\"outlinewidth\":0,\"ticks\":\"\"},\"type\":\"contourcarpet\"}],\"heatmap\":[{\"colorbar\":{\"outlinewidth\":0,\"ticks\":\"\"},\"colorscale\":[[0.0,\"#0d0887\"],[0.1111111111111111,\"#46039f\"],[0.2222222222222222,\"#7201a8\"],[0.3333333333333333,\"#9c179e\"],[0.4444444444444444,\"#bd3786\"],[0.5555555555555556,\"#d8576b\"],[0.6666666666666666,\"#ed7953\"],[0.7777777777777778,\"#fb9f3a\"],[0.8888888888888888,\"#fdca26\"],[1.0,\"#f0f921\"]],\"type\":\"heatmap\"}],\"heatmapgl\":[{\"colorbar\":{\"outlinewidth\":0,\"ticks\":\"\"},\"colorscale\":[[0.0,\"#0d0887\"],[0.1111111111111111,\"#46039f\"],[0.2222222222222222,\"#7201a8\"],[0.3333333333333333,\"#9c179e\"],[0.4444444444444444,\"#bd3786\"],[0.5555555555555556,\"#d8576b\"],[0.6666666666666666,\"#ed7953\"],[0.7777777777777778,\"#fb9f3a\"],[0.8888888888888888,\"#fdca26\"],[1.0,\"#f0f921\"]],\"type\":\"heatmapgl\"}],\"histogram\":[{\"marker\":{\"pattern\":{\"fillmode\":\"overlay\",\"size\":10,\"solidity\":0.2}},\"type\":\"histogram\"}],\"histogram2d\":[{\"colorbar\":{\"outlinewidth\":0,\"ticks\":\"\"},\"colorscale\":[[0.0,\"#0d0887\"],[0.1111111111111111,\"#46039f\"],[0.2222222222222222,\"#7201a8\"],[0.3333333333333333,\"#9c179e\"],[0.4444444444444444,\"#bd3786\"],[0.5555555555555556,\"#d8576b\"],[0.6666666666666666,\"#ed7953\"],[0.7777777777777778,\"#fb9f3a\"],[0.8888888888888888,\"#fdca26\"],[1.0,\"#f0f921\"]],\"type\":\"histogram2d\"}],\"histogram2dcontour\":[{\"colorbar\":{\"outlinewidth\":0,\"ticks\":\"\"},\"colorscale\":[[0.0,\"#0d0887\"],[0.1111111111111111,\"#46039f\"],[0.2222222222222222,\"#7201a8\"],[0.3333333333333333,\"#9c179e\"],[0.4444444444444444,\"#bd3786\"],[0.5555555555555556,\"#d8576b\"],[0.6666666666666666,\"#ed7953\"],[0.7777777777777778,\"#fb9f3a\"],[0.8888888888888888,\"#fdca26\"],[1.0,\"#f0f921\"]],\"type\":\"histogram2dcontour\"}],\"mesh3d\":[{\"colorbar\":{\"outlinewidth\":0,\"ticks\":\"\"},\"type\":\"mesh3d\"}],\"parcoords\":[{\"line\":{\"colorbar\":{\"outlinewidth\":0,\"ticks\":\"\"}},\"type\":\"parcoords\"}],\"pie\":[{\"automargin\":true,\"type\":\"pie\"}],\"scatter\":[{\"marker\":{\"colorbar\":{\"outlinewidth\":0,\"ticks\":\"\"}},\"type\":\"scatter\"}],\"scatter3d\":[{\"line\":{\"colorbar\":{\"outlinewidth\":0,\"ticks\":\"\"}},\"marker\":{\"colorbar\":{\"outlinewidth\":0,\"ticks\":\"\"}},\"type\":\"scatter3d\"}],\"scattercarpet\":[{\"marker\":{\"colorbar\":{\"outlinewidth\":0,\"ticks\":\"\"}},\"type\":\"scattercarpet\"}],\"scattergeo\":[{\"marker\":{\"colorbar\":{\"outlinewidth\":0,\"ticks\":\"\"}},\"type\":\"scattergeo\"}],\"scattergl\":[{\"marker\":{\"colorbar\":{\"outlinewidth\":0,\"ticks\":\"\"}},\"type\":\"scattergl\"}],\"scattermapbox\":[{\"marker\":{\"colorbar\":{\"outlinewidth\":0,\"ticks\":\"\"}},\"type\":\"scattermapbox\"}],\"scatterpolar\":[{\"marker\":{\"colorbar\":{\"outlinewidth\":0,\"ticks\":\"\"}},\"type\":\"scatterpolar\"}],\"scatterpolargl\":[{\"marker\":{\"colorbar\":{\"outlinewidth\":0,\"ticks\":\"\"}},\"type\":\"scatterpolargl\"}],\"scatterternary\":[{\"marker\":{\"colorbar\":{\"outlinewidth\":0,\"ticks\":\"\"}},\"type\":\"scatterternary\"}],\"surface\":[{\"colorbar\":{\"outlinewidth\":0,\"ticks\":\"\"},\"colorscale\":[[0.0,\"#0d0887\"],[0.1111111111111111,\"#46039f\"],[0.2222222222222222,\"#7201a8\"],[0.3333333333333333,\"#9c179e\"],[0.4444444444444444,\"#bd3786\"],[0.5555555555555556,\"#d8576b\"],[0.6666666666666666,\"#ed7953\"],[0.7777777777777778,\"#fb9f3a\"],[0.8888888888888888,\"#fdca26\"],[1.0,\"#f0f921\"]],\"type\":\"surface\"}],\"table\":[{\"cells\":{\"fill\":{\"color\":\"#EBF0F8\"},\"line\":{\"color\":\"white\"}},\"header\":{\"fill\":{\"color\":\"#C8D4E3\"},\"line\":{\"color\":\"white\"}},\"type\":\"table\"}]},\"layout\":{\"annotationdefaults\":{\"arrowcolor\":\"#2a3f5f\",\"arrowhead\":0,\"arrowwidth\":1},\"autotypenumbers\":\"strict\",\"coloraxis\":{\"colorbar\":{\"outlinewidth\":0,\"ticks\":\"\"}},\"colorscale\":{\"diverging\":[[0,\"#8e0152\"],[0.1,\"#c51b7d\"],[0.2,\"#de77ae\"],[0.3,\"#f1b6da\"],[0.4,\"#fde0ef\"],[0.5,\"#f7f7f7\"],[0.6,\"#e6f5d0\"],[0.7,\"#b8e186\"],[0.8,\"#7fbc41\"],[0.9,\"#4d9221\"],[1,\"#276419\"]],\"sequential\":[[0.0,\"#0d0887\"],[0.1111111111111111,\"#46039f\"],[0.2222222222222222,\"#7201a8\"],[0.3333333333333333,\"#9c179e\"],[0.4444444444444444,\"#bd3786\"],[0.5555555555555556,\"#d8576b\"],[0.6666666666666666,\"#ed7953\"],[0.7777777777777778,\"#fb9f3a\"],[0.8888888888888888,\"#fdca26\"],[1.0,\"#f0f921\"]],\"sequentialminus\":[[0.0,\"#0d0887\"],[0.1111111111111111,\"#46039f\"],[0.2222222222222222,\"#7201a8\"],[0.3333333333333333,\"#9c179e\"],[0.4444444444444444,\"#bd3786\"],[0.5555555555555556,\"#d8576b\"],[0.6666666666666666,\"#ed7953\"],[0.7777777777777778,\"#fb9f3a\"],[0.8888888888888888,\"#fdca26\"],[1.0,\"#f0f921\"]]},\"colorway\":[\"#636efa\",\"#EF553B\",\"#00cc96\",\"#ab63fa\",\"#FFA15A\",\"#19d3f3\",\"#FF6692\",\"#B6E880\",\"#FF97FF\",\"#FECB52\"],\"font\":{\"color\":\"#2a3f5f\"},\"geo\":{\"bgcolor\":\"white\",\"lakecolor\":\"white\",\"landcolor\":\"#E5ECF6\",\"showlakes\":true,\"showland\":true,\"subunitcolor\":\"white\"},\"hoverlabel\":{\"align\":\"left\"},\"hovermode\":\"closest\",\"mapbox\":{\"style\":\"light\"},\"paper_bgcolor\":\"white\",\"plot_bgcolor\":\"#E5ECF6\",\"polar\":{\"angularaxis\":{\"gridcolor\":\"white\",\"linecolor\":\"white\",\"ticks\":\"\"},\"bgcolor\":\"#E5ECF6\",\"radialaxis\":{\"gridcolor\":\"white\",\"linecolor\":\"white\",\"ticks\":\"\"}},\"scene\":{\"xaxis\":{\"backgroundcolor\":\"#E5ECF6\",\"gridcolor\":\"white\",\"gridwidth\":2,\"linecolor\":\"white\",\"showbackground\":true,\"ticks\":\"\",\"zerolinecolor\":\"white\"},\"yaxis\":{\"backgroundcolor\":\"#E5ECF6\",\"gridcolor\":\"white\",\"gridwidth\":2,\"linecolor\":\"white\",\"showbackground\":true,\"ticks\":\"\",\"zerolinecolor\":\"white\"},\"zaxis\":{\"backgroundcolor\":\"#E5ECF6\",\"gridcolor\":\"white\",\"gridwidth\":2,\"linecolor\":\"white\",\"showbackground\":true,\"ticks\":\"\",\"zerolinecolor\":\"white\"}},\"shapedefaults\":{\"line\":{\"color\":\"#2a3f5f\"}},\"ternary\":{\"aaxis\":{\"gridcolor\":\"white\",\"linecolor\":\"white\",\"ticks\":\"\"},\"baxis\":{\"gridcolor\":\"white\",\"linecolor\":\"white\",\"ticks\":\"\"},\"bgcolor\":\"#E5ECF6\",\"caxis\":{\"gridcolor\":\"white\",\"linecolor\":\"white\",\"ticks\":\"\"}},\"title\":{\"x\":0.05},\"xaxis\":{\"automargin\":true,\"gridcolor\":\"white\",\"linecolor\":\"white\",\"ticks\":\"\",\"title\":{\"standoff\":15},\"zerolinecolor\":\"white\",\"zerolinewidth\":2},\"yaxis\":{\"automargin\":true,\"gridcolor\":\"white\",\"linecolor\":\"white\",\"ticks\":\"\",\"title\":{\"standoff\":15},\"zerolinecolor\":\"white\",\"zerolinewidth\":2}}}},                        {\"responsive\": true}                    ).then(function(){\n",
              "                            \n",
              "var gd = document.getElementById('458bb1cd-6733-48ad-8ace-f9931b0ef824');\n",
              "var x = new MutationObserver(function (mutations, observer) {{\n",
              "        var display = window.getComputedStyle(gd).display;\n",
              "        if (!display || display === 'none') {{\n",
              "            console.log([gd, 'removed!']);\n",
              "            Plotly.purge(gd);\n",
              "            observer.disconnect();\n",
              "        }}\n",
              "}});\n",
              "\n",
              "// Listen for the removal of the full notebook cells\n",
              "var notebookContainer = gd.closest('#notebook-container');\n",
              "if (notebookContainer) {{\n",
              "    x.observe(notebookContainer, {childList: true});\n",
              "}}\n",
              "\n",
              "// Listen for the clearing of the current output cell\n",
              "var outputEl = gd.closest('.output');\n",
              "if (outputEl) {{\n",
              "    x.observe(outputEl, {childList: true});\n",
              "}}\n",
              "\n",
              "                        })                };                            </script>        </div>\n",
              "</body>\n",
              "</html>"
            ]
          },
          "metadata": {}
        }
      ],
      "source": [
        "#Funnel-Chart for better visualization\n",
        "from plotly import graph_objs as go\n",
        "fig = go.Figure(go.Funnelarea(\n",
        "    text =temp,\n",
        "    values = temp.tweet_text,\n",
        "    title = {\"position\": \"top center\", \"text\": \"Funnel-Chart of Bullying Type Distribution\"}\n",
        "    ))\n",
        "fig.show()"
      ]
    },
    {
      "cell_type": "markdown",
      "metadata": {
        "id": "VP3RAvdbqCNG"
      },
      "source": [
        "**Word Cloud of tweets for EDA**"
      ]
    },
    {
      "cell_type": "code",
      "execution_count": 8,
      "metadata": {
        "id": "QCXMYtkLpiH7"
      },
      "outputs": [],
      "source": [
        "import wordcloud\n",
        "from wordcloud import WordCloud, STOPWORDS, ImageColorGenerator"
      ]
    },
    {
      "cell_type": "code",
      "execution_count": 9,
      "metadata": {
        "id": "NZbHgKx4qWGd"
      },
      "outputs": [],
      "source": [
        "text = \" \".join(review for review in data.tweet_text)\n",
        "\n",
        "# Create stopword list:\n",
        "stopwords = set(STOPWORDS)\n",
        "#stopwords.update([])\n",
        "\n",
        "# Generate a word cloud image\n",
        "wordcloud = WordCloud(stopwords=stopwords, background_color=\"white\").generate(text)"
      ]
    },
    {
      "cell_type": "code",
      "execution_count": 10,
      "metadata": {
        "colab": {
          "base_uri": "https://localhost:8080/",
          "height": 198
        },
        "id": "jSy6qBVKupdX",
        "outputId": "4a2b813d-8be6-48a3-b406-5248b848c129"
      },
      "outputs": [
        {
          "output_type": "display_data",
          "data": {
            "image/png": "[encoded data removed]",
            "text/plain": [
              "<Figure size 432x288 with 1 Axes>"
            ]
          },
          "metadata": {
            "needs_background": "light"
          }
        }
      ],
      "source": [
        "# Display the generated image:\n",
        "# the matplotlib way:\n",
        "plt.imshow(wordcloud, interpolation='bilinear')\n",
        "plt.axis(\"off\")\n",
        "plt.rcParams[\"figure.figsize\"] = (5,5)\n",
        "plt.show()"
      ]
    },
    {
      "cell_type": "markdown",
      "metadata": {
        "id": "hvHillCHvK4S"
      },
      "source": [
        "**Phase 2: Building a base model for multi-class classification**"
      ]
    },
    {
      "cell_type": "markdown",
      "metadata": {
        "id": "ILhXVmJ3veWT"
      },
      "source": [
        "**TEXT PREPROCESSING** functions defintion:"
      ]
    },
    {
      "cell_type": "code",
      "execution_count": 11,
      "metadata": {
        "colab": {
          "base_uri": "https://localhost:8080/"
        },
        "id": "e6Vwp5y1vA0E",
        "outputId": "2eff9a03-727e-4609-99b0-5d56200eafb8"
      },
      "outputs": [
        {
          "output_type": "stream",
          "name": "stdout",
          "text": [
            "[nltk_data] Downloading package stopwords to /root/nltk_data...\n",
            "[nltk_data]   Unzipping corpora/stopwords.zip.\n",
            "[nltk_data] Downloading package wordnet to /root/nltk_data...\n",
            "[nltk_data]   Unzipping corpora/wordnet.zip.\n"
          ]
        }
      ],
      "source": [
        "# import TweetTokenizer() method from nltk\n",
        "from nltk.tokenize import TweetTokenizer\n",
        "from nltk.corpus import stopwords\n",
        "nltk.download('stopwords')\n",
        "stop_words = stopwords.words('english')\n",
        "from nltk.stem import WordNetLemmatizer\n",
        "nltk.download('wordnet')\n",
        "\n",
        "# Create a reference variable for Class WordNetLemmatizer\n",
        "wordnet_lemmatizer = WordNetLemmatizer()\n",
        "\n",
        "# Create a reference variable for Class TweetTokenizer\n",
        "tk = TweetTokenizer()\n",
        "\n",
        "#Preprocessing: Tweet Tokenizer + lowercase conversion\n",
        "def LC_tokeniser(df):\n",
        "  df[\"tokens\"]= df[\"tweet_text\"].apply(lambda x: tk.tokenize(x.lower()))\n",
        "  return df\n",
        "#Recover Hashtags\n",
        "def hashtag(df):\n",
        "  df[\"hastags\"]= df[\"tokens\"].apply(lambda x: [item for item in x if item.startswith(\"#\")])\n",
        "  return df\n",
        "#Recover Mentions @\n",
        "def mentions(df):\n",
        "  df[\"mentions\"]= df[\"tokens\"].apply(lambda x: [item for item in x if item.startswith(\"@\")])\n",
        "  return df\n",
        "#number of words in a tweet\n",
        "def length(df):\n",
        "  df[\"length\"]= df[\"tokens\"].apply(lambda x: len(x))\n",
        "  return df\n",
        "\n",
        "#Remove Stop-words\n",
        "def remove_stopwords(df):\n",
        "  df['remove_stopwords'] = df['tokens'].apply(lambda x: [item for item in x if item not in stop_words])\n",
        "  return df\n",
        "\n",
        "#Lemmatisation to get root words and remove numbers if any!\n",
        "def lemmatise(df):\n",
        "  df['lemmatise'] = df['remove_stopwords'].apply(lambda x: [wordnet_lemmatizer.lemmatize(y) for y in x if y.isalpha()]) \n",
        "  return df"
      ]
    },
    {
      "cell_type": "code",
      "execution_count": 12,
      "metadata": {
        "colab": {
          "base_uri": "https://localhost:8080/",
          "height": 206
        },
        "id": "xgUsB111GPJI",
        "outputId": "ca4eae88-e444-4d52-8d9c-fc9dc7ce2e7f"
      },
      "outputs": [
        {
          "output_type": "execute_result",
          "data": {
            "text/html": [
              "\n",
              "  <div id=\"df-fbe7dc5f-fbf1-4d1d-8930-d4bc67479850\">\n",
              "    <div class=\"colab-df-container\">\n",
              "      <div>\n",
              "<style scoped>\n",
              "    .dataframe tbody tr th:only-of-type {\n",
              "        vertical-align: middle;\n",
              "    }\n",
              "\n",
              "    .dataframe tbody tr th {\n",
              "        vertical-align: top;\n",
              "    }\n",
              "\n",
              "    .dataframe thead th {\n",
              "        text-align: right;\n",
              "    }\n",
              "</style>\n",
              "<table border=\"1\" class=\"dataframe\">\n",
              "  <thead>\n",
              "    <tr style=\"text-align: right;\">\n",
              "      <th></th>\n",
              "      <th>tweet_text</th>\n",
              "      <th>cyberbullying_type</th>\n",
              "    </tr>\n",
              "  </thead>\n",
              "  <tbody>\n",
              "    <tr>\n",
              "      <th>0</th>\n",
              "      <td>In other words #katandandre, your food was cra...</td>\n",
              "      <td>not_cyberbullying</td>\n",
              "    </tr>\n",
              "    <tr>\n",
              "      <th>1</th>\n",
              "      <td>Why is #aussietv so white? #MKR #theblock #ImA...</td>\n",
              "      <td>not_cyberbullying</td>\n",
              "    </tr>\n",
              "    <tr>\n",
              "      <th>2</th>\n",
              "      <td>@XochitlSuckkks a classy whore? Or more red ve...</td>\n",
              "      <td>not_cyberbullying</td>\n",
              "    </tr>\n",
              "    <tr>\n",
              "      <th>3</th>\n",
              "      <td>@Jason_Gio meh. :P  thanks for the heads up, b...</td>\n",
              "      <td>not_cyberbullying</td>\n",
              "    </tr>\n",
              "    <tr>\n",
              "      <th>4</th>\n",
              "      <td>@RudhoeEnglish This is an ISIS account pretend...</td>\n",
              "      <td>not_cyberbullying</td>\n",
              "    </tr>\n",
              "  </tbody>\n",
              "</table>\n",
              "</div>\n",
              "      <button class=\"colab-df-convert\" onclick=\"convertToInteractive('df-fbe7dc5f-fbf1-4d1d-8930-d4bc67479850')\"\n",
              "              title=\"Convert this dataframe to an interactive table.\"\n",
              "              style=\"display:none;\">\n",
              "        \n",
              "  <svg xmlns=\"http://www.w3.org/2000/svg\" height=\"24px\"viewBox=\"0 0 24 24\"\n",
              "       width=\"24px\">\n",
              "    <path d=\"M0 0h24v24H0V0z\" fill=\"none\"/>\n",
              "    <path d=\"M18.56 5.44l.94 2.06.94-2.06 2.06-.94-2.06-.94-.94-2.06-.94 2.06-2.06.94zm-11 1L8.5 8.5l.94-2.06 2.06-.94-2.06-.94L8.5 2.5l-.94 2.06-2.06.94zm10 10l.94 2.06.94-2.06 2.06-.94-2.06-.94-.94-2.06-.94 2.06-2.06.94z\"/><path d=\"M17.41 7.96l-1.37-1.37c-.4-.4-.92-.59-1.43-.59-.52 0-1.04.2-1.43.59L10.3 9.45l-7.72 7.72c-.78.78-.78 2.05 0 2.83L4 21.41c.39.39.9.59 1.41.59.51 0 1.02-.2 1.41-.59l7.78-7.78 2.81-2.81c.8-.78.8-2.07 0-2.86zM5.41 20L4 18.59l7.72-7.72 1.47 1.35L5.41 20z\"/>\n",
              "  </svg>\n",
              "      </button>\n",
              "      \n",
              "  <style>\n",
              "    .colab-df-container {\n",
              "      display:flex;\n",
              "      flex-wrap:wrap;\n",
              "      gap: 12px;\n",
              "    }\n",
              "\n",
              "    .colab-df-convert {\n",
              "      background-color: #E8F0FE;\n",
              "      border: none;\n",
              "      border-radius: 50%;\n",
              "      cursor: pointer;\n",
              "      display: none;\n",
              "      fill: #1967D2;\n",
              "      height: 32px;\n",
              "      padding: 0 0 0 0;\n",
              "      width: 32px;\n",
              "    }\n",
              "\n",
              "    .colab-df-convert:hover {\n",
              "      background-color: #E2EBFA;\n",
              "      box-shadow: 0px 1px 2px rgba(60, 64, 67, 0.3), 0px 1px 3px 1px rgba(60, 64, 67, 0.15);\n",
              "      fill: #174EA6;\n",
              "    }\n",
              "\n",
              "    [theme=dark] .colab-df-convert {\n",
              "      background-color: #3B4455;\n",
              "      fill: #D2E3FC;\n",
              "    }\n",
              "\n",
              "    [theme=dark] .colab-df-convert:hover {\n",
              "      background-color: #434B5C;\n",
              "      box-shadow: 0px 1px 3px 1px rgba(0, 0, 0, 0.15);\n",
              "      filter: drop-shadow(0px 1px 2px rgba(0, 0, 0, 0.3));\n",
              "      fill: #FFFFFF;\n",
              "    }\n",
              "  </style>\n",
              "\n",
              "      <script>\n",
              "        const buttonEl =\n",
              "          document.querySelector('#df-fbe7dc5f-fbf1-4d1d-8930-d4bc67479850 button.colab-df-convert');\n",
              "        buttonEl.style.display =\n",
              "          google.colab.kernel.accessAllowed ? 'block' : 'none';\n",
              "\n",
              "        async function convertToInteractive(key) {\n",
              "          const element = document.querySelector('#df-fbe7dc5f-fbf1-4d1d-8930-d4bc67479850');\n",
              "          const dataTable =\n",
              "            await google.colab.kernel.invokeFunction('convertToInteractive',\n",
              "                                                     [key], {});\n",
              "          if (!dataTable) return;\n",
              "\n",
              "          const docLinkHtml = 'Like what you see? Visit the ' +\n",
              "            '<a target=\"_blank\" href=https://colab.research.google.com/notebooks/data_table.ipynb>data table notebook</a>'\n",
              "            + ' to learn more about interactive tables.';\n",
              "          element.innerHTML = '';\n",
              "          dataTable['output_type'] = 'display_data';\n",
              "          await google.colab.output.renderOutput(dataTable, element);\n",
              "          const docLink = document.createElement('div');\n",
              "          docLink.innerHTML = docLinkHtml;\n",
              "          element.appendChild(docLink);\n",
              "        }\n",
              "      </script>\n",
              "    </div>\n",
              "  </div>\n",
              "  "
            ],
            "text/plain": [
              "                                          tweet_text cyberbullying_type\n",
              "0  In other words #katandandre, your food was cra...  not_cyberbullying\n",
              "1  Why is #aussietv so white? #MKR #theblock #ImA...  not_cyberbullying\n",
              "2  @XochitlSuckkks a classy whore? Or more red ve...  not_cyberbullying\n",
              "3  @Jason_Gio meh. :P  thanks for the heads up, b...  not_cyberbullying\n",
              "4  @RudhoeEnglish This is an ISIS account pretend...  not_cyberbullying"
            ]
          },
          "metadata": {},
          "execution_count": 12
        }
      ],
      "source": [
        "data.head()"
      ]
    },
    {
      "cell_type": "code",
      "execution_count": 13,
      "metadata": {
        "id": "oNHePf0noprP"
      },
      "outputs": [],
      "source": [
        "#Function definition for Topic Modelling based on tweet's comments\n",
        "from sklearn.decomposition import LatentDirichletAllocation\n",
        "from sklearn.feature_extraction.text import CountVectorizer\n",
        "\n",
        "def LDA(df, n=10):\n",
        "  # initisalise LDA Model\n",
        "  lda_model = LatentDirichletAllocation(n_components = n, # number of topics\n",
        "                                  random_state = 10,          # random state\n",
        "                                  evaluate_every = -1,      # compute perplexity every n iters, default: Don't\n",
        "                                  n_jobs = -1,              # Use all available CPUs\n",
        "                                 )\n",
        "  vectors = []\n",
        "  for index, row in data.iterrows():\n",
        "    vectors.append(\", \".join(row[6]))\n",
        "  \n",
        "  vectorizer = CountVectorizer(analyzer = 'word', ngram_range = (1, 2))\n",
        "  vectorised = vectorizer.fit_transform(vectors)\n",
        "  \n",
        "  lda_output = lda_model.fit_transform(vectorised)\n",
        "\n",
        "# column names\n",
        "  topic_names = [\"Topic\" + str(i) for i in range(1, lda_model.n_components + 1)]\n",
        "\n",
        "# make the pandas dataframe\n",
        "  df_document_topic = pd.DataFrame(np.round(lda_output, 2), columns = topic_names)\n",
        "\n",
        "# get dominant topic for each document\n",
        "  dominant_topic = (np.argmax(df_document_topic.values, axis=1)+1)\n",
        "  df_document_topic['Dominant_topic'] = dominant_topic\n",
        "\n",
        "# join to original dataframes\n",
        "  df = pd.merge(df, df_document_topic, left_index = True, right_index = True, how = 'outer')\n",
        "  df['Dominant_topic']=df['Dominant_topic'].astype(int)\n",
        "\n",
        "  return df"
      ]
    },
    {
      "cell_type": "code",
      "execution_count": 14,
      "metadata": {
        "id": "uvcvPlOOuM5O"
      },
      "outputs": [],
      "source": [
        "#Bag of Vectors\n",
        "from sklearn.feature_extraction.text import CountVectorizer\n",
        "def bow(df):\n",
        "  vectorizer = CountVectorizer(analyzer = 'word', ngram_range = (1, 2))\n",
        "  # join the processed data to be vectorised\n",
        "  vectors = []\n",
        "  for index, row in data.iterrows():\n",
        "    vectors.append(\", \".join(row[6]))\n",
        "\n",
        "  vectorised = vectorizer.fit_transform(vectors)\n",
        "  return vectorised"
      ]
    },
    {
      "cell_type": "markdown",
      "metadata": {
        "id": "C1APv47wNBvb"
      },
      "source": [
        "Feature Engineering - BOWs and TF-IDF"
      ]
    },
    {
      "cell_type": "code",
      "execution_count": 15,
      "metadata": {
        "colab": {
          "base_uri": "https://localhost:8080/",
          "height": 72
        },
        "id": "lnUYtWN2t_Ac",
        "outputId": "418fbf26-f625-4ec8-c915-14c66f400814"
      },
      "outputs": [
        {
          "output_type": "execute_result",
          "data": {
            "application/vnd.google.colaboratory.intrinsic+json": {
              "type": "string"
            },
            "text/plain": [
              "'from sklearn.naive_bayes import MultinomialNB\\nfrom sklearn.pipeline import Pipeline\\nfrom sklearn.feature_extraction.text import TfidfVectorizer\\n\\nModel1 = Pipeline([(\"Lower_case_Tokenizer\",LC_tokeniser()),(\"Getting_Hashtags\",hastag()),(\"length_of_tweet\",length()),(\"RemoveStopWords\", remove_stopwords()),(\"Lemmatise\",lemmatise()),(\"tfidf\", TfidfVectorizer()),(\"clf\", MultinomialNB())])\\nModel1.fit(x_train, y_train)\\nModel1.score(x_test, y_test)\\n'"
            ]
          },
          "metadata": {},
          "execution_count": 15
        }
      ],
      "source": [
        "'''from sklearn.naive_bayes import MultinomialNB\n",
        "from sklearn.pipeline import Pipeline\n",
        "from sklearn.feature_extraction.text import TfidfVectorizer\n",
        "\n",
        "Model1 = Pipeline([(\"Lower_case_Tokenizer\",LC_tokeniser()),(\"Getting_Hashtags\",hastag()),(\"length_of_tweet\",length()),(\"RemoveStopWords\", remove_stopwords()),(\"Lemmatise\",lemmatise()),(\"tfidf\", TfidfVectorizer()),(\"clf\", MultinomialNB())])\n",
        "Model1.fit(x_train, y_train)\n",
        "Model1.score(x_test, y_test)\n",
        "'''"
      ]
    },
    {
      "cell_type": "markdown",
      "metadata": {
        "id": "_dCnZIIjzklg"
      },
      "source": [
        "**Feature Engineering**"
      ]
    },
    {
      "cell_type": "markdown",
      "metadata": {
        "id": "XbOP8QCDSeDD"
      },
      "source": [
        "Split data into train and test"
      ]
    },
    {
      "cell_type": "code",
      "execution_count": 16,
      "metadata": {
        "colab": {
          "base_uri": "https://localhost:8080/",
          "height": 510
        },
        "id": "63hHGw7PSXlp",
        "outputId": "02aaf7a0-7873-416d-bd0f-860b8459a789"
      },
      "outputs": [
        {
          "output_type": "execute_result",
          "data": {
            "text/html": [
              "\n",
              "  <div id=\"df-2e5df4cd-2646-4f9e-9470-45e2fd9f570f\">\n",
              "    <div class=\"colab-df-container\">\n",
              "      <div>\n",
              "<style scoped>\n",
              "    .dataframe tbody tr th:only-of-type {\n",
              "        vertical-align: middle;\n",
              "    }\n",
              "\n",
              "    .dataframe tbody tr th {\n",
              "        vertical-align: top;\n",
              "    }\n",
              "\n",
              "    .dataframe thead th {\n",
              "        text-align: right;\n",
              "    }\n",
              "</style>\n",
              "<table border=\"1\" class=\"dataframe\">\n",
              "  <thead>\n",
              "    <tr style=\"text-align: right;\">\n",
              "      <th></th>\n",
              "      <th>tweet_text</th>\n",
              "      <th>cyberbullying_type</th>\n",
              "      <th>tokens</th>\n",
              "      <th>hastags</th>\n",
              "      <th>mentions</th>\n",
              "      <th>length</th>\n",
              "      <th>remove_stopwords</th>\n",
              "      <th>lemmatise</th>\n",
              "      <th>hashtags_present</th>\n",
              "      <th>mentions_present</th>\n",
              "    </tr>\n",
              "  </thead>\n",
              "  <tbody>\n",
              "    <tr>\n",
              "      <th>0</th>\n",
              "      <td>In other words #katandandre, your food was cra...</td>\n",
              "      <td>not_cyberbullying</td>\n",
              "      <td>[in, other, words, #katandandre, ,, your, food...</td>\n",
              "      <td>[#katandandre, #mkr]</td>\n",
              "      <td>[]</td>\n",
              "      <td>11</td>\n",
              "      <td>[words, #katandandre, ,, food, crapilicious, !...</td>\n",
              "      <td>[word, food, crapilicious]</td>\n",
              "      <td>1</td>\n",
              "      <td>0</td>\n",
              "    </tr>\n",
              "    <tr>\n",
              "      <th>1</th>\n",
              "      <td>Why is #aussietv so white? #MKR #theblock #ImA...</td>\n",
              "      <td>not_cyberbullying</td>\n",
              "      <td>[why, is, #aussietv, so, white, ?, #mkr, #theb...</td>\n",
              "      <td>[#aussietv, #mkr, #theblock, #imacelebrityau, ...</td>\n",
              "      <td>[]</td>\n",
              "      <td>15</td>\n",
              "      <td>[#aussietv, white, ?, #mkr, #theblock, #imacel...</td>\n",
              "      <td>[white]</td>\n",
              "      <td>1</td>\n",
              "      <td>0</td>\n",
              "    </tr>\n",
              "    <tr>\n",
              "      <th>2</th>\n",
              "      <td>@XochitlSuckkks a classy whore? Or more red ve...</td>\n",
              "      <td>not_cyberbullying</td>\n",
              "      <td>[@xochitlsuckkks, a, classy, whore, ?, or, mor...</td>\n",
              "      <td>[]</td>\n",
              "      <td>[@xochitlsuckkks]</td>\n",
              "      <td>11</td>\n",
              "      <td>[@xochitlsuckkks, classy, whore, ?, red, velve...</td>\n",
              "      <td>[classy, whore, red, velvet, cupcake]</td>\n",
              "      <td>0</td>\n",
              "      <td>1</td>\n",
              "    </tr>\n",
              "    <tr>\n",
              "      <th>3</th>\n",
              "      <td>@Jason_Gio meh. :P  thanks for the heads up, b...</td>\n",
              "      <td>not_cyberbullying</td>\n",
              "      <td>[@jason_gio, meh, ., :p, thanks, for, the, hea...</td>\n",
              "      <td>[]</td>\n",
              "      <td>[@jason_gio]</td>\n",
              "      <td>21</td>\n",
              "      <td>[@jason_gio, meh, ., :p, thanks, heads, ,, con...</td>\n",
              "      <td>[meh, thanks, head, concerned, another, angry,...</td>\n",
              "      <td>0</td>\n",
              "      <td>1</td>\n",
              "    </tr>\n",
              "    <tr>\n",
              "      <th>4</th>\n",
              "      <td>@RudhoeEnglish This is an ISIS account pretend...</td>\n",
              "      <td>not_cyberbullying</td>\n",
              "      <td>[@rudhoeenglish, this, is, an, isis, account, ...</td>\n",
              "      <td>[]</td>\n",
              "      <td>[@rudhoeenglish]</td>\n",
              "      <td>21</td>\n",
              "      <td>[@rudhoeenglish, isis, account, pretending, ku...</td>\n",
              "      <td>[isi, account, pretending, kurdish, account, l...</td>\n",
              "      <td>0</td>\n",
              "      <td>1</td>\n",
              "    </tr>\n",
              "  </tbody>\n",
              "</table>\n",
              "</div>\n",
              "      <button class=\"colab-df-convert\" onclick=\"convertToInteractive('df-2e5df4cd-2646-4f9e-9470-45e2fd9f570f')\"\n",
              "              title=\"Convert this dataframe to an interactive table.\"\n",
              "              style=\"display:none;\">\n",
              "        \n",
              "  <svg xmlns=\"http://www.w3.org/2000/svg\" height=\"24px\"viewBox=\"0 0 24 24\"\n",
              "       width=\"24px\">\n",
              "    <path d=\"M0 0h24v24H0V0z\" fill=\"none\"/>\n",
              "    <path d=\"M18.56 5.44l.94 2.06.94-2.06 2.06-.94-2.06-.94-.94-2.06-.94 2.06-2.06.94zm-11 1L8.5 8.5l.94-2.06 2.06-.94-2.06-.94L8.5 2.5l-.94 2.06-2.06.94zm10 10l.94 2.06.94-2.06 2.06-.94-2.06-.94-.94-2.06-.94 2.06-2.06.94z\"/><path d=\"M17.41 7.96l-1.37-1.37c-.4-.4-.92-.59-1.43-.59-.52 0-1.04.2-1.43.59L10.3 9.45l-7.72 7.72c-.78.78-.78 2.05 0 2.83L4 21.41c.39.39.9.59 1.41.59.51 0 1.02-.2 1.41-.59l7.78-7.78 2.81-2.81c.8-.78.8-2.07 0-2.86zM5.41 20L4 18.59l7.72-7.72 1.47 1.35L5.41 20z\"/>\n",
              "  </svg>\n",
              "      </button>\n",
              "      \n",
              "  <style>\n",
              "    .colab-df-container {\n",
              "      display:flex;\n",
              "      flex-wrap:wrap;\n",
              "      gap: 12px;\n",
              "    }\n",
              "\n",
              "    .colab-df-convert {\n",
              "      background-color: #E8F0FE;\n",
              "      border: none;\n",
              "      border-radius: 50%;\n",
              "      cursor: pointer;\n",
              "      display: none;\n",
              "      fill: #1967D2;\n",
              "      height: 32px;\n",
              "      padding: 0 0 0 0;\n",
              "      width: 32px;\n",
              "    }\n",
              "\n",
              "    .colab-df-convert:hover {\n",
              "      background-color: #E2EBFA;\n",
              "      box-shadow: 0px 1px 2px rgba(60, 64, 67, 0.3), 0px 1px 3px 1px rgba(60, 64, 67, 0.15);\n",
              "      fill: #174EA6;\n",
              "    }\n",
              "\n",
              "    [theme=dark] .colab-df-convert {\n",
              "      background-color: #3B4455;\n",
              "      fill: #D2E3FC;\n",
              "    }\n",
              "\n",
              "    [theme=dark] .colab-df-convert:hover {\n",
              "      background-color: #434B5C;\n",
              "      box-shadow: 0px 1px 3px 1px rgba(0, 0, 0, 0.15);\n",
              "      filter: drop-shadow(0px 1px 2px rgba(0, 0, 0, 0.3));\n",
              "      fill: #FFFFFF;\n",
              "    }\n",
              "  </style>\n",
              "\n",
              "      <script>\n",
              "        const buttonEl =\n",
              "          document.querySelector('#df-2e5df4cd-2646-4f9e-9470-45e2fd9f570f button.colab-df-convert');\n",
              "        buttonEl.style.display =\n",
              "          google.colab.kernel.accessAllowed ? 'block' : 'none';\n",
              "\n",
              "        async function convertToInteractive(key) {\n",
              "          const element = document.querySelector('#df-2e5df4cd-2646-4f9e-9470-45e2fd9f570f');\n",
              "          const dataTable =\n",
              "            await google.colab.kernel.invokeFunction('convertToInteractive',\n",
              "                                                     [key], {});\n",
              "          if (!dataTable) return;\n",
              "\n",
              "          const docLinkHtml = 'Like what you see? Visit the ' +\n",
              "            '<a target=\"_blank\" href=https://colab.research.google.com/notebooks/data_table.ipynb>data table notebook</a>'\n",
              "            + ' to learn more about interactive tables.';\n",
              "          element.innerHTML = '';\n",
              "          dataTable['output_type'] = 'display_data';\n",
              "          await google.colab.output.renderOutput(dataTable, element);\n",
              "          const docLink = document.createElement('div');\n",
              "          docLink.innerHTML = docLinkHtml;\n",
              "          element.appendChild(docLink);\n",
              "        }\n",
              "      </script>\n",
              "    </div>\n",
              "  </div>\n",
              "  "
            ],
            "text/plain": [
              "                                          tweet_text cyberbullying_type  \\\n",
              "0  In other words #katandandre, your food was cra...  not_cyberbullying   \n",
              "1  Why is #aussietv so white? #MKR #theblock #ImA...  not_cyberbullying   \n",
              "2  @XochitlSuckkks a classy whore? Or more red ve...  not_cyberbullying   \n",
              "3  @Jason_Gio meh. :P  thanks for the heads up, b...  not_cyberbullying   \n",
              "4  @RudhoeEnglish This is an ISIS account pretend...  not_cyberbullying   \n",
              "\n",
              "                                              tokens  \\\n",
              "0  [in, other, words, #katandandre, ,, your, food...   \n",
              "1  [why, is, #aussietv, so, white, ?, #mkr, #theb...   \n",
              "2  [@xochitlsuckkks, a, classy, whore, ?, or, mor...   \n",
              "3  [@jason_gio, meh, ., :p, thanks, for, the, hea...   \n",
              "4  [@rudhoeenglish, this, is, an, isis, account, ...   \n",
              "\n",
              "                                             hastags           mentions  \\\n",
              "0                               [#katandandre, #mkr]                 []   \n",
              "1  [#aussietv, #mkr, #theblock, #imacelebrityau, ...                 []   \n",
              "2                                                 []  [@xochitlsuckkks]   \n",
              "3                                                 []       [@jason_gio]   \n",
              "4                                                 []   [@rudhoeenglish]   \n",
              "\n",
              "   length                                   remove_stopwords  \\\n",
              "0      11  [words, #katandandre, ,, food, crapilicious, !...   \n",
              "1      15  [#aussietv, white, ?, #mkr, #theblock, #imacel...   \n",
              "2      11  [@xochitlsuckkks, classy, whore, ?, red, velve...   \n",
              "3      21  [@jason_gio, meh, ., :p, thanks, heads, ,, con...   \n",
              "4      21  [@rudhoeenglish, isis, account, pretending, ku...   \n",
              "\n",
              "                                           lemmatise  hashtags_present  \\\n",
              "0                         [word, food, crapilicious]                 1   \n",
              "1                                            [white]                 1   \n",
              "2              [classy, whore, red, velvet, cupcake]                 0   \n",
              "3  [meh, thanks, head, concerned, another, angry,...                 0   \n",
              "4  [isi, account, pretending, kurdish, account, l...                 0   \n",
              "\n",
              "   mentions_present  \n",
              "0                 0  \n",
              "1                 0  \n",
              "2                 1  \n",
              "3                 1  \n",
              "4                 1  "
            ]
          },
          "metadata": {},
          "execution_count": 16
        }
      ],
      "source": [
        "from sklearn.model_selection import train_test_split\n",
        "df= LC_tokeniser(data)\n",
        "df= hashtag(df)\n",
        "df= mentions(df)\n",
        "df= length(df)\n",
        "df= remove_stopwords(df)\n",
        "df= lemmatise(df)\n",
        "df[\"hashtags_present\"]=df[\"hastags\"].apply(lambda x: int((len(x)>0)))\n",
        "df[\"mentions_present\"]= df[\"mentions\"].apply(lambda x:int((len(x)>0)))\n",
        "df.head()"
      ]
    },
    {
      "cell_type": "code",
      "execution_count": 17,
      "metadata": {
        "id": "WXgPF85X2iCQ"
      },
      "outputs": [],
      "source": [
        "df= LDA(df)"
      ]
    },
    {
      "cell_type": "code",
      "execution_count": 18,
      "metadata": {
        "colab": {
          "base_uri": "https://localhost:8080/",
          "height": 612
        },
        "id": "0I3_kbOcUzfn",
        "outputId": "2e7ae312-6f52-4d79-9f78-6382c11de836"
      },
      "outputs": [
        {
          "output_type": "execute_result",
          "data": {
            "text/html": [
              "\n",
              "  <div id=\"df-be7c6632-a189-4df8-93f7-eb04eafaa645\">\n",
              "    <div class=\"colab-df-container\">\n",
              "      <div>\n",
              "<style scoped>\n",
              "    .dataframe tbody tr th:only-of-type {\n",
              "        vertical-align: middle;\n",
              "    }\n",
              "\n",
              "    .dataframe tbody tr th {\n",
              "        vertical-align: top;\n",
              "    }\n",
              "\n",
              "    .dataframe thead th {\n",
              "        text-align: right;\n",
              "    }\n",
              "</style>\n",
              "<table border=\"1\" class=\"dataframe\">\n",
              "  <thead>\n",
              "    <tr style=\"text-align: right;\">\n",
              "      <th></th>\n",
              "      <th>tweet_text</th>\n",
              "      <th>cyberbullying_type</th>\n",
              "      <th>tokens</th>\n",
              "      <th>hastags</th>\n",
              "      <th>mentions</th>\n",
              "      <th>length</th>\n",
              "      <th>remove_stopwords</th>\n",
              "      <th>lemmatise</th>\n",
              "      <th>hashtags_present</th>\n",
              "      <th>mentions_present</th>\n",
              "      <th>...</th>\n",
              "      <th>Topic3</th>\n",
              "      <th>Topic4</th>\n",
              "      <th>Topic5</th>\n",
              "      <th>Topic6</th>\n",
              "      <th>Topic7</th>\n",
              "      <th>Topic8</th>\n",
              "      <th>Topic9</th>\n",
              "      <th>Topic10</th>\n",
              "      <th>Dominant_topic</th>\n",
              "      <th>lemma_sentence</th>\n",
              "    </tr>\n",
              "  </thead>\n",
              "  <tbody>\n",
              "    <tr>\n",
              "      <th>0</th>\n",
              "      <td>In other words #katandandre, your food was cra...</td>\n",
              "      <td>not_cyberbullying</td>\n",
              "      <td>[in, other, words, #katandandre, ,, your, food...</td>\n",
              "      <td>[#katandandre, #mkr]</td>\n",
              "      <td>[]</td>\n",
              "      <td>11</td>\n",
              "      <td>[words, #katandandre, ,, food, crapilicious, !...</td>\n",
              "      <td>[word, food, crapilicious]</td>\n",
              "      <td>1</td>\n",
              "      <td>0</td>\n",
              "      <td>...</td>\n",
              "      <td>0.01</td>\n",
              "      <td>0.01</td>\n",
              "      <td>0.01</td>\n",
              "      <td>0.01</td>\n",
              "      <td>0.01</td>\n",
              "      <td>0.01</td>\n",
              "      <td>0.91</td>\n",
              "      <td>0.01</td>\n",
              "      <td>9</td>\n",
              "      <td>word food crapilicious</td>\n",
              "    </tr>\n",
              "    <tr>\n",
              "      <th>1</th>\n",
              "      <td>Why is #aussietv so white? #MKR #theblock #ImA...</td>\n",
              "      <td>not_cyberbullying</td>\n",
              "      <td>[why, is, #aussietv, so, white, ?, #mkr, #theb...</td>\n",
              "      <td>[#aussietv, #mkr, #theblock, #imacelebrityau, ...</td>\n",
              "      <td>[]</td>\n",
              "      <td>15</td>\n",
              "      <td>[#aussietv, white, ?, #mkr, #theblock, #imacel...</td>\n",
              "      <td>[white]</td>\n",
              "      <td>1</td>\n",
              "      <td>0</td>\n",
              "      <td>...</td>\n",
              "      <td>0.00</td>\n",
              "      <td>0.96</td>\n",
              "      <td>0.00</td>\n",
              "      <td>0.00</td>\n",
              "      <td>0.00</td>\n",
              "      <td>0.00</td>\n",
              "      <td>0.00</td>\n",
              "      <td>0.00</td>\n",
              "      <td>4</td>\n",
              "      <td>white</td>\n",
              "    </tr>\n",
              "    <tr>\n",
              "      <th>2</th>\n",
              "      <td>@XochitlSuckkks a classy whore? Or more red ve...</td>\n",
              "      <td>not_cyberbullying</td>\n",
              "      <td>[@xochitlsuckkks, a, classy, whore, ?, or, mor...</td>\n",
              "      <td>[]</td>\n",
              "      <td>[@xochitlsuckkks]</td>\n",
              "      <td>11</td>\n",
              "      <td>[@xochitlsuckkks, classy, whore, ?, red, velve...</td>\n",
              "      <td>[classy, whore, red, velvet, cupcake]</td>\n",
              "      <td>0</td>\n",
              "      <td>1</td>\n",
              "      <td>...</td>\n",
              "      <td>0.01</td>\n",
              "      <td>0.01</td>\n",
              "      <td>0.92</td>\n",
              "      <td>0.01</td>\n",
              "      <td>0.01</td>\n",
              "      <td>0.01</td>\n",
              "      <td>0.01</td>\n",
              "      <td>0.01</td>\n",
              "      <td>5</td>\n",
              "      <td>classy whore red velvet cupcake</td>\n",
              "    </tr>\n",
              "    <tr>\n",
              "      <th>3</th>\n",
              "      <td>@Jason_Gio meh. :P  thanks for the heads up, b...</td>\n",
              "      <td>not_cyberbullying</td>\n",
              "      <td>[@jason_gio, meh, ., :p, thanks, for, the, hea...</td>\n",
              "      <td>[]</td>\n",
              "      <td>[@jason_gio]</td>\n",
              "      <td>21</td>\n",
              "      <td>[@jason_gio, meh, ., :p, thanks, heads, ,, con...</td>\n",
              "      <td>[meh, thanks, head, concerned, another, angry,...</td>\n",
              "      <td>0</td>\n",
              "      <td>1</td>\n",
              "      <td>...</td>\n",
              "      <td>0.01</td>\n",
              "      <td>0.01</td>\n",
              "      <td>0.01</td>\n",
              "      <td>0.01</td>\n",
              "      <td>0.01</td>\n",
              "      <td>0.01</td>\n",
              "      <td>0.01</td>\n",
              "      <td>0.01</td>\n",
              "      <td>2</td>\n",
              "      <td>meh thanks head concerned another angry dude t...</td>\n",
              "    </tr>\n",
              "    <tr>\n",
              "      <th>4</th>\n",
              "      <td>@RudhoeEnglish This is an ISIS account pretend...</td>\n",
              "      <td>not_cyberbullying</td>\n",
              "      <td>[@rudhoeenglish, this, is, an, isis, account, ...</td>\n",
              "      <td>[]</td>\n",
              "      <td>[@rudhoeenglish]</td>\n",
              "      <td>21</td>\n",
              "      <td>[@rudhoeenglish, isis, account, pretending, ku...</td>\n",
              "      <td>[isi, account, pretending, kurdish, account, l...</td>\n",
              "      <td>0</td>\n",
              "      <td>1</td>\n",
              "      <td>...</td>\n",
              "      <td>0.01</td>\n",
              "      <td>0.95</td>\n",
              "      <td>0.01</td>\n",
              "      <td>0.01</td>\n",
              "      <td>0.01</td>\n",
              "      <td>0.01</td>\n",
              "      <td>0.01</td>\n",
              "      <td>0.01</td>\n",
              "      <td>4</td>\n",
              "      <td>isi account pretending kurdish account like is...</td>\n",
              "    </tr>\n",
              "  </tbody>\n",
              "</table>\n",
              "<p>5 rows × 22 columns</p>\n",
              "</div>\n",
              "      <button class=\"colab-df-convert\" onclick=\"convertToInteractive('df-be7c6632-a189-4df8-93f7-eb04eafaa645')\"\n",
              "              title=\"Convert this dataframe to an interactive table.\"\n",
              "              style=\"display:none;\">\n",
              "        \n",
              "  <svg xmlns=\"http://www.w3.org/2000/svg\" height=\"24px\"viewBox=\"0 0 24 24\"\n",
              "       width=\"24px\">\n",
              "    <path d=\"M0 0h24v24H0V0z\" fill=\"none\"/>\n",
              "    <path d=\"M18.56 5.44l.94 2.06.94-2.06 2.06-.94-2.06-.94-.94-2.06-.94 2.06-2.06.94zm-11 1L8.5 8.5l.94-2.06 2.06-.94-2.06-.94L8.5 2.5l-.94 2.06-2.06.94zm10 10l.94 2.06.94-2.06 2.06-.94-2.06-.94-.94-2.06-.94 2.06-2.06.94z\"/><path d=\"M17.41 7.96l-1.37-1.37c-.4-.4-.92-.59-1.43-.59-.52 0-1.04.2-1.43.59L10.3 9.45l-7.72 7.72c-.78.78-.78 2.05 0 2.83L4 21.41c.39.39.9.59 1.41.59.51 0 1.02-.2 1.41-.59l7.78-7.78 2.81-2.81c.8-.78.8-2.07 0-2.86zM5.41 20L4 18.59l7.72-7.72 1.47 1.35L5.41 20z\"/>\n",
              "  </svg>\n",
              "      </button>\n",
              "      \n",
              "  <style>\n",
              "    .colab-df-container {\n",
              "      display:flex;\n",
              "      flex-wrap:wrap;\n",
              "      gap: 12px;\n",
              "    }\n",
              "\n",
              "    .colab-df-convert {\n",
              "      background-color: #E8F0FE;\n",
              "      border: none;\n",
              "      border-radius: 50%;\n",
              "      cursor: pointer;\n",
              "      display: none;\n",
              "      fill: #1967D2;\n",
              "      height: 32px;\n",
              "      padding: 0 0 0 0;\n",
              "      width: 32px;\n",
              "    }\n",
              "\n",
              "    .colab-df-convert:hover {\n",
              "      background-color: #E2EBFA;\n",
              "      box-shadow: 0px 1px 2px rgba(60, 64, 67, 0.3), 0px 1px 3px 1px rgba(60, 64, 67, 0.15);\n",
              "      fill: #174EA6;\n",
              "    }\n",
              "\n",
              "    [theme=dark] .colab-df-convert {\n",
              "      background-color: #3B4455;\n",
              "      fill: #D2E3FC;\n",
              "    }\n",
              "\n",
              "    [theme=dark] .colab-df-convert:hover {\n",
              "      background-color: #434B5C;\n",
              "      box-shadow: 0px 1px 3px 1px rgba(0, 0, 0, 0.15);\n",
              "      filter: drop-shadow(0px 1px 2px rgba(0, 0, 0, 0.3));\n",
              "      fill: #FFFFFF;\n",
              "    }\n",
              "  </style>\n",
              "\n",
              "      <script>\n",
              "        const buttonEl =\n",
              "          document.querySelector('#df-be7c6632-a189-4df8-93f7-eb04eafaa645 button.colab-df-convert');\n",
              "        buttonEl.style.display =\n",
              "          google.colab.kernel.accessAllowed ? 'block' : 'none';\n",
              "\n",
              "        async function convertToInteractive(key) {\n",
              "          const element = document.querySelector('#df-be7c6632-a189-4df8-93f7-eb04eafaa645');\n",
              "          const dataTable =\n",
              "            await google.colab.kernel.invokeFunction('convertToInteractive',\n",
              "                                                     [key], {});\n",
              "          if (!dataTable) return;\n",
              "\n",
              "          const docLinkHtml = 'Like what you see? Visit the ' +\n",
              "            '<a target=\"_blank\" href=https://colab.research.google.com/notebooks/data_table.ipynb>data table notebook</a>'\n",
              "            + ' to learn more about interactive tables.';\n",
              "          element.innerHTML = '';\n",
              "          dataTable['output_type'] = 'display_data';\n",
              "          await google.colab.output.renderOutput(dataTable, element);\n",
              "          const docLink = document.createElement('div');\n",
              "          docLink.innerHTML = docLinkHtml;\n",
              "          element.appendChild(docLink);\n",
              "        }\n",
              "      </script>\n",
              "    </div>\n",
              "  </div>\n",
              "  "
            ],
            "text/plain": [
              "                                          tweet_text cyberbullying_type  \\\n",
              "0  In other words #katandandre, your food was cra...  not_cyberbullying   \n",
              "1  Why is #aussietv so white? #MKR #theblock #ImA...  not_cyberbullying   \n",
              "2  @XochitlSuckkks a classy whore? Or more red ve...  not_cyberbullying   \n",
              "3  @Jason_Gio meh. :P  thanks for the heads up, b...  not_cyberbullying   \n",
              "4  @RudhoeEnglish This is an ISIS account pretend...  not_cyberbullying   \n",
              "\n",
              "                                              tokens  \\\n",
              "0  [in, other, words, #katandandre, ,, your, food...   \n",
              "1  [why, is, #aussietv, so, white, ?, #mkr, #theb...   \n",
              "2  [@xochitlsuckkks, a, classy, whore, ?, or, mor...   \n",
              "3  [@jason_gio, meh, ., :p, thanks, for, the, hea...   \n",
              "4  [@rudhoeenglish, this, is, an, isis, account, ...   \n",
              "\n",
              "                                             hastags           mentions  \\\n",
              "0                               [#katandandre, #mkr]                 []   \n",
              "1  [#aussietv, #mkr, #theblock, #imacelebrityau, ...                 []   \n",
              "2                                                 []  [@xochitlsuckkks]   \n",
              "3                                                 []       [@jason_gio]   \n",
              "4                                                 []   [@rudhoeenglish]   \n",
              "\n",
              "   length                                   remove_stopwords  \\\n",
              "0      11  [words, #katandandre, ,, food, crapilicious, !...   \n",
              "1      15  [#aussietv, white, ?, #mkr, #theblock, #imacel...   \n",
              "2      11  [@xochitlsuckkks, classy, whore, ?, red, velve...   \n",
              "3      21  [@jason_gio, meh, ., :p, thanks, heads, ,, con...   \n",
              "4      21  [@rudhoeenglish, isis, account, pretending, ku...   \n",
              "\n",
              "                                           lemmatise  hashtags_present  \\\n",
              "0                         [word, food, crapilicious]                 1   \n",
              "1                                            [white]                 1   \n",
              "2              [classy, whore, red, velvet, cupcake]                 0   \n",
              "3  [meh, thanks, head, concerned, another, angry,...                 0   \n",
              "4  [isi, account, pretending, kurdish, account, l...                 0   \n",
              "\n",
              "   mentions_present  ...  Topic3  Topic4  Topic5  Topic6  Topic7  Topic8  \\\n",
              "0                 0  ...    0.01    0.01    0.01    0.01    0.01    0.01   \n",
              "1                 0  ...    0.00    0.96    0.00    0.00    0.00    0.00   \n",
              "2                 1  ...    0.01    0.01    0.92    0.01    0.01    0.01   \n",
              "3                 1  ...    0.01    0.01    0.01    0.01    0.01    0.01   \n",
              "4                 1  ...    0.01    0.95    0.01    0.01    0.01    0.01   \n",
              "\n",
              "   Topic9  Topic10  Dominant_topic  \\\n",
              "0    0.91     0.01               9   \n",
              "1    0.00     0.00               4   \n",
              "2    0.01     0.01               5   \n",
              "3    0.01     0.01               2   \n",
              "4    0.01     0.01               4   \n",
              "\n",
              "                                      lemma_sentence  \n",
              "0                             word food crapilicious  \n",
              "1                                              white  \n",
              "2                    classy whore red velvet cupcake  \n",
              "3  meh thanks head concerned another angry dude t...  \n",
              "4  isi account pretending kurdish account like is...  \n",
              "\n",
              "[5 rows x 22 columns]"
            ]
          },
          "metadata": {},
          "execution_count": 18
        }
      ],
      "source": [
        "df[\"lemma_sentence\"]= df[\"lemmatise\"].apply(lambda x: \" \".join(str(w) for w in x))\n",
        "df.head()"
      ]
    },
    {
      "cell_type": "code",
      "execution_count": 19,
      "metadata": {
        "colab": {
          "base_uri": "https://localhost:8080/"
        },
        "id": "PH6U4RcMNe87",
        "outputId": "aa470137-de15-4747-8955-5bbf4f34bde5"
      },
      "outputs": [
        {
          "output_type": "stream",
          "name": "stdout",
          "text": [
            "Duplicate tweets: 3312\n"
          ]
        }
      ],
      "source": [
        "print(\"Duplicate tweets:\",df[\"lemma_sentence\"].duplicated().sum())\n",
        "df.drop_duplicates(\"lemma_sentence\", inplace=True)"
      ]
    },
    {
      "cell_type": "code",
      "execution_count": 20,
      "metadata": {
        "colab": {
          "base_uri": "https://localhost:8080/"
        },
        "id": "rNNvrrfnzkOh",
        "outputId": "fb3a6982-bae8-42ee-d134-386aea1598e8"
      },
      "outputs": [
        {
          "output_type": "stream",
          "name": "stdout",
          "text": [
            "<class 'pandas.core.frame.DataFrame'>\n",
            "Int64Index: 44380 entries, 0 to 47691\n",
            "Data columns (total 22 columns):\n",
            " #   Column              Non-Null Count  Dtype  \n",
            "---  ------              --------------  -----  \n",
            " 0   tweet_text          44380 non-null  object \n",
            " 1   cyberbullying_type  44380 non-null  object \n",
            " 2   tokens              44380 non-null  object \n",
            " 3   hastags             44380 non-null  object \n",
            " 4   mentions            44380 non-null  object \n",
            " 5   length              44380 non-null  int64  \n",
            " 6   remove_stopwords    44380 non-null  object \n",
            " 7   lemmatise           44380 non-null  object \n",
            " 8   hashtags_present    44380 non-null  int64  \n",
            " 9   mentions_present    44380 non-null  int64  \n",
            " 10  Topic1              44380 non-null  float64\n",
            " 11  Topic2              44380 non-null  float64\n",
            " 12  Topic3              44380 non-null  float64\n",
            " 13  Topic4              44380 non-null  float64\n",
            " 14  Topic5              44380 non-null  float64\n",
            " 15  Topic6              44380 non-null  float64\n",
            " 16  Topic7              44380 non-null  float64\n",
            " 17  Topic8              44380 non-null  float64\n",
            " 18  Topic9              44380 non-null  float64\n",
            " 19  Topic10             44380 non-null  float64\n",
            " 20  Dominant_topic      44380 non-null  int64  \n",
            " 21  lemma_sentence      44380 non-null  object \n",
            "dtypes: float64(10), int64(4), object(8)\n",
            "memory usage: 7.8+ MB\n"
          ]
        }
      ],
      "source": [
        "df.info()"
      ]
    },
    {
      "cell_type": "code",
      "execution_count": 21,
      "metadata": {
        "id": "90SxTm_Zr_zi"
      },
      "outputs": [],
      "source": [
        "x = df.iloc[:,2:22]\n",
        "y = df['cyberbullying_type']"
      ]
    },
    {
      "cell_type": "code",
      "execution_count": 22,
      "metadata": {
        "id": "aHITrxeihbDt"
      },
      "outputs": [],
      "source": [
        "del(data)"
      ]
    },
    {
      "cell_type": "code",
      "execution_count": 23,
      "metadata": {
        "colab": {
          "base_uri": "https://localhost:8080/"
        },
        "id": "6CbhRCLxt1y7",
        "outputId": "f6f3331b-568b-43f0-f6bc-71f04cc0484c"
      },
      "outputs": [
        {
          "output_type": "stream",
          "name": "stdout",
          "text": [
            "<class 'pandas.core.frame.DataFrame'>\n",
            "Int64Index: 44380 entries, 0 to 47691\n",
            "Data columns (total 20 columns):\n",
            " #   Column            Non-Null Count  Dtype  \n",
            "---  ------            --------------  -----  \n",
            " 0   tokens            44380 non-null  object \n",
            " 1   hastags           44380 non-null  object \n",
            " 2   mentions          44380 non-null  object \n",
            " 3   length            44380 non-null  int64  \n",
            " 4   remove_stopwords  44380 non-null  object \n",
            " 5   lemmatise         44380 non-null  object \n",
            " 6   hashtags_present  44380 non-null  int64  \n",
            " 7   mentions_present  44380 non-null  int64  \n",
            " 8   Topic1            44380 non-null  float64\n",
            " 9   Topic2            44380 non-null  float64\n",
            " 10  Topic3            44380 non-null  float64\n",
            " 11  Topic4            44380 non-null  float64\n",
            " 12  Topic5            44380 non-null  float64\n",
            " 13  Topic6            44380 non-null  float64\n",
            " 14  Topic7            44380 non-null  float64\n",
            " 15  Topic8            44380 non-null  float64\n",
            " 16  Topic9            44380 non-null  float64\n",
            " 17  Topic10           44380 non-null  float64\n",
            " 18  Dominant_topic    44380 non-null  int64  \n",
            " 19  lemma_sentence    44380 non-null  object \n",
            "dtypes: float64(10), int64(4), object(6)\n",
            "memory usage: 7.1+ MB\n"
          ]
        }
      ],
      "source": [
        "numerical_ix= [3,8,9,10,11,12,13,14,15,16,17]\n",
        "categorical_ix= [6,7,18]\n",
        "text_ix=[19]\n",
        "x.info()"
      ]
    },
    {
      "cell_type": "code",
      "execution_count": 24,
      "metadata": {
        "colab": {
          "base_uri": "https://localhost:8080/"
        },
        "id": "DDBRF6T3kTKz",
        "outputId": "a8d623c3-d8fc-4093-aab4-4b38a93328fb"
      },
      "outputs": [
        {
          "output_type": "stream",
          "name": "stdout",
          "text": [
            "(44380, 15751)\n",
            "['aa' 'aaaand' 'aap' ... 'zombie' 'zone' 'zoo']\n"
          ]
        }
      ],
      "source": [
        "from sklearn.feature_extraction.text import TfidfVectorizer\n",
        "tfidf = TfidfVectorizer(sublinear_tf=True, min_df=5, norm='l2', encoding='latin-1', ngram_range=(1, 2), stop_words='english')\n",
        "text_features=  tfidf.fit_transform(df.lemma_sentence).toarray()\n",
        "labels = y\n",
        "print(text_features.shape)\n",
        "print(tfidf.get_feature_names_out())"
      ]
    },
    {
      "cell_type": "code",
      "execution_count": 25,
      "metadata": {
        "colab": {
          "base_uri": "https://localhost:8080/"
        },
        "id": "h3-TGmkwmGg6",
        "outputId": "e88ded80-b4c2-4cd1-b663-7404a2051799"
      },
      "outputs": [
        {
          "output_type": "stream",
          "name": "stdout",
          "text": [
            "<class 'pandas.core.frame.DataFrame'>\n",
            "RangeIndex: 44380 entries, 0 to 44379\n",
            "Columns: 15751 entries, aa to zoo\n",
            "dtypes: float64(15751)\n",
            "memory usage: 5.2 GB\n"
          ]
        }
      ],
      "source": [
        "txt= pd.DataFrame(data= text_features, columns=tfidf.get_feature_names_out() )\n",
        "txt.info()"
      ]
    },
    {
      "cell_type": "code",
      "execution_count": 26,
      "metadata": {
        "id": "5XNB9xiOw0mP"
      },
      "outputs": [],
      "source": [
        "topic_df= pd.get_dummies(x.Dominant_topic, prefix=\"Dominant_topic\")"
      ]
    },
    {
      "cell_type": "code",
      "execution_count": 27,
      "metadata": {
        "colab": {
          "base_uri": "https://localhost:8080/"
        },
        "id": "lMRHHR_b5KIp",
        "outputId": "000c77f1-9ef5-48ee-d0b6-5345c14a8c78"
      },
      "outputs": [
        {
          "output_type": "stream",
          "name": "stdout",
          "text": [
            "<class 'pandas.core.frame.DataFrame'>\n",
            "Int64Index: 44380 entries, 0 to 47691\n",
            "Data columns (total 10 columns):\n",
            " #   Column             Non-Null Count  Dtype\n",
            "---  ------             --------------  -----\n",
            " 0   Dominant_topic_1   44380 non-null  uint8\n",
            " 1   Dominant_topic_2   44380 non-null  uint8\n",
            " 2   Dominant_topic_3   44380 non-null  uint8\n",
            " 3   Dominant_topic_4   44380 non-null  uint8\n",
            " 4   Dominant_topic_5   44380 non-null  uint8\n",
            " 5   Dominant_topic_6   44380 non-null  uint8\n",
            " 6   Dominant_topic_7   44380 non-null  uint8\n",
            " 7   Dominant_topic_8   44380 non-null  uint8\n",
            " 8   Dominant_topic_9   44380 non-null  uint8\n",
            " 9   Dominant_topic_10  44380 non-null  uint8\n",
            "dtypes: uint8(10)\n",
            "memory usage: 780.1 KB\n"
          ]
        }
      ],
      "source": [
        "topic_df.info()"
      ]
    },
    {
      "cell_type": "code",
      "execution_count": 28,
      "metadata": {
        "id": "2P29NKp0xa4u"
      },
      "outputs": [],
      "source": [
        "merge_df= pd.concat([txt, topic_df.set_index(txt.index)], axis=1)"
      ]
    },
    {
      "cell_type": "code",
      "execution_count": 29,
      "metadata": {
        "colab": {
          "base_uri": "https://localhost:8080/"
        },
        "id": "laIdsV-wCnyJ",
        "outputId": "0e19a3ef-9bbd-4659-d215-b815d4b7af34"
      },
      "outputs": [
        {
          "output_type": "stream",
          "name": "stdout",
          "text": [
            "<class 'pandas.core.frame.DataFrame'>\n",
            "RangeIndex: 44380 entries, 0 to 44379\n",
            "Columns: 15761 entries, aa to Dominant_topic_10\n",
            "dtypes: float64(15751), uint8(10)\n",
            "memory usage: 5.2 GB\n"
          ]
        }
      ],
      "source": [
        "merge_df.info()"
      ]
    },
    {
      "cell_type": "code",
      "execution_count": 30,
      "metadata": {
        "id": "QNRtGNNs_CHf"
      },
      "outputs": [],
      "source": [
        "s= x.length.to_frame()\n",
        "X= pd.concat([merge_df, s.set_index(merge_df.index)], axis=1)"
      ]
    },
    {
      "cell_type": "code",
      "execution_count": 31,
      "metadata": {
        "id": "7a38ElcLCuJP"
      },
      "outputs": [],
      "source": [
        "#Deleting dfs not required in future, to save memory\n",
        "del(merge_df)\n",
        "del(x)\n",
        "del(txt)\n",
        "del(topic_df)"
      ]
    },
    {
      "cell_type": "code",
      "execution_count": 32,
      "metadata": {
        "colab": {
          "base_uri": "https://localhost:8080/",
          "height": 126
        },
        "id": "W3N26Dh0Ftds",
        "outputId": "4397d392-16dd-4619-c96d-0d29526be1a2"
      },
      "outputs": [
        {
          "output_type": "execute_result",
          "data": {
            "application/vnd.google.colaboratory.intrinsic+json": {
              "type": "string"
            },
            "text/plain": [
              "'# This function take a dataframe\\n# as a parameter and returning list\\n# of column names whose contents\\n# are duplicates.\\ndef getDuplicateColumns(df):\\n\\n\\t# Create an empty set\\n\\tduplicateColumnNames = set()\\n\\t\\n\\t# Iterate through all the columns\\n\\t# of dataframe\\n\\tfor x in range(df.shape[1]):\\n\\t\\t\\n\\t\\t# Take column at xth index.\\n\\t\\tcol = df.iloc[:, x]\\n\\t\\t\\n\\t\\t# Iterate through all the columns in\\n\\t\\t# DataFrame from (x + 1)th index to\\n\\t\\t# last index\\n\\t\\tfor y in range(x + 1, df.shape[1]):\\n\\t\\t\\t\\n\\t\\t\\t# Take column at yth index.\\n\\t\\t\\totherCol = df.iloc[:, y]\\n\\t\\t\\t\\n\\t\\t\\t# Check if two columns at x & y\\n\\t\\t\\t# index are equal or not,\\n\\t\\t\\t# if equal then adding\\n\\t\\t\\t# to the set\\n\\t\\t\\tif col.equals(otherCol):\\n\\t\\t\\t\\tduplicateColumnNames.add(df.columns.values[y])\\n\\t\\t\\t\\t\\n\\t# Return list of unique column names\\n\\t# whose contents are duplicates.\\n\\treturn list(duplicateColumnNames)\\n\\n# Dropping duplicate columns\\nX = X.drop(columns = getDuplicateColumns(df))\\n\\nprint(\"Resultant Dataframe :\")\\n\\n\\t# Show the dataframe\\nX.head()\\n'"
            ]
          },
          "metadata": {},
          "execution_count": 32
        }
      ],
      "source": [
        "'''# This function take a dataframe\n",
        "# as a parameter and returning list\n",
        "# of column names whose contents\n",
        "# are duplicates.\n",
        "def getDuplicateColumns(df):\n",
        "\n",
        "\t# Create an empty set\n",
        "\tduplicateColumnNames = set()\n",
        "\t\n",
        "\t# Iterate through all the columns\n",
        "\t# of dataframe\n",
        "\tfor x in range(df.shape[1]):\n",
        "\t\t\n",
        "\t\t# Take column at xth index.\n",
        "\t\tcol = df.iloc[:, x]\n",
        "\t\t\n",
        "\t\t# Iterate through all the columns in\n",
        "\t\t# DataFrame from (x + 1)th index to\n",
        "\t\t# last index\n",
        "\t\tfor y in range(x + 1, df.shape[1]):\n",
        "\t\t\t\n",
        "\t\t\t# Take column at yth index.\n",
        "\t\t\totherCol = df.iloc[:, y]\n",
        "\t\t\t\n",
        "\t\t\t# Check if two columns at x & y\n",
        "\t\t\t# index are equal or not,\n",
        "\t\t\t# if equal then adding\n",
        "\t\t\t# to the set\n",
        "\t\t\tif col.equals(otherCol):\n",
        "\t\t\t\tduplicateColumnNames.add(df.columns.values[y])\n",
        "\t\t\t\t\n",
        "\t# Return list of unique column names\n",
        "\t# whose contents are duplicates.\n",
        "\treturn list(duplicateColumnNames)\n",
        "\n",
        "# Dropping duplicate columns\n",
        "X = X.drop(columns = getDuplicateColumns(df))\n",
        "\n",
        "print(\"Resultant Dataframe :\")\n",
        "\n",
        "\t# Show the dataframe\n",
        "X.head()\n",
        "'''"
      ]
    },
    {
      "cell_type": "code",
      "execution_count": 33,
      "metadata": {
        "colab": {
          "base_uri": "https://localhost:8080/"
        },
        "id": "w_Q59TtvDnmh",
        "outputId": "1b01fb01-8b3c-42ae-8508-635842590b68"
      },
      "outputs": [
        {
          "output_type": "stream",
          "name": "stdout",
          "text": [
            "<class 'pandas.core.frame.DataFrame'>\n",
            "RangeIndex: 44380 entries, 0 to 44379\n",
            "Columns: 15762 entries, aa to length\n",
            "dtypes: float64(15751), int64(1), uint8(10)\n",
            "memory usage: 5.2 GB\n"
          ]
        }
      ],
      "source": [
        "X.info()"
      ]
    },
    {
      "cell_type": "code",
      "execution_count": 34,
      "metadata": {
        "id": "p6matlSBFAvz"
      },
      "outputs": [],
      "source": [
        "from sklearn.model_selection import train_test_split\n",
        "x_train, x_test, y_train, y_test = train_test_split(X, y, test_size = 0.2, random_state = 42)\n",
        "x_train.shape, x_test.shape, y_train.shape, y_test.shape\n",
        "del(X)"
      ]
    },
    {
      "cell_type": "markdown",
      "metadata": {
        "id": "segOtIf8GURE"
      },
      "source": [
        "Base Model : Multinomial Naive Bayes"
      ]
    },
    {
      "cell_type": "code",
      "execution_count": 35,
      "metadata": {
        "id": "aCkYkHFQFOt2"
      },
      "outputs": [],
      "source": [
        "from sklearn.model_selection import train_test_split\n",
        "from sklearn.feature_extraction.text import CountVectorizer\n",
        "from sklearn.feature_extraction.text import TfidfTransformer\n",
        "from sklearn.naive_bayes import MultinomialNB\n",
        "\n",
        "clf = MultinomialNB().fit(x_train, y_train)"
      ]
    },
    {
      "cell_type": "code",
      "execution_count": 36,
      "metadata": {
        "colab": {
          "base_uri": "https://localhost:8080/"
        },
        "id": "r85jvwdaGkYv",
        "outputId": "e37150e1-02cf-40c4-a751-d168a07964ce"
      },
      "outputs": [
        {
          "output_type": "execute_result",
          "data": {
            "text/plain": [
              "0.7225101397025687"
            ]
          },
          "metadata": {},
          "execution_count": 36
        }
      ],
      "source": [
        "clf.score(x_test,y_test)"
      ]
    },
    {
      "cell_type": "code",
      "execution_count": 37,
      "metadata": {
        "colab": {
          "base_uri": "https://localhost:8080/"
        },
        "id": "ocR0ok8uf6aq",
        "outputId": "e6efd463-ed8a-4a46-c4da-65695843cdb8"
      },
      "outputs": [
        {
          "output_type": "stream",
          "name": "stdout",
          "text": [
            "Classification report for Multinomial Naive Bayes:\n",
            "                      precision    recall  f1-score   support\n",
            "\n",
            "                age       0.74      0.97      0.84      1552\n",
            "          ethnicity       0.78      0.83      0.80      1571\n",
            "             gender       0.75      0.81      0.78      1496\n",
            "  not_cyberbullying       0.69      0.40      0.51      1575\n",
            "other_cyberbullying       0.63      0.19      0.29      1107\n",
            "           religion       0.68      0.98      0.80      1575\n",
            "\n",
            "           accuracy                           0.72      8876\n",
            "          macro avg       0.71      0.70      0.67      8876\n",
            "       weighted avg       0.71      0.72      0.69      8876\n",
            "\n",
            "Confusion Matrix: \n",
            " [[1500    6    8    9    1   28]\n",
            " [  68 1304   15    6    1  177]\n",
            " [  40   73 1218   77   13   75]\n",
            " [ 214  146  197  634  108  276]\n",
            " [ 201  142  178  190  208  188]\n",
            " [   9    7    6    4    0 1549]]\n",
            "Micro F1 score for  Multinomial Naive Bayes: 0.7225101397025687\n"
          ]
        }
      ],
      "source": [
        "from sklearn.metrics import classification_report, confusion_matrix, accuracy_score\n",
        "y_pred= clf.predict(x_test)\n",
        "\n",
        "print(\"Classification report for Multinomial Naive Bayes:\\n\",classification_report(y_test,y_pred))\n",
        "print(\"Confusion Matrix:\",\"\\n\",confusion_matrix(y_test,y_pred))\n",
        "print(\"Micro F1 score for  Multinomial Naive Bayes:\",accuracy_score(y_test, y_pred))"
      ]
    },
    {
      "cell_type": "code",
      "execution_count": null,
      "metadata": {
        "id": "fLy8huiVgljC"
      },
      "outputs": [],
      "source": [
        "from sklearn.ensemble import BaggingClassifier\n",
        "bagging_clf = BaggingClassifier(base_estimator=clf,n_estimators=10, random_state=0).fit(x_train, y_train)"
      ]
    },
    {
      "cell_type": "code",
      "execution_count": null,
      "metadata": {
        "colab": {
          "base_uri": "https://localhost:8080/"
        },
        "id": "W9BTJsPmi9MY",
        "outputId": "9e17d2f3-6258-4ea9-82a8-6a7c727bcf81"
      },
      "outputs": [
        {
          "data": {
            "text/plain": [
              "0.723186119873817"
            ]
          },
          "execution_count": 38,
          "metadata": {},
          "output_type": "execute_result"
        }
      ],
      "source": [
        "bagging_clf.score(x_test, y_test)"
      ]
    },
    {
      "cell_type": "code",
      "execution_count": null,
      "metadata": {
        "colab": {
          "base_uri": "https://localhost:8080/"
        },
        "id": "9DLtirzT0K4j",
        "outputId": "d5ba33d6-3736-4260-99bd-952d956f3826"
      },
      "outputs": [
        {
          "name": "stdout",
          "output_type": "stream",
          "text": [
            "Classification report for Bagging (n_est=20) Multinomial Naive Bayes:\n",
            "                      precision    recall  f1-score   support\n",
            "\n",
            "                age       0.74      0.97      0.84      1552\n",
            "          ethnicity       0.78      0.83      0.80      1571\n",
            "             gender       0.75      0.81      0.78      1496\n",
            "  not_cyberbullying       0.69      0.41      0.51      1575\n",
            "other_cyberbullying       0.64      0.19      0.29      1107\n",
            "           religion       0.68      0.98      0.80      1575\n",
            "\n",
            "           accuracy                           0.72      8876\n",
            "          macro avg       0.71      0.70      0.67      8876\n",
            "       weighted avg       0.71      0.72      0.69      8876\n",
            "\n",
            "Confusion Matrix: \n",
            " [[1498    6    8    9    2   29]\n",
            " [  69 1307   16    6    1  172]\n",
            " [  41   73 1214   80   13   75]\n",
            " [ 208  147  195  646  104  275]\n",
            " [ 202  142  176  192  209  186]\n",
            " [  10    7    8    5    0 1545]]\n",
            "Micro F1 score for Bagging Multinomial Naive Bayes: 0.723186119873817\n"
          ]
        }
      ],
      "source": [
        "from sklearn.metrics import classification_report, confusion_matrix, accuracy_score\n",
        "y_pred= bagging_clf.predict(x_test)\n",
        "\n",
        "print(\"Classification report for Bagging (n_est=20) Multinomial Naive Bayes:\\n\",classification_report(y_test,y_pred))\n",
        "print(\"Confusion Matrix:\",\"\\n\",confusion_matrix(y_test,y_pred))\n",
        "print(\"Micro F1 score for Bagging Multinomial Naive Bayes:\",accuracy_score(y_test, y_pred))"
      ]
    },
    {
      "cell_type": "code",
      "source": [
        ""
      ],
      "metadata": {
        "id": "lvJny7sTsxRl"
      },
      "execution_count": null,
      "outputs": []
    },
    {
      "cell_type": "markdown",
      "metadata": {
        "id": "XrzQnUcajrjE"
      },
      "source": [
        "**Support Vector Classifier using Stochastic Gradient Descent**"
      ]
    },
    {
      "cell_type": "code",
      "execution_count": null,
      "metadata": {
        "colab": {
          "base_uri": "https://localhost:8080/"
        },
        "id": "U3ttnEa5gjGO",
        "outputId": "bfd0353a-26f2-4d7f-8861-279598e244d0"
      },
      "outputs": [
        {
          "data": {
            "text/plain": [
              "0.44141505182514645"
            ]
          },
          "execution_count": 40,
          "metadata": {},
          "output_type": "execute_result"
        }
      ],
      "source": [
        "from sklearn.linear_model import SGDClassifier\n",
        "clf_SVC = SGDClassifier(loss='hinge', penalty='l2',alpha=1e-3, random_state=42, max_iter=5, tol=None).fit(x_train, y_train)\n",
        "clf_SVC.score(x_test,y_test)"
      ]
    },
    {
      "cell_type": "code",
      "execution_count": null,
      "metadata": {
        "colab": {
          "base_uri": "https://localhost:8080/"
        },
        "id": "3Zy_dfKTj1dH",
        "outputId": "aedf4015-cd82-4d69-d441-55fbd8bdfc46"
      },
      "outputs": [
        {
          "name": "stdout",
          "output_type": "stream",
          "text": [
            "Classification report for Support Vector Classification:\n",
            "                      precision    recall  f1-score   support\n",
            "\n",
            "                age       0.62      0.77      0.68      1552\n",
            "          ethnicity       1.00      0.31      0.47      1571\n",
            "             gender       0.28      0.82      0.42      1496\n",
            "  not_cyberbullying       0.47      0.60      0.53      1575\n",
            "other_cyberbullying       0.00      0.00      0.00      1107\n",
            "           religion       1.00      0.05      0.09      1575\n",
            "\n",
            "           accuracy                           0.44      8876\n",
            "          macro avg       0.56      0.42      0.36      8876\n",
            "       weighted avg       0.59      0.44      0.38      8876\n",
            "\n",
            "Confusion Matrix: \n",
            " [[1197    0  284   71    0    0]\n",
            " [ 221  481  789   80    0    0]\n",
            " [ 103    0 1223  170    0    0]\n",
            " [  73    0  560  941    1    0]\n",
            " [  59    0  520  528    0    0]\n",
            " [ 293    0 1014  192    0   76]]\n",
            "Micro F1 score for  SVC: 0.44141505182514645\n"
          ]
        }
      ],
      "source": [
        "y_pred= clf_SVC.predict(x_test)\n",
        "\n",
        "print(\"Classification report for Support Vector Classification:\\n\",classification_report(y_test,y_pred))\n",
        "print(\"Confusion Matrix:\",\"\\n\",confusion_matrix(y_test,y_pred))\n",
        "print(\"Micro F1 score for  SVC:\",accuracy_score(y_test, y_pred))"
      ]
    },
    {
      "cell_type": "markdown",
      "metadata": {
        "id": "aAw78sB2lRMQ"
      },
      "source": [
        "**Decison trees**"
      ]
    },
    {
      "cell_type": "markdown",
      "metadata": {
        "id": "78JHtyX5lUam"
      },
      "source": [
        "Simple Decison tree:"
      ]
    },
    {
      "cell_type": "code",
      "execution_count": null,
      "metadata": {
        "colab": {
          "background_save": true
        },
        "id": "SFb9dBe2lYJH",
        "outputId": "6f4d9a11-9e64-4041-80bf-9471162711e6"
      },
      "outputs": [
        {
          "data": {
            "text/plain": [
              "0.8014871563767463"
            ]
          },
          "execution_count": null,
          "metadata": {},
          "output_type": "execute_result"
        }
      ],
      "source": [
        "from sklearn import tree\n",
        "clf_tree = tree.DecisionTreeClassifier().fit(x_train, y_train)\n",
        "clf_tree.score(x_test,y_test)"
      ]
    },
    {
      "cell_type": "code",
      "execution_count": null,
      "metadata": {
        "colab": {
          "background_save": true
        },
        "id": "_kr9CEu5l5Zg",
        "outputId": "1193dfaa-03ff-4e4c-b214-6dddc51dcb2f"
      },
      "outputs": [
        {
          "name": "stdout",
          "output_type": "stream",
          "text": [
            "Classification report for a single Decision Tree:\n",
            "                      precision    recall  f1-score   support\n",
            "\n",
            "                age       0.97      0.97      0.97      1552\n",
            "          ethnicity       0.97      0.97      0.97      1571\n",
            "             gender       0.82      0.81      0.81      1496\n",
            "  not_cyberbullying       0.56      0.58      0.57      1575\n",
            "other_cyberbullying       0.47      0.47      0.47      1107\n",
            "           religion       0.94      0.92      0.93      1575\n",
            "\n",
            "           accuracy                           0.80      8876\n",
            "          macro avg       0.79      0.79      0.79      8876\n",
            "       weighted avg       0.80      0.80      0.80      8876\n",
            "\n",
            "Confusion Matrix: \n",
            " [[1501    3    3   27   18    0]\n",
            " [   3 1518    7   17   18    8]\n",
            " [   2   18 1212  147  103   14]\n",
            " [  24   11  136  920  422   62]\n",
            " [  15    6  111  448  517   10]\n",
            " [   1    6   18   71   33 1446]]\n",
            "Micro F1 score for a single Decision Tree: 0.8014871563767463\n"
          ]
        }
      ],
      "source": [
        "y_pred= clf_tree.predict(x_test)\n",
        "\n",
        "print(\"Classification report for a single Decision Tree:\\n\",classification_report(y_test,y_pred))\n",
        "print(\"Confusion Matrix:\",\"\\n\",confusion_matrix(y_test,y_pred))\n",
        "print(\"Micro F1 score for a single Decision Tree:\",accuracy_score(y_test, y_pred))"
      ]
    },
    {
      "cell_type": "code",
      "execution_count": null,
      "metadata": {
        "colab": {
          "background_save": true
        },
        "id": "qGDtqHBV6Dx3",
        "outputId": "e5f4040b-2879-4a23-b24f-d3223d6bd8b7"
      },
      "outputs": [
        {
          "name": "stdout",
          "output_type": "stream",
          "text": [
            "{'min_samples_split': 3, 'max_depth': 10}\n",
            "Best accuracy for a DT:  0.7602523659305994\n"
          ]
        }
      ],
      "source": [
        "from sklearn.model_selection import RandomizedSearchCV\n",
        "\n",
        "pgrid = {\"max_depth\": [1, 2, 3, 4, 5, 6, 7,10],\n",
        "      \"min_samples_split\": [2, 3, 5, 10, 15, 20]}\n",
        "random_search = RandomizedSearchCV(tree.DecisionTreeClassifier(), param_distributions=pgrid, cv=5)\n",
        "random_search.fit(x_train, y_train)\n",
        "print(random_search.best_params_)\n",
        "print(\"Best accuracy for a DT: \",random_search.best_estimator_.score(x_test, y_test))\n",
        "\n",
        "#grid_search = GridSearchCV(tree.DecisionTreeClassifier(), param_grid=pgrid, cv=10)\n",
        "#grid_search.fit(x_train, y_train)\n",
        "#print(grid_search.best_params_)\n",
        "#print(grid_search.best_estimator_.score(x_test, y_test))"
      ]
    },
    {
      "cell_type": "code",
      "execution_count": null,
      "metadata": {
        "colab": {
          "background_save": true
        },
        "id": "Ao3tQPfS6nEU",
        "outputId": "0440e44a-3a74-4b85-8020-a038ba55f563"
      },
      "outputs": [
        {
          "data": {
            "text/plain": [
              "0.8340468679585399"
            ]
          },
          "execution_count": null,
          "metadata": {},
          "output_type": "execute_result"
        }
      ],
      "source": [
        "from sklearn.ensemble import RandomForestClassifier\n",
        "clf_RF= RandomForestClassifier(n_estimators=250, random_state=42).fit(x_train, y_train)\n",
        "clf_RF.score(x_test,y_test)\n",
        "clf_RF.score(x_test,y_test)"
      ]
    },
    {
      "cell_type": "code",
      "execution_count": null,
      "metadata": {
        "colab": {
          "background_save": true
        },
        "id": "F6tGdOR26rR-",
        "outputId": "91d1be8b-66cc-4c73-92c1-bf1781f68115"
      },
      "outputs": [
        {
          "name": "stdout",
          "output_type": "stream",
          "text": [
            "Classification report for Random Forest Classifier:\n",
            "                      precision    recall  f1-score   support\n",
            "\n",
            "                age       0.97      0.98      0.98      1552\n",
            "          ethnicity       0.97      0.98      0.98      1571\n",
            "             gender       0.88      0.84      0.86      1496\n",
            "  not_cyberbullying       0.60      0.68      0.64      1575\n",
            "other_cyberbullying       0.54      0.48      0.51      1107\n",
            "           religion       0.96      0.94      0.95      1575\n",
            "\n",
            "           accuracy                           0.83      8876\n",
            "          macro avg       0.82      0.82      0.82      8876\n",
            "       weighted avg       0.84      0.83      0.83      8876\n",
            "\n",
            "Confusion Matrix: \n",
            " [[1517    1    2   21   11    0]\n",
            " [   2 1545    3   11    8    2]\n",
            " [   1    8 1258  162   64    3]\n",
            " [  22   18   81 1069  332   53]\n",
            " [  15   11   79  469  526    7]\n",
            " [   0    2    8   52   25 1488]]\n",
            "Micro F1 score for  Random Forest classifier: 0.8340468679585399\n"
          ]
        }
      ],
      "source": [
        "y_pred= clf_RF.predict(x_test)\n",
        "\n",
        "print(\"Classification report for Random Forest Classifier:\\n\",classification_report(y_test,y_pred))\n",
        "print(\"Confusion Matrix:\",\"\\n\",confusion_matrix(y_test,y_pred))\n",
        "print(\"Micro F1 score for  Random Forest classifier:\",accuracy_score(y_test, y_pred))"
      ]
    },
    {
      "cell_type": "code",
      "execution_count": null,
      "metadata": {
        "id": "vEJC2mXLGj3e"
      },
      "outputs": [],
      "source": [
        "from xgboost.sklearn import XGBRFClassifier\n",
        "from sklearn.model_selection import cross_val_score\n",
        "\n",
        "model = XGBRFClassifier().fit(x_train, y_train)  \n",
        "print(\"accuracies\",model.score(x_test, y_test))\n",
        "y_pred= model.predict(x_test)\n",
        "print(\"Classification report for XGB RF:\\n\",classification_report(y_test,y_pred))\n",
        "print(\"Confusion Matrix:\",\"\\n\",confusion_matrix(y_test,y_pred))\n",
        "print(\"Micro F1 score for XGB RF:\",accuracy_score(y_test, y_pred))"
      ]
    },
    {
      "cell_type": "code",
      "execution_count": null,
      "metadata": {
        "id": "gb9F04XuffkM"
      },
      "outputs": [],
      "source": [
        "from sklearn.metrics import classification_report, confusion_matrix, accuracy_score\n",
        "import xgboost as xgb\n",
        "from xgboost import XGBClassifier\n",
        "Modelxgb= XGBClassifier().fit(x_train, y_train)\n",
        "y_pred= Modelxgb.predict(x_test)\n",
        "\n",
        "print(\"Classification report for XGB:\\n\",classification_report(y_test,y_pred))\n",
        "print(\"Confusion Matrix:\",\"\\n\",confusion_matrix(y_test,y_pred))\n",
        "print(\"Micro F1 score for XGB:\",accuracy_score(y_test, y_pred))"
      ]
    },
    {
      "cell_type": "markdown",
      "source": [
        "XGBoost"
      ],
      "metadata": {
        "id": "G-nDn6FNtL6-"
      }
    },
    {
      "cell_type": "code",
      "source": [
        "del(x_train)\n",
        "del(y_train)\n",
        "del(x_test)\n",
        "del(y_test)"
      ],
      "metadata": {
        "id": "7zi6A1pPtBQu"
      },
      "execution_count": 38,
      "outputs": []
    },
    {
      "cell_type": "markdown",
      "source": [
        "Working on just the text pipelines to reduce memory consumption requirements."
      ],
      "metadata": {
        "id": "hHi3f6_kvpTX"
      }
    },
    {
      "cell_type": "code",
      "source": [
        "data=pd.read_csv(\"/content/drive/MyDrive/Cyberbullying_Kaggle_Data/cyberbullying_tweets.csv\")\n",
        "x = data['tweet_text']\n",
        "y = data['cyberbullying_type']\n",
        "x_train, x_test, y_train, y_test = train_test_split(x, y, test_size = 0.2, random_state = 42)\n",
        "x_train.shape, x_test.shape, y_train.shape, y_test.shape"
      ],
      "metadata": {
        "colab": {
          "base_uri": "https://localhost:8080/"
        },
        "id": "tWeN7hKBtK2X",
        "outputId": "40cf0cb3-a574-46ad-bc76-d87962c7dbd8"
      },
      "execution_count": 39,
      "outputs": [
        {
          "output_type": "execute_result",
          "data": {
            "text/plain": [
              "((38153,), (9539,), (38153,), (9539,))"
            ]
          },
          "metadata": {},
          "execution_count": 39
        }
      ]
    },
    {
      "cell_type": "markdown",
      "source": [
        "**SGD Classifier**"
      ],
      "metadata": {
        "id": "XZBmBXKev0-V"
      }
    },
    {
      "cell_type": "code",
      "source": [
        "from sklearn.linear_model import SGDClassifier\n",
        "from sklearn.pipeline import Pipeline\n",
        "from sklearn.feature_extraction.text import TfidfVectorizer\n",
        "\n",
        "Model_sgd = Pipeline([('vect', CountVectorizer(stop_words='english')),\n",
        "                ('tfidf', TfidfTransformer()),\n",
        "                ('clf', SGDClassifier(loss='hinge', penalty='l2',alpha=1e-3, random_state=42, max_iter=5, tol=None)),\n",
        "               ])\n",
        "Model_sgd.fit(x_train, y_train)\n",
        "Model_sgd.score(x_test, y_test)\n",
        "\n",
        "y_pred = Model_sgd.predict(x_test)\n",
        "\n",
        "print('accuracy %s' % accuracy_score(y_pred, y_test))\n",
        "print(classification_report(y_test, y_pred))"
      ],
      "metadata": {
        "colab": {
          "base_uri": "https://localhost:8080/"
        },
        "id": "I9XfxPIht-Yl",
        "outputId": "6eb50e10-2da8-4c7e-855d-f9c91a9f9075"
      },
      "execution_count": 41,
      "outputs": [
        {
          "output_type": "stream",
          "name": "stdout",
          "text": [
            "accuracy 0.7840444491036797\n",
            "                     precision    recall  f1-score   support\n",
            "\n",
            "                age       0.81      0.99      0.89      1603\n",
            "          ethnicity       0.89      0.97      0.93      1603\n",
            "             gender       0.85      0.83      0.84      1531\n",
            "  not_cyberbullying       0.64      0.43      0.52      1624\n",
            "other_cyberbullying       0.66      0.51      0.57      1612\n",
            "           religion       0.78      0.98      0.87      1566\n",
            "\n",
            "           accuracy                           0.78      9539\n",
            "          macro avg       0.77      0.79      0.77      9539\n",
            "       weighted avg       0.77      0.78      0.77      9539\n",
            "\n"
          ]
        }
      ]
    },
    {
      "cell_type": "markdown",
      "source": [
        "**XGBoost Classifier**"
      ],
      "metadata": {
        "id": "vwhDqrn1v5Ul"
      }
    },
    {
      "cell_type": "code",
      "source": [
        "import xgboost as xgb\n",
        "from xgboost import XGBClassifier\n",
        "from sklearn.feature_extraction.text import TfidfTransformer\n",
        "Modelxgb = Pipeline([('vect', CountVectorizer(stop_words='english')),('tfidf', TfidfTransformer()), (\"clf\", XGBClassifier())])\n",
        "Modelxgb.fit(x_train, y_train)\n",
        "Modelxgb.score(x_test, y_test)"
      ],
      "metadata": {
        "colab": {
          "base_uri": "https://localhost:8080/"
        },
        "id": "05Bk1RKRugd6",
        "outputId": "0a4b0eb2-e35a-4214-9a03-fa1a7289ab6b"
      },
      "execution_count": 44,
      "outputs": [
        {
          "output_type": "execute_result",
          "data": {
            "text/plain": [
              "0.8193730999056504"
            ]
          },
          "metadata": {},
          "execution_count": 44
        }
      ]
    },
    {
      "cell_type": "code",
      "source": [
        "from sklearn.metrics import classification_report, confusion_matrix, accuracy_score\n",
        "y_pred= Modelxgb.predict(x_test)\n",
        "\n",
        "print(\"Classification report for XGB:\\n\",classification_report(y_test,y_pred))\n",
        "print(\"Confusion Matrix:\",\"\\n\",confusion_matrix(y_test,y_pred))\n",
        "print(\"Micro F1 score for XGB:\",accuracy_score(y_test, y_pred))"
      ],
      "metadata": {
        "colab": {
          "base_uri": "https://localhost:8080/"
        },
        "id": "3Sz3YaShvEOr",
        "outputId": "7afa5ef5-f631-46bd-9d24-0ed5f9651134"
      },
      "execution_count": 45,
      "outputs": [
        {
          "output_type": "stream",
          "name": "stdout",
          "text": [
            "Classification report for XGB:\n",
            "                      precision    recall  f1-score   support\n",
            "\n",
            "                age       0.99      0.98      0.98      1603\n",
            "          ethnicity       0.98      0.96      0.97      1603\n",
            "             gender       0.93      0.77      0.84      1531\n",
            "  not_cyberbullying       0.71      0.39      0.51      1624\n",
            "other_cyberbullying       0.53      0.90      0.66      1612\n",
            "           religion       0.98      0.92      0.95      1566\n",
            "\n",
            "           accuracy                           0.82      9539\n",
            "          macro avg       0.85      0.82      0.82      9539\n",
            "       weighted avg       0.85      0.82      0.82      9539\n",
            "\n",
            "Confusion Matrix: \n",
            " [[1568    2    2   13   18    0]\n",
            " [   0 1546    3    7   47    0]\n",
            " [   1    2 1181  110  236    1]\n",
            " [  17    8   27  637  904   31]\n",
            " [   5    9   46  109 1443    0]\n",
            " [   0    3   11   22   89 1441]]\n",
            "Micro F1 score for XGB: 0.8193730999056504\n"
          ]
        }
      ]
    },
    {
      "cell_type": "code",
      "source": [
        "from xgboost.sklearn import XGBRFClassifier\n",
        "\n",
        "model_xgbRF = Pipeline([('vect', CountVectorizer(stop_words='english')),('tfidf', TfidfTransformer()), (\"clf\", XGBRFClassifier())])\n",
        "model_xgbRF.fit(x_train, y_train)\n",
        "print(\"accuracies\",model_xgbRF.score(x_test, y_test))\n",
        "\n",
        "y_pred= model_xgbRF.predict(x_test)\n",
        "print(\"Classification report for XGB RF:\\n\",classification_report(y_test,y_pred))\n",
        "print(\"Confusion Matrix:\",\"\\n\",confusion_matrix(y_test,y_pred))\n",
        "print(\"Micro F1 score for XGB RF:\",accuracy_score(y_test, y_pred))"
      ],
      "metadata": {
        "colab": {
          "base_uri": "https://localhost:8080/"
        },
        "id": "KKEFCfDQwP81",
        "outputId": "7d6f80c1-0d14-4589-973c-605039fc8abd"
      },
      "execution_count": 48,
      "outputs": [
        {
          "output_type": "stream",
          "name": "stdout",
          "text": [
            "accuracies 0.7324667155886361\n",
            "Classification report for XGB RF:\n",
            "                      precision    recall  f1-score   support\n",
            "\n",
            "                age       0.95      0.98      0.96      1603\n",
            "          ethnicity       0.95      0.86      0.91      1603\n",
            "             gender       0.96      0.67      0.79      1531\n",
            "  not_cyberbullying       0.69      0.28      0.40      1624\n",
            "other_cyberbullying       0.41      0.93      0.57      1612\n",
            "           religion       0.98      0.67      0.79      1566\n",
            "\n",
            "           accuracy                           0.73      9539\n",
            "          macro avg       0.82      0.73      0.74      9539\n",
            "       weighted avg       0.82      0.73      0.74      9539\n",
            "\n",
            "Confusion Matrix: \n",
            " [[1575    0    1    5   21    1]\n",
            " [  10 1386    4    5  193    5]\n",
            " [   4    7 1021  108  385    6]\n",
            " [  65   10   11  457 1071   10]\n",
            " [   5    7   13   85 1502    0]\n",
            " [   4   42   13    0  461 1046]]\n",
            "Micro F1 score for XGB RF: 0.7324667155886361\n"
          ]
        }
      ]
    },
    {
      "cell_type": "markdown",
      "source": [
        "**Ensemble Voting Classifier of Best predictors**"
      ],
      "metadata": {
        "id": "gylDuOZ-v9ZV"
      }
    },
    {
      "cell_type": "code",
      "source": [
        "from sklearn.ensemble import VotingClassifier\n",
        "from sklearn.ensemble import RandomForestClassifier\n",
        "\n",
        "eclf = VotingClassifier(estimators=[('XGBoost', XGBClassifier()), ('RF', RandomForestClassifier(n_estimators=200)), ('MNB',MultinomialNB() ), (\"SGD\", SGDClassifier(alpha=1e-3, random_state=42, max_iter=5, tol=None))],voting='hard', weights=[3,2,1,1])\n",
        "Model_Voting =  Pipeline([('vect', CountVectorizer(stop_words='english')),\n",
        "                ('tfidf', TfidfTransformer()),\n",
        "                ('clf', eclf),\n",
        "               ])\n",
        "Model_Voting.fit(x_train, y_train)\n",
        "y_pred= Model_Voting.predict(x_test)\n",
        "\n",
        "print(\"Classification report for Ensemble Classifier':\\n\",classification_report(y_test,y_pred))\n",
        "print(\"Confusion Matrix:\",\"\\n\",confusion_matrix(y_test,y_pred))\n",
        "print(\"Micro F1 score for Ensemble Classifier:\",accuracy_score(y_test, y_pred))"
      ],
      "metadata": {
        "colab": {
          "base_uri": "https://localhost:8080/"
        },
        "id": "DEkJfcgwvJdu",
        "outputId": "039569c4-dfde-4951-8297-e0ec783364f6"
      },
      "execution_count": 47,
      "outputs": [
        {
          "output_type": "stream",
          "name": "stdout",
          "text": [
            "Classification report for Ensemble Classifier':\n",
            "                      precision    recall  f1-score   support\n",
            "\n",
            "                age       0.98      0.98      0.98      1603\n",
            "          ethnicity       0.98      0.98      0.98      1603\n",
            "             gender       0.90      0.82      0.86      1531\n",
            "  not_cyberbullying       0.69      0.45      0.54      1624\n",
            "other_cyberbullying       0.58      0.82      0.68      1612\n",
            "           religion       0.95      0.96      0.95      1566\n",
            "\n",
            "           accuracy                           0.83      9539\n",
            "          macro avg       0.84      0.83      0.83      9539\n",
            "       weighted avg       0.84      0.83      0.83      9539\n",
            "\n",
            "Confusion Matrix: \n",
            " [[1578    0    3    8   14    0]\n",
            " [   2 1565    4    6   22    4]\n",
            " [   2    3 1254  112  159    1]\n",
            " [  28   11   55  728  734   68]\n",
            " [   8   13   71  190 1318   12]\n",
            " [   0    3   11   18   35 1499]]\n",
            "Micro F1 score for Ensemble Classifier: 0.8325820316595031\n"
          ]
        }
      ]
    }
  ],
  "metadata": {
    "colab": {
      "collapsed_sections": [],
      "machine_shape": "hm",
      "name": "Cyberbullying_on_Twiitter_v5as.ipynb",
      "provenance": []
    },
    "kernelspec": {
      "display_name": "Python 3",
      "name": "python3"
    },
    "language_info": {
      "name": "python"
    }
  },
  "nbformat": 4,
  "nbformat_minor": 0
}