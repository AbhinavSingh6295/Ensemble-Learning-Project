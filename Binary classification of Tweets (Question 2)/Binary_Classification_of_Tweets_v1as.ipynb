{
  "nbformat": 4,
  "nbformat_minor": 0,
  "metadata": {
    "colab": {
      "name": "Binary Classification of Tweets_v1as.ipynb",
      "provenance": [],
      "collapsed_sections": [],
      "machine_shape": "hm"
    },
    "kernelspec": {
      "name": "python3",
      "display_name": "Python 3"
    },
    "language_info": {
      "name": "python"
    }
  },
  "cells": [
    {
      "cell_type": "code",
      "source": [
        "import pandas as pd\n",
        "import numpy as np\n",
        "import nltk\n",
        "import matplotlib.pyplot as plt\n",
        "\n",
        "data= pd.read_csv(\"/content/cyberbullying_tweets.csv\")"
      ],
      "metadata": {
        "id": "kfhBpW2GjqQZ"
      },
      "execution_count": 1,
      "outputs": []
    },
    {
      "cell_type": "code",
      "source": [
        "data[\"label\"]= data[\"cyberbullying_type\"].apply(lambda x: int(x!= \"not_cyberbullying\"))"
      ],
      "metadata": {
        "id": "BuGBX22hX6fT"
      },
      "execution_count": 2,
      "outputs": []
    },
    {
      "cell_type": "code",
      "source": [
        "data.head()"
      ],
      "metadata": {
        "colab": {
          "base_uri": "https://localhost:8080/",
          "height": 206
        },
        "id": "1fDyVtLgYdci",
        "outputId": "81d9f25b-af67-467f-aced-ff4333a33305"
      },
      "execution_count": 3,
      "outputs": [
        {
          "output_type": "execute_result",
          "data": {
            "text/html": [
              "\n",
              "  <div id=\"df-9007f8e3-5343-41cd-bc84-842588ec1c40\">\n",
              "    <div class=\"colab-df-container\">\n",
              "      <div>\n",
              "<style scoped>\n",
              "    .dataframe tbody tr th:only-of-type {\n",
              "        vertical-align: middle;\n",
              "    }\n",
              "\n",
              "    .dataframe tbody tr th {\n",
              "        vertical-align: top;\n",
              "    }\n",
              "\n",
              "    .dataframe thead th {\n",
              "        text-align: right;\n",
              "    }\n",
              "</style>\n",
              "<table border=\"1\" class=\"dataframe\">\n",
              "  <thead>\n",
              "    <tr style=\"text-align: right;\">\n",
              "      <th></th>\n",
              "      <th>tweet_text</th>\n",
              "      <th>cyberbullying_type</th>\n",
              "      <th>label</th>\n",
              "    </tr>\n",
              "  </thead>\n",
              "  <tbody>\n",
              "    <tr>\n",
              "      <th>0</th>\n",
              "      <td>In other words #katandandre, your food was cra...</td>\n",
              "      <td>not_cyberbullying</td>\n",
              "      <td>0</td>\n",
              "    </tr>\n",
              "    <tr>\n",
              "      <th>1</th>\n",
              "      <td>Why is #aussietv so white? #MKR #theblock #ImA...</td>\n",
              "      <td>not_cyberbullying</td>\n",
              "      <td>0</td>\n",
              "    </tr>\n",
              "    <tr>\n",
              "      <th>2</th>\n",
              "      <td>@XochitlSuckkks a classy whore? Or more red ve...</td>\n",
              "      <td>not_cyberbullying</td>\n",
              "      <td>0</td>\n",
              "    </tr>\n",
              "    <tr>\n",
              "      <th>3</th>\n",
              "      <td>@Jason_Gio meh. :P  thanks for the heads up, b...</td>\n",
              "      <td>not_cyberbullying</td>\n",
              "      <td>0</td>\n",
              "    </tr>\n",
              "    <tr>\n",
              "      <th>4</th>\n",
              "      <td>@RudhoeEnglish This is an ISIS account pretend...</td>\n",
              "      <td>not_cyberbullying</td>\n",
              "      <td>0</td>\n",
              "    </tr>\n",
              "  </tbody>\n",
              "</table>\n",
              "</div>\n",
              "      <button class=\"colab-df-convert\" onclick=\"convertToInteractive('df-9007f8e3-5343-41cd-bc84-842588ec1c40')\"\n",
              "              title=\"Convert this dataframe to an interactive table.\"\n",
              "              style=\"display:none;\">\n",
              "        \n",
              "  <svg xmlns=\"http://www.w3.org/2000/svg\" height=\"24px\"viewBox=\"0 0 24 24\"\n",
              "       width=\"24px\">\n",
              "    <path d=\"M0 0h24v24H0V0z\" fill=\"none\"/>\n",
              "    <path d=\"M18.56 5.44l.94 2.06.94-2.06 2.06-.94-2.06-.94-.94-2.06-.94 2.06-2.06.94zm-11 1L8.5 8.5l.94-2.06 2.06-.94-2.06-.94L8.5 2.5l-.94 2.06-2.06.94zm10 10l.94 2.06.94-2.06 2.06-.94-2.06-.94-.94-2.06-.94 2.06-2.06.94z\"/><path d=\"M17.41 7.96l-1.37-1.37c-.4-.4-.92-.59-1.43-.59-.52 0-1.04.2-1.43.59L10.3 9.45l-7.72 7.72c-.78.78-.78 2.05 0 2.83L4 21.41c.39.39.9.59 1.41.59.51 0 1.02-.2 1.41-.59l7.78-7.78 2.81-2.81c.8-.78.8-2.07 0-2.86zM5.41 20L4 18.59l7.72-7.72 1.47 1.35L5.41 20z\"/>\n",
              "  </svg>\n",
              "      </button>\n",
              "      \n",
              "  <style>\n",
              "    .colab-df-container {\n",
              "      display:flex;\n",
              "      flex-wrap:wrap;\n",
              "      gap: 12px;\n",
              "    }\n",
              "\n",
              "    .colab-df-convert {\n",
              "      background-color: #E8F0FE;\n",
              "      border: none;\n",
              "      border-radius: 50%;\n",
              "      cursor: pointer;\n",
              "      display: none;\n",
              "      fill: #1967D2;\n",
              "      height: 32px;\n",
              "      padding: 0 0 0 0;\n",
              "      width: 32px;\n",
              "    }\n",
              "\n",
              "    .colab-df-convert:hover {\n",
              "      background-color: #E2EBFA;\n",
              "      box-shadow: 0px 1px 2px rgba(60, 64, 67, 0.3), 0px 1px 3px 1px rgba(60, 64, 67, 0.15);\n",
              "      fill: #174EA6;\n",
              "    }\n",
              "\n",
              "    [theme=dark] .colab-df-convert {\n",
              "      background-color: #3B4455;\n",
              "      fill: #D2E3FC;\n",
              "    }\n",
              "\n",
              "    [theme=dark] .colab-df-convert:hover {\n",
              "      background-color: #434B5C;\n",
              "      box-shadow: 0px 1px 3px 1px rgba(0, 0, 0, 0.15);\n",
              "      filter: drop-shadow(0px 1px 2px rgba(0, 0, 0, 0.3));\n",
              "      fill: #FFFFFF;\n",
              "    }\n",
              "  </style>\n",
              "\n",
              "      <script>\n",
              "        const buttonEl =\n",
              "          document.querySelector('#df-9007f8e3-5343-41cd-bc84-842588ec1c40 button.colab-df-convert');\n",
              "        buttonEl.style.display =\n",
              "          google.colab.kernel.accessAllowed ? 'block' : 'none';\n",
              "\n",
              "        async function convertToInteractive(key) {\n",
              "          const element = document.querySelector('#df-9007f8e3-5343-41cd-bc84-842588ec1c40');\n",
              "          const dataTable =\n",
              "            await google.colab.kernel.invokeFunction('convertToInteractive',\n",
              "                                                     [key], {});\n",
              "          if (!dataTable) return;\n",
              "\n",
              "          const docLinkHtml = 'Like what you see? Visit the ' +\n",
              "            '<a target=\"_blank\" href=https://colab.research.google.com/notebooks/data_table.ipynb>data table notebook</a>'\n",
              "            + ' to learn more about interactive tables.';\n",
              "          element.innerHTML = '';\n",
              "          dataTable['output_type'] = 'display_data';\n",
              "          await google.colab.output.renderOutput(dataTable, element);\n",
              "          const docLink = document.createElement('div');\n",
              "          docLink.innerHTML = docLinkHtml;\n",
              "          element.appendChild(docLink);\n",
              "        }\n",
              "      </script>\n",
              "    </div>\n",
              "  </div>\n",
              "  "
            ],
            "text/plain": [
              "                                          tweet_text cyberbullying_type  label\n",
              "0  In other words #katandandre, your food was cra...  not_cyberbullying      0\n",
              "1  Why is #aussietv so white? #MKR #theblock #ImA...  not_cyberbullying      0\n",
              "2  @XochitlSuckkks a classy whore? Or more red ve...  not_cyberbullying      0\n",
              "3  @Jason_Gio meh. :P  thanks for the heads up, b...  not_cyberbullying      0\n",
              "4  @RudhoeEnglish This is an ISIS account pretend...  not_cyberbullying      0"
            ]
          },
          "metadata": {},
          "execution_count": 3
        }
      ]
    },
    {
      "cell_type": "markdown",
      "source": [
        "**Phase 1: EDA to see distribution of** **Tweets**"
      ],
      "metadata": {
        "id": "2RX6d_7HpV0E"
      }
    },
    {
      "cell_type": "code",
      "source": [
        "#Distribution of tweets\n",
        "data.label.hist() #Histogram shows that the dataset is balanced and has equal representation for all labels"
      ],
      "metadata": {
        "colab": {
          "base_uri": "https://localhost:8080/",
          "height": 283
        },
        "id": "ZHgFuYk1kBfD",
        "outputId": "43b427b7-ca0b-4d64-9f75-34e0fed62401"
      },
      "execution_count": 4,
      "outputs": [
        {
          "output_type": "execute_result",
          "data": {
            "text/plain": [
              "<matplotlib.axes._subplots.AxesSubplot at 0x7f61165fce10>"
            ]
          },
          "metadata": {},
          "execution_count": 4
        },
        {
          "output_type": "display_data",
          "data": {
            "image/png": "[encoded data removed]",
            "text/plain": [
              "<Figure size 432x288 with 1 Axes>"
            ]
          },
          "metadata": {
            "needs_background": "light"
          }
        }
      ]
    },
    {
      "cell_type": "code",
      "source": [
        "temp = data.groupby('label').count().reset_index().sort_values(by='tweet_text',ascending=False)\n",
        "temp.style.background_gradient(cmap='Purples')"
      ],
      "metadata": {
        "colab": {
          "base_uri": "https://localhost:8080/",
          "height": 112
        },
        "id": "dB6eb5yzlyMT",
        "outputId": "edc6e060-f90a-4008-e91f-1ece885c4894"
      },
      "execution_count": 5,
      "outputs": [
        {
          "output_type": "execute_result",
          "data": {
            "text/html": [
              "<style type=\"text/css\">\n",
              "#T_d85da_row0_col0, #T_d85da_row0_col1, #T_d85da_row0_col2 {\n",
              "  background-color: #3f007d;\n",
              "  color: #f1f1f1;\n",
              "}\n",
              "#T_d85da_row1_col0, #T_d85da_row1_col1, #T_d85da_row1_col2 {\n",
              "  background-color: #fcfbfd;\n",
              "  color: #000000;\n",
              "}\n",
              "</style>\n",
              "<table id=\"T_d85da_\" class=\"dataframe\">\n",
              "  <thead>\n",
              "    <tr>\n",
              "      <th class=\"blank level0\" >&nbsp;</th>\n",
              "      <th class=\"col_heading level0 col0\" >label</th>\n",
              "      <th class=\"col_heading level0 col1\" >tweet_text</th>\n",
              "      <th class=\"col_heading level0 col2\" >cyberbullying_type</th>\n",
              "    </tr>\n",
              "  </thead>\n",
              "  <tbody>\n",
              "    <tr>\n",
              "      <th id=\"T_d85da_level0_row0\" class=\"row_heading level0 row0\" >1</th>\n",
              "      <td id=\"T_d85da_row0_col0\" class=\"data row0 col0\" >1</td>\n",
              "      <td id=\"T_d85da_row0_col1\" class=\"data row0 col1\" >39747</td>\n",
              "      <td id=\"T_d85da_row0_col2\" class=\"data row0 col2\" >39747</td>\n",
              "    </tr>\n",
              "    <tr>\n",
              "      <th id=\"T_d85da_level0_row1\" class=\"row_heading level0 row1\" >0</th>\n",
              "      <td id=\"T_d85da_row1_col0\" class=\"data row1 col0\" >0</td>\n",
              "      <td id=\"T_d85da_row1_col1\" class=\"data row1 col1\" >7945</td>\n",
              "      <td id=\"T_d85da_row1_col2\" class=\"data row1 col2\" >7945</td>\n",
              "    </tr>\n",
              "  </tbody>\n",
              "</table>\n"
            ],
            "text/plain": [
              "<pandas.io.formats.style.Styler at 0x7f6116515350>"
            ]
          },
          "metadata": {},
          "execution_count": 5
        }
      ]
    },
    {
      "cell_type": "code",
      "source": [
        "#Funnel-Chart for better visualization\n",
        "from plotly import graph_objs as go\n",
        "fig = go.Figure(go.Funnelarea(\n",
        "    text =temp,\n",
        "    values = temp.tweet_text,\n",
        "    title = {\"position\": \"top center\", \"text\": \"Funnel-Chart of Bullying Type Distribution\"}\n",
        "    ))\n",
        "fig.show()"
      ],
      "metadata": {
        "colab": {
          "base_uri": "https://localhost:8080/",
          "height": 542
        },
        "id": "_51G13E9oEfZ",
        "outputId": "47c818dd-21cd-4b71-a0ae-d2e171df4ddd"
      },
      "execution_count": 6,
      "outputs": [
        {
          "output_type": "display_data",
          "data": {
            "text/html": [
              "<html>\n",
              "<head><meta charset=\"utf-8\" /></head>\n",
              "<body>\n",
              "    <div>            <script src=\"https://cdnjs.cloudflare.com/ajax/libs/mathjax/2.7.5/MathJax.js?config=TeX-AMS-MML_SVG\"></script><script type=\"text/javascript\">if (window.MathJax) {MathJax.Hub.Config({SVG: {font: \"STIX-Web\"}});}</script>                <script type=\"text/javascript\">window.PlotlyConfig = {MathJaxConfig: 'local'};</script>\n",
              "        <script src=\"https://cdn.plot.ly/plotly-2.8.3.min.js\"></script>                <div id=\"c2e32d16-7211-41db-8a03-04ad8be1f382\" class=\"plotly-graph-div\" style=\"height:525px; width:100%;\"></div>            <script type=\"text/javascript\">                                    window.PLOTLYENV=window.PLOTLYENV || {};                                    if (document.getElementById(\"c2e32d16-7211-41db-8a03-04ad8be1f382\")) {                    Plotly.newPlot(                        \"c2e32d16-7211-41db-8a03-04ad8be1f382\",                        [{\"text\":[[1,39747,39747],[0,7945,7945]],\"title\":{\"position\":\"top center\",\"text\":\"Funnel-Chart of Bullying Type Distribution\"},\"values\":[39747,7945],\"type\":\"funnelarea\"}],                        {\"template\":{\"data\":{\"bar\":[{\"error_x\":{\"color\":\"#2a3f5f\"},\"error_y\":{\"color\":\"#2a3f5f\"},\"marker\":{\"line\":{\"color\":\"#E5ECF6\",\"width\":0.5},\"pattern\":{\"fillmode\":\"overlay\",\"size\":10,\"solidity\":0.2}},\"type\":\"bar\"}],\"barpolar\":[{\"marker\":{\"line\":{\"color\":\"#E5ECF6\",\"width\":0.5},\"pattern\":{\"fillmode\":\"overlay\",\"size\":10,\"solidity\":0.2}},\"type\":\"barpolar\"}],\"carpet\":[{\"aaxis\":{\"endlinecolor\":\"#2a3f5f\",\"gridcolor\":\"white\",\"linecolor\":\"white\",\"minorgridcolor\":\"white\",\"startlinecolor\":\"#2a3f5f\"},\"baxis\":{\"endlinecolor\":\"#2a3f5f\",\"gridcolor\":\"white\",\"linecolor\":\"white\",\"minorgridcolor\":\"white\",\"startlinecolor\":\"#2a3f5f\"},\"type\":\"carpet\"}],\"choropleth\":[{\"colorbar\":{\"outlinewidth\":0,\"ticks\":\"\"},\"type\":\"choropleth\"}],\"contour\":[{\"colorbar\":{\"outlinewidth\":0,\"ticks\":\"\"},\"colorscale\":[[0.0,\"#0d0887\"],[0.1111111111111111,\"#46039f\"],[0.2222222222222222,\"#7201a8\"],[0.3333333333333333,\"#9c179e\"],[0.4444444444444444,\"#bd3786\"],[0.5555555555555556,\"#d8576b\"],[0.6666666666666666,\"#ed7953\"],[0.7777777777777778,\"#fb9f3a\"],[0.8888888888888888,\"#fdca26\"],[1.0,\"#f0f921\"]],\"type\":\"contour\"}],\"contourcarpet\":[{\"colorbar\":{\"outlinewidth\":0,\"ticks\":\"\"},\"type\":\"contourcarpet\"}],\"heatmap\":[{\"colorbar\":{\"outlinewidth\":0,\"ticks\":\"\"},\"colorscale\":[[0.0,\"#0d0887\"],[0.1111111111111111,\"#46039f\"],[0.2222222222222222,\"#7201a8\"],[0.3333333333333333,\"#9c179e\"],[0.4444444444444444,\"#bd3786\"],[0.5555555555555556,\"#d8576b\"],[0.6666666666666666,\"#ed7953\"],[0.7777777777777778,\"#fb9f3a\"],[0.8888888888888888,\"#fdca26\"],[1.0,\"#f0f921\"]],\"type\":\"heatmap\"}],\"heatmapgl\":[{\"colorbar\":{\"outlinewidth\":0,\"ticks\":\"\"},\"colorscale\":[[0.0,\"#0d0887\"],[0.1111111111111111,\"#46039f\"],[0.2222222222222222,\"#7201a8\"],[0.3333333333333333,\"#9c179e\"],[0.4444444444444444,\"#bd3786\"],[0.5555555555555556,\"#d8576b\"],[0.6666666666666666,\"#ed7953\"],[0.7777777777777778,\"#fb9f3a\"],[0.8888888888888888,\"#fdca26\"],[1.0,\"#f0f921\"]],\"type\":\"heatmapgl\"}],\"histogram\":[{\"marker\":{\"pattern\":{\"fillmode\":\"overlay\",\"size\":10,\"solidity\":0.2}},\"type\":\"histogram\"}],\"histogram2d\":[{\"colorbar\":{\"outlinewidth\":0,\"ticks\":\"\"},\"colorscale\":[[0.0,\"#0d0887\"],[0.1111111111111111,\"#46039f\"],[0.2222222222222222,\"#7201a8\"],[0.3333333333333333,\"#9c179e\"],[0.4444444444444444,\"#bd3786\"],[0.5555555555555556,\"#d8576b\"],[0.6666666666666666,\"#ed7953\"],[0.7777777777777778,\"#fb9f3a\"],[0.8888888888888888,\"#fdca26\"],[1.0,\"#f0f921\"]],\"type\":\"histogram2d\"}],\"histogram2dcontour\":[{\"colorbar\":{\"outlinewidth\":0,\"ticks\":\"\"},\"colorscale\":[[0.0,\"#0d0887\"],[0.1111111111111111,\"#46039f\"],[0.2222222222222222,\"#7201a8\"],[0.3333333333333333,\"#9c179e\"],[0.4444444444444444,\"#bd3786\"],[0.5555555555555556,\"#d8576b\"],[0.6666666666666666,\"#ed7953\"],[0.7777777777777778,\"#fb9f3a\"],[0.8888888888888888,\"#fdca26\"],[1.0,\"#f0f921\"]],\"type\":\"histogram2dcontour\"}],\"mesh3d\":[{\"colorbar\":{\"outlinewidth\":0,\"ticks\":\"\"},\"type\":\"mesh3d\"}],\"parcoords\":[{\"line\":{\"colorbar\":{\"outlinewidth\":0,\"ticks\":\"\"}},\"type\":\"parcoords\"}],\"pie\":[{\"automargin\":true,\"type\":\"pie\"}],\"scatter\":[{\"marker\":{\"colorbar\":{\"outlinewidth\":0,\"ticks\":\"\"}},\"type\":\"scatter\"}],\"scatter3d\":[{\"line\":{\"colorbar\":{\"outlinewidth\":0,\"ticks\":\"\"}},\"marker\":{\"colorbar\":{\"outlinewidth\":0,\"ticks\":\"\"}},\"type\":\"scatter3d\"}],\"scattercarpet\":[{\"marker\":{\"colorbar\":{\"outlinewidth\":0,\"ticks\":\"\"}},\"type\":\"scattercarpet\"}],\"scattergeo\":[{\"marker\":{\"colorbar\":{\"outlinewidth\":0,\"ticks\":\"\"}},\"type\":\"scattergeo\"}],\"scattergl\":[{\"marker\":{\"colorbar\":{\"outlinewidth\":0,\"ticks\":\"\"}},\"type\":\"scattergl\"}],\"scattermapbox\":[{\"marker\":{\"colorbar\":{\"outlinewidth\":0,\"ticks\":\"\"}},\"type\":\"scattermapbox\"}],\"scatterpolar\":[{\"marker\":{\"colorbar\":{\"outlinewidth\":0,\"ticks\":\"\"}},\"type\":\"scatterpolar\"}],\"scatterpolargl\":[{\"marker\":{\"colorbar\":{\"outlinewidth\":0,\"ticks\":\"\"}},\"type\":\"scatterpolargl\"}],\"scatterternary\":[{\"marker\":{\"colorbar\":{\"outlinewidth\":0,\"ticks\":\"\"}},\"type\":\"scatterternary\"}],\"surface\":[{\"colorbar\":{\"outlinewidth\":0,\"ticks\":\"\"},\"colorscale\":[[0.0,\"#0d0887\"],[0.1111111111111111,\"#46039f\"],[0.2222222222222222,\"#7201a8\"],[0.3333333333333333,\"#9c179e\"],[0.4444444444444444,\"#bd3786\"],[0.5555555555555556,\"#d8576b\"],[0.6666666666666666,\"#ed7953\"],[0.7777777777777778,\"#fb9f3a\"],[0.8888888888888888,\"#fdca26\"],[1.0,\"#f0f921\"]],\"type\":\"surface\"}],\"table\":[{\"cells\":{\"fill\":{\"color\":\"#EBF0F8\"},\"line\":{\"color\":\"white\"}},\"header\":{\"fill\":{\"color\":\"#C8D4E3\"},\"line\":{\"color\":\"white\"}},\"type\":\"table\"}]},\"layout\":{\"annotationdefaults\":{\"arrowcolor\":\"#2a3f5f\",\"arrowhead\":0,\"arrowwidth\":1},\"autotypenumbers\":\"strict\",\"coloraxis\":{\"colorbar\":{\"outlinewidth\":0,\"ticks\":\"\"}},\"colorscale\":{\"diverging\":[[0,\"#8e0152\"],[0.1,\"#c51b7d\"],[0.2,\"#de77ae\"],[0.3,\"#f1b6da\"],[0.4,\"#fde0ef\"],[0.5,\"#f7f7f7\"],[0.6,\"#e6f5d0\"],[0.7,\"#b8e186\"],[0.8,\"#7fbc41\"],[0.9,\"#4d9221\"],[1,\"#276419\"]],\"sequential\":[[0.0,\"#0d0887\"],[0.1111111111111111,\"#46039f\"],[0.2222222222222222,\"#7201a8\"],[0.3333333333333333,\"#9c179e\"],[0.4444444444444444,\"#bd3786\"],[0.5555555555555556,\"#d8576b\"],[0.6666666666666666,\"#ed7953\"],[0.7777777777777778,\"#fb9f3a\"],[0.8888888888888888,\"#fdca26\"],[1.0,\"#f0f921\"]],\"sequentialminus\":[[0.0,\"#0d0887\"],[0.1111111111111111,\"#46039f\"],[0.2222222222222222,\"#7201a8\"],[0.3333333333333333,\"#9c179e\"],[0.4444444444444444,\"#bd3786\"],[0.5555555555555556,\"#d8576b\"],[0.6666666666666666,\"#ed7953\"],[0.7777777777777778,\"#fb9f3a\"],[0.8888888888888888,\"#fdca26\"],[1.0,\"#f0f921\"]]},\"colorway\":[\"#636efa\",\"#EF553B\",\"#00cc96\",\"#ab63fa\",\"#FFA15A\",\"#19d3f3\",\"#FF6692\",\"#B6E880\",\"#FF97FF\",\"#FECB52\"],\"font\":{\"color\":\"#2a3f5f\"},\"geo\":{\"bgcolor\":\"white\",\"lakecolor\":\"white\",\"landcolor\":\"#E5ECF6\",\"showlakes\":true,\"showland\":true,\"subunitcolor\":\"white\"},\"hoverlabel\":{\"align\":\"left\"},\"hovermode\":\"closest\",\"mapbox\":{\"style\":\"light\"},\"paper_bgcolor\":\"white\",\"plot_bgcolor\":\"#E5ECF6\",\"polar\":{\"angularaxis\":{\"gridcolor\":\"white\",\"linecolor\":\"white\",\"ticks\":\"\"},\"bgcolor\":\"#E5ECF6\",\"radialaxis\":{\"gridcolor\":\"white\",\"linecolor\":\"white\",\"ticks\":\"\"}},\"scene\":{\"xaxis\":{\"backgroundcolor\":\"#E5ECF6\",\"gridcolor\":\"white\",\"gridwidth\":2,\"linecolor\":\"white\",\"showbackground\":true,\"ticks\":\"\",\"zerolinecolor\":\"white\"},\"yaxis\":{\"backgroundcolor\":\"#E5ECF6\",\"gridcolor\":\"white\",\"gridwidth\":2,\"linecolor\":\"white\",\"showbackground\":true,\"ticks\":\"\",\"zerolinecolor\":\"white\"},\"zaxis\":{\"backgroundcolor\":\"#E5ECF6\",\"gridcolor\":\"white\",\"gridwidth\":2,\"linecolor\":\"white\",\"showbackground\":true,\"ticks\":\"\",\"zerolinecolor\":\"white\"}},\"shapedefaults\":{\"line\":{\"color\":\"#2a3f5f\"}},\"ternary\":{\"aaxis\":{\"gridcolor\":\"white\",\"linecolor\":\"white\",\"ticks\":\"\"},\"baxis\":{\"gridcolor\":\"white\",\"linecolor\":\"white\",\"ticks\":\"\"},\"bgcolor\":\"#E5ECF6\",\"caxis\":{\"gridcolor\":\"white\",\"linecolor\":\"white\",\"ticks\":\"\"}},\"title\":{\"x\":0.05},\"xaxis\":{\"automargin\":true,\"gridcolor\":\"white\",\"linecolor\":\"white\",\"ticks\":\"\",\"title\":{\"standoff\":15},\"zerolinecolor\":\"white\",\"zerolinewidth\":2},\"yaxis\":{\"automargin\":true,\"gridcolor\":\"white\",\"linecolor\":\"white\",\"ticks\":\"\",\"title\":{\"standoff\":15},\"zerolinecolor\":\"white\",\"zerolinewidth\":2}}}},                        {\"responsive\": true}                    ).then(function(){\n",
              "                            \n",
              "var gd = document.getElementById('c2e32d16-7211-41db-8a03-04ad8be1f382');\n",
              "var x = new MutationObserver(function (mutations, observer) {{\n",
              "        var display = window.getComputedStyle(gd).display;\n",
              "        if (!display || display === 'none') {{\n",
              "            console.log([gd, 'removed!']);\n",
              "            Plotly.purge(gd);\n",
              "            observer.disconnect();\n",
              "        }}\n",
              "}});\n",
              "\n",
              "// Listen for the removal of the full notebook cells\n",
              "var notebookContainer = gd.closest('#notebook-container');\n",
              "if (notebookContainer) {{\n",
              "    x.observe(notebookContainer, {childList: true});\n",
              "}}\n",
              "\n",
              "// Listen for the clearing of the current output cell\n",
              "var outputEl = gd.closest('.output');\n",
              "if (outputEl) {{\n",
              "    x.observe(outputEl, {childList: true});\n",
              "}}\n",
              "\n",
              "                        })                };                            </script>        </div>\n",
              "</body>\n",
              "</html>"
            ]
          },
          "metadata": {}
        }
      ]
    },
    {
      "cell_type": "markdown",
      "source": [
        "**Word Cloud of tweets for EDA**"
      ],
      "metadata": {
        "id": "VP3RAvdbqCNG"
      }
    },
    {
      "cell_type": "code",
      "source": [
        "import wordcloud\n",
        "from wordcloud import WordCloud, STOPWORDS, ImageColorGenerator"
      ],
      "metadata": {
        "id": "QCXMYtkLpiH7"
      },
      "execution_count": 7,
      "outputs": []
    },
    {
      "cell_type": "code",
      "source": [
        "text = \" \".join(review for review in data.tweet_text)\n",
        "\n",
        "# Create stopword list:\n",
        "stopwords = set(STOPWORDS)\n",
        "#stopwords.update([])\n",
        "\n",
        "# Generate a word cloud image\n",
        "wordcloud = WordCloud(stopwords=stopwords, background_color=\"white\").generate(text)"
      ],
      "metadata": {
        "id": "NZbHgKx4qWGd"
      },
      "execution_count": 8,
      "outputs": []
    },
    {
      "cell_type": "code",
      "source": [
        "# Display the generated image:\n",
        "# the matplotlib way:\n",
        "plt.imshow(wordcloud, interpolation='bilinear')\n",
        "plt.axis(\"off\")\n",
        "plt.rcParams[\"figure.figsize\"] = (5,5)\n",
        "plt.show()"
      ],
      "metadata": {
        "colab": {
          "base_uri": "https://localhost:8080/",
          "height": 198
        },
        "id": "jSy6qBVKupdX",
        "outputId": "6722cec6-f16f-45fa-c72a-6362a9a34880"
      },
      "execution_count": 9,
      "outputs": [
        {
          "output_type": "display_data",
          "data": {
            "image/png": "[encoded data removed]",
            "text/plain": [
              "<Figure size 432x288 with 1 Axes>"
            ]
          },
          "metadata": {
            "needs_background": "light"
          }
        }
      ]
    },
    {
      "cell_type": "markdown",
      "source": [
        "**Phase 2: Building a base model for multi-class classification**"
      ],
      "metadata": {
        "id": "hvHillCHvK4S"
      }
    },
    {
      "cell_type": "markdown",
      "source": [
        "**TEXT PREPROCESSING** functions defintion:"
      ],
      "metadata": {
        "id": "ILhXVmJ3veWT"
      }
    },
    {
      "cell_type": "code",
      "source": [
        "# import TweetTokenizer() method from nltk\n",
        "from nltk.tokenize import TweetTokenizer\n",
        "from nltk.corpus import stopwords\n",
        "nltk.download('stopwords')\n",
        "stop_words = stopwords.words('english')\n",
        "from nltk.stem import WordNetLemmatizer\n",
        "nltk.download('wordnet')\n",
        "\n",
        "# Create a reference variable for Class WordNetLemmatizer\n",
        "wordnet_lemmatizer = WordNetLemmatizer()\n",
        "\n",
        "# Create a reference variable for Class TweetTokenizer\n",
        "tk = TweetTokenizer()\n",
        "\n",
        "#Preprocessing: Tweet Tokenizer + lowercase conversion\n",
        "def LC_tokeniser(df):\n",
        "  df[\"tokens\"]= df[\"tweet_text\"].apply(lambda x: tk.tokenize(x.lower()))\n",
        "  return df\n",
        "#Recover Hashtags\n",
        "def hashtag(df):\n",
        "  df[\"hastags\"]= df[\"tokens\"].apply(lambda x: [item for item in x if item.startswith(\"#\")])\n",
        "  return df\n",
        "#Recover Mentions @\n",
        "def mentions(df):\n",
        "  df[\"mentions\"]= df[\"tokens\"].apply(lambda x: [item for item in x if item.startswith(\"@\")])\n",
        "  return df\n",
        "#number of words in a tweet\n",
        "def length(df):\n",
        "  df[\"length\"]= df[\"tokens\"].apply(lambda x: len(x))\n",
        "  return df\n",
        "\n",
        "#Remove Stop-words\n",
        "def remove_stopwords(df):\n",
        "  df['remove_stopwords'] = df['tokens'].apply(lambda x: [item for item in x if item not in stop_words])\n",
        "  return df\n",
        "\n",
        "#Lemmatisation to get root words and remove numbers if any!\n",
        "def lemmatise(df):\n",
        "  df['lemmatise'] = df['remove_stopwords'].apply(lambda x: [wordnet_lemmatizer.lemmatize(y) for y in x if y.isalpha()]) \n",
        "  return df"
      ],
      "metadata": {
        "colab": {
          "base_uri": "https://localhost:8080/"
        },
        "id": "e6Vwp5y1vA0E",
        "outputId": "63fd6717-1b37-4a4b-9e56-2883e300f53a"
      },
      "execution_count": 10,
      "outputs": [
        {
          "output_type": "stream",
          "name": "stdout",
          "text": [
            "[nltk_data] Downloading package stopwords to /root/nltk_data...\n",
            "[nltk_data]   Package stopwords is already up-to-date!\n",
            "[nltk_data] Downloading package wordnet to /root/nltk_data...\n",
            "[nltk_data]   Package wordnet is already up-to-date!\n"
          ]
        }
      ]
    },
    {
      "cell_type": "code",
      "source": [
        "data.head()"
      ],
      "metadata": {
        "colab": {
          "base_uri": "https://localhost:8080/",
          "height": 206
        },
        "id": "xgUsB111GPJI",
        "outputId": "655ad111-bb36-47d8-cab5-81d2e4508437"
      },
      "execution_count": 11,
      "outputs": [
        {
          "output_type": "execute_result",
          "data": {
            "text/html": [
              "\n",
              "  <div id=\"df-820bf8ad-e95b-4a6b-ae48-c06eecaa56f7\">\n",
              "    <div class=\"colab-df-container\">\n",
              "      <div>\n",
              "<style scoped>\n",
              "    .dataframe tbody tr th:only-of-type {\n",
              "        vertical-align: middle;\n",
              "    }\n",
              "\n",
              "    .dataframe tbody tr th {\n",
              "        vertical-align: top;\n",
              "    }\n",
              "\n",
              "    .dataframe thead th {\n",
              "        text-align: right;\n",
              "    }\n",
              "</style>\n",
              "<table border=\"1\" class=\"dataframe\">\n",
              "  <thead>\n",
              "    <tr style=\"text-align: right;\">\n",
              "      <th></th>\n",
              "      <th>tweet_text</th>\n",
              "      <th>cyberbullying_type</th>\n",
              "      <th>label</th>\n",
              "    </tr>\n",
              "  </thead>\n",
              "  <tbody>\n",
              "    <tr>\n",
              "      <th>0</th>\n",
              "      <td>In other words #katandandre, your food was cra...</td>\n",
              "      <td>not_cyberbullying</td>\n",
              "      <td>0</td>\n",
              "    </tr>\n",
              "    <tr>\n",
              "      <th>1</th>\n",
              "      <td>Why is #aussietv so white? #MKR #theblock #ImA...</td>\n",
              "      <td>not_cyberbullying</td>\n",
              "      <td>0</td>\n",
              "    </tr>\n",
              "    <tr>\n",
              "      <th>2</th>\n",
              "      <td>@XochitlSuckkks a classy whore? Or more red ve...</td>\n",
              "      <td>not_cyberbullying</td>\n",
              "      <td>0</td>\n",
              "    </tr>\n",
              "    <tr>\n",
              "      <th>3</th>\n",
              "      <td>@Jason_Gio meh. :P  thanks for the heads up, b...</td>\n",
              "      <td>not_cyberbullying</td>\n",
              "      <td>0</td>\n",
              "    </tr>\n",
              "    <tr>\n",
              "      <th>4</th>\n",
              "      <td>@RudhoeEnglish This is an ISIS account pretend...</td>\n",
              "      <td>not_cyberbullying</td>\n",
              "      <td>0</td>\n",
              "    </tr>\n",
              "  </tbody>\n",
              "</table>\n",
              "</div>\n",
              "      <button class=\"colab-df-convert\" onclick=\"convertToInteractive('df-820bf8ad-e95b-4a6b-ae48-c06eecaa56f7')\"\n",
              "              title=\"Convert this dataframe to an interactive table.\"\n",
              "              style=\"display:none;\">\n",
              "        \n",
              "  <svg xmlns=\"http://www.w3.org/2000/svg\" height=\"24px\"viewBox=\"0 0 24 24\"\n",
              "       width=\"24px\">\n",
              "    <path d=\"M0 0h24v24H0V0z\" fill=\"none\"/>\n",
              "    <path d=\"M18.56 5.44l.94 2.06.94-2.06 2.06-.94-2.06-.94-.94-2.06-.94 2.06-2.06.94zm-11 1L8.5 8.5l.94-2.06 2.06-.94-2.06-.94L8.5 2.5l-.94 2.06-2.06.94zm10 10l.94 2.06.94-2.06 2.06-.94-2.06-.94-.94-2.06-.94 2.06-2.06.94z\"/><path d=\"M17.41 7.96l-1.37-1.37c-.4-.4-.92-.59-1.43-.59-.52 0-1.04.2-1.43.59L10.3 9.45l-7.72 7.72c-.78.78-.78 2.05 0 2.83L4 21.41c.39.39.9.59 1.41.59.51 0 1.02-.2 1.41-.59l7.78-7.78 2.81-2.81c.8-.78.8-2.07 0-2.86zM5.41 20L4 18.59l7.72-7.72 1.47 1.35L5.41 20z\"/>\n",
              "  </svg>\n",
              "      </button>\n",
              "      \n",
              "  <style>\n",
              "    .colab-df-container {\n",
              "      display:flex;\n",
              "      flex-wrap:wrap;\n",
              "      gap: 12px;\n",
              "    }\n",
              "\n",
              "    .colab-df-convert {\n",
              "      background-color: #E8F0FE;\n",
              "      border: none;\n",
              "      border-radius: 50%;\n",
              "      cursor: pointer;\n",
              "      display: none;\n",
              "      fill: #1967D2;\n",
              "      height: 32px;\n",
              "      padding: 0 0 0 0;\n",
              "      width: 32px;\n",
              "    }\n",
              "\n",
              "    .colab-df-convert:hover {\n",
              "      background-color: #E2EBFA;\n",
              "      box-shadow: 0px 1px 2px rgba(60, 64, 67, 0.3), 0px 1px 3px 1px rgba(60, 64, 67, 0.15);\n",
              "      fill: #174EA6;\n",
              "    }\n",
              "\n",
              "    [theme=dark] .colab-df-convert {\n",
              "      background-color: #3B4455;\n",
              "      fill: #D2E3FC;\n",
              "    }\n",
              "\n",
              "    [theme=dark] .colab-df-convert:hover {\n",
              "      background-color: #434B5C;\n",
              "      box-shadow: 0px 1px 3px 1px rgba(0, 0, 0, 0.15);\n",
              "      filter: drop-shadow(0px 1px 2px rgba(0, 0, 0, 0.3));\n",
              "      fill: #FFFFFF;\n",
              "    }\n",
              "  </style>\n",
              "\n",
              "      <script>\n",
              "        const buttonEl =\n",
              "          document.querySelector('#df-820bf8ad-e95b-4a6b-ae48-c06eecaa56f7 button.colab-df-convert');\n",
              "        buttonEl.style.display =\n",
              "          google.colab.kernel.accessAllowed ? 'block' : 'none';\n",
              "\n",
              "        async function convertToInteractive(key) {\n",
              "          const element = document.querySelector('#df-820bf8ad-e95b-4a6b-ae48-c06eecaa56f7');\n",
              "          const dataTable =\n",
              "            await google.colab.kernel.invokeFunction('convertToInteractive',\n",
              "                                                     [key], {});\n",
              "          if (!dataTable) return;\n",
              "\n",
              "          const docLinkHtml = 'Like what you see? Visit the ' +\n",
              "            '<a target=\"_blank\" href=https://colab.research.google.com/notebooks/data_table.ipynb>data table notebook</a>'\n",
              "            + ' to learn more about interactive tables.';\n",
              "          element.innerHTML = '';\n",
              "          dataTable['output_type'] = 'display_data';\n",
              "          await google.colab.output.renderOutput(dataTable, element);\n",
              "          const docLink = document.createElement('div');\n",
              "          docLink.innerHTML = docLinkHtml;\n",
              "          element.appendChild(docLink);\n",
              "        }\n",
              "      </script>\n",
              "    </div>\n",
              "  </div>\n",
              "  "
            ],
            "text/plain": [
              "                                          tweet_text cyberbullying_type  label\n",
              "0  In other words #katandandre, your food was cra...  not_cyberbullying      0\n",
              "1  Why is #aussietv so white? #MKR #theblock #ImA...  not_cyberbullying      0\n",
              "2  @XochitlSuckkks a classy whore? Or more red ve...  not_cyberbullying      0\n",
              "3  @Jason_Gio meh. :P  thanks for the heads up, b...  not_cyberbullying      0\n",
              "4  @RudhoeEnglish This is an ISIS account pretend...  not_cyberbullying      0"
            ]
          },
          "metadata": {},
          "execution_count": 11
        }
      ]
    },
    {
      "cell_type": "code",
      "source": [
        "#Function definition for Topic Modelling based on tweet's comments\n",
        "from sklearn.decomposition import LatentDirichletAllocation\n",
        "from sklearn.feature_extraction.text import CountVectorizer\n",
        "\n",
        "def LDA(df, n=10):\n",
        "  # initisalise LDA Model\n",
        "  lda_model = LatentDirichletAllocation(n_components = n, # number of topics\n",
        "                                  random_state = 10,          # random state\n",
        "                                  evaluate_every = -1,      # compute perplexity every n iters, default: Don't\n",
        "                                  n_jobs = -1,              # Use all available CPUs\n",
        "                                 )\n",
        "  vectors = []\n",
        "  for index, row in data.iterrows():\n",
        "    vectors.append(\", \".join(row[6]))\n",
        "  \n",
        "  vectorizer = CountVectorizer(analyzer = 'word', ngram_range = (1, 2))\n",
        "  vectorised = vectorizer.fit_transform(vectors)\n",
        "  \n",
        "  lda_output = lda_model.fit_transform(vectorised)\n",
        "\n",
        "# column names\n",
        "  topic_names = [\"Topic\" + str(i) for i in range(1, lda_model.n_components + 1)]\n",
        "\n",
        "# make the pandas dataframe\n",
        "  df_document_topic = pd.DataFrame(np.round(lda_output, 2), columns = topic_names)\n",
        "\n",
        "# get dominant topic for each document\n",
        "  dominant_topic = (np.argmax(df_document_topic.values, axis=1)+1)\n",
        "  df_document_topic['Dominant_topic'] = dominant_topic\n",
        "\n",
        "# join to original dataframes\n",
        "  df = pd.merge(df, df_document_topic, left_index = True, right_index = True, how = 'outer')\n",
        "  df['Dominant_topic']=df['Dominant_topic'].astype(int)\n",
        "\n",
        "  return df"
      ],
      "metadata": {
        "id": "oNHePf0noprP"
      },
      "execution_count": 12,
      "outputs": []
    },
    {
      "cell_type": "markdown",
      "source": [
        "Feature Engineering - BOWs and TF-IDF"
      ],
      "metadata": {
        "id": "C1APv47wNBvb"
      }
    },
    {
      "cell_type": "markdown",
      "source": [
        "**Feature Engineering**"
      ],
      "metadata": {
        "id": "_dCnZIIjzklg"
      }
    },
    {
      "cell_type": "markdown",
      "source": [
        "Split data into train and test"
      ],
      "metadata": {
        "id": "XbOP8QCDSeDD"
      }
    },
    {
      "cell_type": "code",
      "source": [
        "from sklearn.model_selection import train_test_split\n",
        "df= LC_tokeniser(data)\n",
        "del(data)\n",
        "df= hashtag(df)\n",
        "df= mentions(df)\n",
        "df= length(df)\n",
        "df= remove_stopwords(df)\n",
        "df= lemmatise(df)\n",
        "df[\"hashtags_present\"]=df[\"hastags\"].apply(lambda x: int((len(x)>0)))\n",
        "df[\"mentions_present\"]= df[\"mentions\"].apply(lambda x:int((len(x)>0)))\n",
        "df.head()"
      ],
      "metadata": {
        "colab": {
          "base_uri": "https://localhost:8080/",
          "height": 582
        },
        "id": "63hHGw7PSXlp",
        "outputId": "6fb1623f-a787-4770-dd72-2a0b720c8c0d"
      },
      "execution_count": 13,
      "outputs": [
        {
          "output_type": "execute_result",
          "data": {
            "text/html": [
              "\n",
              "  <div id=\"df-d6840866-0ea9-4457-8966-0e83611e5481\">\n",
              "    <div class=\"colab-df-container\">\n",
              "      <div>\n",
              "<style scoped>\n",
              "    .dataframe tbody tr th:only-of-type {\n",
              "        vertical-align: middle;\n",
              "    }\n",
              "\n",
              "    .dataframe tbody tr th {\n",
              "        vertical-align: top;\n",
              "    }\n",
              "\n",
              "    .dataframe thead th {\n",
              "        text-align: right;\n",
              "    }\n",
              "</style>\n",
              "<table border=\"1\" class=\"dataframe\">\n",
              "  <thead>\n",
              "    <tr style=\"text-align: right;\">\n",
              "      <th></th>\n",
              "      <th>tweet_text</th>\n",
              "      <th>cyberbullying_type</th>\n",
              "      <th>label</th>\n",
              "      <th>tokens</th>\n",
              "      <th>hastags</th>\n",
              "      <th>mentions</th>\n",
              "      <th>length</th>\n",
              "      <th>remove_stopwords</th>\n",
              "      <th>lemmatise</th>\n",
              "      <th>hashtags_present</th>\n",
              "      <th>mentions_present</th>\n",
              "    </tr>\n",
              "  </thead>\n",
              "  <tbody>\n",
              "    <tr>\n",
              "      <th>0</th>\n",
              "      <td>In other words #katandandre, your food was cra...</td>\n",
              "      <td>not_cyberbullying</td>\n",
              "      <td>0</td>\n",
              "      <td>[in, other, words, #katandandre, ,, your, food...</td>\n",
              "      <td>[#katandandre, #mkr]</td>\n",
              "      <td>[]</td>\n",
              "      <td>11</td>\n",
              "      <td>[words, #katandandre, ,, food, crapilicious, !...</td>\n",
              "      <td>[word, food, crapilicious]</td>\n",
              "      <td>1</td>\n",
              "      <td>0</td>\n",
              "    </tr>\n",
              "    <tr>\n",
              "      <th>1</th>\n",
              "      <td>Why is #aussietv so white? #MKR #theblock #ImA...</td>\n",
              "      <td>not_cyberbullying</td>\n",
              "      <td>0</td>\n",
              "      <td>[why, is, #aussietv, so, white, ?, #mkr, #theb...</td>\n",
              "      <td>[#aussietv, #mkr, #theblock, #imacelebrityau, ...</td>\n",
              "      <td>[]</td>\n",
              "      <td>15</td>\n",
              "      <td>[#aussietv, white, ?, #mkr, #theblock, #imacel...</td>\n",
              "      <td>[white]</td>\n",
              "      <td>1</td>\n",
              "      <td>0</td>\n",
              "    </tr>\n",
              "    <tr>\n",
              "      <th>2</th>\n",
              "      <td>@XochitlSuckkks a classy whore? Or more red ve...</td>\n",
              "      <td>not_cyberbullying</td>\n",
              "      <td>0</td>\n",
              "      <td>[@xochitlsuckkks, a, classy, whore, ?, or, mor...</td>\n",
              "      <td>[]</td>\n",
              "      <td>[@xochitlsuckkks]</td>\n",
              "      <td>11</td>\n",
              "      <td>[@xochitlsuckkks, classy, whore, ?, red, velve...</td>\n",
              "      <td>[classy, whore, red, velvet, cupcake]</td>\n",
              "      <td>0</td>\n",
              "      <td>1</td>\n",
              "    </tr>\n",
              "    <tr>\n",
              "      <th>3</th>\n",
              "      <td>@Jason_Gio meh. :P  thanks for the heads up, b...</td>\n",
              "      <td>not_cyberbullying</td>\n",
              "      <td>0</td>\n",
              "      <td>[@jason_gio, meh, ., :p, thanks, for, the, hea...</td>\n",
              "      <td>[]</td>\n",
              "      <td>[@jason_gio]</td>\n",
              "      <td>21</td>\n",
              "      <td>[@jason_gio, meh, ., :p, thanks, heads, ,, con...</td>\n",
              "      <td>[meh, thanks, head, concerned, another, angry,...</td>\n",
              "      <td>0</td>\n",
              "      <td>1</td>\n",
              "    </tr>\n",
              "    <tr>\n",
              "      <th>4</th>\n",
              "      <td>@RudhoeEnglish This is an ISIS account pretend...</td>\n",
              "      <td>not_cyberbullying</td>\n",
              "      <td>0</td>\n",
              "      <td>[@rudhoeenglish, this, is, an, isis, account, ...</td>\n",
              "      <td>[]</td>\n",
              "      <td>[@rudhoeenglish]</td>\n",
              "      <td>21</td>\n",
              "      <td>[@rudhoeenglish, isis, account, pretending, ku...</td>\n",
              "      <td>[isi, account, pretending, kurdish, account, l...</td>\n",
              "      <td>0</td>\n",
              "      <td>1</td>\n",
              "    </tr>\n",
              "  </tbody>\n",
              "</table>\n",
              "</div>\n",
              "      <button class=\"colab-df-convert\" onclick=\"convertToInteractive('df-d6840866-0ea9-4457-8966-0e83611e5481')\"\n",
              "              title=\"Convert this dataframe to an interactive table.\"\n",
              "              style=\"display:none;\">\n",
              "        \n",
              "  <svg xmlns=\"http://www.w3.org/2000/svg\" height=\"24px\"viewBox=\"0 0 24 24\"\n",
              "       width=\"24px\">\n",
              "    <path d=\"M0 0h24v24H0V0z\" fill=\"none\"/>\n",
              "    <path d=\"M18.56 5.44l.94 2.06.94-2.06 2.06-.94-2.06-.94-.94-2.06-.94 2.06-2.06.94zm-11 1L8.5 8.5l.94-2.06 2.06-.94-2.06-.94L8.5 2.5l-.94 2.06-2.06.94zm10 10l.94 2.06.94-2.06 2.06-.94-2.06-.94-.94-2.06-.94 2.06-2.06.94z\"/><path d=\"M17.41 7.96l-1.37-1.37c-.4-.4-.92-.59-1.43-.59-.52 0-1.04.2-1.43.59L10.3 9.45l-7.72 7.72c-.78.78-.78 2.05 0 2.83L4 21.41c.39.39.9.59 1.41.59.51 0 1.02-.2 1.41-.59l7.78-7.78 2.81-2.81c.8-.78.8-2.07 0-2.86zM5.41 20L4 18.59l7.72-7.72 1.47 1.35L5.41 20z\"/>\n",
              "  </svg>\n",
              "      </button>\n",
              "      \n",
              "  <style>\n",
              "    .colab-df-container {\n",
              "      display:flex;\n",
              "      flex-wrap:wrap;\n",
              "      gap: 12px;\n",
              "    }\n",
              "\n",
              "    .colab-df-convert {\n",
              "      background-color: #E8F0FE;\n",
              "      border: none;\n",
              "      border-radius: 50%;\n",
              "      cursor: pointer;\n",
              "      display: none;\n",
              "      fill: #1967D2;\n",
              "      height: 32px;\n",
              "      padding: 0 0 0 0;\n",
              "      width: 32px;\n",
              "    }\n",
              "\n",
              "    .colab-df-convert:hover {\n",
              "      background-color: #E2EBFA;\n",
              "      box-shadow: 0px 1px 2px rgba(60, 64, 67, 0.3), 0px 1px 3px 1px rgba(60, 64, 67, 0.15);\n",
              "      fill: #174EA6;\n",
              "    }\n",
              "\n",
              "    [theme=dark] .colab-df-convert {\n",
              "      background-color: #3B4455;\n",
              "      fill: #D2E3FC;\n",
              "    }\n",
              "\n",
              "    [theme=dark] .colab-df-convert:hover {\n",
              "      background-color: #434B5C;\n",
              "      box-shadow: 0px 1px 3px 1px rgba(0, 0, 0, 0.15);\n",
              "      filter: drop-shadow(0px 1px 2px rgba(0, 0, 0, 0.3));\n",
              "      fill: #FFFFFF;\n",
              "    }\n",
              "  </style>\n",
              "\n",
              "      <script>\n",
              "        const buttonEl =\n",
              "          document.querySelector('#df-d6840866-0ea9-4457-8966-0e83611e5481 button.colab-df-convert');\n",
              "        buttonEl.style.display =\n",
              "          google.colab.kernel.accessAllowed ? 'block' : 'none';\n",
              "\n",
              "        async function convertToInteractive(key) {\n",
              "          const element = document.querySelector('#df-d6840866-0ea9-4457-8966-0e83611e5481');\n",
              "          const dataTable =\n",
              "            await google.colab.kernel.invokeFunction('convertToInteractive',\n",
              "                                                     [key], {});\n",
              "          if (!dataTable) return;\n",
              "\n",
              "          const docLinkHtml = 'Like what you see? Visit the ' +\n",
              "            '<a target=\"_blank\" href=https://colab.research.google.com/notebooks/data_table.ipynb>data table notebook</a>'\n",
              "            + ' to learn more about interactive tables.';\n",
              "          element.innerHTML = '';\n",
              "          dataTable['output_type'] = 'display_data';\n",
              "          await google.colab.output.renderOutput(dataTable, element);\n",
              "          const docLink = document.createElement('div');\n",
              "          docLink.innerHTML = docLinkHtml;\n",
              "          element.appendChild(docLink);\n",
              "        }\n",
              "      </script>\n",
              "    </div>\n",
              "  </div>\n",
              "  "
            ],
            "text/plain": [
              "                                          tweet_text cyberbullying_type  \\\n",
              "0  In other words #katandandre, your food was cra...  not_cyberbullying   \n",
              "1  Why is #aussietv so white? #MKR #theblock #ImA...  not_cyberbullying   \n",
              "2  @XochitlSuckkks a classy whore? Or more red ve...  not_cyberbullying   \n",
              "3  @Jason_Gio meh. :P  thanks for the heads up, b...  not_cyberbullying   \n",
              "4  @RudhoeEnglish This is an ISIS account pretend...  not_cyberbullying   \n",
              "\n",
              "   label                                             tokens  \\\n",
              "0      0  [in, other, words, #katandandre, ,, your, food...   \n",
              "1      0  [why, is, #aussietv, so, white, ?, #mkr, #theb...   \n",
              "2      0  [@xochitlsuckkks, a, classy, whore, ?, or, mor...   \n",
              "3      0  [@jason_gio, meh, ., :p, thanks, for, the, hea...   \n",
              "4      0  [@rudhoeenglish, this, is, an, isis, account, ...   \n",
              "\n",
              "                                             hastags           mentions  \\\n",
              "0                               [#katandandre, #mkr]                 []   \n",
              "1  [#aussietv, #mkr, #theblock, #imacelebrityau, ...                 []   \n",
              "2                                                 []  [@xochitlsuckkks]   \n",
              "3                                                 []       [@jason_gio]   \n",
              "4                                                 []   [@rudhoeenglish]   \n",
              "\n",
              "   length                                   remove_stopwords  \\\n",
              "0      11  [words, #katandandre, ,, food, crapilicious, !...   \n",
              "1      15  [#aussietv, white, ?, #mkr, #theblock, #imacel...   \n",
              "2      11  [@xochitlsuckkks, classy, whore, ?, red, velve...   \n",
              "3      21  [@jason_gio, meh, ., :p, thanks, heads, ,, con...   \n",
              "4      21  [@rudhoeenglish, isis, account, pretending, ku...   \n",
              "\n",
              "                                           lemmatise  hashtags_present  \\\n",
              "0                         [word, food, crapilicious]                 1   \n",
              "1                                            [white]                 1   \n",
              "2              [classy, whore, red, velvet, cupcake]                 0   \n",
              "3  [meh, thanks, head, concerned, another, angry,...                 0   \n",
              "4  [isi, account, pretending, kurdish, account, l...                 0   \n",
              "\n",
              "   mentions_present  \n",
              "0                 0  \n",
              "1                 0  \n",
              "2                 1  \n",
              "3                 1  \n",
              "4                 1  "
            ]
          },
          "metadata": {},
          "execution_count": 13
        }
      ]
    },
    {
      "cell_type": "code",
      "source": [
        "#Bag of Vectors\n",
        "from sklearn.feature_extraction.text import CountVectorizer\n",
        "def bow(df):\n",
        "  vectorizer = CountVectorizer(analyzer = 'word', ngram_range = (1, 2))\n",
        "  # join the processed data to be vectorised\n",
        "  vectors = []\n",
        "  for index, row in data.iterrows():\n",
        "    vectors.append(\", \".join(row[6]))\n",
        "\n",
        "  vectorised = vectorizer.fit_transform(vectors)\n",
        "  return vectorised"
      ],
      "metadata": {
        "id": "safUrYjlZKPP"
      },
      "execution_count": 14,
      "outputs": []
    },
    {
      "cell_type": "code",
      "source": [
        "df[\"lemma_sentence\"]= df[\"lemmatise\"].apply(lambda x: \" \".join(str(w) for w in x))\n",
        "df.head()"
      ],
      "metadata": {
        "colab": {
          "base_uri": "https://localhost:8080/",
          "height": 582
        },
        "id": "0I3_kbOcUzfn",
        "outputId": "ebd0738e-61b5-440f-c10e-ba3dd8b45ce4"
      },
      "execution_count": 15,
      "outputs": [
        {
          "output_type": "execute_result",
          "data": {
            "text/html": [
              "\n",
              "  <div id=\"df-1d000972-1a9f-4f05-90a6-2002769d0e82\">\n",
              "    <div class=\"colab-df-container\">\n",
              "      <div>\n",
              "<style scoped>\n",
              "    .dataframe tbody tr th:only-of-type {\n",
              "        vertical-align: middle;\n",
              "    }\n",
              "\n",
              "    .dataframe tbody tr th {\n",
              "        vertical-align: top;\n",
              "    }\n",
              "\n",
              "    .dataframe thead th {\n",
              "        text-align: right;\n",
              "    }\n",
              "</style>\n",
              "<table border=\"1\" class=\"dataframe\">\n",
              "  <thead>\n",
              "    <tr style=\"text-align: right;\">\n",
              "      <th></th>\n",
              "      <th>tweet_text</th>\n",
              "      <th>cyberbullying_type</th>\n",
              "      <th>label</th>\n",
              "      <th>tokens</th>\n",
              "      <th>hastags</th>\n",
              "      <th>mentions</th>\n",
              "      <th>length</th>\n",
              "      <th>remove_stopwords</th>\n",
              "      <th>lemmatise</th>\n",
              "      <th>hashtags_present</th>\n",
              "      <th>mentions_present</th>\n",
              "      <th>lemma_sentence</th>\n",
              "    </tr>\n",
              "  </thead>\n",
              "  <tbody>\n",
              "    <tr>\n",
              "      <th>0</th>\n",
              "      <td>In other words #katandandre, your food was cra...</td>\n",
              "      <td>not_cyberbullying</td>\n",
              "      <td>0</td>\n",
              "      <td>[in, other, words, #katandandre, ,, your, food...</td>\n",
              "      <td>[#katandandre, #mkr]</td>\n",
              "      <td>[]</td>\n",
              "      <td>11</td>\n",
              "      <td>[words, #katandandre, ,, food, crapilicious, !...</td>\n",
              "      <td>[word, food, crapilicious]</td>\n",
              "      <td>1</td>\n",
              "      <td>0</td>\n",
              "      <td>word food crapilicious</td>\n",
              "    </tr>\n",
              "    <tr>\n",
              "      <th>1</th>\n",
              "      <td>Why is #aussietv so white? #MKR #theblock #ImA...</td>\n",
              "      <td>not_cyberbullying</td>\n",
              "      <td>0</td>\n",
              "      <td>[why, is, #aussietv, so, white, ?, #mkr, #theb...</td>\n",
              "      <td>[#aussietv, #mkr, #theblock, #imacelebrityau, ...</td>\n",
              "      <td>[]</td>\n",
              "      <td>15</td>\n",
              "      <td>[#aussietv, white, ?, #mkr, #theblock, #imacel...</td>\n",
              "      <td>[white]</td>\n",
              "      <td>1</td>\n",
              "      <td>0</td>\n",
              "      <td>white</td>\n",
              "    </tr>\n",
              "    <tr>\n",
              "      <th>2</th>\n",
              "      <td>@XochitlSuckkks a classy whore? Or more red ve...</td>\n",
              "      <td>not_cyberbullying</td>\n",
              "      <td>0</td>\n",
              "      <td>[@xochitlsuckkks, a, classy, whore, ?, or, mor...</td>\n",
              "      <td>[]</td>\n",
              "      <td>[@xochitlsuckkks]</td>\n",
              "      <td>11</td>\n",
              "      <td>[@xochitlsuckkks, classy, whore, ?, red, velve...</td>\n",
              "      <td>[classy, whore, red, velvet, cupcake]</td>\n",
              "      <td>0</td>\n",
              "      <td>1</td>\n",
              "      <td>classy whore red velvet cupcake</td>\n",
              "    </tr>\n",
              "    <tr>\n",
              "      <th>3</th>\n",
              "      <td>@Jason_Gio meh. :P  thanks for the heads up, b...</td>\n",
              "      <td>not_cyberbullying</td>\n",
              "      <td>0</td>\n",
              "      <td>[@jason_gio, meh, ., :p, thanks, for, the, hea...</td>\n",
              "      <td>[]</td>\n",
              "      <td>[@jason_gio]</td>\n",
              "      <td>21</td>\n",
              "      <td>[@jason_gio, meh, ., :p, thanks, heads, ,, con...</td>\n",
              "      <td>[meh, thanks, head, concerned, another, angry,...</td>\n",
              "      <td>0</td>\n",
              "      <td>1</td>\n",
              "      <td>meh thanks head concerned another angry dude t...</td>\n",
              "    </tr>\n",
              "    <tr>\n",
              "      <th>4</th>\n",
              "      <td>@RudhoeEnglish This is an ISIS account pretend...</td>\n",
              "      <td>not_cyberbullying</td>\n",
              "      <td>0</td>\n",
              "      <td>[@rudhoeenglish, this, is, an, isis, account, ...</td>\n",
              "      <td>[]</td>\n",
              "      <td>[@rudhoeenglish]</td>\n",
              "      <td>21</td>\n",
              "      <td>[@rudhoeenglish, isis, account, pretending, ku...</td>\n",
              "      <td>[isi, account, pretending, kurdish, account, l...</td>\n",
              "      <td>0</td>\n",
              "      <td>1</td>\n",
              "      <td>isi account pretending kurdish account like is...</td>\n",
              "    </tr>\n",
              "  </tbody>\n",
              "</table>\n",
              "</div>\n",
              "      <button class=\"colab-df-convert\" onclick=\"convertToInteractive('df-1d000972-1a9f-4f05-90a6-2002769d0e82')\"\n",
              "              title=\"Convert this dataframe to an interactive table.\"\n",
              "              style=\"display:none;\">\n",
              "        \n",
              "  <svg xmlns=\"http://www.w3.org/2000/svg\" height=\"24px\"viewBox=\"0 0 24 24\"\n",
              "       width=\"24px\">\n",
              "    <path d=\"M0 0h24v24H0V0z\" fill=\"none\"/>\n",
              "    <path d=\"M18.56 5.44l.94 2.06.94-2.06 2.06-.94-2.06-.94-.94-2.06-.94 2.06-2.06.94zm-11 1L8.5 8.5l.94-2.06 2.06-.94-2.06-.94L8.5 2.5l-.94 2.06-2.06.94zm10 10l.94 2.06.94-2.06 2.06-.94-2.06-.94-.94-2.06-.94 2.06-2.06.94z\"/><path d=\"M17.41 7.96l-1.37-1.37c-.4-.4-.92-.59-1.43-.59-.52 0-1.04.2-1.43.59L10.3 9.45l-7.72 7.72c-.78.78-.78 2.05 0 2.83L4 21.41c.39.39.9.59 1.41.59.51 0 1.02-.2 1.41-.59l7.78-7.78 2.81-2.81c.8-.78.8-2.07 0-2.86zM5.41 20L4 18.59l7.72-7.72 1.47 1.35L5.41 20z\"/>\n",
              "  </svg>\n",
              "      </button>\n",
              "      \n",
              "  <style>\n",
              "    .colab-df-container {\n",
              "      display:flex;\n",
              "      flex-wrap:wrap;\n",
              "      gap: 12px;\n",
              "    }\n",
              "\n",
              "    .colab-df-convert {\n",
              "      background-color: #E8F0FE;\n",
              "      border: none;\n",
              "      border-radius: 50%;\n",
              "      cursor: pointer;\n",
              "      display: none;\n",
              "      fill: #1967D2;\n",
              "      height: 32px;\n",
              "      padding: 0 0 0 0;\n",
              "      width: 32px;\n",
              "    }\n",
              "\n",
              "    .colab-df-convert:hover {\n",
              "      background-color: #E2EBFA;\n",
              "      box-shadow: 0px 1px 2px rgba(60, 64, 67, 0.3), 0px 1px 3px 1px rgba(60, 64, 67, 0.15);\n",
              "      fill: #174EA6;\n",
              "    }\n",
              "\n",
              "    [theme=dark] .colab-df-convert {\n",
              "      background-color: #3B4455;\n",
              "      fill: #D2E3FC;\n",
              "    }\n",
              "\n",
              "    [theme=dark] .colab-df-convert:hover {\n",
              "      background-color: #434B5C;\n",
              "      box-shadow: 0px 1px 3px 1px rgba(0, 0, 0, 0.15);\n",
              "      filter: drop-shadow(0px 1px 2px rgba(0, 0, 0, 0.3));\n",
              "      fill: #FFFFFF;\n",
              "    }\n",
              "  </style>\n",
              "\n",
              "      <script>\n",
              "        const buttonEl =\n",
              "          document.querySelector('#df-1d000972-1a9f-4f05-90a6-2002769d0e82 button.colab-df-convert');\n",
              "        buttonEl.style.display =\n",
              "          google.colab.kernel.accessAllowed ? 'block' : 'none';\n",
              "\n",
              "        async function convertToInteractive(key) {\n",
              "          const element = document.querySelector('#df-1d000972-1a9f-4f05-90a6-2002769d0e82');\n",
              "          const dataTable =\n",
              "            await google.colab.kernel.invokeFunction('convertToInteractive',\n",
              "                                                     [key], {});\n",
              "          if (!dataTable) return;\n",
              "\n",
              "          const docLinkHtml = 'Like what you see? Visit the ' +\n",
              "            '<a target=\"_blank\" href=https://colab.research.google.com/notebooks/data_table.ipynb>data table notebook</a>'\n",
              "            + ' to learn more about interactive tables.';\n",
              "          element.innerHTML = '';\n",
              "          dataTable['output_type'] = 'display_data';\n",
              "          await google.colab.output.renderOutput(dataTable, element);\n",
              "          const docLink = document.createElement('div');\n",
              "          docLink.innerHTML = docLinkHtml;\n",
              "          element.appendChild(docLink);\n",
              "        }\n",
              "      </script>\n",
              "    </div>\n",
              "  </div>\n",
              "  "
            ],
            "text/plain": [
              "                                          tweet_text cyberbullying_type  \\\n",
              "0  In other words #katandandre, your food was cra...  not_cyberbullying   \n",
              "1  Why is #aussietv so white? #MKR #theblock #ImA...  not_cyberbullying   \n",
              "2  @XochitlSuckkks a classy whore? Or more red ve...  not_cyberbullying   \n",
              "3  @Jason_Gio meh. :P  thanks for the heads up, b...  not_cyberbullying   \n",
              "4  @RudhoeEnglish This is an ISIS account pretend...  not_cyberbullying   \n",
              "\n",
              "   label                                             tokens  \\\n",
              "0      0  [in, other, words, #katandandre, ,, your, food...   \n",
              "1      0  [why, is, #aussietv, so, white, ?, #mkr, #theb...   \n",
              "2      0  [@xochitlsuckkks, a, classy, whore, ?, or, mor...   \n",
              "3      0  [@jason_gio, meh, ., :p, thanks, for, the, hea...   \n",
              "4      0  [@rudhoeenglish, this, is, an, isis, account, ...   \n",
              "\n",
              "                                             hastags           mentions  \\\n",
              "0                               [#katandandre, #mkr]                 []   \n",
              "1  [#aussietv, #mkr, #theblock, #imacelebrityau, ...                 []   \n",
              "2                                                 []  [@xochitlsuckkks]   \n",
              "3                                                 []       [@jason_gio]   \n",
              "4                                                 []   [@rudhoeenglish]   \n",
              "\n",
              "   length                                   remove_stopwords  \\\n",
              "0      11  [words, #katandandre, ,, food, crapilicious, !...   \n",
              "1      15  [#aussietv, white, ?, #mkr, #theblock, #imacel...   \n",
              "2      11  [@xochitlsuckkks, classy, whore, ?, red, velve...   \n",
              "3      21  [@jason_gio, meh, ., :p, thanks, heads, ,, con...   \n",
              "4      21  [@rudhoeenglish, isis, account, pretending, ku...   \n",
              "\n",
              "                                           lemmatise  hashtags_present  \\\n",
              "0                         [word, food, crapilicious]                 1   \n",
              "1                                            [white]                 1   \n",
              "2              [classy, whore, red, velvet, cupcake]                 0   \n",
              "3  [meh, thanks, head, concerned, another, angry,...                 0   \n",
              "4  [isi, account, pretending, kurdish, account, l...                 0   \n",
              "\n",
              "   mentions_present                                     lemma_sentence  \n",
              "0                 0                             word food crapilicious  \n",
              "1                 0                                              white  \n",
              "2                 1                    classy whore red velvet cupcake  \n",
              "3                 1  meh thanks head concerned another angry dude t...  \n",
              "4                 1  isi account pretending kurdish account like is...  "
            ]
          },
          "metadata": {},
          "execution_count": 15
        }
      ]
    },
    {
      "cell_type": "code",
      "source": [
        "print(\"Duplicate tweets:\",df[\"lemma_sentence\"].duplicated().sum())\n",
        "df.drop_duplicates(\"lemma_sentence\", inplace=True)"
      ],
      "metadata": {
        "colab": {
          "base_uri": "https://localhost:8080/"
        },
        "id": "PH6U4RcMNe87",
        "outputId": "9f15c2c3-e7d5-4eb5-c12d-e1582115bd8a"
      },
      "execution_count": 16,
      "outputs": [
        {
          "output_type": "stream",
          "name": "stdout",
          "text": [
            "Duplicate tweets: 3312\n"
          ]
        }
      ]
    },
    {
      "cell_type": "code",
      "source": [
        "df.info()"
      ],
      "metadata": {
        "colab": {
          "base_uri": "https://localhost:8080/"
        },
        "id": "rNNvrrfnzkOh",
        "outputId": "30fbb22f-80a3-4843-91db-431f07860628"
      },
      "execution_count": 17,
      "outputs": [
        {
          "output_type": "stream",
          "name": "stdout",
          "text": [
            "<class 'pandas.core.frame.DataFrame'>\n",
            "Int64Index: 44380 entries, 0 to 47691\n",
            "Data columns (total 12 columns):\n",
            " #   Column              Non-Null Count  Dtype \n",
            "---  ------              --------------  ----- \n",
            " 0   tweet_text          44380 non-null  object\n",
            " 1   cyberbullying_type  44380 non-null  object\n",
            " 2   label               44380 non-null  int64 \n",
            " 3   tokens              44380 non-null  object\n",
            " 4   hastags             44380 non-null  object\n",
            " 5   mentions            44380 non-null  object\n",
            " 6   length              44380 non-null  int64 \n",
            " 7   remove_stopwords    44380 non-null  object\n",
            " 8   lemmatise           44380 non-null  object\n",
            " 9   hashtags_present    44380 non-null  int64 \n",
            " 10  mentions_present    44380 non-null  int64 \n",
            " 11  lemma_sentence      44380 non-null  object\n",
            "dtypes: int64(4), object(8)\n",
            "memory usage: 4.4+ MB\n"
          ]
        }
      ]
    },
    {
      "cell_type": "code",
      "source": [
        "x = df.iloc[:,3:12]\n",
        "y = df['label']"
      ],
      "metadata": {
        "id": "90SxTm_Zr_zi"
      },
      "execution_count": 18,
      "outputs": []
    },
    {
      "cell_type": "code",
      "source": [
        "x.info()"
      ],
      "metadata": {
        "colab": {
          "base_uri": "https://localhost:8080/"
        },
        "id": "6CbhRCLxt1y7",
        "outputId": "4b638a04-5951-4957-ea98-a29014b34dd0"
      },
      "execution_count": 19,
      "outputs": [
        {
          "output_type": "stream",
          "name": "stdout",
          "text": [
            "<class 'pandas.core.frame.DataFrame'>\n",
            "Int64Index: 44380 entries, 0 to 47691\n",
            "Data columns (total 9 columns):\n",
            " #   Column            Non-Null Count  Dtype \n",
            "---  ------            --------------  ----- \n",
            " 0   tokens            44380 non-null  object\n",
            " 1   hastags           44380 non-null  object\n",
            " 2   mentions          44380 non-null  object\n",
            " 3   length            44380 non-null  int64 \n",
            " 4   remove_stopwords  44380 non-null  object\n",
            " 5   lemmatise         44380 non-null  object\n",
            " 6   hashtags_present  44380 non-null  int64 \n",
            " 7   mentions_present  44380 non-null  int64 \n",
            " 8   lemma_sentence    44380 non-null  object\n",
            "dtypes: int64(3), object(6)\n",
            "memory usage: 3.4+ MB\n"
          ]
        }
      ]
    },
    {
      "cell_type": "code",
      "source": [
        "from sklearn.feature_extraction.text import TfidfVectorizer\n",
        "tfidf = TfidfVectorizer(sublinear_tf=True, min_df=5, norm='l2', encoding='latin-1', ngram_range=(1, 2), stop_words='english')\n",
        "text_features=  tfidf.fit_transform(x.lemma_sentence).toarray()\n",
        "labels = y\n",
        "print(text_features.shape)\n",
        "print(tfidf.get_feature_names_out())"
      ],
      "metadata": {
        "colab": {
          "base_uri": "https://localhost:8080/"
        },
        "id": "DDBRF6T3kTKz",
        "outputId": "1649441e-01ab-4ff7-8a8c-85105420f5ee"
      },
      "execution_count": 20,
      "outputs": [
        {
          "output_type": "stream",
          "name": "stdout",
          "text": [
            "(44380, 15751)\n",
            "['aa' 'aaaand' 'aap' ... 'zombie' 'zone' 'zoo']\n"
          ]
        }
      ]
    },
    {
      "cell_type": "code",
      "source": [
        "txt= pd.DataFrame(data= text_features, columns=tfidf.get_feature_names_out() )\n",
        "txt.info()"
      ],
      "metadata": {
        "colab": {
          "base_uri": "https://localhost:8080/"
        },
        "id": "h3-TGmkwmGg6",
        "outputId": "5c71d908-8e7e-4e19-e745-81552af2b391"
      },
      "execution_count": 21,
      "outputs": [
        {
          "output_type": "stream",
          "name": "stdout",
          "text": [
            "<class 'pandas.core.frame.DataFrame'>\n",
            "RangeIndex: 44380 entries, 0 to 44379\n",
            "Columns: 15751 entries, aa to zoo\n",
            "dtypes: float64(15751)\n",
            "memory usage: 5.2 GB\n"
          ]
        }
      ]
    },
    {
      "cell_type": "code",
      "source": [
        "s= x.length.to_frame()\n",
        "X= pd.concat([txt, s.set_index(txt.index)], axis=1)"
      ],
      "metadata": {
        "id": "QNRtGNNs_CHf"
      },
      "execution_count": 22,
      "outputs": []
    },
    {
      "cell_type": "code",
      "source": [
        "del(df)"
      ],
      "metadata": {
        "id": "Pj6GGvKb88oA"
      },
      "execution_count": 23,
      "outputs": []
    },
    {
      "cell_type": "code",
      "source": [
        "del(x)\n",
        "X.head()"
      ],
      "metadata": {
        "colab": {
          "base_uri": "https://localhost:8080/",
          "height": 317
        },
        "id": "w_Q59TtvDnmh",
        "outputId": "43285037-06c3-4122-ac43-b7890e902b5c"
      },
      "execution_count": 24,
      "outputs": [
        {
          "output_type": "execute_result",
          "data": {
            "text/html": [
              "\n",
              "  <div id=\"df-b15f136b-3faa-4aae-86fb-834d3df6e8f0\">\n",
              "    <div class=\"colab-df-container\">\n",
              "      <div>\n",
              "<style scoped>\n",
              "    .dataframe tbody tr th:only-of-type {\n",
              "        vertical-align: middle;\n",
              "    }\n",
              "\n",
              "    .dataframe tbody tr th {\n",
              "        vertical-align: top;\n",
              "    }\n",
              "\n",
              "    .dataframe thead th {\n",
              "        text-align: right;\n",
              "    }\n",
              "</style>\n",
              "<table border=\"1\" class=\"dataframe\">\n",
              "  <thead>\n",
              "    <tr style=\"text-align: right;\">\n",
              "      <th></th>\n",
              "      <th>aa</th>\n",
              "      <th>aaaand</th>\n",
              "      <th>aap</th>\n",
              "      <th>ab</th>\n",
              "      <th>abandon</th>\n",
              "      <th>abandoned</th>\n",
              "      <th>abc</th>\n",
              "      <th>abdul</th>\n",
              "      <th>abdul kalam</th>\n",
              "      <th>abe</th>\n",
              "      <th>...</th>\n",
              "      <th>zakir naik</th>\n",
              "      <th>zero</th>\n",
              "      <th>zero tolerance</th>\n",
              "      <th>zimmerman</th>\n",
              "      <th>zionist</th>\n",
              "      <th>zoe</th>\n",
              "      <th>zombie</th>\n",
              "      <th>zone</th>\n",
              "      <th>zoo</th>\n",
              "      <th>length</th>\n",
              "    </tr>\n",
              "  </thead>\n",
              "  <tbody>\n",
              "    <tr>\n",
              "      <th>0</th>\n",
              "      <td>0.0</td>\n",
              "      <td>0.0</td>\n",
              "      <td>0.0</td>\n",
              "      <td>0.0</td>\n",
              "      <td>0.0</td>\n",
              "      <td>0.0</td>\n",
              "      <td>0.0</td>\n",
              "      <td>0.0</td>\n",
              "      <td>0.0</td>\n",
              "      <td>0.0</td>\n",
              "      <td>...</td>\n",
              "      <td>0.0</td>\n",
              "      <td>0.0</td>\n",
              "      <td>0.0</td>\n",
              "      <td>0.0</td>\n",
              "      <td>0.0</td>\n",
              "      <td>0.0</td>\n",
              "      <td>0.0</td>\n",
              "      <td>0.0</td>\n",
              "      <td>0.0</td>\n",
              "      <td>11</td>\n",
              "    </tr>\n",
              "    <tr>\n",
              "      <th>1</th>\n",
              "      <td>0.0</td>\n",
              "      <td>0.0</td>\n",
              "      <td>0.0</td>\n",
              "      <td>0.0</td>\n",
              "      <td>0.0</td>\n",
              "      <td>0.0</td>\n",
              "      <td>0.0</td>\n",
              "      <td>0.0</td>\n",
              "      <td>0.0</td>\n",
              "      <td>0.0</td>\n",
              "      <td>...</td>\n",
              "      <td>0.0</td>\n",
              "      <td>0.0</td>\n",
              "      <td>0.0</td>\n",
              "      <td>0.0</td>\n",
              "      <td>0.0</td>\n",
              "      <td>0.0</td>\n",
              "      <td>0.0</td>\n",
              "      <td>0.0</td>\n",
              "      <td>0.0</td>\n",
              "      <td>15</td>\n",
              "    </tr>\n",
              "    <tr>\n",
              "      <th>2</th>\n",
              "      <td>0.0</td>\n",
              "      <td>0.0</td>\n",
              "      <td>0.0</td>\n",
              "      <td>0.0</td>\n",
              "      <td>0.0</td>\n",
              "      <td>0.0</td>\n",
              "      <td>0.0</td>\n",
              "      <td>0.0</td>\n",
              "      <td>0.0</td>\n",
              "      <td>0.0</td>\n",
              "      <td>...</td>\n",
              "      <td>0.0</td>\n",
              "      <td>0.0</td>\n",
              "      <td>0.0</td>\n",
              "      <td>0.0</td>\n",
              "      <td>0.0</td>\n",
              "      <td>0.0</td>\n",
              "      <td>0.0</td>\n",
              "      <td>0.0</td>\n",
              "      <td>0.0</td>\n",
              "      <td>11</td>\n",
              "    </tr>\n",
              "    <tr>\n",
              "      <th>3</th>\n",
              "      <td>0.0</td>\n",
              "      <td>0.0</td>\n",
              "      <td>0.0</td>\n",
              "      <td>0.0</td>\n",
              "      <td>0.0</td>\n",
              "      <td>0.0</td>\n",
              "      <td>0.0</td>\n",
              "      <td>0.0</td>\n",
              "      <td>0.0</td>\n",
              "      <td>0.0</td>\n",
              "      <td>...</td>\n",
              "      <td>0.0</td>\n",
              "      <td>0.0</td>\n",
              "      <td>0.0</td>\n",
              "      <td>0.0</td>\n",
              "      <td>0.0</td>\n",
              "      <td>0.0</td>\n",
              "      <td>0.0</td>\n",
              "      <td>0.0</td>\n",
              "      <td>0.0</td>\n",
              "      <td>21</td>\n",
              "    </tr>\n",
              "    <tr>\n",
              "      <th>4</th>\n",
              "      <td>0.0</td>\n",
              "      <td>0.0</td>\n",
              "      <td>0.0</td>\n",
              "      <td>0.0</td>\n",
              "      <td>0.0</td>\n",
              "      <td>0.0</td>\n",
              "      <td>0.0</td>\n",
              "      <td>0.0</td>\n",
              "      <td>0.0</td>\n",
              "      <td>0.0</td>\n",
              "      <td>...</td>\n",
              "      <td>0.0</td>\n",
              "      <td>0.0</td>\n",
              "      <td>0.0</td>\n",
              "      <td>0.0</td>\n",
              "      <td>0.0</td>\n",
              "      <td>0.0</td>\n",
              "      <td>0.0</td>\n",
              "      <td>0.0</td>\n",
              "      <td>0.0</td>\n",
              "      <td>21</td>\n",
              "    </tr>\n",
              "  </tbody>\n",
              "</table>\n",
              "<p>5 rows × 15752 columns</p>\n",
              "</div>\n",
              "      <button class=\"colab-df-convert\" onclick=\"convertToInteractive('df-b15f136b-3faa-4aae-86fb-834d3df6e8f0')\"\n",
              "              title=\"Convert this dataframe to an interactive table.\"\n",
              "              style=\"display:none;\">\n",
              "        \n",
              "  <svg xmlns=\"http://www.w3.org/2000/svg\" height=\"24px\"viewBox=\"0 0 24 24\"\n",
              "       width=\"24px\">\n",
              "    <path d=\"M0 0h24v24H0V0z\" fill=\"none\"/>\n",
              "    <path d=\"M18.56 5.44l.94 2.06.94-2.06 2.06-.94-2.06-.94-.94-2.06-.94 2.06-2.06.94zm-11 1L8.5 8.5l.94-2.06 2.06-.94-2.06-.94L8.5 2.5l-.94 2.06-2.06.94zm10 10l.94 2.06.94-2.06 2.06-.94-2.06-.94-.94-2.06-.94 2.06-2.06.94z\"/><path d=\"M17.41 7.96l-1.37-1.37c-.4-.4-.92-.59-1.43-.59-.52 0-1.04.2-1.43.59L10.3 9.45l-7.72 7.72c-.78.78-.78 2.05 0 2.83L4 21.41c.39.39.9.59 1.41.59.51 0 1.02-.2 1.41-.59l7.78-7.78 2.81-2.81c.8-.78.8-2.07 0-2.86zM5.41 20L4 18.59l7.72-7.72 1.47 1.35L5.41 20z\"/>\n",
              "  </svg>\n",
              "      </button>\n",
              "      \n",
              "  <style>\n",
              "    .colab-df-container {\n",
              "      display:flex;\n",
              "      flex-wrap:wrap;\n",
              "      gap: 12px;\n",
              "    }\n",
              "\n",
              "    .colab-df-convert {\n",
              "      background-color: #E8F0FE;\n",
              "      border: none;\n",
              "      border-radius: 50%;\n",
              "      cursor: pointer;\n",
              "      display: none;\n",
              "      fill: #1967D2;\n",
              "      height: 32px;\n",
              "      padding: 0 0 0 0;\n",
              "      width: 32px;\n",
              "    }\n",
              "\n",
              "    .colab-df-convert:hover {\n",
              "      background-color: #E2EBFA;\n",
              "      box-shadow: 0px 1px 2px rgba(60, 64, 67, 0.3), 0px 1px 3px 1px rgba(60, 64, 67, 0.15);\n",
              "      fill: #174EA6;\n",
              "    }\n",
              "\n",
              "    [theme=dark] .colab-df-convert {\n",
              "      background-color: #3B4455;\n",
              "      fill: #D2E3FC;\n",
              "    }\n",
              "\n",
              "    [theme=dark] .colab-df-convert:hover {\n",
              "      background-color: #434B5C;\n",
              "      box-shadow: 0px 1px 3px 1px rgba(0, 0, 0, 0.15);\n",
              "      filter: drop-shadow(0px 1px 2px rgba(0, 0, 0, 0.3));\n",
              "      fill: #FFFFFF;\n",
              "    }\n",
              "  </style>\n",
              "\n",
              "      <script>\n",
              "        const buttonEl =\n",
              "          document.querySelector('#df-b15f136b-3faa-4aae-86fb-834d3df6e8f0 button.colab-df-convert');\n",
              "        buttonEl.style.display =\n",
              "          google.colab.kernel.accessAllowed ? 'block' : 'none';\n",
              "\n",
              "        async function convertToInteractive(key) {\n",
              "          const element = document.querySelector('#df-b15f136b-3faa-4aae-86fb-834d3df6e8f0');\n",
              "          const dataTable =\n",
              "            await google.colab.kernel.invokeFunction('convertToInteractive',\n",
              "                                                     [key], {});\n",
              "          if (!dataTable) return;\n",
              "\n",
              "          const docLinkHtml = 'Like what you see? Visit the ' +\n",
              "            '<a target=\"_blank\" href=https://colab.research.google.com/notebooks/data_table.ipynb>data table notebook</a>'\n",
              "            + ' to learn more about interactive tables.';\n",
              "          element.innerHTML = '';\n",
              "          dataTable['output_type'] = 'display_data';\n",
              "          await google.colab.output.renderOutput(dataTable, element);\n",
              "          const docLink = document.createElement('div');\n",
              "          docLink.innerHTML = docLinkHtml;\n",
              "          element.appendChild(docLink);\n",
              "        }\n",
              "      </script>\n",
              "    </div>\n",
              "  </div>\n",
              "  "
            ],
            "text/plain": [
              "    aa  aaaand  aap   ab  abandon  abandoned  abc  abdul  abdul kalam  abe  \\\n",
              "0  0.0     0.0  0.0  0.0      0.0        0.0  0.0    0.0          0.0  0.0   \n",
              "1  0.0     0.0  0.0  0.0      0.0        0.0  0.0    0.0          0.0  0.0   \n",
              "2  0.0     0.0  0.0  0.0      0.0        0.0  0.0    0.0          0.0  0.0   \n",
              "3  0.0     0.0  0.0  0.0      0.0        0.0  0.0    0.0          0.0  0.0   \n",
              "4  0.0     0.0  0.0  0.0      0.0        0.0  0.0    0.0          0.0  0.0   \n",
              "\n",
              "   ...  zakir naik  zero  zero tolerance  zimmerman  zionist  zoe  zombie  \\\n",
              "0  ...         0.0   0.0             0.0        0.0      0.0  0.0     0.0   \n",
              "1  ...         0.0   0.0             0.0        0.0      0.0  0.0     0.0   \n",
              "2  ...         0.0   0.0             0.0        0.0      0.0  0.0     0.0   \n",
              "3  ...         0.0   0.0             0.0        0.0      0.0  0.0     0.0   \n",
              "4  ...         0.0   0.0             0.0        0.0      0.0  0.0     0.0   \n",
              "\n",
              "   zone  zoo  length  \n",
              "0   0.0  0.0      11  \n",
              "1   0.0  0.0      15  \n",
              "2   0.0  0.0      11  \n",
              "3   0.0  0.0      21  \n",
              "4   0.0  0.0      21  \n",
              "\n",
              "[5 rows x 15752 columns]"
            ]
          },
          "metadata": {},
          "execution_count": 24
        }
      ]
    },
    {
      "cell_type": "code",
      "source": [
        "from sklearn.model_selection import train_test_split\n",
        "x_train, x_test, y_train, y_test = train_test_split(X, y, test_size = 0.2, random_state = 42)\n",
        "x_train.shape, x_test.shape, y_train.shape, y_test.shape\n",
        "del(X)"
      ],
      "metadata": {
        "id": "p6matlSBFAvz"
      },
      "execution_count": 25,
      "outputs": []
    },
    {
      "cell_type": "markdown",
      "source": [
        "Base Model : Multinomial Naive Bayes"
      ],
      "metadata": {
        "id": "segOtIf8GURE"
      }
    },
    {
      "cell_type": "code",
      "source": [
        "from sklearn.model_selection import train_test_split\n",
        "from sklearn.feature_extraction.text import CountVectorizer\n",
        "from sklearn.feature_extraction.text import TfidfTransformer\n",
        "from sklearn.naive_bayes import MultinomialNB\n",
        "\n",
        "clf = MultinomialNB().fit(x_train, y_train)"
      ],
      "metadata": {
        "id": "aCkYkHFQFOt2"
      },
      "execution_count": 51,
      "outputs": []
    },
    {
      "cell_type": "code",
      "source": [
        "clf.score(x_test,y_test)"
      ],
      "metadata": {
        "colab": {
          "base_uri": "https://localhost:8080/"
        },
        "id": "r85jvwdaGkYv",
        "outputId": "65b95159-9c54-42b1-fde0-af7c28fb7347"
      },
      "execution_count": 52,
      "outputs": [
        {
          "output_type": "execute_result",
          "data": {
            "text/plain": [
              "0.8462145110410094"
            ]
          },
          "metadata": {},
          "execution_count": 52
        }
      ]
    },
    {
      "cell_type": "code",
      "source": [
        "from sklearn.metrics import classification_report, confusion_matrix, accuracy_score\n",
        "y_pred= clf.predict(x_test)\n",
        "\n",
        "print(\"Classification report for Multinomial Naive Bayes:\\n\",classification_report(y_test,y_pred))\n",
        "print(\"Confusion Matrix:\",\"\\n\",confusion_matrix(y_test,y_pred))\n",
        "print(\"Micro F1 score for  Multinomial Naive Bayes:\",accuracy_score(y_test, y_pred))"
      ],
      "metadata": {
        "colab": {
          "base_uri": "https://localhost:8080/"
        },
        "id": "ocR0ok8uf6aq",
        "outputId": "fc280e84-7f4d-454b-9011-bd09d024f9a0"
      },
      "execution_count": 53,
      "outputs": [
        {
          "output_type": "stream",
          "name": "stdout",
          "text": [
            "Classification report for Multinomial Naive Bayes:\n",
            "               precision    recall  f1-score   support\n",
            "\n",
            "           0       0.87      0.16      0.27      1575\n",
            "           1       0.85      0.99      0.91      7301\n",
            "\n",
            "    accuracy                           0.85      8876\n",
            "   macro avg       0.86      0.58      0.59      8876\n",
            "weighted avg       0.85      0.85      0.80      8876\n",
            "\n",
            "Confusion Matrix: \n",
            " [[ 247 1328]\n",
            " [  37 7264]]\n",
            "Micro F1 score for  Multinomial Naive Bayes: 0.8462145110410094\n"
          ]
        }
      ]
    },
    {
      "cell_type": "markdown",
      "source": [
        "**Decison trees**"
      ],
      "metadata": {
        "id": "aAw78sB2lRMQ"
      }
    },
    {
      "cell_type": "markdown",
      "source": [
        "Simple Decison tree:"
      ],
      "metadata": {
        "id": "78JHtyX5lUam"
      }
    },
    {
      "cell_type": "code",
      "source": [
        "from sklearn import tree\n",
        "clf_tree = tree.DecisionTreeClassifier().fit(x_train, y_train)\n",
        "clf_tree.score(x_test,y_test)"
      ],
      "metadata": {
        "id": "SFb9dBe2lYJH",
        "colab": {
          "base_uri": "https://localhost:8080/"
        },
        "outputId": "a59e08ba-f145-4900-b177-0a6124418223"
      },
      "execution_count": 54,
      "outputs": [
        {
          "output_type": "execute_result",
          "data": {
            "text/plain": [
              "0.849594411897251"
            ]
          },
          "metadata": {},
          "execution_count": 54
        }
      ]
    },
    {
      "cell_type": "code",
      "source": [
        "y_pred= clf_tree.predict(x_test)\n",
        "\n",
        "print(\"Classification report for Decision Tree Classifier:\\n\",classification_report(y_test,y_pred))\n",
        "print(\"Confusion Matrix:\",\"\\n\",confusion_matrix(y_test,y_pred))\n",
        "print(\"Micro F1 score for  DT classifier:\",accuracy_score(y_test, y_pred))"
      ],
      "metadata": {
        "id": "_kr9CEu5l5Zg",
        "colab": {
          "base_uri": "https://localhost:8080/"
        },
        "outputId": "49d7d668-0e5e-47e3-80b9-52eb08fb5a72"
      },
      "execution_count": 55,
      "outputs": [
        {
          "output_type": "stream",
          "name": "stdout",
          "text": [
            "Classification report for Decision Tree Classifier:\n",
            "               precision    recall  f1-score   support\n",
            "\n",
            "           0       0.58      0.54      0.56      1575\n",
            "           1       0.90      0.92      0.91      7301\n",
            "\n",
            "    accuracy                           0.85      8876\n",
            "   macro avg       0.74      0.73      0.73      8876\n",
            "weighted avg       0.85      0.85      0.85      8876\n",
            "\n",
            "Confusion Matrix: \n",
            " [[ 846  729]\n",
            " [ 606 6695]]\n",
            "Micro F1 score for  DT classifier: 0.849594411897251\n"
          ]
        }
      ]
    },
    {
      "cell_type": "code",
      "source": [
        "del(clf)\n",
        "del(clf_tree)"
      ],
      "metadata": {
        "id": "OszhGx0fsx8a"
      },
      "execution_count": 56,
      "outputs": []
    },
    {
      "cell_type": "code",
      "source": [
        "import sys\n",
        "def sizeof_fmt(num, suffix='B'):\n",
        "    ''' by Fred Cirera,  https://stackoverflow.com/a/1094933/1870254, modified'''\n",
        "    for unit in ['','Ki','Mi','Gi','Ti','Pi','Ei','Zi']:\n",
        "        if abs(num) < 1024.0:\n",
        "            return \"%3.1f %s%s\" % (num, unit, suffix)\n",
        "        num /= 1024.0\n",
        "    return \"%.1f %s%s\" % (num, 'Yi', suffix)\n",
        "\n",
        "for name, size in sorted(((name, sys.getsizeof(value)) for name, value in locals().items()),\n",
        "                         key= lambda x: -x[1])[:10]:\n",
        "    print(\"{:>30}: {:>8}\".format(name, sizeof_fmt(size)))"
      ],
      "metadata": {
        "colab": {
          "base_uri": "https://localhost:8080/"
        },
        "id": "TNXLI14Ots5M",
        "outputId": "ddcf68ed-f9de-4479-b610-8d53ee38d3cb"
      },
      "execution_count": 62,
      "outputs": [
        {
          "output_type": "stream",
          "name": "stdout",
          "text": [
            "                       x_train:  4.2 GiB\n",
            "                        x_test:  1.0 GiB\n",
            "                          text: 25.0 MiB\n",
            "                             y: 693.5 KiB\n",
            "                        labels: 693.5 KiB\n",
            "                             s: 693.5 KiB\n",
            "                           ___: 615.5 KiB\n",
            "                           _49: 615.5 KiB\n",
            "                       y_train: 554.8 KiB\n",
            "                        y_test: 138.7 KiB\n"
          ]
        }
      ]
    },
    {
      "cell_type": "code",
      "source": [
        "del(labels)\n",
        "del(y)"
      ],
      "metadata": {
        "id": "GRZSfDiUt5pC"
      },
      "execution_count": 63,
      "outputs": []
    },
    {
      "cell_type": "code",
      "source": [
        "from sklearn.model_selection import GridSearchCV\n",
        "from sklearn.model_selection import RandomizedSearchCV\n",
        "\n",
        "pgrid = {\"max_depth\": [1, 2, 3, 4, 5, 6, 7,10],\n",
        "      \"min_samples_split\": [2, 3, 5, 10, 15, 20]}\n",
        "random_search = RandomizedSearchCV(tree.DecisionTreeClassifier(), param_distributions=pgrid, cv=5)\n",
        "random_search.fit(x_train, y_train)\n",
        "print(random_search.best_params_)\n",
        "print(random_search.best_estimator_.score(x_test, y_test))\n",
        "\n",
        "#grid_search = GridSearchCV(tree.DecisionTreeClassifier(), param_grid=pgrid, cv=10)\n",
        "#grid_search.fit(x_train, y_train)\n",
        "#print(grid_search.best_params_)\n",
        "#print(grid_search.best_estimator_.score(x_test, y_test))"
      ],
      "metadata": {
        "id": "eSbkbyO9lkxI"
      },
      "execution_count": null,
      "outputs": []
    },
    {
      "cell_type": "code",
      "source": [
        "from sklearn.ensemble import RandomForestClassifier\n",
        "clf_RF= RandomForestClassifier(n_estimators=200, random_state=42).fit(x_train, y_train)\n",
        "clf_RF.score(x_test,y_test)\n",
        "clf_RF.score(x_test,y_test)"
      ],
      "metadata": {
        "id": "6vxkjcl02ElI",
        "colab": {
          "base_uri": "https://localhost:8080/"
        },
        "outputId": "df61fe8a-0bc4-49e3-bac4-f3bf33b5f5a0"
      },
      "execution_count": 64,
      "outputs": [
        {
          "output_type": "execute_result",
          "data": {
            "text/plain": [
              "0.8682965299684543"
            ]
          },
          "metadata": {},
          "execution_count": 64
        }
      ]
    },
    {
      "cell_type": "code",
      "source": [
        "y_pred= clf_RF.predict(x_test)\n",
        "\n",
        "print(\"Classification report for Random Forest Classifier:\\n\",classification_report(y_test,y_pred))\n",
        "print(\"Confusion Matrix:\",\"\\n\",confusion_matrix(y_test,y_pred))\n",
        "print(\"Micro F1 score for  Random Forest classifier:\",accuracy_score(y_test, y_pred))"
      ],
      "metadata": {
        "id": "D1iVzk8c4VAI",
        "colab": {
          "base_uri": "https://localhost:8080/"
        },
        "outputId": "1035219c-6310-464f-b119-38c96682ffce"
      },
      "execution_count": 65,
      "outputs": [
        {
          "output_type": "stream",
          "name": "stdout",
          "text": [
            "Classification report for Random Forest Classifier:\n",
            "               precision    recall  f1-score   support\n",
            "\n",
            "           0       0.71      0.44      0.54      1575\n",
            "           1       0.89      0.96      0.92      7301\n",
            "\n",
            "    accuracy                           0.87      8876\n",
            "   macro avg       0.80      0.70      0.73      8876\n",
            "weighted avg       0.86      0.87      0.86      8876\n",
            "\n",
            "Confusion Matrix: \n",
            " [[ 686  889]\n",
            " [ 280 7021]]\n",
            "Micro F1 score for  Random Forest classifier: 0.8682965299684543\n"
          ]
        }
      ]
    },
    {
      "cell_type": "code",
      "source": [
        "pgrid = {\"max_depth\": [1, 2, 3, 4, 5, 6, 7,10],\"n_estimators\": [10, 50, 100, 150, 200, 250]}\n",
        "random_search = RandomizedSearchCV(RandomForestClassifier(), param_distributions=pgrid, cv=5)\n",
        "random_search.fit(x_train, y_train)\n",
        "print(random_search.best_params_)\n",
        "print(random_search.best_estimator_.score(x_test, y_test))"
      ],
      "metadata": {
        "id": "sXFBcAPv393H"
      },
      "execution_count": null,
      "outputs": []
    },
    {
      "cell_type": "code",
      "source": [
        "clf_RF_new= RandomForestClassifier(n_estimators=250, random_state=42).fit(x_train, y_train)\n",
        "y_pred= clf_RF_new.predict(x_test)\n",
        "print(\"Classification report for Random Forest Classifier:\\n\",classification_report(y_test,y_pred))\n",
        "print(\"Confusion Matrix:\",\"\\n\",confusion_matrix(y_test,y_pred))\n",
        "print(\"Micro F1 score for  Random Forest classifier:\",accuracy_score(y_test, y_pred))"
      ],
      "metadata": {
        "id": "9vKWdBiT2PiE",
        "colab": {
          "base_uri": "https://localhost:8080/"
        },
        "outputId": "aa568c7d-4994-4b48-e8ba-a400ca40e83c"
      },
      "execution_count": 66,
      "outputs": [
        {
          "output_type": "stream",
          "name": "stdout",
          "text": [
            "Classification report for Random Forest Classifier:\n",
            "               precision    recall  f1-score   support\n",
            "\n",
            "           0       0.71      0.44      0.54      1575\n",
            "           1       0.89      0.96      0.92      7301\n",
            "\n",
            "    accuracy                           0.87      8876\n",
            "   macro avg       0.80      0.70      0.73      8876\n",
            "weighted avg       0.86      0.87      0.86      8876\n",
            "\n",
            "Confusion Matrix: \n",
            " [[ 688  887]\n",
            " [ 282 7019]]\n",
            "Micro F1 score for  Random Forest classifier: 0.8682965299684543\n"
          ]
        }
      ]
    },
    {
      "cell_type": "markdown",
      "source": [
        "**Light GBM**"
      ],
      "metadata": {
        "id": "KF7XeLIzw0f1"
      }
    },
    {
      "cell_type": "code",
      "source": [
        "import lightgbm as lgb\n",
        "model_lgbm = lgb.LGBMClassifier(learning_rate=0.1,max_depth=10,random_state=42,boosting_type=\"gbdt\",n_estimators=100,num_leaves=22,num_class=2)\n",
        "model_lgbm.fit(x_train,y_train)\n",
        "print('Training accuracy {:.4f}'.format(model_lgbm.score(x_train,y_train)))\n",
        "print('Testing accuracy {:.4f}'.format(model_lgbm.score(x_test,y_test)))"
      ],
      "metadata": {
        "id": "N0vVFEpow0H8"
      },
      "execution_count": null,
      "outputs": []
    },
    {
      "cell_type": "code",
      "source": [
        "y_pred= model_lgbm.predict(x_test)\n",
        "\n",
        "print(\"Classification report for XGB:\\n\",classification_report(y_test,y_pred))\n",
        "print(\"Confusion Matrix:\",\"\\n\",confusion_matrix(y_test,y_pred))\n",
        "print(\"Micro F1 score for XGB:\",accuracy_score(y_test, y_pred))"
      ],
      "metadata": {
        "id": "ZUKgiFiew5Ty"
      },
      "execution_count": null,
      "outputs": []
    },
    {
      "cell_type": "markdown",
      "source": [
        "**XGBoost Classifier**"
      ],
      "metadata": {
        "id": "8xHdW0qAzeL9"
      }
    },
    {
      "cell_type": "code",
      "source": [
        "import xgboost as xgb\n",
        "from xgboost import XGBClassifier\n",
        "Modelxgb = XGBClassifier().fit(x_train, y_train)\n",
        "y_pred= Modelxgb.predict(x_test)\n",
        "print(\"Accuracy score for XGBoost\",Modelxgb.score(x_test, y_test))\n",
        "print(\"Classification report for XGB:\\n\",classification_report(y_test,y_pred))\n",
        "print(\"Confusion Matrix:\",\"\\n\",confusion_matrix(y_test,y_pred))\n",
        "print(\"Micro F1 score for XGB:\",accuracy_score(y_test, y_pred))"
      ],
      "metadata": {
        "id": "gb9F04XuffkM"
      },
      "execution_count": null,
      "outputs": []
    },
    {
      "cell_type": "code",
      "source": [
        "'''from xgboost.sklearn import XGBRFClassifier\n",
        "from sklearn.model_selection import cross_val_score\n",
        "\n",
        "model = XGBRFClassifier().fit(x_train, y_train)  \n",
        "print(\"accuracies\",model.score(x_test, y_test))\n",
        "y_pred= model.predict(x_test)\n",
        "print(\"Classification report for XGB RF:\\n\",classification_report(y_test,y_pred))\n",
        "print(\"Confusion Matrix:\",\"\\n\",confusion_matrix(y_test,y_pred))\n",
        "print(\"Micro F1 score for XGB RF:\",accuracy_score(y_test, y_pred))\n",
        "'''"
      ],
      "metadata": {
        "id": "aYwvTe8vG7mQ"
      },
      "execution_count": null,
      "outputs": []
    }
  ]
}