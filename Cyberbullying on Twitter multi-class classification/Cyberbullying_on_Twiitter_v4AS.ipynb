{
  "cells": [
    {
      "cell_type": "code",
      "execution_count": 55,
      "metadata": {
        "colab": {
          "base_uri": "https://localhost:8080/"
        },
        "id": "wvN1oTQvibM1",
        "outputId": "7b7840d4-3477-4b42-e192-0671cd46d50b"
      },
      "outputs": [
        {
          "output_type": "stream",
          "name": "stdout",
          "text": [
            "Drive already mounted at /content/drive; to attempt to forcibly remount, call drive.mount(\"/content/drive\", force_remount=True).\n"
          ]
        }
      ],
      "source": [
        "from google.colab import drive\n",
        "drive.mount('/content/drive')"
      ]
    },
    {
      "cell_type": "code",
      "execution_count": 56,
      "metadata": {
        "id": "kfhBpW2GjqQZ"
      },
      "outputs": [],
      "source": [
        "import pandas as pd\n",
        "import numpy as np\n",
        "import nltk\n",
        "import matplotlib.pyplot as plt\n",
        "\n",
        "data= pd.read_csv(\"/content/drive/MyDrive/Cyberbullying_Kaggle_Data/cyberbullying_tweets.csv\")"
      ]
    },
    {
      "cell_type": "code",
      "execution_count": 57,
      "metadata": {
        "colab": {
          "base_uri": "https://localhost:8080/",
          "height": 206
        },
        "id": "2cPxuibKj-IA",
        "outputId": "b6cfb8f1-c2ad-4fd2-acc7-8384bd27927d"
      },
      "outputs": [
        {
          "output_type": "execute_result",
          "data": {
            "text/html": [
              "\n",
              "  <div id=\"df-affe728f-7061-461a-aad7-0ed53163353a\">\n",
              "    <div class=\"colab-df-container\">\n",
              "      <div>\n",
              "<style scoped>\n",
              "    .dataframe tbody tr th:only-of-type {\n",
              "        vertical-align: middle;\n",
              "    }\n",
              "\n",
              "    .dataframe tbody tr th {\n",
              "        vertical-align: top;\n",
              "    }\n",
              "\n",
              "    .dataframe thead th {\n",
              "        text-align: right;\n",
              "    }\n",
              "</style>\n",
              "<table border=\"1\" class=\"dataframe\">\n",
              "  <thead>\n",
              "    <tr style=\"text-align: right;\">\n",
              "      <th></th>\n",
              "      <th>tweet_text</th>\n",
              "      <th>cyberbullying_type</th>\n",
              "    </tr>\n",
              "  </thead>\n",
              "  <tbody>\n",
              "    <tr>\n",
              "      <th>0</th>\n",
              "      <td>In other words #katandandre, your food was cra...</td>\n",
              "      <td>not_cyberbullying</td>\n",
              "    </tr>\n",
              "    <tr>\n",
              "      <th>1</th>\n",
              "      <td>Why is #aussietv so white? #MKR #theblock #ImA...</td>\n",
              "      <td>not_cyberbullying</td>\n",
              "    </tr>\n",
              "    <tr>\n",
              "      <th>2</th>\n",
              "      <td>@XochitlSuckkks a classy whore? Or more red ve...</td>\n",
              "      <td>not_cyberbullying</td>\n",
              "    </tr>\n",
              "    <tr>\n",
              "      <th>3</th>\n",
              "      <td>@Jason_Gio meh. :P  thanks for the heads up, b...</td>\n",
              "      <td>not_cyberbullying</td>\n",
              "    </tr>\n",
              "    <tr>\n",
              "      <th>4</th>\n",
              "      <td>@RudhoeEnglish This is an ISIS account pretend...</td>\n",
              "      <td>not_cyberbullying</td>\n",
              "    </tr>\n",
              "  </tbody>\n",
              "</table>\n",
              "</div>\n",
              "      <button class=\"colab-df-convert\" onclick=\"convertToInteractive('df-affe728f-7061-461a-aad7-0ed53163353a')\"\n",
              "              title=\"Convert this dataframe to an interactive table.\"\n",
              "              style=\"display:none;\">\n",
              "        \n",
              "  <svg xmlns=\"http://www.w3.org/2000/svg\" height=\"24px\"viewBox=\"0 0 24 24\"\n",
              "       width=\"24px\">\n",
              "    <path d=\"M0 0h24v24H0V0z\" fill=\"none\"/>\n",
              "    <path d=\"M18.56 5.44l.94 2.06.94-2.06 2.06-.94-2.06-.94-.94-2.06-.94 2.06-2.06.94zm-11 1L8.5 8.5l.94-2.06 2.06-.94-2.06-.94L8.5 2.5l-.94 2.06-2.06.94zm10 10l.94 2.06.94-2.06 2.06-.94-2.06-.94-.94-2.06-.94 2.06-2.06.94z\"/><path d=\"M17.41 7.96l-1.37-1.37c-.4-.4-.92-.59-1.43-.59-.52 0-1.04.2-1.43.59L10.3 9.45l-7.72 7.72c-.78.78-.78 2.05 0 2.83L4 21.41c.39.39.9.59 1.41.59.51 0 1.02-.2 1.41-.59l7.78-7.78 2.81-2.81c.8-.78.8-2.07 0-2.86zM5.41 20L4 18.59l7.72-7.72 1.47 1.35L5.41 20z\"/>\n",
              "  </svg>\n",
              "      </button>\n",
              "      \n",
              "  <style>\n",
              "    .colab-df-container {\n",
              "      display:flex;\n",
              "      flex-wrap:wrap;\n",
              "      gap: 12px;\n",
              "    }\n",
              "\n",
              "    .colab-df-convert {\n",
              "      background-color: #E8F0FE;\n",
              "      border: none;\n",
              "      border-radius: 50%;\n",
              "      cursor: pointer;\n",
              "      display: none;\n",
              "      fill: #1967D2;\n",
              "      height: 32px;\n",
              "      padding: 0 0 0 0;\n",
              "      width: 32px;\n",
              "    }\n",
              "\n",
              "    .colab-df-convert:hover {\n",
              "      background-color: #E2EBFA;\n",
              "      box-shadow: 0px 1px 2px rgba(60, 64, 67, 0.3), 0px 1px 3px 1px rgba(60, 64, 67, 0.15);\n",
              "      fill: #174EA6;\n",
              "    }\n",
              "\n",
              "    [theme=dark] .colab-df-convert {\n",
              "      background-color: #3B4455;\n",
              "      fill: #D2E3FC;\n",
              "    }\n",
              "\n",
              "    [theme=dark] .colab-df-convert:hover {\n",
              "      background-color: #434B5C;\n",
              "      box-shadow: 0px 1px 3px 1px rgba(0, 0, 0, 0.15);\n",
              "      filter: drop-shadow(0px 1px 2px rgba(0, 0, 0, 0.3));\n",
              "      fill: #FFFFFF;\n",
              "    }\n",
              "  </style>\n",
              "\n",
              "      <script>\n",
              "        const buttonEl =\n",
              "          document.querySelector('#df-affe728f-7061-461a-aad7-0ed53163353a button.colab-df-convert');\n",
              "        buttonEl.style.display =\n",
              "          google.colab.kernel.accessAllowed ? 'block' : 'none';\n",
              "\n",
              "        async function convertToInteractive(key) {\n",
              "          const element = document.querySelector('#df-affe728f-7061-461a-aad7-0ed53163353a');\n",
              "          const dataTable =\n",
              "            await google.colab.kernel.invokeFunction('convertToInteractive',\n",
              "                                                     [key], {});\n",
              "          if (!dataTable) return;\n",
              "\n",
              "          const docLinkHtml = 'Like what you see? Visit the ' +\n",
              "            '<a target=\"_blank\" href=https://colab.research.google.com/notebooks/data_table.ipynb>data table notebook</a>'\n",
              "            + ' to learn more about interactive tables.';\n",
              "          element.innerHTML = '';\n",
              "          dataTable['output_type'] = 'display_data';\n",
              "          await google.colab.output.renderOutput(dataTable, element);\n",
              "          const docLink = document.createElement('div');\n",
              "          docLink.innerHTML = docLinkHtml;\n",
              "          element.appendChild(docLink);\n",
              "        }\n",
              "      </script>\n",
              "    </div>\n",
              "  </div>\n",
              "  "
            ],
            "text/plain": [
              "                                          tweet_text cyberbullying_type\n",
              "0  In other words #katandandre, your food was cra...  not_cyberbullying\n",
              "1  Why is #aussietv so white? #MKR #theblock #ImA...  not_cyberbullying\n",
              "2  @XochitlSuckkks a classy whore? Or more red ve...  not_cyberbullying\n",
              "3  @Jason_Gio meh. :P  thanks for the heads up, b...  not_cyberbullying\n",
              "4  @RudhoeEnglish This is an ISIS account pretend...  not_cyberbullying"
            ]
          },
          "metadata": {},
          "execution_count": 57
        }
      ],
      "source": [
        "data.head()"
      ]
    },
    {
      "cell_type": "markdown",
      "metadata": {
        "id": "2RX6d_7HpV0E"
      },
      "source": [
        "**Phase 1: EDA to see distribution of** **Tweets**"
      ]
    },
    {
      "cell_type": "code",
      "execution_count": 58,
      "metadata": {
        "colab": {
          "base_uri": "https://localhost:8080/",
          "height": 339
        },
        "id": "ZHgFuYk1kBfD",
        "outputId": "872e03cc-81a2-409b-81fc-89e62d9bfb10"
      },
      "outputs": [
        {
          "output_type": "execute_result",
          "data": {
            "text/plain": [
              "<matplotlib.axes._subplots.AxesSubplot at 0x7f9bd94f9110>"
            ]
          },
          "metadata": {},
          "execution_count": 58
        },
        {
          "output_type": "display_data",
          "data": {
            "image/png": "[encoded data removed]",
            "text/plain": [
              "<Figure size 360x360 with 1 Axes>"
            ]
          },
          "metadata": {
            "needs_background": "light"
          }
        }
      ],
      "source": [
        "#Distribution of tweets\n",
        "data.cyberbullying_type.hist() #Histogram shows that the dataset is balanced and has equal representation for all labels"
      ]
    },
    {
      "cell_type": "code",
      "execution_count": 59,
      "metadata": {
        "colab": {
          "base_uri": "https://localhost:8080/",
          "height": 237
        },
        "id": "dB6eb5yzlyMT",
        "outputId": "3c758f19-cac6-494b-bfb1-0eb40b9dad67"
      },
      "outputs": [
        {
          "output_type": "execute_result",
          "data": {
            "text/html": [
              "<style type=\"text/css\">\n",
              "#T_a25a1_row0_col1 {\n",
              "  background-color: #3f007d;\n",
              "  color: #f1f1f1;\n",
              "}\n",
              "#T_a25a1_row1_col1 {\n",
              "  background-color: #440a82;\n",
              "  color: #f1f1f1;\n",
              "}\n",
              "#T_a25a1_row2_col1 {\n",
              "  background-color: #572c92;\n",
              "  color: #f1f1f1;\n",
              "}\n",
              "#T_a25a1_row3_col1 {\n",
              "  background-color: #63449d;\n",
              "  color: #f1f1f1;\n",
              "}\n",
              "#T_a25a1_row4_col1 {\n",
              "  background-color: #7363ad;\n",
              "  color: #f1f1f1;\n",
              "}\n",
              "#T_a25a1_row5_col1 {\n",
              "  background-color: #fcfbfd;\n",
              "  color: #000000;\n",
              "}\n",
              "</style>\n",
              "<table id=\"T_a25a1_\" class=\"dataframe\">\n",
              "  <thead>\n",
              "    <tr>\n",
              "      <th class=\"blank level0\" >&nbsp;</th>\n",
              "      <th class=\"col_heading level0 col0\" >cyberbullying_type</th>\n",
              "      <th class=\"col_heading level0 col1\" >tweet_text</th>\n",
              "    </tr>\n",
              "  </thead>\n",
              "  <tbody>\n",
              "    <tr>\n",
              "      <th id=\"T_a25a1_level0_row0\" class=\"row_heading level0 row0\" >5</th>\n",
              "      <td id=\"T_a25a1_row0_col0\" class=\"data row0 col0\" >religion</td>\n",
              "      <td id=\"T_a25a1_row0_col1\" class=\"data row0 col1\" >7998</td>\n",
              "    </tr>\n",
              "    <tr>\n",
              "      <th id=\"T_a25a1_level0_row1\" class=\"row_heading level0 row1\" >0</th>\n",
              "      <td id=\"T_a25a1_row1_col0\" class=\"data row1 col0\" >age</td>\n",
              "      <td id=\"T_a25a1_row1_col1\" class=\"data row1 col1\" >7992</td>\n",
              "    </tr>\n",
              "    <tr>\n",
              "      <th id=\"T_a25a1_level0_row2\" class=\"row_heading level0 row2\" >2</th>\n",
              "      <td id=\"T_a25a1_row2_col0\" class=\"data row2 col0\" >gender</td>\n",
              "      <td id=\"T_a25a1_row2_col1\" class=\"data row2 col1\" >7973</td>\n",
              "    </tr>\n",
              "    <tr>\n",
              "      <th id=\"T_a25a1_level0_row3\" class=\"row_heading level0 row3\" >1</th>\n",
              "      <td id=\"T_a25a1_row3_col0\" class=\"data row3 col0\" >ethnicity</td>\n",
              "      <td id=\"T_a25a1_row3_col1\" class=\"data row3 col1\" >7961</td>\n",
              "    </tr>\n",
              "    <tr>\n",
              "      <th id=\"T_a25a1_level0_row4\" class=\"row_heading level0 row4\" >3</th>\n",
              "      <td id=\"T_a25a1_row4_col0\" class=\"data row4 col0\" >not_cyberbullying</td>\n",
              "      <td id=\"T_a25a1_row4_col1\" class=\"data row4 col1\" >7945</td>\n",
              "    </tr>\n",
              "    <tr>\n",
              "      <th id=\"T_a25a1_level0_row5\" class=\"row_heading level0 row5\" >4</th>\n",
              "      <td id=\"T_a25a1_row5_col0\" class=\"data row5 col0\" >other_cyberbullying</td>\n",
              "      <td id=\"T_a25a1_row5_col1\" class=\"data row5 col1\" >7823</td>\n",
              "    </tr>\n",
              "  </tbody>\n",
              "</table>\n"
            ],
            "text/plain": [
              "<pandas.io.formats.style.Styler at 0x7f9bd9323410>"
            ]
          },
          "metadata": {},
          "execution_count": 59
        }
      ],
      "source": [
        "temp = data.groupby('cyberbullying_type').count().reset_index().sort_values(by='tweet_text',ascending=False)\n",
        "temp.style.background_gradient(cmap='Purples')"
      ]
    },
    {
      "cell_type": "code",
      "execution_count": 60,
      "metadata": {
        "colab": {
          "base_uri": "https://localhost:8080/",
          "height": 542
        },
        "id": "_51G13E9oEfZ",
        "outputId": "a6135a0e-3907-4ee8-cc12-84367e9eabed"
      },
      "outputs": [
        {
          "output_type": "display_data",
          "data": {
            "text/html": [
              "<html>\n",
              "<head><meta charset=\"utf-8\" /></head>\n",
              "<body>\n",
              "    <div>            <script src=\"https://cdnjs.cloudflare.com/ajax/libs/mathjax/2.7.5/MathJax.js?config=TeX-AMS-MML_SVG\"></script><script type=\"text/javascript\">if (window.MathJax) {MathJax.Hub.Config({SVG: {font: \"STIX-Web\"}});}</script>                <script type=\"text/javascript\">window.PlotlyConfig = {MathJaxConfig: 'local'};</script>\n",
              "        <script src=\"https://cdn.plot.ly/plotly-2.8.3.min.js\"></script>                <div id=\"d3155229-6173-4f96-b499-29afcc022c9a\" class=\"plotly-graph-div\" style=\"height:525px; width:100%;\"></div>            <script type=\"text/javascript\">                                    window.PLOTLYENV=window.PLOTLYENV || {};                                    if (document.getElementById(\"d3155229-6173-4f96-b499-29afcc022c9a\")) {                    Plotly.newPlot(                        \"d3155229-6173-4f96-b499-29afcc022c9a\",                        [{\"text\":[[\"religion\",7998],[\"age\",7992],[\"gender\",7973],[\"ethnicity\",7961],[\"not_cyberbullying\",7945],[\"other_cyberbullying\",7823]],\"title\":{\"position\":\"top center\",\"text\":\"Funnel-Chart of Bullying Type Distribution\"},\"values\":[7998,7992,7973,7961,7945,7823],\"type\":\"funnelarea\"}],                        {\"template\":{\"data\":{\"bar\":[{\"error_x\":{\"color\":\"#2a3f5f\"},\"error_y\":{\"color\":\"#2a3f5f\"},\"marker\":{\"line\":{\"color\":\"#E5ECF6\",\"width\":0.5},\"pattern\":{\"fillmode\":\"overlay\",\"size\":10,\"solidity\":0.2}},\"type\":\"bar\"}],\"barpolar\":[{\"marker\":{\"line\":{\"color\":\"#E5ECF6\",\"width\":0.5},\"pattern\":{\"fillmode\":\"overlay\",\"size\":10,\"solidity\":0.2}},\"type\":\"barpolar\"}],\"carpet\":[{\"aaxis\":{\"endlinecolor\":\"#2a3f5f\",\"gridcolor\":\"white\",\"linecolor\":\"white\",\"minorgridcolor\":\"white\",\"startlinecolor\":\"#2a3f5f\"},\"baxis\":{\"endlinecolor\":\"#2a3f5f\",\"gridcolor\":\"white\",\"linecolor\":\"white\",\"minorgridcolor\":\"white\",\"startlinecolor\":\"#2a3f5f\"},\"type\":\"carpet\"}],\"choropleth\":[{\"colorbar\":{\"outlinewidth\":0,\"ticks\":\"\"},\"type\":\"choropleth\"}],\"contour\":[{\"colorbar\":{\"outlinewidth\":0,\"ticks\":\"\"},\"colorscale\":[[0.0,\"#0d0887\"],[0.1111111111111111,\"#46039f\"],[0.2222222222222222,\"#7201a8\"],[0.3333333333333333,\"#9c179e\"],[0.4444444444444444,\"#bd3786\"],[0.5555555555555556,\"#d8576b\"],[0.6666666666666666,\"#ed7953\"],[0.7777777777777778,\"#fb9f3a\"],[0.8888888888888888,\"#fdca26\"],[1.0,\"#f0f921\"]],\"type\":\"contour\"}],\"contourcarpet\":[{\"colorbar\":{\"outlinewidth\":0,\"ticks\":\"\"},\"type\":\"contourcarpet\"}],\"heatmap\":[{\"colorbar\":{\"outlinewidth\":0,\"ticks\":\"\"},\"colorscale\":[[0.0,\"#0d0887\"],[0.1111111111111111,\"#46039f\"],[0.2222222222222222,\"#7201a8\"],[0.3333333333333333,\"#9c179e\"],[0.4444444444444444,\"#bd3786\"],[0.5555555555555556,\"#d8576b\"],[0.6666666666666666,\"#ed7953\"],[0.7777777777777778,\"#fb9f3a\"],[0.8888888888888888,\"#fdca26\"],[1.0,\"#f0f921\"]],\"type\":\"heatmap\"}],\"heatmapgl\":[{\"colorbar\":{\"outlinewidth\":0,\"ticks\":\"\"},\"colorscale\":[[0.0,\"#0d0887\"],[0.1111111111111111,\"#46039f\"],[0.2222222222222222,\"#7201a8\"],[0.3333333333333333,\"#9c179e\"],[0.4444444444444444,\"#bd3786\"],[0.5555555555555556,\"#d8576b\"],[0.6666666666666666,\"#ed7953\"],[0.7777777777777778,\"#fb9f3a\"],[0.8888888888888888,\"#fdca26\"],[1.0,\"#f0f921\"]],\"type\":\"heatmapgl\"}],\"histogram\":[{\"marker\":{\"pattern\":{\"fillmode\":\"overlay\",\"size\":10,\"solidity\":0.2}},\"type\":\"histogram\"}],\"histogram2d\":[{\"colorbar\":{\"outlinewidth\":0,\"ticks\":\"\"},\"colorscale\":[[0.0,\"#0d0887\"],[0.1111111111111111,\"#46039f\"],[0.2222222222222222,\"#7201a8\"],[0.3333333333333333,\"#9c179e\"],[0.4444444444444444,\"#bd3786\"],[0.5555555555555556,\"#d8576b\"],[0.6666666666666666,\"#ed7953\"],[0.7777777777777778,\"#fb9f3a\"],[0.8888888888888888,\"#fdca26\"],[1.0,\"#f0f921\"]],\"type\":\"histogram2d\"}],\"histogram2dcontour\":[{\"colorbar\":{\"outlinewidth\":0,\"ticks\":\"\"},\"colorscale\":[[0.0,\"#0d0887\"],[0.1111111111111111,\"#46039f\"],[0.2222222222222222,\"#7201a8\"],[0.3333333333333333,\"#9c179e\"],[0.4444444444444444,\"#bd3786\"],[0.5555555555555556,\"#d8576b\"],[0.6666666666666666,\"#ed7953\"],[0.7777777777777778,\"#fb9f3a\"],[0.8888888888888888,\"#fdca26\"],[1.0,\"#f0f921\"]],\"type\":\"histogram2dcontour\"}],\"mesh3d\":[{\"colorbar\":{\"outlinewidth\":0,\"ticks\":\"\"},\"type\":\"mesh3d\"}],\"parcoords\":[{\"line\":{\"colorbar\":{\"outlinewidth\":0,\"ticks\":\"\"}},\"type\":\"parcoords\"}],\"pie\":[{\"automargin\":true,\"type\":\"pie\"}],\"scatter\":[{\"marker\":{\"colorbar\":{\"outlinewidth\":0,\"ticks\":\"\"}},\"type\":\"scatter\"}],\"scatter3d\":[{\"line\":{\"colorbar\":{\"outlinewidth\":0,\"ticks\":\"\"}},\"marker\":{\"colorbar\":{\"outlinewidth\":0,\"ticks\":\"\"}},\"type\":\"scatter3d\"}],\"scattercarpet\":[{\"marker\":{\"colorbar\":{\"outlinewidth\":0,\"ticks\":\"\"}},\"type\":\"scattercarpet\"}],\"scattergeo\":[{\"marker\":{\"colorbar\":{\"outlinewidth\":0,\"ticks\":\"\"}},\"type\":\"scattergeo\"}],\"scattergl\":[{\"marker\":{\"colorbar\":{\"outlinewidth\":0,\"ticks\":\"\"}},\"type\":\"scattergl\"}],\"scattermapbox\":[{\"marker\":{\"colorbar\":{\"outlinewidth\":0,\"ticks\":\"\"}},\"type\":\"scattermapbox\"}],\"scatterpolar\":[{\"marker\":{\"colorbar\":{\"outlinewidth\":0,\"ticks\":\"\"}},\"type\":\"scatterpolar\"}],\"scatterpolargl\":[{\"marker\":{\"colorbar\":{\"outlinewidth\":0,\"ticks\":\"\"}},\"type\":\"scatterpolargl\"}],\"scatterternary\":[{\"marker\":{\"colorbar\":{\"outlinewidth\":0,\"ticks\":\"\"}},\"type\":\"scatterternary\"}],\"surface\":[{\"colorbar\":{\"outlinewidth\":0,\"ticks\":\"\"},\"colorscale\":[[0.0,\"#0d0887\"],[0.1111111111111111,\"#46039f\"],[0.2222222222222222,\"#7201a8\"],[0.3333333333333333,\"#9c179e\"],[0.4444444444444444,\"#bd3786\"],[0.5555555555555556,\"#d8576b\"],[0.6666666666666666,\"#ed7953\"],[0.7777777777777778,\"#fb9f3a\"],[0.8888888888888888,\"#fdca26\"],[1.0,\"#f0f921\"]],\"type\":\"surface\"}],\"table\":[{\"cells\":{\"fill\":{\"color\":\"#EBF0F8\"},\"line\":{\"color\":\"white\"}},\"header\":{\"fill\":{\"color\":\"#C8D4E3\"},\"line\":{\"color\":\"white\"}},\"type\":\"table\"}]},\"layout\":{\"annotationdefaults\":{\"arrowcolor\":\"#2a3f5f\",\"arrowhead\":0,\"arrowwidth\":1},\"autotypenumbers\":\"strict\",\"coloraxis\":{\"colorbar\":{\"outlinewidth\":0,\"ticks\":\"\"}},\"colorscale\":{\"diverging\":[[0,\"#8e0152\"],[0.1,\"#c51b7d\"],[0.2,\"#de77ae\"],[0.3,\"#f1b6da\"],[0.4,\"#fde0ef\"],[0.5,\"#f7f7f7\"],[0.6,\"#e6f5d0\"],[0.7,\"#b8e186\"],[0.8,\"#7fbc41\"],[0.9,\"#4d9221\"],[1,\"#276419\"]],\"sequential\":[[0.0,\"#0d0887\"],[0.1111111111111111,\"#46039f\"],[0.2222222222222222,\"#7201a8\"],[0.3333333333333333,\"#9c179e\"],[0.4444444444444444,\"#bd3786\"],[0.5555555555555556,\"#d8576b\"],[0.6666666666666666,\"#ed7953\"],[0.7777777777777778,\"#fb9f3a\"],[0.8888888888888888,\"#fdca26\"],[1.0,\"#f0f921\"]],\"sequentialminus\":[[0.0,\"#0d0887\"],[0.1111111111111111,\"#46039f\"],[0.2222222222222222,\"#7201a8\"],[0.3333333333333333,\"#9c179e\"],[0.4444444444444444,\"#bd3786\"],[0.5555555555555556,\"#d8576b\"],[0.6666666666666666,\"#ed7953\"],[0.7777777777777778,\"#fb9f3a\"],[0.8888888888888888,\"#fdca26\"],[1.0,\"#f0f921\"]]},\"colorway\":[\"#636efa\",\"#EF553B\",\"#00cc96\",\"#ab63fa\",\"#FFA15A\",\"#19d3f3\",\"#FF6692\",\"#B6E880\",\"#FF97FF\",\"#FECB52\"],\"font\":{\"color\":\"#2a3f5f\"},\"geo\":{\"bgcolor\":\"white\",\"lakecolor\":\"white\",\"landcolor\":\"#E5ECF6\",\"showlakes\":true,\"showland\":true,\"subunitcolor\":\"white\"},\"hoverlabel\":{\"align\":\"left\"},\"hovermode\":\"closest\",\"mapbox\":{\"style\":\"light\"},\"paper_bgcolor\":\"white\",\"plot_bgcolor\":\"#E5ECF6\",\"polar\":{\"angularaxis\":{\"gridcolor\":\"white\",\"linecolor\":\"white\",\"ticks\":\"\"},\"bgcolor\":\"#E5ECF6\",\"radialaxis\":{\"gridcolor\":\"white\",\"linecolor\":\"white\",\"ticks\":\"\"}},\"scene\":{\"xaxis\":{\"backgroundcolor\":\"#E5ECF6\",\"gridcolor\":\"white\",\"gridwidth\":2,\"linecolor\":\"white\",\"showbackground\":true,\"ticks\":\"\",\"zerolinecolor\":\"white\"},\"yaxis\":{\"backgroundcolor\":\"#E5ECF6\",\"gridcolor\":\"white\",\"gridwidth\":2,\"linecolor\":\"white\",\"showbackground\":true,\"ticks\":\"\",\"zerolinecolor\":\"white\"},\"zaxis\":{\"backgroundcolor\":\"#E5ECF6\",\"gridcolor\":\"white\",\"gridwidth\":2,\"linecolor\":\"white\",\"showbackground\":true,\"ticks\":\"\",\"zerolinecolor\":\"white\"}},\"shapedefaults\":{\"line\":{\"color\":\"#2a3f5f\"}},\"ternary\":{\"aaxis\":{\"gridcolor\":\"white\",\"linecolor\":\"white\",\"ticks\":\"\"},\"baxis\":{\"gridcolor\":\"white\",\"linecolor\":\"white\",\"ticks\":\"\"},\"bgcolor\":\"#E5ECF6\",\"caxis\":{\"gridcolor\":\"white\",\"linecolor\":\"white\",\"ticks\":\"\"}},\"title\":{\"x\":0.05},\"xaxis\":{\"automargin\":true,\"gridcolor\":\"white\",\"linecolor\":\"white\",\"ticks\":\"\",\"title\":{\"standoff\":15},\"zerolinecolor\":\"white\",\"zerolinewidth\":2},\"yaxis\":{\"automargin\":true,\"gridcolor\":\"white\",\"linecolor\":\"white\",\"ticks\":\"\",\"title\":{\"standoff\":15},\"zerolinecolor\":\"white\",\"zerolinewidth\":2}}}},                        {\"responsive\": true}                    ).then(function(){\n",
              "                            \n",
              "var gd = document.getElementById('d3155229-6173-4f96-b499-29afcc022c9a');\n",
              "var x = new MutationObserver(function (mutations, observer) {{\n",
              "        var display = window.getComputedStyle(gd).display;\n",
              "        if (!display || display === 'none') {{\n",
              "            console.log([gd, 'removed!']);\n",
              "            Plotly.purge(gd);\n",
              "            observer.disconnect();\n",
              "        }}\n",
              "}});\n",
              "\n",
              "// Listen for the removal of the full notebook cells\n",
              "var notebookContainer = gd.closest('#notebook-container');\n",
              "if (notebookContainer) {{\n",
              "    x.observe(notebookContainer, {childList: true});\n",
              "}}\n",
              "\n",
              "// Listen for the clearing of the current output cell\n",
              "var outputEl = gd.closest('.output');\n",
              "if (outputEl) {{\n",
              "    x.observe(outputEl, {childList: true});\n",
              "}}\n",
              "\n",
              "                        })                };                            </script>        </div>\n",
              "</body>\n",
              "</html>"
            ]
          },
          "metadata": {}
        }
      ],
      "source": [
        "#Funnel-Chart for better visualization\n",
        "from plotly import graph_objs as go\n",
        "fig = go.Figure(go.Funnelarea(\n",
        "    text =temp,\n",
        "    values = temp.tweet_text,\n",
        "    title = {\"position\": \"top center\", \"text\": \"Funnel-Chart of Bullying Type Distribution\"}\n",
        "    ))\n",
        "fig.show()"
      ]
    },
    {
      "cell_type": "markdown",
      "metadata": {
        "id": "VP3RAvdbqCNG"
      },
      "source": [
        "**Word Cloud of tweets for EDA**"
      ]
    },
    {
      "cell_type": "code",
      "execution_count": 61,
      "metadata": {
        "id": "QCXMYtkLpiH7"
      },
      "outputs": [],
      "source": [
        "import wordcloud\n",
        "from wordcloud import WordCloud, STOPWORDS, ImageColorGenerator"
      ]
    },
    {
      "cell_type": "code",
      "execution_count": 62,
      "metadata": {
        "id": "NZbHgKx4qWGd"
      },
      "outputs": [],
      "source": [
        "text = \" \".join(review for review in data.tweet_text)\n",
        "\n",
        "# Create stopword list:\n",
        "stopwords = set(STOPWORDS)\n",
        "#stopwords.update([])\n",
        "\n",
        "# Generate a word cloud image\n",
        "wordcloud = WordCloud(stopwords=stopwords, background_color=\"white\").generate(text)"
      ]
    },
    {
      "cell_type": "code",
      "execution_count": 63,
      "metadata": {
        "colab": {
          "base_uri": "https://localhost:8080/",
          "height": 170
        },
        "id": "jSy6qBVKupdX",
        "outputId": "ad4f30e4-909a-4d24-c947-0c82de3a307e"
      },
      "outputs": [
        {
          "output_type": "display_data",
          "data": {
            "image/png": "[encoded data removed]",
            "text/plain": [
              "<Figure size 360x360 with 1 Axes>"
            ]
          },
          "metadata": {
            "needs_background": "light"
          }
        }
      ],
      "source": [
        "# Display the generated image:\n",
        "# the matplotlib way:\n",
        "plt.imshow(wordcloud, interpolation='bilinear')\n",
        "plt.axis(\"off\")\n",
        "plt.rcParams[\"figure.figsize\"] = (5,5)\n",
        "plt.show()"
      ]
    },
    {
      "cell_type": "markdown",
      "metadata": {
        "id": "hvHillCHvK4S"
      },
      "source": [
        "**Phase 2: Building a base model for multi-class classification**"
      ]
    },
    {
      "cell_type": "markdown",
      "metadata": {
        "id": "ILhXVmJ3veWT"
      },
      "source": [
        "**TEXT PREPROCESSING** functions defintion:"
      ]
    },
    {
      "cell_type": "code",
      "execution_count": 64,
      "metadata": {
        "colab": {
          "base_uri": "https://localhost:8080/"
        },
        "id": "e6Vwp5y1vA0E",
        "outputId": "c456f3b2-94e4-4814-9727-a655300d72f9"
      },
      "outputs": [
        {
          "output_type": "stream",
          "name": "stdout",
          "text": [
            "[nltk_data] Downloading package stopwords to /root/nltk_data...\n",
            "[nltk_data]   Package stopwords is already up-to-date!\n",
            "[nltk_data] Downloading package wordnet to /root/nltk_data...\n",
            "[nltk_data]   Package wordnet is already up-to-date!\n"
          ]
        }
      ],
      "source": [
        "# import TweetTokenizer() method from nltk\n",
        "from nltk.tokenize import TweetTokenizer\n",
        "from nltk.corpus import stopwords\n",
        "nltk.download('stopwords')\n",
        "stop_words = stopwords.words('english')\n",
        "from nltk.stem import WordNetLemmatizer\n",
        "nltk.download('wordnet')\n",
        "\n",
        "# Create a reference variable for Class WordNetLemmatizer\n",
        "wordnet_lemmatizer = WordNetLemmatizer()\n",
        "\n",
        "# Create a reference variable for Class TweetTokenizer\n",
        "tk = TweetTokenizer()\n",
        "\n",
        "#Preprocessing: Tweet Tokenizer + lowercase conversion\n",
        "def LC_tokeniser(df):\n",
        "  df[\"tokens\"]= df[\"tweet_text\"].apply(lambda x: tk.tokenize(x.lower()))\n",
        "  return df\n",
        "#Recover Hashtags\n",
        "def hashtag(df):\n",
        "  df[\"hastags\"]= df[\"tokens\"].apply(lambda x: [item for item in x if item.startswith(\"#\")])\n",
        "  return df\n",
        "#Recover Mentions @\n",
        "def mentions(df):\n",
        "  df[\"mentions\"]= df[\"tokens\"].apply(lambda x: [item for item in x if item.startswith(\"@\")])\n",
        "  return df\n",
        "#number of words in a tweet\n",
        "def length(df):\n",
        "  df[\"length\"]= df[\"tokens\"].apply(lambda x: len(x))\n",
        "  return df\n",
        "\n",
        "#Remove Stop-words\n",
        "def remove_stopwords(df):\n",
        "  df['remove_stopwords'] = df['tokens'].apply(lambda x: [item for item in x if item not in stop_words])\n",
        "  return df\n",
        "\n",
        "#Lemmatisation to get root words and remove numbers if any!\n",
        "def lemmatise(df):\n",
        "  df['lemmatise'] = df['remove_stopwords'].apply(lambda x: [wordnet_lemmatizer.lemmatize(y) for y in x if y.isalpha()]) \n",
        "  return df"
      ]
    },
    {
      "cell_type": "code",
      "execution_count": 65,
      "metadata": {
        "colab": {
          "base_uri": "https://localhost:8080/",
          "height": 206
        },
        "id": "xgUsB111GPJI",
        "outputId": "ab740417-a8b7-4722-ef1a-d48739919fc7"
      },
      "outputs": [
        {
          "output_type": "execute_result",
          "data": {
            "text/html": [
              "\n",
              "  <div id=\"df-26a09d37-8cd6-4cbf-ab9a-4c063eea2711\">\n",
              "    <div class=\"colab-df-container\">\n",
              "      <div>\n",
              "<style scoped>\n",
              "    .dataframe tbody tr th:only-of-type {\n",
              "        vertical-align: middle;\n",
              "    }\n",
              "\n",
              "    .dataframe tbody tr th {\n",
              "        vertical-align: top;\n",
              "    }\n",
              "\n",
              "    .dataframe thead th {\n",
              "        text-align: right;\n",
              "    }\n",
              "</style>\n",
              "<table border=\"1\" class=\"dataframe\">\n",
              "  <thead>\n",
              "    <tr style=\"text-align: right;\">\n",
              "      <th></th>\n",
              "      <th>tweet_text</th>\n",
              "      <th>cyberbullying_type</th>\n",
              "    </tr>\n",
              "  </thead>\n",
              "  <tbody>\n",
              "    <tr>\n",
              "      <th>0</th>\n",
              "      <td>In other words #katandandre, your food was cra...</td>\n",
              "      <td>not_cyberbullying</td>\n",
              "    </tr>\n",
              "    <tr>\n",
              "      <th>1</th>\n",
              "      <td>Why is #aussietv so white? #MKR #theblock #ImA...</td>\n",
              "      <td>not_cyberbullying</td>\n",
              "    </tr>\n",
              "    <tr>\n",
              "      <th>2</th>\n",
              "      <td>@XochitlSuckkks a classy whore? Or more red ve...</td>\n",
              "      <td>not_cyberbullying</td>\n",
              "    </tr>\n",
              "    <tr>\n",
              "      <th>3</th>\n",
              "      <td>@Jason_Gio meh. :P  thanks for the heads up, b...</td>\n",
              "      <td>not_cyberbullying</td>\n",
              "    </tr>\n",
              "    <tr>\n",
              "      <th>4</th>\n",
              "      <td>@RudhoeEnglish This is an ISIS account pretend...</td>\n",
              "      <td>not_cyberbullying</td>\n",
              "    </tr>\n",
              "  </tbody>\n",
              "</table>\n",
              "</div>\n",
              "      <button class=\"colab-df-convert\" onclick=\"convertToInteractive('df-26a09d37-8cd6-4cbf-ab9a-4c063eea2711')\"\n",
              "              title=\"Convert this dataframe to an interactive table.\"\n",
              "              style=\"display:none;\">\n",
              "        \n",
              "  <svg xmlns=\"http://www.w3.org/2000/svg\" height=\"24px\"viewBox=\"0 0 24 24\"\n",
              "       width=\"24px\">\n",
              "    <path d=\"M0 0h24v24H0V0z\" fill=\"none\"/>\n",
              "    <path d=\"M18.56 5.44l.94 2.06.94-2.06 2.06-.94-2.06-.94-.94-2.06-.94 2.06-2.06.94zm-11 1L8.5 8.5l.94-2.06 2.06-.94-2.06-.94L8.5 2.5l-.94 2.06-2.06.94zm10 10l.94 2.06.94-2.06 2.06-.94-2.06-.94-.94-2.06-.94 2.06-2.06.94z\"/><path d=\"M17.41 7.96l-1.37-1.37c-.4-.4-.92-.59-1.43-.59-.52 0-1.04.2-1.43.59L10.3 9.45l-7.72 7.72c-.78.78-.78 2.05 0 2.83L4 21.41c.39.39.9.59 1.41.59.51 0 1.02-.2 1.41-.59l7.78-7.78 2.81-2.81c.8-.78.8-2.07 0-2.86zM5.41 20L4 18.59l7.72-7.72 1.47 1.35L5.41 20z\"/>\n",
              "  </svg>\n",
              "      </button>\n",
              "      \n",
              "  <style>\n",
              "    .colab-df-container {\n",
              "      display:flex;\n",
              "      flex-wrap:wrap;\n",
              "      gap: 12px;\n",
              "    }\n",
              "\n",
              "    .colab-df-convert {\n",
              "      background-color: #E8F0FE;\n",
              "      border: none;\n",
              "      border-radius: 50%;\n",
              "      cursor: pointer;\n",
              "      display: none;\n",
              "      fill: #1967D2;\n",
              "      height: 32px;\n",
              "      padding: 0 0 0 0;\n",
              "      width: 32px;\n",
              "    }\n",
              "\n",
              "    .colab-df-convert:hover {\n",
              "      background-color: #E2EBFA;\n",
              "      box-shadow: 0px 1px 2px rgba(60, 64, 67, 0.3), 0px 1px 3px 1px rgba(60, 64, 67, 0.15);\n",
              "      fill: #174EA6;\n",
              "    }\n",
              "\n",
              "    [theme=dark] .colab-df-convert {\n",
              "      background-color: #3B4455;\n",
              "      fill: #D2E3FC;\n",
              "    }\n",
              "\n",
              "    [theme=dark] .colab-df-convert:hover {\n",
              "      background-color: #434B5C;\n",
              "      box-shadow: 0px 1px 3px 1px rgba(0, 0, 0, 0.15);\n",
              "      filter: drop-shadow(0px 1px 2px rgba(0, 0, 0, 0.3));\n",
              "      fill: #FFFFFF;\n",
              "    }\n",
              "  </style>\n",
              "\n",
              "      <script>\n",
              "        const buttonEl =\n",
              "          document.querySelector('#df-26a09d37-8cd6-4cbf-ab9a-4c063eea2711 button.colab-df-convert');\n",
              "        buttonEl.style.display =\n",
              "          google.colab.kernel.accessAllowed ? 'block' : 'none';\n",
              "\n",
              "        async function convertToInteractive(key) {\n",
              "          const element = document.querySelector('#df-26a09d37-8cd6-4cbf-ab9a-4c063eea2711');\n",
              "          const dataTable =\n",
              "            await google.colab.kernel.invokeFunction('convertToInteractive',\n",
              "                                                     [key], {});\n",
              "          if (!dataTable) return;\n",
              "\n",
              "          const docLinkHtml = 'Like what you see? Visit the ' +\n",
              "            '<a target=\"_blank\" href=https://colab.research.google.com/notebooks/data_table.ipynb>data table notebook</a>'\n",
              "            + ' to learn more about interactive tables.';\n",
              "          element.innerHTML = '';\n",
              "          dataTable['output_type'] = 'display_data';\n",
              "          await google.colab.output.renderOutput(dataTable, element);\n",
              "          const docLink = document.createElement('div');\n",
              "          docLink.innerHTML = docLinkHtml;\n",
              "          element.appendChild(docLink);\n",
              "        }\n",
              "      </script>\n",
              "    </div>\n",
              "  </div>\n",
              "  "
            ],
            "text/plain": [
              "                                          tweet_text cyberbullying_type\n",
              "0  In other words #katandandre, your food was cra...  not_cyberbullying\n",
              "1  Why is #aussietv so white? #MKR #theblock #ImA...  not_cyberbullying\n",
              "2  @XochitlSuckkks a classy whore? Or more red ve...  not_cyberbullying\n",
              "3  @Jason_Gio meh. :P  thanks for the heads up, b...  not_cyberbullying\n",
              "4  @RudhoeEnglish This is an ISIS account pretend...  not_cyberbullying"
            ]
          },
          "metadata": {},
          "execution_count": 65
        }
      ],
      "source": [
        "data.head()"
      ]
    },
    {
      "cell_type": "code",
      "execution_count": 66,
      "metadata": {
        "id": "oNHePf0noprP"
      },
      "outputs": [],
      "source": [
        "#Function definition for Topic Modelling based on tweet's comments\n",
        "from sklearn.decomposition import LatentDirichletAllocation\n",
        "from sklearn.feature_extraction.text import CountVectorizer\n",
        "\n",
        "def LDA(df, n=10):\n",
        "  # initisalise LDA Model\n",
        "  lda_model = LatentDirichletAllocation(n_components = n, # number of topics\n",
        "                                  random_state = 10,          # random state\n",
        "                                  evaluate_every = -1,      # compute perplexity every n iters, default: Don't\n",
        "                                  n_jobs = -1,              # Use all available CPUs\n",
        "                                 )\n",
        "  vectors = []\n",
        "  for index, row in data.iterrows():\n",
        "    vectors.append(\", \".join(row[6]))\n",
        "  \n",
        "  vectorizer = CountVectorizer(analyzer = 'word', ngram_range = (1, 2))\n",
        "  vectorised = vectorizer.fit_transform(vectors)\n",
        "  \n",
        "  lda_output = lda_model.fit_transform(vectorised)\n",
        "\n",
        "# column names\n",
        "  topic_names = [\"Topic\" + str(i) for i in range(1, lda_model.n_components + 1)]\n",
        "\n",
        "# make the pandas dataframe\n",
        "  df_document_topic = pd.DataFrame(np.round(lda_output, 2), columns = topic_names)\n",
        "\n",
        "# get dominant topic for each document\n",
        "  dominant_topic = (np.argmax(df_document_topic.values, axis=1)+1)\n",
        "  df_document_topic['Dominant_topic'] = dominant_topic\n",
        "\n",
        "# join to original dataframes\n",
        "  df = pd.merge(df, df_document_topic, left_index = True, right_index = True, how = 'outer')\n",
        "  df['Dominant_topic']=df['Dominant_topic'].astype(int)\n",
        "\n",
        "  return df"
      ]
    },
    {
      "cell_type": "code",
      "execution_count": 67,
      "metadata": {
        "id": "uvcvPlOOuM5O"
      },
      "outputs": [],
      "source": [
        "#Bag of Vectors\n",
        "from sklearn.feature_extraction.text import CountVectorizer\n",
        "def bow(df):\n",
        "  vectorizer = CountVectorizer(analyzer = 'word', ngram_range = (1, 2))\n",
        "  # join the processed data to be vectorised\n",
        "  vectors = []\n",
        "  for index, row in data.iterrows():\n",
        "    vectors.append(\", \".join(row[6]))\n",
        "\n",
        "  vectorised = vectorizer.fit_transform(vectors)\n",
        "  return vectorised"
      ]
    },
    {
      "cell_type": "markdown",
      "metadata": {
        "id": "C1APv47wNBvb"
      },
      "source": [
        "Feature Engineering - BOWs and TF-IDF"
      ]
    },
    {
      "cell_type": "code",
      "execution_count": 68,
      "metadata": {
        "colab": {
          "base_uri": "https://localhost:8080/",
          "height": 72
        },
        "id": "lnUYtWN2t_Ac",
        "outputId": "578d3f6b-4363-4b49-d2f3-0802994d824c"
      },
      "outputs": [
        {
          "output_type": "execute_result",
          "data": {
            "application/vnd.google.colaboratory.intrinsic+json": {
              "type": "string"
            },
            "text/plain": [
              "'from sklearn.naive_bayes import MultinomialNB\\nfrom sklearn.pipeline import Pipeline\\nfrom sklearn.feature_extraction.text import TfidfVectorizer\\n\\nModel1 = Pipeline([(\"Lower_case_Tokenizer\",LC_tokeniser()),(\"Getting_Hashtags\",hastag()),(\"length_of_tweet\",length()),(\"RemoveStopWords\", remove_stopwords()),(\"Lemmatise\",lemmatise()),(\"tfidf\", TfidfVectorizer()),(\"clf\", MultinomialNB())])\\nModel1.fit(x_train, y_train)\\nModel1.score(x_test, y_test)\\n'"
            ]
          },
          "metadata": {},
          "execution_count": 68
        }
      ],
      "source": [
        "'''from sklearn.naive_bayes import MultinomialNB\n",
        "from sklearn.pipeline import Pipeline\n",
        "from sklearn.feature_extraction.text import TfidfVectorizer\n",
        "\n",
        "Model1 = Pipeline([(\"Lower_case_Tokenizer\",LC_tokeniser()),(\"Getting_Hashtags\",hastag()),(\"length_of_tweet\",length()),(\"RemoveStopWords\", remove_stopwords()),(\"Lemmatise\",lemmatise()),(\"tfidf\", TfidfVectorizer()),(\"clf\", MultinomialNB())])\n",
        "Model1.fit(x_train, y_train)\n",
        "Model1.score(x_test, y_test)\n",
        "'''"
      ]
    },
    {
      "cell_type": "markdown",
      "metadata": {
        "id": "_dCnZIIjzklg"
      },
      "source": [
        "**Feature Engineering**"
      ]
    },
    {
      "cell_type": "markdown",
      "metadata": {
        "id": "XbOP8QCDSeDD"
      },
      "source": [
        "Split data into train and test"
      ]
    },
    {
      "cell_type": "code",
      "execution_count": 69,
      "metadata": {
        "colab": {
          "base_uri": "https://localhost:8080/",
          "height": 510
        },
        "id": "63hHGw7PSXlp",
        "outputId": "e224b6e9-26b8-4e14-8d62-87c25d99545a"
      },
      "outputs": [
        {
          "output_type": "execute_result",
          "data": {
            "text/html": [
              "\n",
              "  <div id=\"df-fac1ff57-c707-4d68-aa2f-68305090de10\">\n",
              "    <div class=\"colab-df-container\">\n",
              "      <div>\n",
              "<style scoped>\n",
              "    .dataframe tbody tr th:only-of-type {\n",
              "        vertical-align: middle;\n",
              "    }\n",
              "\n",
              "    .dataframe tbody tr th {\n",
              "        vertical-align: top;\n",
              "    }\n",
              "\n",
              "    .dataframe thead th {\n",
              "        text-align: right;\n",
              "    }\n",
              "</style>\n",
              "<table border=\"1\" class=\"dataframe\">\n",
              "  <thead>\n",
              "    <tr style=\"text-align: right;\">\n",
              "      <th></th>\n",
              "      <th>tweet_text</th>\n",
              "      <th>cyberbullying_type</th>\n",
              "      <th>tokens</th>\n",
              "      <th>hastags</th>\n",
              "      <th>mentions</th>\n",
              "      <th>length</th>\n",
              "      <th>remove_stopwords</th>\n",
              "      <th>lemmatise</th>\n",
              "      <th>hashtags_present</th>\n",
              "      <th>mentions_present</th>\n",
              "    </tr>\n",
              "  </thead>\n",
              "  <tbody>\n",
              "    <tr>\n",
              "      <th>0</th>\n",
              "      <td>In other words #katandandre, your food was cra...</td>\n",
              "      <td>not_cyberbullying</td>\n",
              "      <td>[in, other, words, #katandandre, ,, your, food...</td>\n",
              "      <td>[#katandandre, #mkr]</td>\n",
              "      <td>[]</td>\n",
              "      <td>11</td>\n",
              "      <td>[words, #katandandre, ,, food, crapilicious, !...</td>\n",
              "      <td>[word, food, crapilicious]</td>\n",
              "      <td>1</td>\n",
              "      <td>0</td>\n",
              "    </tr>\n",
              "    <tr>\n",
              "      <th>1</th>\n",
              "      <td>Why is #aussietv so white? #MKR #theblock #ImA...</td>\n",
              "      <td>not_cyberbullying</td>\n",
              "      <td>[why, is, #aussietv, so, white, ?, #mkr, #theb...</td>\n",
              "      <td>[#aussietv, #mkr, #theblock, #imacelebrityau, ...</td>\n",
              "      <td>[]</td>\n",
              "      <td>15</td>\n",
              "      <td>[#aussietv, white, ?, #mkr, #theblock, #imacel...</td>\n",
              "      <td>[white]</td>\n",
              "      <td>1</td>\n",
              "      <td>0</td>\n",
              "    </tr>\n",
              "    <tr>\n",
              "      <th>2</th>\n",
              "      <td>@XochitlSuckkks a classy whore? Or more red ve...</td>\n",
              "      <td>not_cyberbullying</td>\n",
              "      <td>[@xochitlsuckkks, a, classy, whore, ?, or, mor...</td>\n",
              "      <td>[]</td>\n",
              "      <td>[@xochitlsuckkks]</td>\n",
              "      <td>11</td>\n",
              "      <td>[@xochitlsuckkks, classy, whore, ?, red, velve...</td>\n",
              "      <td>[classy, whore, red, velvet, cupcake]</td>\n",
              "      <td>0</td>\n",
              "      <td>1</td>\n",
              "    </tr>\n",
              "    <tr>\n",
              "      <th>3</th>\n",
              "      <td>@Jason_Gio meh. :P  thanks for the heads up, b...</td>\n",
              "      <td>not_cyberbullying</td>\n",
              "      <td>[@jason_gio, meh, ., :p, thanks, for, the, hea...</td>\n",
              "      <td>[]</td>\n",
              "      <td>[@jason_gio]</td>\n",
              "      <td>21</td>\n",
              "      <td>[@jason_gio, meh, ., :p, thanks, heads, ,, con...</td>\n",
              "      <td>[meh, thanks, head, concerned, another, angry,...</td>\n",
              "      <td>0</td>\n",
              "      <td>1</td>\n",
              "    </tr>\n",
              "    <tr>\n",
              "      <th>4</th>\n",
              "      <td>@RudhoeEnglish This is an ISIS account pretend...</td>\n",
              "      <td>not_cyberbullying</td>\n",
              "      <td>[@rudhoeenglish, this, is, an, isis, account, ...</td>\n",
              "      <td>[]</td>\n",
              "      <td>[@rudhoeenglish]</td>\n",
              "      <td>21</td>\n",
              "      <td>[@rudhoeenglish, isis, account, pretending, ku...</td>\n",
              "      <td>[isi, account, pretending, kurdish, account, l...</td>\n",
              "      <td>0</td>\n",
              "      <td>1</td>\n",
              "    </tr>\n",
              "  </tbody>\n",
              "</table>\n",
              "</div>\n",
              "      <button class=\"colab-df-convert\" onclick=\"convertToInteractive('df-fac1ff57-c707-4d68-aa2f-68305090de10')\"\n",
              "              title=\"Convert this dataframe to an interactive table.\"\n",
              "              style=\"display:none;\">\n",
              "        \n",
              "  <svg xmlns=\"http://www.w3.org/2000/svg\" height=\"24px\"viewBox=\"0 0 24 24\"\n",
              "       width=\"24px\">\n",
              "    <path d=\"M0 0h24v24H0V0z\" fill=\"none\"/>\n",
              "    <path d=\"M18.56 5.44l.94 2.06.94-2.06 2.06-.94-2.06-.94-.94-2.06-.94 2.06-2.06.94zm-11 1L8.5 8.5l.94-2.06 2.06-.94-2.06-.94L8.5 2.5l-.94 2.06-2.06.94zm10 10l.94 2.06.94-2.06 2.06-.94-2.06-.94-.94-2.06-.94 2.06-2.06.94z\"/><path d=\"M17.41 7.96l-1.37-1.37c-.4-.4-.92-.59-1.43-.59-.52 0-1.04.2-1.43.59L10.3 9.45l-7.72 7.72c-.78.78-.78 2.05 0 2.83L4 21.41c.39.39.9.59 1.41.59.51 0 1.02-.2 1.41-.59l7.78-7.78 2.81-2.81c.8-.78.8-2.07 0-2.86zM5.41 20L4 18.59l7.72-7.72 1.47 1.35L5.41 20z\"/>\n",
              "  </svg>\n",
              "      </button>\n",
              "      \n",
              "  <style>\n",
              "    .colab-df-container {\n",
              "      display:flex;\n",
              "      flex-wrap:wrap;\n",
              "      gap: 12px;\n",
              "    }\n",
              "\n",
              "    .colab-df-convert {\n",
              "      background-color: #E8F0FE;\n",
              "      border: none;\n",
              "      border-radius: 50%;\n",
              "      cursor: pointer;\n",
              "      display: none;\n",
              "      fill: #1967D2;\n",
              "      height: 32px;\n",
              "      padding: 0 0 0 0;\n",
              "      width: 32px;\n",
              "    }\n",
              "\n",
              "    .colab-df-convert:hover {\n",
              "      background-color: #E2EBFA;\n",
              "      box-shadow: 0px 1px 2px rgba(60, 64, 67, 0.3), 0px 1px 3px 1px rgba(60, 64, 67, 0.15);\n",
              "      fill: #174EA6;\n",
              "    }\n",
              "\n",
              "    [theme=dark] .colab-df-convert {\n",
              "      background-color: #3B4455;\n",
              "      fill: #D2E3FC;\n",
              "    }\n",
              "\n",
              "    [theme=dark] .colab-df-convert:hover {\n",
              "      background-color: #434B5C;\n",
              "      box-shadow: 0px 1px 3px 1px rgba(0, 0, 0, 0.15);\n",
              "      filter: drop-shadow(0px 1px 2px rgba(0, 0, 0, 0.3));\n",
              "      fill: #FFFFFF;\n",
              "    }\n",
              "  </style>\n",
              "\n",
              "      <script>\n",
              "        const buttonEl =\n",
              "          document.querySelector('#df-fac1ff57-c707-4d68-aa2f-68305090de10 button.colab-df-convert');\n",
              "        buttonEl.style.display =\n",
              "          google.colab.kernel.accessAllowed ? 'block' : 'none';\n",
              "\n",
              "        async function convertToInteractive(key) {\n",
              "          const element = document.querySelector('#df-fac1ff57-c707-4d68-aa2f-68305090de10');\n",
              "          const dataTable =\n",
              "            await google.colab.kernel.invokeFunction('convertToInteractive',\n",
              "                                                     [key], {});\n",
              "          if (!dataTable) return;\n",
              "\n",
              "          const docLinkHtml = 'Like what you see? Visit the ' +\n",
              "            '<a target=\"_blank\" href=https://colab.research.google.com/notebooks/data_table.ipynb>data table notebook</a>'\n",
              "            + ' to learn more about interactive tables.';\n",
              "          element.innerHTML = '';\n",
              "          dataTable['output_type'] = 'display_data';\n",
              "          await google.colab.output.renderOutput(dataTable, element);\n",
              "          const docLink = document.createElement('div');\n",
              "          docLink.innerHTML = docLinkHtml;\n",
              "          element.appendChild(docLink);\n",
              "        }\n",
              "      </script>\n",
              "    </div>\n",
              "  </div>\n",
              "  "
            ],
            "text/plain": [
              "                                          tweet_text cyberbullying_type  \\\n",
              "0  In other words #katandandre, your food was cra...  not_cyberbullying   \n",
              "1  Why is #aussietv so white? #MKR #theblock #ImA...  not_cyberbullying   \n",
              "2  @XochitlSuckkks a classy whore? Or more red ve...  not_cyberbullying   \n",
              "3  @Jason_Gio meh. :P  thanks for the heads up, b...  not_cyberbullying   \n",
              "4  @RudhoeEnglish This is an ISIS account pretend...  not_cyberbullying   \n",
              "\n",
              "                                              tokens  \\\n",
              "0  [in, other, words, #katandandre, ,, your, food...   \n",
              "1  [why, is, #aussietv, so, white, ?, #mkr, #theb...   \n",
              "2  [@xochitlsuckkks, a, classy, whore, ?, or, mor...   \n",
              "3  [@jason_gio, meh, ., :p, thanks, for, the, hea...   \n",
              "4  [@rudhoeenglish, this, is, an, isis, account, ...   \n",
              "\n",
              "                                             hastags           mentions  \\\n",
              "0                               [#katandandre, #mkr]                 []   \n",
              "1  [#aussietv, #mkr, #theblock, #imacelebrityau, ...                 []   \n",
              "2                                                 []  [@xochitlsuckkks]   \n",
              "3                                                 []       [@jason_gio]   \n",
              "4                                                 []   [@rudhoeenglish]   \n",
              "\n",
              "   length                                   remove_stopwords  \\\n",
              "0      11  [words, #katandandre, ,, food, crapilicious, !...   \n",
              "1      15  [#aussietv, white, ?, #mkr, #theblock, #imacel...   \n",
              "2      11  [@xochitlsuckkks, classy, whore, ?, red, velve...   \n",
              "3      21  [@jason_gio, meh, ., :p, thanks, heads, ,, con...   \n",
              "4      21  [@rudhoeenglish, isis, account, pretending, ku...   \n",
              "\n",
              "                                           lemmatise  hashtags_present  \\\n",
              "0                         [word, food, crapilicious]                 1   \n",
              "1                                            [white]                 1   \n",
              "2              [classy, whore, red, velvet, cupcake]                 0   \n",
              "3  [meh, thanks, head, concerned, another, angry,...                 0   \n",
              "4  [isi, account, pretending, kurdish, account, l...                 0   \n",
              "\n",
              "   mentions_present  \n",
              "0                 0  \n",
              "1                 0  \n",
              "2                 1  \n",
              "3                 1  \n",
              "4                 1  "
            ]
          },
          "metadata": {},
          "execution_count": 69
        }
      ],
      "source": [
        "from sklearn.model_selection import train_test_split\n",
        "df= LC_tokeniser(data)\n",
        "df= hashtag(df)\n",
        "df= mentions(df)\n",
        "df= length(df)\n",
        "df= remove_stopwords(df)\n",
        "df= lemmatise(df)\n",
        "df[\"hashtags_present\"]=df[\"hastags\"].apply(lambda x: int((len(x)>0)))\n",
        "df[\"mentions_present\"]= df[\"mentions\"].apply(lambda x:int((len(x)>0)))\n",
        "df.head()"
      ]
    },
    {
      "cell_type": "code",
      "execution_count": 70,
      "metadata": {
        "id": "WXgPF85X2iCQ"
      },
      "outputs": [],
      "source": [
        "df= LDA(df)"
      ]
    },
    {
      "cell_type": "code",
      "execution_count": 71,
      "metadata": {
        "colab": {
          "base_uri": "https://localhost:8080/",
          "height": 612
        },
        "id": "0I3_kbOcUzfn",
        "outputId": "2e9b94b8-2393-44df-e69a-38d3b7a9e123"
      },
      "outputs": [
        {
          "output_type": "execute_result",
          "data": {
            "text/html": [
              "\n",
              "  <div id=\"df-7efcebac-7bc1-44e7-ad74-684180c92389\">\n",
              "    <div class=\"colab-df-container\">\n",
              "      <div>\n",
              "<style scoped>\n",
              "    .dataframe tbody tr th:only-of-type {\n",
              "        vertical-align: middle;\n",
              "    }\n",
              "\n",
              "    .dataframe tbody tr th {\n",
              "        vertical-align: top;\n",
              "    }\n",
              "\n",
              "    .dataframe thead th {\n",
              "        text-align: right;\n",
              "    }\n",
              "</style>\n",
              "<table border=\"1\" class=\"dataframe\">\n",
              "  <thead>\n",
              "    <tr style=\"text-align: right;\">\n",
              "      <th></th>\n",
              "      <th>tweet_text</th>\n",
              "      <th>cyberbullying_type</th>\n",
              "      <th>tokens</th>\n",
              "      <th>hastags</th>\n",
              "      <th>mentions</th>\n",
              "      <th>length</th>\n",
              "      <th>remove_stopwords</th>\n",
              "      <th>lemmatise</th>\n",
              "      <th>hashtags_present</th>\n",
              "      <th>mentions_present</th>\n",
              "      <th>...</th>\n",
              "      <th>Topic3</th>\n",
              "      <th>Topic4</th>\n",
              "      <th>Topic5</th>\n",
              "      <th>Topic6</th>\n",
              "      <th>Topic7</th>\n",
              "      <th>Topic8</th>\n",
              "      <th>Topic9</th>\n",
              "      <th>Topic10</th>\n",
              "      <th>Dominant_topic</th>\n",
              "      <th>lemma_sentence</th>\n",
              "    </tr>\n",
              "  </thead>\n",
              "  <tbody>\n",
              "    <tr>\n",
              "      <th>0</th>\n",
              "      <td>In other words #katandandre, your food was cra...</td>\n",
              "      <td>not_cyberbullying</td>\n",
              "      <td>[in, other, words, #katandandre, ,, your, food...</td>\n",
              "      <td>[#katandandre, #mkr]</td>\n",
              "      <td>[]</td>\n",
              "      <td>11</td>\n",
              "      <td>[words, #katandandre, ,, food, crapilicious, !...</td>\n",
              "      <td>[word, food, crapilicious]</td>\n",
              "      <td>1</td>\n",
              "      <td>0</td>\n",
              "      <td>...</td>\n",
              "      <td>0.01</td>\n",
              "      <td>0.01</td>\n",
              "      <td>0.01</td>\n",
              "      <td>0.01</td>\n",
              "      <td>0.01</td>\n",
              "      <td>0.01</td>\n",
              "      <td>0.91</td>\n",
              "      <td>0.01</td>\n",
              "      <td>9</td>\n",
              "      <td>word food crapilicious</td>\n",
              "    </tr>\n",
              "    <tr>\n",
              "      <th>1</th>\n",
              "      <td>Why is #aussietv so white? #MKR #theblock #ImA...</td>\n",
              "      <td>not_cyberbullying</td>\n",
              "      <td>[why, is, #aussietv, so, white, ?, #mkr, #theb...</td>\n",
              "      <td>[#aussietv, #mkr, #theblock, #imacelebrityau, ...</td>\n",
              "      <td>[]</td>\n",
              "      <td>15</td>\n",
              "      <td>[#aussietv, white, ?, #mkr, #theblock, #imacel...</td>\n",
              "      <td>[white]</td>\n",
              "      <td>1</td>\n",
              "      <td>0</td>\n",
              "      <td>...</td>\n",
              "      <td>0.00</td>\n",
              "      <td>0.96</td>\n",
              "      <td>0.00</td>\n",
              "      <td>0.00</td>\n",
              "      <td>0.00</td>\n",
              "      <td>0.00</td>\n",
              "      <td>0.00</td>\n",
              "      <td>0.00</td>\n",
              "      <td>4</td>\n",
              "      <td>white</td>\n",
              "    </tr>\n",
              "    <tr>\n",
              "      <th>2</th>\n",
              "      <td>@XochitlSuckkks a classy whore? Or more red ve...</td>\n",
              "      <td>not_cyberbullying</td>\n",
              "      <td>[@xochitlsuckkks, a, classy, whore, ?, or, mor...</td>\n",
              "      <td>[]</td>\n",
              "      <td>[@xochitlsuckkks]</td>\n",
              "      <td>11</td>\n",
              "      <td>[@xochitlsuckkks, classy, whore, ?, red, velve...</td>\n",
              "      <td>[classy, whore, red, velvet, cupcake]</td>\n",
              "      <td>0</td>\n",
              "      <td>1</td>\n",
              "      <td>...</td>\n",
              "      <td>0.01</td>\n",
              "      <td>0.01</td>\n",
              "      <td>0.92</td>\n",
              "      <td>0.01</td>\n",
              "      <td>0.01</td>\n",
              "      <td>0.01</td>\n",
              "      <td>0.01</td>\n",
              "      <td>0.01</td>\n",
              "      <td>5</td>\n",
              "      <td>classy whore red velvet cupcake</td>\n",
              "    </tr>\n",
              "    <tr>\n",
              "      <th>3</th>\n",
              "      <td>@Jason_Gio meh. :P  thanks for the heads up, b...</td>\n",
              "      <td>not_cyberbullying</td>\n",
              "      <td>[@jason_gio, meh, ., :p, thanks, for, the, hea...</td>\n",
              "      <td>[]</td>\n",
              "      <td>[@jason_gio]</td>\n",
              "      <td>21</td>\n",
              "      <td>[@jason_gio, meh, ., :p, thanks, heads, ,, con...</td>\n",
              "      <td>[meh, thanks, head, concerned, another, angry,...</td>\n",
              "      <td>0</td>\n",
              "      <td>1</td>\n",
              "      <td>...</td>\n",
              "      <td>0.01</td>\n",
              "      <td>0.01</td>\n",
              "      <td>0.01</td>\n",
              "      <td>0.01</td>\n",
              "      <td>0.01</td>\n",
              "      <td>0.01</td>\n",
              "      <td>0.01</td>\n",
              "      <td>0.01</td>\n",
              "      <td>2</td>\n",
              "      <td>meh thanks head concerned another angry dude t...</td>\n",
              "    </tr>\n",
              "    <tr>\n",
              "      <th>4</th>\n",
              "      <td>@RudhoeEnglish This is an ISIS account pretend...</td>\n",
              "      <td>not_cyberbullying</td>\n",
              "      <td>[@rudhoeenglish, this, is, an, isis, account, ...</td>\n",
              "      <td>[]</td>\n",
              "      <td>[@rudhoeenglish]</td>\n",
              "      <td>21</td>\n",
              "      <td>[@rudhoeenglish, isis, account, pretending, ku...</td>\n",
              "      <td>[isi, account, pretending, kurdish, account, l...</td>\n",
              "      <td>0</td>\n",
              "      <td>1</td>\n",
              "      <td>...</td>\n",
              "      <td>0.01</td>\n",
              "      <td>0.95</td>\n",
              "      <td>0.01</td>\n",
              "      <td>0.01</td>\n",
              "      <td>0.01</td>\n",
              "      <td>0.01</td>\n",
              "      <td>0.01</td>\n",
              "      <td>0.01</td>\n",
              "      <td>4</td>\n",
              "      <td>isi account pretending kurdish account like is...</td>\n",
              "    </tr>\n",
              "  </tbody>\n",
              "</table>\n",
              "<p>5 rows × 22 columns</p>\n",
              "</div>\n",
              "      <button class=\"colab-df-convert\" onclick=\"convertToInteractive('df-7efcebac-7bc1-44e7-ad74-684180c92389')\"\n",
              "              title=\"Convert this dataframe to an interactive table.\"\n",
              "              style=\"display:none;\">\n",
              "        \n",
              "  <svg xmlns=\"http://www.w3.org/2000/svg\" height=\"24px\"viewBox=\"0 0 24 24\"\n",
              "       width=\"24px\">\n",
              "    <path d=\"M0 0h24v24H0V0z\" fill=\"none\"/>\n",
              "    <path d=\"M18.56 5.44l.94 2.06.94-2.06 2.06-.94-2.06-.94-.94-2.06-.94 2.06-2.06.94zm-11 1L8.5 8.5l.94-2.06 2.06-.94-2.06-.94L8.5 2.5l-.94 2.06-2.06.94zm10 10l.94 2.06.94-2.06 2.06-.94-2.06-.94-.94-2.06-.94 2.06-2.06.94z\"/><path d=\"M17.41 7.96l-1.37-1.37c-.4-.4-.92-.59-1.43-.59-.52 0-1.04.2-1.43.59L10.3 9.45l-7.72 7.72c-.78.78-.78 2.05 0 2.83L4 21.41c.39.39.9.59 1.41.59.51 0 1.02-.2 1.41-.59l7.78-7.78 2.81-2.81c.8-.78.8-2.07 0-2.86zM5.41 20L4 18.59l7.72-7.72 1.47 1.35L5.41 20z\"/>\n",
              "  </svg>\n",
              "      </button>\n",
              "      \n",
              "  <style>\n",
              "    .colab-df-container {\n",
              "      display:flex;\n",
              "      flex-wrap:wrap;\n",
              "      gap: 12px;\n",
              "    }\n",
              "\n",
              "    .colab-df-convert {\n",
              "      background-color: #E8F0FE;\n",
              "      border: none;\n",
              "      border-radius: 50%;\n",
              "      cursor: pointer;\n",
              "      display: none;\n",
              "      fill: #1967D2;\n",
              "      height: 32px;\n",
              "      padding: 0 0 0 0;\n",
              "      width: 32px;\n",
              "    }\n",
              "\n",
              "    .colab-df-convert:hover {\n",
              "      background-color: #E2EBFA;\n",
              "      box-shadow: 0px 1px 2px rgba(60, 64, 67, 0.3), 0px 1px 3px 1px rgba(60, 64, 67, 0.15);\n",
              "      fill: #174EA6;\n",
              "    }\n",
              "\n",
              "    [theme=dark] .colab-df-convert {\n",
              "      background-color: #3B4455;\n",
              "      fill: #D2E3FC;\n",
              "    }\n",
              "\n",
              "    [theme=dark] .colab-df-convert:hover {\n",
              "      background-color: #434B5C;\n",
              "      box-shadow: 0px 1px 3px 1px rgba(0, 0, 0, 0.15);\n",
              "      filter: drop-shadow(0px 1px 2px rgba(0, 0, 0, 0.3));\n",
              "      fill: #FFFFFF;\n",
              "    }\n",
              "  </style>\n",
              "\n",
              "      <script>\n",
              "        const buttonEl =\n",
              "          document.querySelector('#df-7efcebac-7bc1-44e7-ad74-684180c92389 button.colab-df-convert');\n",
              "        buttonEl.style.display =\n",
              "          google.colab.kernel.accessAllowed ? 'block' : 'none';\n",
              "\n",
              "        async function convertToInteractive(key) {\n",
              "          const element = document.querySelector('#df-7efcebac-7bc1-44e7-ad74-684180c92389');\n",
              "          const dataTable =\n",
              "            await google.colab.kernel.invokeFunction('convertToInteractive',\n",
              "                                                     [key], {});\n",
              "          if (!dataTable) return;\n",
              "\n",
              "          const docLinkHtml = 'Like what you see? Visit the ' +\n",
              "            '<a target=\"_blank\" href=https://colab.research.google.com/notebooks/data_table.ipynb>data table notebook</a>'\n",
              "            + ' to learn more about interactive tables.';\n",
              "          element.innerHTML = '';\n",
              "          dataTable['output_type'] = 'display_data';\n",
              "          await google.colab.output.renderOutput(dataTable, element);\n",
              "          const docLink = document.createElement('div');\n",
              "          docLink.innerHTML = docLinkHtml;\n",
              "          element.appendChild(docLink);\n",
              "        }\n",
              "      </script>\n",
              "    </div>\n",
              "  </div>\n",
              "  "
            ],
            "text/plain": [
              "                                          tweet_text cyberbullying_type  \\\n",
              "0  In other words #katandandre, your food was cra...  not_cyberbullying   \n",
              "1  Why is #aussietv so white? #MKR #theblock #ImA...  not_cyberbullying   \n",
              "2  @XochitlSuckkks a classy whore? Or more red ve...  not_cyberbullying   \n",
              "3  @Jason_Gio meh. :P  thanks for the heads up, b...  not_cyberbullying   \n",
              "4  @RudhoeEnglish This is an ISIS account pretend...  not_cyberbullying   \n",
              "\n",
              "                                              tokens  \\\n",
              "0  [in, other, words, #katandandre, ,, your, food...   \n",
              "1  [why, is, #aussietv, so, white, ?, #mkr, #theb...   \n",
              "2  [@xochitlsuckkks, a, classy, whore, ?, or, mor...   \n",
              "3  [@jason_gio, meh, ., :p, thanks, for, the, hea...   \n",
              "4  [@rudhoeenglish, this, is, an, isis, account, ...   \n",
              "\n",
              "                                             hastags           mentions  \\\n",
              "0                               [#katandandre, #mkr]                 []   \n",
              "1  [#aussietv, #mkr, #theblock, #imacelebrityau, ...                 []   \n",
              "2                                                 []  [@xochitlsuckkks]   \n",
              "3                                                 []       [@jason_gio]   \n",
              "4                                                 []   [@rudhoeenglish]   \n",
              "\n",
              "   length                                   remove_stopwords  \\\n",
              "0      11  [words, #katandandre, ,, food, crapilicious, !...   \n",
              "1      15  [#aussietv, white, ?, #mkr, #theblock, #imacel...   \n",
              "2      11  [@xochitlsuckkks, classy, whore, ?, red, velve...   \n",
              "3      21  [@jason_gio, meh, ., :p, thanks, heads, ,, con...   \n",
              "4      21  [@rudhoeenglish, isis, account, pretending, ku...   \n",
              "\n",
              "                                           lemmatise  hashtags_present  \\\n",
              "0                         [word, food, crapilicious]                 1   \n",
              "1                                            [white]                 1   \n",
              "2              [classy, whore, red, velvet, cupcake]                 0   \n",
              "3  [meh, thanks, head, concerned, another, angry,...                 0   \n",
              "4  [isi, account, pretending, kurdish, account, l...                 0   \n",
              "\n",
              "   mentions_present  ...  Topic3  Topic4  Topic5  Topic6  Topic7  Topic8  \\\n",
              "0                 0  ...    0.01    0.01    0.01    0.01    0.01    0.01   \n",
              "1                 0  ...    0.00    0.96    0.00    0.00    0.00    0.00   \n",
              "2                 1  ...    0.01    0.01    0.92    0.01    0.01    0.01   \n",
              "3                 1  ...    0.01    0.01    0.01    0.01    0.01    0.01   \n",
              "4                 1  ...    0.01    0.95    0.01    0.01    0.01    0.01   \n",
              "\n",
              "   Topic9  Topic10  Dominant_topic  \\\n",
              "0    0.91     0.01               9   \n",
              "1    0.00     0.00               4   \n",
              "2    0.01     0.01               5   \n",
              "3    0.01     0.01               2   \n",
              "4    0.01     0.01               4   \n",
              "\n",
              "                                      lemma_sentence  \n",
              "0                             word food crapilicious  \n",
              "1                                              white  \n",
              "2                    classy whore red velvet cupcake  \n",
              "3  meh thanks head concerned another angry dude t...  \n",
              "4  isi account pretending kurdish account like is...  \n",
              "\n",
              "[5 rows x 22 columns]"
            ]
          },
          "metadata": {},
          "execution_count": 71
        }
      ],
      "source": [
        "df[\"lemma_sentence\"]= df[\"lemmatise\"].apply(lambda x: \" \".join(str(w) for w in x))\n",
        "df.head()"
      ]
    },
    {
      "cell_type": "code",
      "execution_count": 72,
      "metadata": {
        "colab": {
          "base_uri": "https://localhost:8080/"
        },
        "id": "PH6U4RcMNe87",
        "outputId": "68fa3dad-09f4-423c-b1f2-5090ee5d5d81"
      },
      "outputs": [
        {
          "output_type": "stream",
          "name": "stdout",
          "text": [
            "Duplicate tweets: 3312\n"
          ]
        }
      ],
      "source": [
        "print(\"Duplicate tweets:\",df[\"lemma_sentence\"].duplicated().sum())\n",
        "df.drop_duplicates(\"lemma_sentence\", inplace=True)"
      ]
    },
    {
      "cell_type": "code",
      "execution_count": 73,
      "metadata": {
        "colab": {
          "base_uri": "https://localhost:8080/"
        },
        "id": "rNNvrrfnzkOh",
        "outputId": "014b35b3-4fed-4f09-d3f7-0caa2b8a4f0e"
      },
      "outputs": [
        {
          "output_type": "stream",
          "name": "stdout",
          "text": [
            "<class 'pandas.core.frame.DataFrame'>\n",
            "Int64Index: 44380 entries, 0 to 47691\n",
            "Data columns (total 22 columns):\n",
            " #   Column              Non-Null Count  Dtype  \n",
            "---  ------              --------------  -----  \n",
            " 0   tweet_text          44380 non-null  object \n",
            " 1   cyberbullying_type  44380 non-null  object \n",
            " 2   tokens              44380 non-null  object \n",
            " 3   hastags             44380 non-null  object \n",
            " 4   mentions            44380 non-null  object \n",
            " 5   length              44380 non-null  int64  \n",
            " 6   remove_stopwords    44380 non-null  object \n",
            " 7   lemmatise           44380 non-null  object \n",
            " 8   hashtags_present    44380 non-null  int64  \n",
            " 9   mentions_present    44380 non-null  int64  \n",
            " 10  Topic1              44380 non-null  float64\n",
            " 11  Topic2              44380 non-null  float64\n",
            " 12  Topic3              44380 non-null  float64\n",
            " 13  Topic4              44380 non-null  float64\n",
            " 14  Topic5              44380 non-null  float64\n",
            " 15  Topic6              44380 non-null  float64\n",
            " 16  Topic7              44380 non-null  float64\n",
            " 17  Topic8              44380 non-null  float64\n",
            " 18  Topic9              44380 non-null  float64\n",
            " 19  Topic10             44380 non-null  float64\n",
            " 20  Dominant_topic      44380 non-null  int64  \n",
            " 21  lemma_sentence      44380 non-null  object \n",
            "dtypes: float64(10), int64(4), object(8)\n",
            "memory usage: 7.8+ MB\n"
          ]
        }
      ],
      "source": [
        "df.info()"
      ]
    },
    {
      "cell_type": "code",
      "execution_count": 74,
      "metadata": {
        "id": "90SxTm_Zr_zi"
      },
      "outputs": [],
      "source": [
        "x = df.iloc[:,2:22]\n",
        "y = df['cyberbullying_type']"
      ]
    },
    {
      "cell_type": "code",
      "execution_count": 75,
      "metadata": {
        "id": "aHITrxeihbDt"
      },
      "outputs": [],
      "source": [
        "del(data)"
      ]
    },
    {
      "cell_type": "code",
      "execution_count": 76,
      "metadata": {
        "colab": {
          "base_uri": "https://localhost:8080/"
        },
        "id": "6CbhRCLxt1y7",
        "outputId": "74448b6d-b9c2-4920-d03a-1989c28187e1"
      },
      "outputs": [
        {
          "output_type": "stream",
          "name": "stdout",
          "text": [
            "<class 'pandas.core.frame.DataFrame'>\n",
            "Int64Index: 44380 entries, 0 to 47691\n",
            "Data columns (total 20 columns):\n",
            " #   Column            Non-Null Count  Dtype  \n",
            "---  ------            --------------  -----  \n",
            " 0   tokens            44380 non-null  object \n",
            " 1   hastags           44380 non-null  object \n",
            " 2   mentions          44380 non-null  object \n",
            " 3   length            44380 non-null  int64  \n",
            " 4   remove_stopwords  44380 non-null  object \n",
            " 5   lemmatise         44380 non-null  object \n",
            " 6   hashtags_present  44380 non-null  int64  \n",
            " 7   mentions_present  44380 non-null  int64  \n",
            " 8   Topic1            44380 non-null  float64\n",
            " 9   Topic2            44380 non-null  float64\n",
            " 10  Topic3            44380 non-null  float64\n",
            " 11  Topic4            44380 non-null  float64\n",
            " 12  Topic5            44380 non-null  float64\n",
            " 13  Topic6            44380 non-null  float64\n",
            " 14  Topic7            44380 non-null  float64\n",
            " 15  Topic8            44380 non-null  float64\n",
            " 16  Topic9            44380 non-null  float64\n",
            " 17  Topic10           44380 non-null  float64\n",
            " 18  Dominant_topic    44380 non-null  int64  \n",
            " 19  lemma_sentence    44380 non-null  object \n",
            "dtypes: float64(10), int64(4), object(6)\n",
            "memory usage: 7.1+ MB\n"
          ]
        }
      ],
      "source": [
        "numerical_ix= [3,8,9,10,11,12,13,14,15,16,17]\n",
        "categorical_ix= [6,7,18]\n",
        "text_ix=[19]\n",
        "x.info()"
      ]
    },
    {
      "cell_type": "code",
      "execution_count": 77,
      "metadata": {
        "colab": {
          "base_uri": "https://localhost:8080/"
        },
        "id": "DDBRF6T3kTKz",
        "outputId": "5654b6b2-af0d-4a7b-d0b7-12a944418f6d"
      },
      "outputs": [
        {
          "output_type": "stream",
          "name": "stdout",
          "text": [
            "(44380, 15751)\n",
            "['aa' 'aaaand' 'aap' ... 'zombie' 'zone' 'zoo']\n"
          ]
        }
      ],
      "source": [
        "from sklearn.feature_extraction.text import TfidfVectorizer\n",
        "tfidf = TfidfVectorizer(sublinear_tf=True, min_df=5, norm='l2', encoding='latin-1', ngram_range=(1, 2), stop_words='english')\n",
        "text_features=  tfidf.fit_transform(df.lemma_sentence).toarray()\n",
        "labels = y\n",
        "print(text_features.shape)\n",
        "print(tfidf.get_feature_names_out())"
      ]
    },
    {
      "cell_type": "code",
      "execution_count": 78,
      "metadata": {
        "colab": {
          "base_uri": "https://localhost:8080/"
        },
        "id": "h3-TGmkwmGg6",
        "outputId": "4b1d0efe-debb-4b9d-e421-469fcf933d4f"
      },
      "outputs": [
        {
          "output_type": "stream",
          "name": "stdout",
          "text": [
            "<class 'pandas.core.frame.DataFrame'>\n",
            "RangeIndex: 44380 entries, 0 to 44379\n",
            "Columns: 15751 entries, aa to zoo\n",
            "dtypes: float64(15751)\n",
            "memory usage: 5.2 GB\n"
          ]
        }
      ],
      "source": [
        "txt= pd.DataFrame(data= text_features, columns=tfidf.get_feature_names_out() )\n",
        "txt.info()"
      ]
    },
    {
      "cell_type": "code",
      "execution_count": 79,
      "metadata": {
        "id": "5XNB9xiOw0mP"
      },
      "outputs": [],
      "source": [
        "topic_df= pd.get_dummies(x.Dominant_topic, prefix=\"Dominant_topic\")"
      ]
    },
    {
      "cell_type": "code",
      "execution_count": 80,
      "metadata": {
        "colab": {
          "base_uri": "https://localhost:8080/"
        },
        "id": "lMRHHR_b5KIp",
        "outputId": "347cf63c-2c3a-4bd3-cb2c-1207ee0e6a02"
      },
      "outputs": [
        {
          "output_type": "stream",
          "name": "stdout",
          "text": [
            "<class 'pandas.core.frame.DataFrame'>\n",
            "Int64Index: 44380 entries, 0 to 47691\n",
            "Data columns (total 10 columns):\n",
            " #   Column             Non-Null Count  Dtype\n",
            "---  ------             --------------  -----\n",
            " 0   Dominant_topic_1   44380 non-null  uint8\n",
            " 1   Dominant_topic_2   44380 non-null  uint8\n",
            " 2   Dominant_topic_3   44380 non-null  uint8\n",
            " 3   Dominant_topic_4   44380 non-null  uint8\n",
            " 4   Dominant_topic_5   44380 non-null  uint8\n",
            " 5   Dominant_topic_6   44380 non-null  uint8\n",
            " 6   Dominant_topic_7   44380 non-null  uint8\n",
            " 7   Dominant_topic_8   44380 non-null  uint8\n",
            " 8   Dominant_topic_9   44380 non-null  uint8\n",
            " 9   Dominant_topic_10  44380 non-null  uint8\n",
            "dtypes: uint8(10)\n",
            "memory usage: 780.1 KB\n"
          ]
        }
      ],
      "source": [
        "topic_df.info()"
      ]
    },
    {
      "cell_type": "code",
      "execution_count": 81,
      "metadata": {
        "id": "2P29NKp0xa4u"
      },
      "outputs": [],
      "source": [
        "merge_df= pd.concat([txt, topic_df.set_index(txt.index)], axis=1)"
      ]
    },
    {
      "cell_type": "code",
      "execution_count": 82,
      "metadata": {
        "colab": {
          "base_uri": "https://localhost:8080/"
        },
        "id": "laIdsV-wCnyJ",
        "outputId": "4aee7ea8-54b8-44a7-8c43-3e3e03b3c452"
      },
      "outputs": [
        {
          "output_type": "stream",
          "name": "stdout",
          "text": [
            "<class 'pandas.core.frame.DataFrame'>\n",
            "RangeIndex: 44380 entries, 0 to 44379\n",
            "Columns: 15761 entries, aa to Dominant_topic_10\n",
            "dtypes: float64(15751), uint8(10)\n",
            "memory usage: 5.2 GB\n"
          ]
        }
      ],
      "source": [
        "merge_df.info()"
      ]
    },
    {
      "cell_type": "code",
      "execution_count": 83,
      "metadata": {
        "id": "QNRtGNNs_CHf"
      },
      "outputs": [],
      "source": [
        "s= x.length.to_frame()\n",
        "X= pd.concat([merge_df, s.set_index(merge_df.index)], axis=1)"
      ]
    },
    {
      "cell_type": "code",
      "execution_count": 84,
      "metadata": {
        "id": "7a38ElcLCuJP"
      },
      "outputs": [],
      "source": [
        "#Deleting dfs not required in future, to save memory\n",
        "del(merge_df)\n",
        "del(x)\n",
        "del(txt)\n",
        "del(topic_df)"
      ]
    },
    {
      "cell_type": "code",
      "source": [
        "'''# This function take a dataframe\n",
        "# as a parameter and returning list\n",
        "# of column names whose contents\n",
        "# are duplicates.\n",
        "def getDuplicateColumns(df):\n",
        "\n",
        "\t# Create an empty set\n",
        "\tduplicateColumnNames = set()\n",
        "\t\n",
        "\t# Iterate through all the columns\n",
        "\t# of dataframe\n",
        "\tfor x in range(df.shape[1]):\n",
        "\t\t\n",
        "\t\t# Take column at xth index.\n",
        "\t\tcol = df.iloc[:, x]\n",
        "\t\t\n",
        "\t\t# Iterate through all the columns in\n",
        "\t\t# DataFrame from (x + 1)th index to\n",
        "\t\t# last index\n",
        "\t\tfor y in range(x + 1, df.shape[1]):\n",
        "\t\t\t\n",
        "\t\t\t# Take column at yth index.\n",
        "\t\t\totherCol = df.iloc[:, y]\n",
        "\t\t\t\n",
        "\t\t\t# Check if two columns at x & y\n",
        "\t\t\t# index are equal or not,\n",
        "\t\t\t# if equal then adding\n",
        "\t\t\t# to the set\n",
        "\t\t\tif col.equals(otherCol):\n",
        "\t\t\t\tduplicateColumnNames.add(df.columns.values[y])\n",
        "\t\t\t\t\n",
        "\t# Return list of unique column names\n",
        "\t# whose contents are duplicates.\n",
        "\treturn list(duplicateColumnNames)\n",
        "\n",
        "# Dropping duplicate columns\n",
        "X = X.drop(columns = getDuplicateColumns(df))\n",
        "\n",
        "print(\"Resultant Dataframe :\")\n",
        "\n",
        "\t# Show the dataframe\n",
        "X.head()\n",
        "'''"
      ],
      "metadata": {
        "colab": {
          "base_uri": "https://localhost:8080/",
          "height": 126
        },
        "id": "W3N26Dh0Ftds",
        "outputId": "2885755a-34e1-4dd8-d927-6b7089628440"
      },
      "execution_count": 85,
      "outputs": [
        {
          "output_type": "execute_result",
          "data": {
            "application/vnd.google.colaboratory.intrinsic+json": {
              "type": "string"
            },
            "text/plain": [
              "'# This function take a dataframe\\n# as a parameter and returning list\\n# of column names whose contents\\n# are duplicates.\\ndef getDuplicateColumns(df):\\n\\n\\t# Create an empty set\\n\\tduplicateColumnNames = set()\\n\\t\\n\\t# Iterate through all the columns\\n\\t# of dataframe\\n\\tfor x in range(df.shape[1]):\\n\\t\\t\\n\\t\\t# Take column at xth index.\\n\\t\\tcol = df.iloc[:, x]\\n\\t\\t\\n\\t\\t# Iterate through all the columns in\\n\\t\\t# DataFrame from (x + 1)th index to\\n\\t\\t# last index\\n\\t\\tfor y in range(x + 1, df.shape[1]):\\n\\t\\t\\t\\n\\t\\t\\t# Take column at yth index.\\n\\t\\t\\totherCol = df.iloc[:, y]\\n\\t\\t\\t\\n\\t\\t\\t# Check if two columns at x & y\\n\\t\\t\\t# index are equal or not,\\n\\t\\t\\t# if equal then adding\\n\\t\\t\\t# to the set\\n\\t\\t\\tif col.equals(otherCol):\\n\\t\\t\\t\\tduplicateColumnNames.add(df.columns.values[y])\\n\\t\\t\\t\\t\\n\\t# Return list of unique column names\\n\\t# whose contents are duplicates.\\n\\treturn list(duplicateColumnNames)\\n\\n# Dropping duplicate columns\\nX = X.drop(columns = getDuplicateColumns(df))\\n\\nprint(\"Resultant Dataframe :\")\\n\\n\\t# Show the dataframe\\nX.head()\\n'"
            ]
          },
          "metadata": {},
          "execution_count": 85
        }
      ]
    },
    {
      "cell_type": "code",
      "execution_count": 86,
      "metadata": {
        "colab": {
          "base_uri": "https://localhost:8080/"
        },
        "id": "w_Q59TtvDnmh",
        "outputId": "ada16368-26f5-439e-ccf4-d1175b1bdaf1"
      },
      "outputs": [
        {
          "output_type": "stream",
          "name": "stdout",
          "text": [
            "<class 'pandas.core.frame.DataFrame'>\n",
            "RangeIndex: 44380 entries, 0 to 44379\n",
            "Columns: 15762 entries, aa to length\n",
            "dtypes: float64(15751), int64(1), uint8(10)\n",
            "memory usage: 5.2 GB\n"
          ]
        }
      ],
      "source": [
        "X.info()"
      ]
    },
    {
      "cell_type": "code",
      "execution_count": 87,
      "metadata": {
        "id": "p6matlSBFAvz"
      },
      "outputs": [],
      "source": [
        "from sklearn.model_selection import train_test_split\n",
        "x_train, x_test, y_train, y_test = train_test_split(X, y, test_size = 0.2, random_state = 42)\n",
        "x_train.shape, x_test.shape, y_train.shape, y_test.shape\n",
        "del(X)"
      ]
    },
    {
      "cell_type": "markdown",
      "metadata": {
        "id": "segOtIf8GURE"
      },
      "source": [
        "Base Model : Multinomial Naive Bayes"
      ]
    },
    {
      "cell_type": "code",
      "execution_count": 34,
      "metadata": {
        "id": "aCkYkHFQFOt2"
      },
      "outputs": [],
      "source": [
        "from sklearn.model_selection import train_test_split\n",
        "from sklearn.feature_extraction.text import CountVectorizer\n",
        "from sklearn.feature_extraction.text import TfidfTransformer\n",
        "from sklearn.naive_bayes import MultinomialNB\n",
        "\n",
        "clf = MultinomialNB().fit(x_train, y_train)"
      ]
    },
    {
      "cell_type": "code",
      "execution_count": 35,
      "metadata": {
        "colab": {
          "base_uri": "https://localhost:8080/"
        },
        "id": "r85jvwdaGkYv",
        "outputId": "70fa36ec-687e-49c8-97fe-6c745d389a8d"
      },
      "outputs": [
        {
          "output_type": "execute_result",
          "data": {
            "text/plain": [
              "0.7225101397025687"
            ]
          },
          "metadata": {},
          "execution_count": 35
        }
      ],
      "source": [
        "clf.score(x_test,y_test)"
      ]
    },
    {
      "cell_type": "code",
      "execution_count": 36,
      "metadata": {
        "colab": {
          "base_uri": "https://localhost:8080/"
        },
        "id": "ocR0ok8uf6aq",
        "outputId": "4d7c985b-e72a-4dc2-f6c0-afaf5e5d27f4"
      },
      "outputs": [
        {
          "output_type": "stream",
          "name": "stdout",
          "text": [
            "Classification report for Multinomial Naive Bayes:\n",
            "                      precision    recall  f1-score   support\n",
            "\n",
            "                age       0.74      0.97      0.84      1552\n",
            "          ethnicity       0.78      0.83      0.80      1571\n",
            "             gender       0.75      0.81      0.78      1496\n",
            "  not_cyberbullying       0.69      0.40      0.51      1575\n",
            "other_cyberbullying       0.63      0.19      0.29      1107\n",
            "           religion       0.68      0.98      0.80      1575\n",
            "\n",
            "           accuracy                           0.72      8876\n",
            "          macro avg       0.71      0.70      0.67      8876\n",
            "       weighted avg       0.71      0.72      0.69      8876\n",
            "\n",
            "Confusion Matrix: \n",
            " [[1500    6    8    9    1   28]\n",
            " [  68 1304   15    6    1  177]\n",
            " [  40   73 1218   77   13   75]\n",
            " [ 214  146  197  634  108  276]\n",
            " [ 201  142  178  190  208  188]\n",
            " [   9    7    6    4    0 1549]]\n",
            "Micro F1 score for  Multinomial Naive Bayes: 0.7225101397025687\n"
          ]
        }
      ],
      "source": [
        "from sklearn.metrics import classification_report, confusion_matrix, accuracy_score\n",
        "y_pred= clf.predict(x_test)\n",
        "\n",
        "print(\"Classification report for Multinomial Naive Bayes:\\n\",classification_report(y_test,y_pred))\n",
        "print(\"Confusion Matrix:\",\"\\n\",confusion_matrix(y_test,y_pred))\n",
        "print(\"Micro F1 score for  Multinomial Naive Bayes:\",accuracy_score(y_test, y_pred))"
      ]
    },
    {
      "cell_type": "code",
      "execution_count": 37,
      "metadata": {
        "id": "fLy8huiVgljC"
      },
      "outputs": [],
      "source": [
        "from sklearn.ensemble import BaggingClassifier\n",
        "bagging_clf = BaggingClassifier(base_estimator=clf,n_estimators=10, random_state=0).fit(x_train, y_train)"
      ]
    },
    {
      "cell_type": "code",
      "execution_count": 38,
      "metadata": {
        "colab": {
          "base_uri": "https://localhost:8080/"
        },
        "id": "W9BTJsPmi9MY",
        "outputId": "fffbc6fc-72d8-4b44-a3f4-bd8cddd783b5"
      },
      "outputs": [
        {
          "output_type": "execute_result",
          "data": {
            "text/plain": [
              "0.723186119873817"
            ]
          },
          "metadata": {},
          "execution_count": 38
        }
      ],
      "source": [
        "bagging_clf.score(x_test, y_test)"
      ]
    },
    {
      "cell_type": "code",
      "source": [
        "from sklearn.metrics import classification_report, confusion_matrix, accuracy_score\n",
        "y_pred= bagging_clf.predict(x_test)\n",
        "\n",
        "print(\"Classification report for Bagging (n_est=20) Multinomial Naive Bayes:\\n\",classification_report(y_test,y_pred))\n",
        "print(\"Confusion Matrix:\",\"\\n\",confusion_matrix(y_test,y_pred))\n",
        "print(\"Micro F1 score for Bagging Multinomial Naive Bayes:\",accuracy_score(y_test, y_pred))"
      ],
      "metadata": {
        "colab": {
          "base_uri": "https://localhost:8080/"
        },
        "id": "9DLtirzT0K4j",
        "outputId": "9eefa58e-085f-44bc-90fd-4b71c70e18b4"
      },
      "execution_count": 39,
      "outputs": [
        {
          "output_type": "stream",
          "name": "stdout",
          "text": [
            "Classification report for Bagging (n_est=20) Multinomial Naive Bayes:\n",
            "                      precision    recall  f1-score   support\n",
            "\n",
            "                age       0.74      0.97      0.84      1552\n",
            "          ethnicity       0.78      0.83      0.80      1571\n",
            "             gender       0.75      0.81      0.78      1496\n",
            "  not_cyberbullying       0.69      0.41      0.51      1575\n",
            "other_cyberbullying       0.64      0.19      0.29      1107\n",
            "           religion       0.68      0.98      0.80      1575\n",
            "\n",
            "           accuracy                           0.72      8876\n",
            "          macro avg       0.71      0.70      0.67      8876\n",
            "       weighted avg       0.71      0.72      0.69      8876\n",
            "\n",
            "Confusion Matrix: \n",
            " [[1498    6    8    9    2   29]\n",
            " [  69 1307   16    6    1  172]\n",
            " [  41   73 1214   80   13   75]\n",
            " [ 208  147  195  646  104  275]\n",
            " [ 202  142  176  192  209  186]\n",
            " [  10    7    8    5    0 1545]]\n",
            "Micro F1 score for Bagging Multinomial Naive Bayes: 0.723186119873817\n"
          ]
        }
      ]
    },
    {
      "cell_type": "markdown",
      "metadata": {
        "id": "XrzQnUcajrjE"
      },
      "source": [
        "**Support Vector Classifier using Stochastic Gradient Descent**"
      ]
    },
    {
      "cell_type": "code",
      "execution_count": 40,
      "metadata": {
        "colab": {
          "base_uri": "https://localhost:8080/"
        },
        "id": "U3ttnEa5gjGO",
        "outputId": "0dd97801-39b8-4cc1-8b0d-aa52ecdea50d"
      },
      "outputs": [
        {
          "output_type": "execute_result",
          "data": {
            "text/plain": [
              "0.44141505182514645"
            ]
          },
          "metadata": {},
          "execution_count": 40
        }
      ],
      "source": [
        "from sklearn.linear_model import SGDClassifier\n",
        "clf_SVC = SGDClassifier(loss='hinge', penalty='l2',alpha=1e-3, random_state=42, max_iter=5, tol=None).fit(x_train, y_train)\n",
        "clf_SVC.score(x_test,y_test)"
      ]
    },
    {
      "cell_type": "code",
      "execution_count": 41,
      "metadata": {
        "colab": {
          "base_uri": "https://localhost:8080/"
        },
        "id": "3Zy_dfKTj1dH",
        "outputId": "d465b777-1393-4b21-9b92-2f6148fe1358"
      },
      "outputs": [
        {
          "output_type": "stream",
          "name": "stdout",
          "text": [
            "Classification report for Support Vector Classification:\n",
            "                      precision    recall  f1-score   support\n",
            "\n",
            "                age       0.62      0.77      0.68      1552\n",
            "          ethnicity       1.00      0.31      0.47      1571\n",
            "             gender       0.28      0.82      0.42      1496\n",
            "  not_cyberbullying       0.47      0.60      0.53      1575\n",
            "other_cyberbullying       0.00      0.00      0.00      1107\n",
            "           religion       1.00      0.05      0.09      1575\n",
            "\n",
            "           accuracy                           0.44      8876\n",
            "          macro avg       0.56      0.42      0.36      8876\n",
            "       weighted avg       0.59      0.44      0.38      8876\n",
            "\n",
            "Confusion Matrix: \n",
            " [[1197    0  284   71    0    0]\n",
            " [ 221  481  789   80    0    0]\n",
            " [ 103    0 1223  170    0    0]\n",
            " [  73    0  560  941    1    0]\n",
            " [  59    0  520  528    0    0]\n",
            " [ 293    0 1014  192    0   76]]\n",
            "Micro F1 score for  SVC: 0.44141505182514645\n"
          ]
        }
      ],
      "source": [
        "y_pred= clf_SVC.predict(x_test)\n",
        "\n",
        "print(\"Classification report for Support Vector Classification:\\n\",classification_report(y_test,y_pred))\n",
        "print(\"Confusion Matrix:\",\"\\n\",confusion_matrix(y_test,y_pred))\n",
        "print(\"Micro F1 score for  SVC:\",accuracy_score(y_test, y_pred))"
      ]
    },
    {
      "cell_type": "markdown",
      "metadata": {
        "id": "aAw78sB2lRMQ"
      },
      "source": [
        "**Decison trees**"
      ]
    },
    {
      "cell_type": "markdown",
      "metadata": {
        "id": "78JHtyX5lUam"
      },
      "source": [
        "Simple Decison tree:"
      ]
    },
    {
      "cell_type": "code",
      "execution_count": 42,
      "metadata": {
        "colab": {
          "base_uri": "https://localhost:8080/"
        },
        "id": "SFb9dBe2lYJH",
        "outputId": "3f44b749-1f2a-42e7-d7c6-9c3562739743"
      },
      "outputs": [
        {
          "output_type": "execute_result",
          "data": {
            "text/plain": [
              "0.8021631365479945"
            ]
          },
          "metadata": {},
          "execution_count": 42
        }
      ],
      "source": [
        "from sklearn import tree\n",
        "clf_tree = tree.DecisionTreeClassifier().fit(x_train, y_train)\n",
        "clf_tree.score(x_test,y_test)"
      ]
    },
    {
      "cell_type": "code",
      "execution_count": 43,
      "metadata": {
        "colab": {
          "base_uri": "https://localhost:8080/"
        },
        "id": "_kr9CEu5l5Zg",
        "outputId": "7b73c07a-1fca-4cac-c3d7-54f583224c5b"
      },
      "outputs": [
        {
          "output_type": "stream",
          "name": "stdout",
          "text": [
            "Classification report for a single Decision Tree:\n",
            "                      precision    recall  f1-score   support\n",
            "\n",
            "                age       0.97      0.97      0.97      1552\n",
            "          ethnicity       0.97      0.96      0.97      1571\n",
            "             gender       0.83      0.81      0.82      1496\n",
            "  not_cyberbullying       0.57      0.59      0.58      1575\n",
            "other_cyberbullying       0.46      0.47      0.47      1107\n",
            "           religion       0.93      0.92      0.93      1575\n",
            "\n",
            "           accuracy                           0.80      8876\n",
            "          macro avg       0.79      0.79      0.79      8876\n",
            "       weighted avg       0.81      0.80      0.80      8876\n",
            "\n",
            "Confusion Matrix: \n",
            " [[1499    3    3   30   16    1]\n",
            " [   4 1513    8   19   19    8]\n",
            " [   2   14 1215  139  116   10]\n",
            " [  19   13  122  923  434   64]\n",
            " [  14    5  107  439  523   19]\n",
            " [   1    7   15   71   34 1447]]\n",
            "Micro F1 score for a single Decision Tree: 0.8021631365479945\n"
          ]
        }
      ],
      "source": [
        "y_pred= clf_tree.predict(x_test)\n",
        "\n",
        "print(\"Classification report for a single Decision Tree:\\n\",classification_report(y_test,y_pred))\n",
        "print(\"Confusion Matrix:\",\"\\n\",confusion_matrix(y_test,y_pred))\n",
        "print(\"Micro F1 score for a single Decision Tree:\",accuracy_score(y_test, y_pred))"
      ]
    },
    {
      "cell_type": "code",
      "source": [
        "from sklearn.model_selection import RandomizedSearchCV\n",
        "\n",
        "pgrid = {\"max_depth\": [1, 2, 3, 4, 5, 6, 7,10],\n",
        "      \"min_samples_split\": [2, 3, 5, 10, 15, 20]}\n",
        "random_search = RandomizedSearchCV(tree.DecisionTreeClassifier(), param_distributions=pgrid, cv=5)\n",
        "random_search.fit(x_train, y_train)\n",
        "print(random_search.best_params_)\n",
        "print(\"Best accuracy for a DT: \",random_search.best_estimator_.score(x_test, y_test))\n",
        "\n",
        "#grid_search = GridSearchCV(tree.DecisionTreeClassifier(), param_grid=pgrid, cv=10)\n",
        "#grid_search.fit(x_train, y_train)\n",
        "#print(grid_search.best_params_)\n",
        "#print(grid_search.best_estimator_.score(x_test, y_test))"
      ],
      "metadata": {
        "colab": {
          "base_uri": "https://localhost:8080/"
        },
        "id": "qGDtqHBV6Dx3",
        "outputId": "2b12222d-bf2f-440d-9158-e57a2cf0d498"
      },
      "execution_count": 44,
      "outputs": [
        {
          "output_type": "stream",
          "name": "stdout",
          "text": [
            "{'min_samples_split': 5, 'max_depth': 7}\n",
            "Best accuracy for a DT:  0.7129337539432177\n"
          ]
        }
      ]
    },
    {
      "cell_type": "code",
      "source": [
        "from sklearn.ensemble import RandomForestClassifier\n",
        "clf_RF= RandomForestClassifier(n_estimators=250, random_state=42).fit(x_train, y_train)\n",
        "clf_RF.score(x_test,y_test)\n",
        "clf_RF.score(x_test,y_test)"
      ],
      "metadata": {
        "colab": {
          "base_uri": "https://localhost:8080/"
        },
        "id": "Ao3tQPfS6nEU",
        "outputId": "bdf9b66e-aa35-4d03-c4ed-0096114d59c3"
      },
      "execution_count": 45,
      "outputs": [
        {
          "output_type": "execute_result",
          "data": {
            "text/plain": [
              "0.8340468679585399"
            ]
          },
          "metadata": {},
          "execution_count": 45
        }
      ]
    },
    {
      "cell_type": "code",
      "source": [
        "y_pred= clf_RF.predict(x_test)\n",
        "\n",
        "print(\"Classification report for Random Forest Classifier:\\n\",classification_report(y_test,y_pred))\n",
        "print(\"Confusion Matrix:\",\"\\n\",confusion_matrix(y_test,y_pred))\n",
        "print(\"Micro F1 score for  Random Forest classifier:\",accuracy_score(y_test, y_pred))"
      ],
      "metadata": {
        "colab": {
          "base_uri": "https://localhost:8080/"
        },
        "id": "F6tGdOR26rR-",
        "outputId": "2bf7f4c0-c976-4016-f40e-42c96fec0e47"
      },
      "execution_count": 46,
      "outputs": [
        {
          "output_type": "stream",
          "name": "stdout",
          "text": [
            "Classification report for Random Forest Classifier:\n",
            "                      precision    recall  f1-score   support\n",
            "\n",
            "                age       0.97      0.98      0.98      1552\n",
            "          ethnicity       0.97      0.98      0.98      1571\n",
            "             gender       0.88      0.84      0.86      1496\n",
            "  not_cyberbullying       0.60      0.68      0.64      1575\n",
            "other_cyberbullying       0.54      0.48      0.51      1107\n",
            "           religion       0.96      0.94      0.95      1575\n",
            "\n",
            "           accuracy                           0.83      8876\n",
            "          macro avg       0.82      0.82      0.82      8876\n",
            "       weighted avg       0.84      0.83      0.83      8876\n",
            "\n",
            "Confusion Matrix: \n",
            " [[1517    1    2   21   11    0]\n",
            " [   2 1545    3   11    8    2]\n",
            " [   1    8 1258  162   64    3]\n",
            " [  22   18   81 1069  332   53]\n",
            " [  15   11   79  469  526    7]\n",
            " [   0    2    8   52   25 1488]]\n",
            "Micro F1 score for  Random Forest classifier: 0.8340468679585399\n"
          ]
        }
      ]
    },
    {
      "cell_type": "code",
      "source": [
        "'''from xgboost.sklearn import XGBRFClassifier\n",
        "from sklearn.model_selection import cross_val_score\n",
        "\n",
        "model = XGBRFClassifier().fit(x_train, y_train)  \n",
        "print(\"accuracies\",model.score(x_test, y_test))\n",
        "y_pred= model.predict(x_test)\n",
        "print(\"Classification report for XGB RF:\\n\",classification_report(y_test,y_pred))\n",
        "print(\"Confusion Matrix:\",\"\\n\",confusion_matrix(y_test,y_pred))\n",
        "print(\"Micro F1 score for XGB RF:\",accuracy_score(y_test, y_pred))\n",
        "'''"
      ],
      "metadata": {
        "colab": {
          "base_uri": "https://localhost:8080/",
          "height": 72
        },
        "id": "vEJC2mXLGj3e",
        "outputId": "cc10ba3f-9b28-411e-c9cf-249ba7ac33d9"
      },
      "execution_count": 48,
      "outputs": [
        {
          "output_type": "execute_result",
          "data": {
            "application/vnd.google.colaboratory.intrinsic+json": {
              "type": "string"
            },
            "text/plain": [
              "'from xgboost.sklearn import XGBRFClassifier\\nfrom sklearn.model_selection import cross_val_score\\n\\nmodel = XGBRFClassifier().fit(x_train, y_train)  \\nprint(\"accuracies\",model.score(x_test, y_test))\\ny_pred= model.predict(x_test)\\nprint(\"Classification report for XGB RF:\\n\",classification_report(y_test,y_pred))\\nprint(\"Confusion Matrix:\",\"\\n\",confusion_matrix(y_test,y_pred))\\nprint(\"Micro F1 score for XGB RF:\",accuracy_score(y_test, y_pred))\\n'"
            ]
          },
          "metadata": {},
          "execution_count": 48
        }
      ]
    },
    {
      "cell_type": "code",
      "execution_count": 49,
      "metadata": {
        "id": "gb9F04XuffkM",
        "outputId": "7cb4f1f6-1023-4a05-aa9f-efa2d8192854",
        "colab": {
          "base_uri": "https://localhost:8080/",
          "height": 72
        }
      },
      "outputs": [
        {
          "output_type": "execute_result",
          "data": {
            "application/vnd.google.colaboratory.intrinsic+json": {
              "type": "string"
            },
            "text/plain": [
              "'from sklearn.metrics import classification_report, confusion_matrix, accuracy_score\\nimport xgboost as xgb\\nfrom xgboost import XGBClassifier\\nModelxgb= XGBClassifier().fit(x_train, y_train)\\ny_pred= Modelxgb.predict(x_test)\\n\\nprint(\"Classification report for XGB:\\n\",classification_report(y_test,y_pred))\\nprint(\"Confusion Matrix:\",\"\\n\",confusion_matrix(y_test,y_pred))\\nprint(\"Micro F1 score for XGB:\",accuracy_score(y_test, y_pred))\\n'"
            ]
          },
          "metadata": {},
          "execution_count": 49
        }
      ],
      "source": [
        "'''from sklearn.metrics import classification_report, confusion_matrix, accuracy_score\n",
        "import xgboost as xgb\n",
        "from xgboost import XGBClassifier\n",
        "Modelxgb= XGBClassifier().fit(x_train, y_train)\n",
        "y_pred= Modelxgb.predict(x_test)\n",
        "\n",
        "print(\"Classification report for XGB:\\n\",classification_report(y_test,y_pred))\n",
        "print(\"Confusion Matrix:\",\"\\n\",confusion_matrix(y_test,y_pred))\n",
        "print(\"Micro F1 score for XGB:\",accuracy_score(y_test, y_pred))\n",
        "'''"
      ]
    },
    {
      "cell_type": "code",
      "source": [
        "import sys\n",
        "def sizeof_fmt(num, suffix='B'):\n",
        "    ''' by Fred Cirera,  https://stackoverflow.com/a/1094933/1870254, modified'''\n",
        "    for unit in ['','Ki','Mi','Gi','Ti','Pi','Ei','Zi']:\n",
        "        if abs(num) < 1024.0:\n",
        "            return \"%3.1f %s%s\" % (num, unit, suffix)\n",
        "        num /= 1024.0\n",
        "    return \"%.1f %s%s\" % (num, 'Yi', suffix)\n",
        "\n",
        "for name, size in sorted(((name, sys.getsizeof(value)) for name, value in locals().items()),\n",
        "                         key= lambda x: -x[1])[:10]:\n",
        "    print(\"{:>30}: {:>8}\".format(name, sizeof_fmt(size)))"
      ],
      "metadata": {
        "id": "boMXjcw2xKp1",
        "outputId": "fe986cb1-f8ff-4ceb-aec0-69a81ebba631",
        "colab": {
          "base_uri": "https://localhost:8080/"
        }
      },
      "execution_count": 50,
      "outputs": [
        {
          "output_type": "stream",
          "name": "stdout",
          "text": [
            "                 text_features:  5.2 GiB\n",
            "                       x_train:  4.2 GiB\n",
            "                        x_test:  1.0 GiB\n",
            "                            df: 60.5 MiB\n",
            "                          text: 25.0 MiB\n",
            "                             y:  5.0 MiB\n",
            "                        labels:  5.0 MiB\n",
            "                       y_train:  4.0 MiB\n",
            "                        y_test:  1.0 MiB\n",
            "                             s: 693.5 KiB\n"
          ]
        }
      ]
    },
    {
      "cell_type": "code",
      "source": [
        "del(text_features)\n",
        "del(df)\n",
        "del(text)\n",
        "del(y)"
      ],
      "metadata": {
        "id": "3v3kNgtq2kzw"
      },
      "execution_count": 51,
      "outputs": []
    },
    {
      "cell_type": "code",
      "source": [
        "import lightgbm as lgb\n",
        "model_lgbm = lgb.LGBMClassifier(learning_rate=0.1,max_depth=10,random_state=42,boosting_type=\"gbdt\",n_estimators=100,num_leaves=22,num_class=6)\n",
        "model_lgbm.fit(x_train,y_train)\n",
        "print('Training accuracy {:.4f}'.format(model_lgbm.score(x_train,y_train)))\n",
        "print('Testing accuracy {:.4f}'.format(model_lgbm.score(x_test,y_test)))"
      ],
      "metadata": {
        "id": "-PV_0aUOu5sw"
      },
      "execution_count": null,
      "outputs": []
    },
    {
      "cell_type": "code",
      "source": [
        "y_pred= model_lgbm.predict(x_test)\n",
        "\n",
        "print(\"Classification report for XGB:\\n\",classification_report(y_test,y_pred))\n",
        "print(\"Confusion Matrix:\",\"\\n\",confusion_matrix(y_test,y_pred))\n",
        "print(\"Micro F1 score for XGB:\",accuracy_score(y_test, y_pred))"
      ],
      "metadata": {
        "id": "bOyH0_5UvdjB"
      },
      "execution_count": null,
      "outputs": []
    },
    {
      "cell_type": "code",
      "source": [
        "lgbmodel= lgb.LGBMClassifier(learning_rate=0.1,max_depth=10,random_state=42,boosting_type=\"gbdt\",n_estimators=400,num_leaves=22,num_class=3)\n",
        "\n",
        "lgbmodel.fit(X_train1, y_train1)"
      ],
      "metadata": {
        "id": "x-gtYKUbvZ1s"
      },
      "execution_count": null,
      "outputs": []
    }
  ],
  "metadata": {
    "colab": {
      "collapsed_sections": [],
      "machine_shape": "hm",
      "name": "Cyberbullying_on_Twiitter_v4as.ipynb",
      "provenance": []
    },
    "kernelspec": {
      "display_name": "Python 3",
      "name": "python3"
    },
    "language_info": {
      "name": "python"
    }
  },
  "nbformat": 4,
  "nbformat_minor": 0
}