{
  "nbformat": 4,
  "nbformat_minor": 0,
  "metadata": {
    "colab": {
      "name": "Cyberbullying_on_Twiitter_v1as.ipynb",
      "provenance": [],
      "collapsed_sections": [],
      "machine_shape": "hm"
    },
    "kernelspec": {
      "name": "python3",
      "display_name": "Python 3"
    },
    "language_info": {
      "name": "python"
    }
  },
  "cells": [
    {
      "cell_type": "code",
      "source": [
        "from google.colab import drive\n",
        "drive.mount('/content/drive')"
      ],
      "metadata": {
        "colab": {
          "base_uri": "https://localhost:8080/"
        },
        "id": "wvN1oTQvibM1",
        "outputId": "28eaccd2-0d79-42fb-c486-310bc1c8a54f"
      },
      "execution_count": 89,
      "outputs": [
        {
          "output_type": "stream",
          "name": "stdout",
          "text": [
            "Drive already mounted at /content/drive; to attempt to forcibly remount, call drive.mount(\"/content/drive\", force_remount=True).\n"
          ]
        }
      ]
    },
    {
      "cell_type": "code",
      "source": [
        "import pandas as pd\n",
        "import numpy as np\n",
        "import nltk\n",
        "import matplotlib.pyplot as plt\n",
        "\n",
        "data= pd.read_csv(\"/content/drive/MyDrive/Cyberbullying_Kaggle_Data/cyberbullying_tweets.csv\")"
      ],
      "metadata": {
        "id": "kfhBpW2GjqQZ"
      },
      "execution_count": 90,
      "outputs": []
    },
    {
      "cell_type": "code",
      "source": [
        "data.head()"
      ],
      "metadata": {
        "colab": {
          "base_uri": "https://localhost:8080/",
          "height": 206
        },
        "id": "2cPxuibKj-IA",
        "outputId": "38767f0c-e5b7-4484-95a1-7375b364ac6f"
      },
      "execution_count": 91,
      "outputs": [
        {
          "output_type": "execute_result",
          "data": {
            "text/html": [
              "\n",
              "  <div id=\"df-92834d60-c50c-4f07-a39a-9ea835d55792\">\n",
              "    <div class=\"colab-df-container\">\n",
              "      <div>\n",
              "<style scoped>\n",
              "    .dataframe tbody tr th:only-of-type {\n",
              "        vertical-align: middle;\n",
              "    }\n",
              "\n",
              "    .dataframe tbody tr th {\n",
              "        vertical-align: top;\n",
              "    }\n",
              "\n",
              "    .dataframe thead th {\n",
              "        text-align: right;\n",
              "    }\n",
              "</style>\n",
              "<table border=\"1\" class=\"dataframe\">\n",
              "  <thead>\n",
              "    <tr style=\"text-align: right;\">\n",
              "      <th></th>\n",
              "      <th>tweet_text</th>\n",
              "      <th>cyberbullying_type</th>\n",
              "    </tr>\n",
              "  </thead>\n",
              "  <tbody>\n",
              "    <tr>\n",
              "      <th>0</th>\n",
              "      <td>In other words #katandandre, your food was cra...</td>\n",
              "      <td>not_cyberbullying</td>\n",
              "    </tr>\n",
              "    <tr>\n",
              "      <th>1</th>\n",
              "      <td>Why is #aussietv so white? #MKR #theblock #ImA...</td>\n",
              "      <td>not_cyberbullying</td>\n",
              "    </tr>\n",
              "    <tr>\n",
              "      <th>2</th>\n",
              "      <td>@XochitlSuckkks a classy whore? Or more red ve...</td>\n",
              "      <td>not_cyberbullying</td>\n",
              "    </tr>\n",
              "    <tr>\n",
              "      <th>3</th>\n",
              "      <td>@Jason_Gio meh. :P  thanks for the heads up, b...</td>\n",
              "      <td>not_cyberbullying</td>\n",
              "    </tr>\n",
              "    <tr>\n",
              "      <th>4</th>\n",
              "      <td>@RudhoeEnglish This is an ISIS account pretend...</td>\n",
              "      <td>not_cyberbullying</td>\n",
              "    </tr>\n",
              "  </tbody>\n",
              "</table>\n",
              "</div>\n",
              "      <button class=\"colab-df-convert\" onclick=\"convertToInteractive('df-92834d60-c50c-4f07-a39a-9ea835d55792')\"\n",
              "              title=\"Convert this dataframe to an interactive table.\"\n",
              "              style=\"display:none;\">\n",
              "        \n",
              "  <svg xmlns=\"http://www.w3.org/2000/svg\" height=\"24px\"viewBox=\"0 0 24 24\"\n",
              "       width=\"24px\">\n",
              "    <path d=\"M0 0h24v24H0V0z\" fill=\"none\"/>\n",
              "    <path d=\"M18.56 5.44l.94 2.06.94-2.06 2.06-.94-2.06-.94-.94-2.06-.94 2.06-2.06.94zm-11 1L8.5 8.5l.94-2.06 2.06-.94-2.06-.94L8.5 2.5l-.94 2.06-2.06.94zm10 10l.94 2.06.94-2.06 2.06-.94-2.06-.94-.94-2.06-.94 2.06-2.06.94z\"/><path d=\"M17.41 7.96l-1.37-1.37c-.4-.4-.92-.59-1.43-.59-.52 0-1.04.2-1.43.59L10.3 9.45l-7.72 7.72c-.78.78-.78 2.05 0 2.83L4 21.41c.39.39.9.59 1.41.59.51 0 1.02-.2 1.41-.59l7.78-7.78 2.81-2.81c.8-.78.8-2.07 0-2.86zM5.41 20L4 18.59l7.72-7.72 1.47 1.35L5.41 20z\"/>\n",
              "  </svg>\n",
              "      </button>\n",
              "      \n",
              "  <style>\n",
              "    .colab-df-container {\n",
              "      display:flex;\n",
              "      flex-wrap:wrap;\n",
              "      gap: 12px;\n",
              "    }\n",
              "\n",
              "    .colab-df-convert {\n",
              "      background-color: #E8F0FE;\n",
              "      border: none;\n",
              "      border-radius: 50%;\n",
              "      cursor: pointer;\n",
              "      display: none;\n",
              "      fill: #1967D2;\n",
              "      height: 32px;\n",
              "      padding: 0 0 0 0;\n",
              "      width: 32px;\n",
              "    }\n",
              "\n",
              "    .colab-df-convert:hover {\n",
              "      background-color: #E2EBFA;\n",
              "      box-shadow: 0px 1px 2px rgba(60, 64, 67, 0.3), 0px 1px 3px 1px rgba(60, 64, 67, 0.15);\n",
              "      fill: #174EA6;\n",
              "    }\n",
              "\n",
              "    [theme=dark] .colab-df-convert {\n",
              "      background-color: #3B4455;\n",
              "      fill: #D2E3FC;\n",
              "    }\n",
              "\n",
              "    [theme=dark] .colab-df-convert:hover {\n",
              "      background-color: #434B5C;\n",
              "      box-shadow: 0px 1px 3px 1px rgba(0, 0, 0, 0.15);\n",
              "      filter: drop-shadow(0px 1px 2px rgba(0, 0, 0, 0.3));\n",
              "      fill: #FFFFFF;\n",
              "    }\n",
              "  </style>\n",
              "\n",
              "      <script>\n",
              "        const buttonEl =\n",
              "          document.querySelector('#df-92834d60-c50c-4f07-a39a-9ea835d55792 button.colab-df-convert');\n",
              "        buttonEl.style.display =\n",
              "          google.colab.kernel.accessAllowed ? 'block' : 'none';\n",
              "\n",
              "        async function convertToInteractive(key) {\n",
              "          const element = document.querySelector('#df-92834d60-c50c-4f07-a39a-9ea835d55792');\n",
              "          const dataTable =\n",
              "            await google.colab.kernel.invokeFunction('convertToInteractive',\n",
              "                                                     [key], {});\n",
              "          if (!dataTable) return;\n",
              "\n",
              "          const docLinkHtml = 'Like what you see? Visit the ' +\n",
              "            '<a target=\"_blank\" href=https://colab.research.google.com/notebooks/data_table.ipynb>data table notebook</a>'\n",
              "            + ' to learn more about interactive tables.';\n",
              "          element.innerHTML = '';\n",
              "          dataTable['output_type'] = 'display_data';\n",
              "          await google.colab.output.renderOutput(dataTable, element);\n",
              "          const docLink = document.createElement('div');\n",
              "          docLink.innerHTML = docLinkHtml;\n",
              "          element.appendChild(docLink);\n",
              "        }\n",
              "      </script>\n",
              "    </div>\n",
              "  </div>\n",
              "  "
            ],
            "text/plain": [
              "                                          tweet_text cyberbullying_type\n",
              "0  In other words #katandandre, your food was cra...  not_cyberbullying\n",
              "1  Why is #aussietv so white? #MKR #theblock #ImA...  not_cyberbullying\n",
              "2  @XochitlSuckkks a classy whore? Or more red ve...  not_cyberbullying\n",
              "3  @Jason_Gio meh. :P  thanks for the heads up, b...  not_cyberbullying\n",
              "4  @RudhoeEnglish This is an ISIS account pretend...  not_cyberbullying"
            ]
          },
          "metadata": {},
          "execution_count": 91
        }
      ]
    },
    {
      "cell_type": "markdown",
      "source": [
        "**Phase 1: EDA to see distribution of** **Tweets**"
      ],
      "metadata": {
        "id": "2RX6d_7HpV0E"
      }
    },
    {
      "cell_type": "code",
      "source": [
        "#Distribution of tweets\n",
        "data.cyberbullying_type.hist() #Histogram shows that the dataset is balanced and has equal representation for all labels"
      ],
      "metadata": {
        "colab": {
          "base_uri": "https://localhost:8080/",
          "height": 339
        },
        "id": "ZHgFuYk1kBfD",
        "outputId": "e89c6309-437d-4e17-c625-1d606eeada6e"
      },
      "execution_count": 92,
      "outputs": [
        {
          "output_type": "execute_result",
          "data": {
            "text/plain": [
              "<matplotlib.axes._subplots.AxesSubplot at 0x7f7eb1d9d210>"
            ]
          },
          "metadata": {},
          "execution_count": 92
        },
        {
          "output_type": "display_data",
          "data": {
            "image/png": "[encoded data removed]",
            "text/plain": [
              "<Figure size 360x360 with 1 Axes>"
            ]
          },
          "metadata": {
            "needs_background": "light"
          }
        }
      ]
    },
    {
      "cell_type": "code",
      "source": [
        "temp = data.groupby('cyberbullying_type').count().reset_index().sort_values(by='tweet_text',ascending=False)\n",
        "temp.style.background_gradient(cmap='Purples')"
      ],
      "metadata": {
        "colab": {
          "base_uri": "https://localhost:8080/",
          "height": 237
        },
        "id": "dB6eb5yzlyMT",
        "outputId": "dbbb4715-7f3c-49f5-ecd0-f38b3d4372a9"
      },
      "execution_count": 93,
      "outputs": [
        {
          "output_type": "execute_result",
          "data": {
            "text/html": [
              "<style type=\"text/css\">\n",
              "#T_0fd28_row0_col1 {\n",
              "  background-color: #3f007d;\n",
              "  color: #f1f1f1;\n",
              "}\n",
              "#T_0fd28_row1_col1 {\n",
              "  background-color: #440a82;\n",
              "  color: #f1f1f1;\n",
              "}\n",
              "#T_0fd28_row2_col1 {\n",
              "  background-color: #572c92;\n",
              "  color: #f1f1f1;\n",
              "}\n",
              "#T_0fd28_row3_col1 {\n",
              "  background-color: #63449d;\n",
              "  color: #f1f1f1;\n",
              "}\n",
              "#T_0fd28_row4_col1 {\n",
              "  background-color: #7363ad;\n",
              "  color: #f1f1f1;\n",
              "}\n",
              "#T_0fd28_row5_col1 {\n",
              "  background-color: #fcfbfd;\n",
              "  color: #000000;\n",
              "}\n",
              "</style>\n",
              "<table id=\"T_0fd28_\" class=\"dataframe\">\n",
              "  <thead>\n",
              "    <tr>\n",
              "      <th class=\"blank level0\" >&nbsp;</th>\n",
              "      <th class=\"col_heading level0 col0\" >cyberbullying_type</th>\n",
              "      <th class=\"col_heading level0 col1\" >tweet_text</th>\n",
              "    </tr>\n",
              "  </thead>\n",
              "  <tbody>\n",
              "    <tr>\n",
              "      <th id=\"T_0fd28_level0_row0\" class=\"row_heading level0 row0\" >5</th>\n",
              "      <td id=\"T_0fd28_row0_col0\" class=\"data row0 col0\" >religion</td>\n",
              "      <td id=\"T_0fd28_row0_col1\" class=\"data row0 col1\" >7998</td>\n",
              "    </tr>\n",
              "    <tr>\n",
              "      <th id=\"T_0fd28_level0_row1\" class=\"row_heading level0 row1\" >0</th>\n",
              "      <td id=\"T_0fd28_row1_col0\" class=\"data row1 col0\" >age</td>\n",
              "      <td id=\"T_0fd28_row1_col1\" class=\"data row1 col1\" >7992</td>\n",
              "    </tr>\n",
              "    <tr>\n",
              "      <th id=\"T_0fd28_level0_row2\" class=\"row_heading level0 row2\" >2</th>\n",
              "      <td id=\"T_0fd28_row2_col0\" class=\"data row2 col0\" >gender</td>\n",
              "      <td id=\"T_0fd28_row2_col1\" class=\"data row2 col1\" >7973</td>\n",
              "    </tr>\n",
              "    <tr>\n",
              "      <th id=\"T_0fd28_level0_row3\" class=\"row_heading level0 row3\" >1</th>\n",
              "      <td id=\"T_0fd28_row3_col0\" class=\"data row3 col0\" >ethnicity</td>\n",
              "      <td id=\"T_0fd28_row3_col1\" class=\"data row3 col1\" >7961</td>\n",
              "    </tr>\n",
              "    <tr>\n",
              "      <th id=\"T_0fd28_level0_row4\" class=\"row_heading level0 row4\" >3</th>\n",
              "      <td id=\"T_0fd28_row4_col0\" class=\"data row4 col0\" >not_cyberbullying</td>\n",
              "      <td id=\"T_0fd28_row4_col1\" class=\"data row4 col1\" >7945</td>\n",
              "    </tr>\n",
              "    <tr>\n",
              "      <th id=\"T_0fd28_level0_row5\" class=\"row_heading level0 row5\" >4</th>\n",
              "      <td id=\"T_0fd28_row5_col0\" class=\"data row5 col0\" >other_cyberbullying</td>\n",
              "      <td id=\"T_0fd28_row5_col1\" class=\"data row5 col1\" >7823</td>\n",
              "    </tr>\n",
              "  </tbody>\n",
              "</table>\n"
            ],
            "text/plain": [
              "<pandas.io.formats.style.Styler at 0x7f7eb1d58710>"
            ]
          },
          "metadata": {},
          "execution_count": 93
        }
      ]
    },
    {
      "cell_type": "code",
      "source": [
        "#Funnel-Chart for better visualization\n",
        "from plotly import graph_objs as go\n",
        "fig = go.Figure(go.Funnelarea(\n",
        "    text =temp,\n",
        "    values = temp.tweet_text,\n",
        "    title = {\"position\": \"top center\", \"text\": \"Funnel-Chart of Bullying Type Distribution\"}\n",
        "    ))\n",
        "fig.show()"
      ],
      "metadata": {
        "colab": {
          "base_uri": "https://localhost:8080/",
          "height": 542
        },
        "id": "_51G13E9oEfZ",
        "outputId": "891515b0-49e5-4d98-b7ba-e62ebaa2efa5"
      },
      "execution_count": 94,
      "outputs": [
        {
          "output_type": "display_data",
          "data": {
            "text/html": [
              "<html>\n",
              "<head><meta charset=\"utf-8\" /></head>\n",
              "<body>\n",
              "    <div>            <script src=\"https://cdnjs.cloudflare.com/ajax/libs/mathjax/2.7.5/MathJax.js?config=TeX-AMS-MML_SVG\"></script><script type=\"text/javascript\">if (window.MathJax) {MathJax.Hub.Config({SVG: {font: \"STIX-Web\"}});}</script>                <script type=\"text/javascript\">window.PlotlyConfig = {MathJaxConfig: 'local'};</script>\n",
              "        <script src=\"https://cdn.plot.ly/plotly-2.8.3.min.js\"></script>                <div id=\"49d5aeb5-b6f4-49c7-a8f8-9bfa5dbeb3b3\" class=\"plotly-graph-div\" style=\"height:525px; width:100%;\"></div>            <script type=\"text/javascript\">                                    window.PLOTLYENV=window.PLOTLYENV || {};                                    if (document.getElementById(\"49d5aeb5-b6f4-49c7-a8f8-9bfa5dbeb3b3\")) {                    Plotly.newPlot(                        \"49d5aeb5-b6f4-49c7-a8f8-9bfa5dbeb3b3\",                        [{\"text\":[[\"religion\",7998],[\"age\",7992],[\"gender\",7973],[\"ethnicity\",7961],[\"not_cyberbullying\",7945],[\"other_cyberbullying\",7823]],\"title\":{\"position\":\"top center\",\"text\":\"Funnel-Chart of Bullying Type Distribution\"},\"values\":[7998,7992,7973,7961,7945,7823],\"type\":\"funnelarea\"}],                        {\"template\":{\"data\":{\"bar\":[{\"error_x\":{\"color\":\"#2a3f5f\"},\"error_y\":{\"color\":\"#2a3f5f\"},\"marker\":{\"line\":{\"color\":\"#E5ECF6\",\"width\":0.5},\"pattern\":{\"fillmode\":\"overlay\",\"size\":10,\"solidity\":0.2}},\"type\":\"bar\"}],\"barpolar\":[{\"marker\":{\"line\":{\"color\":\"#E5ECF6\",\"width\":0.5},\"pattern\":{\"fillmode\":\"overlay\",\"size\":10,\"solidity\":0.2}},\"type\":\"barpolar\"}],\"carpet\":[{\"aaxis\":{\"endlinecolor\":\"#2a3f5f\",\"gridcolor\":\"white\",\"linecolor\":\"white\",\"minorgridcolor\":\"white\",\"startlinecolor\":\"#2a3f5f\"},\"baxis\":{\"endlinecolor\":\"#2a3f5f\",\"gridcolor\":\"white\",\"linecolor\":\"white\",\"minorgridcolor\":\"white\",\"startlinecolor\":\"#2a3f5f\"},\"type\":\"carpet\"}],\"choropleth\":[{\"colorbar\":{\"outlinewidth\":0,\"ticks\":\"\"},\"type\":\"choropleth\"}],\"contour\":[{\"colorbar\":{\"outlinewidth\":0,\"ticks\":\"\"},\"colorscale\":[[0.0,\"#0d0887\"],[0.1111111111111111,\"#46039f\"],[0.2222222222222222,\"#7201a8\"],[0.3333333333333333,\"#9c179e\"],[0.4444444444444444,\"#bd3786\"],[0.5555555555555556,\"#d8576b\"],[0.6666666666666666,\"#ed7953\"],[0.7777777777777778,\"#fb9f3a\"],[0.8888888888888888,\"#fdca26\"],[1.0,\"#f0f921\"]],\"type\":\"contour\"}],\"contourcarpet\":[{\"colorbar\":{\"outlinewidth\":0,\"ticks\":\"\"},\"type\":\"contourcarpet\"}],\"heatmap\":[{\"colorbar\":{\"outlinewidth\":0,\"ticks\":\"\"},\"colorscale\":[[0.0,\"#0d0887\"],[0.1111111111111111,\"#46039f\"],[0.2222222222222222,\"#7201a8\"],[0.3333333333333333,\"#9c179e\"],[0.4444444444444444,\"#bd3786\"],[0.5555555555555556,\"#d8576b\"],[0.6666666666666666,\"#ed7953\"],[0.7777777777777778,\"#fb9f3a\"],[0.8888888888888888,\"#fdca26\"],[1.0,\"#f0f921\"]],\"type\":\"heatmap\"}],\"heatmapgl\":[{\"colorbar\":{\"outlinewidth\":0,\"ticks\":\"\"},\"colorscale\":[[0.0,\"#0d0887\"],[0.1111111111111111,\"#46039f\"],[0.2222222222222222,\"#7201a8\"],[0.3333333333333333,\"#9c179e\"],[0.4444444444444444,\"#bd3786\"],[0.5555555555555556,\"#d8576b\"],[0.6666666666666666,\"#ed7953\"],[0.7777777777777778,\"#fb9f3a\"],[0.8888888888888888,\"#fdca26\"],[1.0,\"#f0f921\"]],\"type\":\"heatmapgl\"}],\"histogram\":[{\"marker\":{\"pattern\":{\"fillmode\":\"overlay\",\"size\":10,\"solidity\":0.2}},\"type\":\"histogram\"}],\"histogram2d\":[{\"colorbar\":{\"outlinewidth\":0,\"ticks\":\"\"},\"colorscale\":[[0.0,\"#0d0887\"],[0.1111111111111111,\"#46039f\"],[0.2222222222222222,\"#7201a8\"],[0.3333333333333333,\"#9c179e\"],[0.4444444444444444,\"#bd3786\"],[0.5555555555555556,\"#d8576b\"],[0.6666666666666666,\"#ed7953\"],[0.7777777777777778,\"#fb9f3a\"],[0.8888888888888888,\"#fdca26\"],[1.0,\"#f0f921\"]],\"type\":\"histogram2d\"}],\"histogram2dcontour\":[{\"colorbar\":{\"outlinewidth\":0,\"ticks\":\"\"},\"colorscale\":[[0.0,\"#0d0887\"],[0.1111111111111111,\"#46039f\"],[0.2222222222222222,\"#7201a8\"],[0.3333333333333333,\"#9c179e\"],[0.4444444444444444,\"#bd3786\"],[0.5555555555555556,\"#d8576b\"],[0.6666666666666666,\"#ed7953\"],[0.7777777777777778,\"#fb9f3a\"],[0.8888888888888888,\"#fdca26\"],[1.0,\"#f0f921\"]],\"type\":\"histogram2dcontour\"}],\"mesh3d\":[{\"colorbar\":{\"outlinewidth\":0,\"ticks\":\"\"},\"type\":\"mesh3d\"}],\"parcoords\":[{\"line\":{\"colorbar\":{\"outlinewidth\":0,\"ticks\":\"\"}},\"type\":\"parcoords\"}],\"pie\":[{\"automargin\":true,\"type\":\"pie\"}],\"scatter\":[{\"marker\":{\"colorbar\":{\"outlinewidth\":0,\"ticks\":\"\"}},\"type\":\"scatter\"}],\"scatter3d\":[{\"line\":{\"colorbar\":{\"outlinewidth\":0,\"ticks\":\"\"}},\"marker\":{\"colorbar\":{\"outlinewidth\":0,\"ticks\":\"\"}},\"type\":\"scatter3d\"}],\"scattercarpet\":[{\"marker\":{\"colorbar\":{\"outlinewidth\":0,\"ticks\":\"\"}},\"type\":\"scattercarpet\"}],\"scattergeo\":[{\"marker\":{\"colorbar\":{\"outlinewidth\":0,\"ticks\":\"\"}},\"type\":\"scattergeo\"}],\"scattergl\":[{\"marker\":{\"colorbar\":{\"outlinewidth\":0,\"ticks\":\"\"}},\"type\":\"scattergl\"}],\"scattermapbox\":[{\"marker\":{\"colorbar\":{\"outlinewidth\":0,\"ticks\":\"\"}},\"type\":\"scattermapbox\"}],\"scatterpolar\":[{\"marker\":{\"colorbar\":{\"outlinewidth\":0,\"ticks\":\"\"}},\"type\":\"scatterpolar\"}],\"scatterpolargl\":[{\"marker\":{\"colorbar\":{\"outlinewidth\":0,\"ticks\":\"\"}},\"type\":\"scatterpolargl\"}],\"scatterternary\":[{\"marker\":{\"colorbar\":{\"outlinewidth\":0,\"ticks\":\"\"}},\"type\":\"scatterternary\"}],\"surface\":[{\"colorbar\":{\"outlinewidth\":0,\"ticks\":\"\"},\"colorscale\":[[0.0,\"#0d0887\"],[0.1111111111111111,\"#46039f\"],[0.2222222222222222,\"#7201a8\"],[0.3333333333333333,\"#9c179e\"],[0.4444444444444444,\"#bd3786\"],[0.5555555555555556,\"#d8576b\"],[0.6666666666666666,\"#ed7953\"],[0.7777777777777778,\"#fb9f3a\"],[0.8888888888888888,\"#fdca26\"],[1.0,\"#f0f921\"]],\"type\":\"surface\"}],\"table\":[{\"cells\":{\"fill\":{\"color\":\"#EBF0F8\"},\"line\":{\"color\":\"white\"}},\"header\":{\"fill\":{\"color\":\"#C8D4E3\"},\"line\":{\"color\":\"white\"}},\"type\":\"table\"}]},\"layout\":{\"annotationdefaults\":{\"arrowcolor\":\"#2a3f5f\",\"arrowhead\":0,\"arrowwidth\":1},\"autotypenumbers\":\"strict\",\"coloraxis\":{\"colorbar\":{\"outlinewidth\":0,\"ticks\":\"\"}},\"colorscale\":{\"diverging\":[[0,\"#8e0152\"],[0.1,\"#c51b7d\"],[0.2,\"#de77ae\"],[0.3,\"#f1b6da\"],[0.4,\"#fde0ef\"],[0.5,\"#f7f7f7\"],[0.6,\"#e6f5d0\"],[0.7,\"#b8e186\"],[0.8,\"#7fbc41\"],[0.9,\"#4d9221\"],[1,\"#276419\"]],\"sequential\":[[0.0,\"#0d0887\"],[0.1111111111111111,\"#46039f\"],[0.2222222222222222,\"#7201a8\"],[0.3333333333333333,\"#9c179e\"],[0.4444444444444444,\"#bd3786\"],[0.5555555555555556,\"#d8576b\"],[0.6666666666666666,\"#ed7953\"],[0.7777777777777778,\"#fb9f3a\"],[0.8888888888888888,\"#fdca26\"],[1.0,\"#f0f921\"]],\"sequentialminus\":[[0.0,\"#0d0887\"],[0.1111111111111111,\"#46039f\"],[0.2222222222222222,\"#7201a8\"],[0.3333333333333333,\"#9c179e\"],[0.4444444444444444,\"#bd3786\"],[0.5555555555555556,\"#d8576b\"],[0.6666666666666666,\"#ed7953\"],[0.7777777777777778,\"#fb9f3a\"],[0.8888888888888888,\"#fdca26\"],[1.0,\"#f0f921\"]]},\"colorway\":[\"#636efa\",\"#EF553B\",\"#00cc96\",\"#ab63fa\",\"#FFA15A\",\"#19d3f3\",\"#FF6692\",\"#B6E880\",\"#FF97FF\",\"#FECB52\"],\"font\":{\"color\":\"#2a3f5f\"},\"geo\":{\"bgcolor\":\"white\",\"lakecolor\":\"white\",\"landcolor\":\"#E5ECF6\",\"showlakes\":true,\"showland\":true,\"subunitcolor\":\"white\"},\"hoverlabel\":{\"align\":\"left\"},\"hovermode\":\"closest\",\"mapbox\":{\"style\":\"light\"},\"paper_bgcolor\":\"white\",\"plot_bgcolor\":\"#E5ECF6\",\"polar\":{\"angularaxis\":{\"gridcolor\":\"white\",\"linecolor\":\"white\",\"ticks\":\"\"},\"bgcolor\":\"#E5ECF6\",\"radialaxis\":{\"gridcolor\":\"white\",\"linecolor\":\"white\",\"ticks\":\"\"}},\"scene\":{\"xaxis\":{\"backgroundcolor\":\"#E5ECF6\",\"gridcolor\":\"white\",\"gridwidth\":2,\"linecolor\":\"white\",\"showbackground\":true,\"ticks\":\"\",\"zerolinecolor\":\"white\"},\"yaxis\":{\"backgroundcolor\":\"#E5ECF6\",\"gridcolor\":\"white\",\"gridwidth\":2,\"linecolor\":\"white\",\"showbackground\":true,\"ticks\":\"\",\"zerolinecolor\":\"white\"},\"zaxis\":{\"backgroundcolor\":\"#E5ECF6\",\"gridcolor\":\"white\",\"gridwidth\":2,\"linecolor\":\"white\",\"showbackground\":true,\"ticks\":\"\",\"zerolinecolor\":\"white\"}},\"shapedefaults\":{\"line\":{\"color\":\"#2a3f5f\"}},\"ternary\":{\"aaxis\":{\"gridcolor\":\"white\",\"linecolor\":\"white\",\"ticks\":\"\"},\"baxis\":{\"gridcolor\":\"white\",\"linecolor\":\"white\",\"ticks\":\"\"},\"bgcolor\":\"#E5ECF6\",\"caxis\":{\"gridcolor\":\"white\",\"linecolor\":\"white\",\"ticks\":\"\"}},\"title\":{\"x\":0.05},\"xaxis\":{\"automargin\":true,\"gridcolor\":\"white\",\"linecolor\":\"white\",\"ticks\":\"\",\"title\":{\"standoff\":15},\"zerolinecolor\":\"white\",\"zerolinewidth\":2},\"yaxis\":{\"automargin\":true,\"gridcolor\":\"white\",\"linecolor\":\"white\",\"ticks\":\"\",\"title\":{\"standoff\":15},\"zerolinecolor\":\"white\",\"zerolinewidth\":2}}}},                        {\"responsive\": true}                    ).then(function(){\n",
              "                            \n",
              "var gd = document.getElementById('49d5aeb5-b6f4-49c7-a8f8-9bfa5dbeb3b3');\n",
              "var x = new MutationObserver(function (mutations, observer) {{\n",
              "        var display = window.getComputedStyle(gd).display;\n",
              "        if (!display || display === 'none') {{\n",
              "            console.log([gd, 'removed!']);\n",
              "            Plotly.purge(gd);\n",
              "            observer.disconnect();\n",
              "        }}\n",
              "}});\n",
              "\n",
              "// Listen for the removal of the full notebook cells\n",
              "var notebookContainer = gd.closest('#notebook-container');\n",
              "if (notebookContainer) {{\n",
              "    x.observe(notebookContainer, {childList: true});\n",
              "}}\n",
              "\n",
              "// Listen for the clearing of the current output cell\n",
              "var outputEl = gd.closest('.output');\n",
              "if (outputEl) {{\n",
              "    x.observe(outputEl, {childList: true});\n",
              "}}\n",
              "\n",
              "                        })                };                            </script>        </div>\n",
              "</body>\n",
              "</html>"
            ]
          },
          "metadata": {}
        }
      ]
    },
    {
      "cell_type": "markdown",
      "source": [
        "**Word Cloud of tweets for EDA**"
      ],
      "metadata": {
        "id": "VP3RAvdbqCNG"
      }
    },
    {
      "cell_type": "code",
      "source": [
        "import wordcloud\n",
        "from wordcloud import WordCloud, STOPWORDS, ImageColorGenerator"
      ],
      "metadata": {
        "id": "QCXMYtkLpiH7"
      },
      "execution_count": 95,
      "outputs": []
    },
    {
      "cell_type": "code",
      "source": [
        "text = \" \".join(review for review in data.tweet_text)\n",
        "\n",
        "# Create stopword list:\n",
        "stopwords = set(STOPWORDS)\n",
        "#stopwords.update([])\n",
        "\n",
        "# Generate a word cloud image\n",
        "wordcloud = WordCloud(stopwords=stopwords, background_color=\"white\").generate(text)"
      ],
      "metadata": {
        "id": "NZbHgKx4qWGd"
      },
      "execution_count": 96,
      "outputs": []
    },
    {
      "cell_type": "code",
      "source": [
        "# Display the generated image:\n",
        "# the matplotlib way:\n",
        "plt.imshow(wordcloud, interpolation='bilinear')\n",
        "plt.axis(\"off\")\n",
        "plt.rcParams[\"figure.figsize\"] = (5,5)\n",
        "plt.show()"
      ],
      "metadata": {
        "colab": {
          "base_uri": "https://localhost:8080/",
          "height": 170
        },
        "id": "jSy6qBVKupdX",
        "outputId": "d3236d9e-a65a-4118-d47d-843ec55147f3"
      },
      "execution_count": 97,
      "outputs": [
        {
          "output_type": "display_data",
          "data": {
            "image/png": "[encoded data removed]",
            "text/plain": [
              "<Figure size 360x360 with 1 Axes>"
            ]
          },
          "metadata": {
            "needs_background": "light"
          }
        }
      ]
    },
    {
      "cell_type": "markdown",
      "source": [
        "**Phase 2: Building a base model for multi-class classification**"
      ],
      "metadata": {
        "id": "hvHillCHvK4S"
      }
    },
    {
      "cell_type": "markdown",
      "source": [
        "TEXT PREPROCESSING"
      ],
      "metadata": {
        "id": "ILhXVmJ3veWT"
      }
    },
    {
      "cell_type": "code",
      "source": [
        "# import TweetTokenizer() method from nltk\n",
        "from nltk.tokenize import TweetTokenizer\n",
        "\n",
        "# Create a reference variable for Class TweetTokenizer\n",
        "tk = TweetTokenizer()\n",
        "\n",
        "#Preprocessing: Tweet Tokenizer + lowercase conversion\n",
        "data[\"tokens\"]= data[\"tweet_text\"].apply(lambda x: tk.tokenize(x.lower()))\n"
      ],
      "metadata": {
        "id": "e6Vwp5y1vA0E"
      },
      "execution_count": 98,
      "outputs": []
    },
    {
      "cell_type": "code",
      "source": [
        "#Recover Hashtags\n",
        "data[\"hastags\"]= data[\"tokens\"].apply(lambda x: [item for item in x if item.startswith(\"#\")])"
      ],
      "metadata": {
        "id": "AtBkFi_GNf9o"
      },
      "execution_count": 99,
      "outputs": []
    },
    {
      "cell_type": "code",
      "source": [
        "#number of words in a tweet\n",
        "data[\"length\"]= data[\"tokens\"].apply(lambda x: len(x))"
      ],
      "metadata": {
        "id": "3xEbZIpLKyXW"
      },
      "execution_count": 100,
      "outputs": []
    },
    {
      "cell_type": "code",
      "source": [
        "#Remove Stop-words\n",
        "from nltk.corpus import stopwords\n",
        "nltk.download('stopwords')\n",
        "stop_words = stopwords.words('english')\n",
        "data['remove_stopwords'] = data['tokens'].apply(lambda x: [item for item in x if item not in stop_words])"
      ],
      "metadata": {
        "colab": {
          "base_uri": "https://localhost:8080/"
        },
        "id": "R-0aM5pDNLai",
        "outputId": "4ff710d3-5578-40a2-e124-1f9ac7f42a6a"
      },
      "execution_count": 101,
      "outputs": [
        {
          "output_type": "stream",
          "name": "stdout",
          "text": [
            "[nltk_data] Downloading package stopwords to /root/nltk_data...\n",
            "[nltk_data]   Package stopwords is already up-to-date!\n"
          ]
        }
      ]
    },
    {
      "cell_type": "code",
      "source": [
        "data.head()"
      ],
      "metadata": {
        "colab": {
          "base_uri": "https://localhost:8080/",
          "height": 337
        },
        "id": "xgUsB111GPJI",
        "outputId": "2c142d3c-2b70-43e4-b1ae-791e3b8659bb"
      },
      "execution_count": 102,
      "outputs": [
        {
          "output_type": "execute_result",
          "data": {
            "text/html": [
              "\n",
              "  <div id=\"df-0e673d1a-16d8-4181-b711-9b490eea54da\">\n",
              "    <div class=\"colab-df-container\">\n",
              "      <div>\n",
              "<style scoped>\n",
              "    .dataframe tbody tr th:only-of-type {\n",
              "        vertical-align: middle;\n",
              "    }\n",
              "\n",
              "    .dataframe tbody tr th {\n",
              "        vertical-align: top;\n",
              "    }\n",
              "\n",
              "    .dataframe thead th {\n",
              "        text-align: right;\n",
              "    }\n",
              "</style>\n",
              "<table border=\"1\" class=\"dataframe\">\n",
              "  <thead>\n",
              "    <tr style=\"text-align: right;\">\n",
              "      <th></th>\n",
              "      <th>tweet_text</th>\n",
              "      <th>cyberbullying_type</th>\n",
              "      <th>tokens</th>\n",
              "      <th>hastags</th>\n",
              "      <th>length</th>\n",
              "      <th>remove_stopwords</th>\n",
              "    </tr>\n",
              "  </thead>\n",
              "  <tbody>\n",
              "    <tr>\n",
              "      <th>0</th>\n",
              "      <td>In other words #katandandre, your food was cra...</td>\n",
              "      <td>not_cyberbullying</td>\n",
              "      <td>[in, other, words, #katandandre, ,, your, food...</td>\n",
              "      <td>[#katandandre, #mkr]</td>\n",
              "      <td>11</td>\n",
              "      <td>[words, #katandandre, ,, food, crapilicious, !...</td>\n",
              "    </tr>\n",
              "    <tr>\n",
              "      <th>1</th>\n",
              "      <td>Why is #aussietv so white? #MKR #theblock #ImA...</td>\n",
              "      <td>not_cyberbullying</td>\n",
              "      <td>[why, is, #aussietv, so, white, ?, #mkr, #theb...</td>\n",
              "      <td>[#aussietv, #mkr, #theblock, #imacelebrityau, ...</td>\n",
              "      <td>15</td>\n",
              "      <td>[#aussietv, white, ?, #mkr, #theblock, #imacel...</td>\n",
              "    </tr>\n",
              "    <tr>\n",
              "      <th>2</th>\n",
              "      <td>@XochitlSuckkks a classy whore? Or more red ve...</td>\n",
              "      <td>not_cyberbullying</td>\n",
              "      <td>[@xochitlsuckkks, a, classy, whore, ?, or, mor...</td>\n",
              "      <td>[]</td>\n",
              "      <td>11</td>\n",
              "      <td>[@xochitlsuckkks, classy, whore, ?, red, velve...</td>\n",
              "    </tr>\n",
              "    <tr>\n",
              "      <th>3</th>\n",
              "      <td>@Jason_Gio meh. :P  thanks for the heads up, b...</td>\n",
              "      <td>not_cyberbullying</td>\n",
              "      <td>[@jason_gio, meh, ., :p, thanks, for, the, hea...</td>\n",
              "      <td>[]</td>\n",
              "      <td>21</td>\n",
              "      <td>[@jason_gio, meh, ., :p, thanks, heads, ,, con...</td>\n",
              "    </tr>\n",
              "    <tr>\n",
              "      <th>4</th>\n",
              "      <td>@RudhoeEnglish This is an ISIS account pretend...</td>\n",
              "      <td>not_cyberbullying</td>\n",
              "      <td>[@rudhoeenglish, this, is, an, isis, account, ...</td>\n",
              "      <td>[]</td>\n",
              "      <td>21</td>\n",
              "      <td>[@rudhoeenglish, isis, account, pretending, ku...</td>\n",
              "    </tr>\n",
              "  </tbody>\n",
              "</table>\n",
              "</div>\n",
              "      <button class=\"colab-df-convert\" onclick=\"convertToInteractive('df-0e673d1a-16d8-4181-b711-9b490eea54da')\"\n",
              "              title=\"Convert this dataframe to an interactive table.\"\n",
              "              style=\"display:none;\">\n",
              "        \n",
              "  <svg xmlns=\"http://www.w3.org/2000/svg\" height=\"24px\"viewBox=\"0 0 24 24\"\n",
              "       width=\"24px\">\n",
              "    <path d=\"M0 0h24v24H0V0z\" fill=\"none\"/>\n",
              "    <path d=\"M18.56 5.44l.94 2.06.94-2.06 2.06-.94-2.06-.94-.94-2.06-.94 2.06-2.06.94zm-11 1L8.5 8.5l.94-2.06 2.06-.94-2.06-.94L8.5 2.5l-.94 2.06-2.06.94zm10 10l.94 2.06.94-2.06 2.06-.94-2.06-.94-.94-2.06-.94 2.06-2.06.94z\"/><path d=\"M17.41 7.96l-1.37-1.37c-.4-.4-.92-.59-1.43-.59-.52 0-1.04.2-1.43.59L10.3 9.45l-7.72 7.72c-.78.78-.78 2.05 0 2.83L4 21.41c.39.39.9.59 1.41.59.51 0 1.02-.2 1.41-.59l7.78-7.78 2.81-2.81c.8-.78.8-2.07 0-2.86zM5.41 20L4 18.59l7.72-7.72 1.47 1.35L5.41 20z\"/>\n",
              "  </svg>\n",
              "      </button>\n",
              "      \n",
              "  <style>\n",
              "    .colab-df-container {\n",
              "      display:flex;\n",
              "      flex-wrap:wrap;\n",
              "      gap: 12px;\n",
              "    }\n",
              "\n",
              "    .colab-df-convert {\n",
              "      background-color: #E8F0FE;\n",
              "      border: none;\n",
              "      border-radius: 50%;\n",
              "      cursor: pointer;\n",
              "      display: none;\n",
              "      fill: #1967D2;\n",
              "      height: 32px;\n",
              "      padding: 0 0 0 0;\n",
              "      width: 32px;\n",
              "    }\n",
              "\n",
              "    .colab-df-convert:hover {\n",
              "      background-color: #E2EBFA;\n",
              "      box-shadow: 0px 1px 2px rgba(60, 64, 67, 0.3), 0px 1px 3px 1px rgba(60, 64, 67, 0.15);\n",
              "      fill: #174EA6;\n",
              "    }\n",
              "\n",
              "    [theme=dark] .colab-df-convert {\n",
              "      background-color: #3B4455;\n",
              "      fill: #D2E3FC;\n",
              "    }\n",
              "\n",
              "    [theme=dark] .colab-df-convert:hover {\n",
              "      background-color: #434B5C;\n",
              "      box-shadow: 0px 1px 3px 1px rgba(0, 0, 0, 0.15);\n",
              "      filter: drop-shadow(0px 1px 2px rgba(0, 0, 0, 0.3));\n",
              "      fill: #FFFFFF;\n",
              "    }\n",
              "  </style>\n",
              "\n",
              "      <script>\n",
              "        const buttonEl =\n",
              "          document.querySelector('#df-0e673d1a-16d8-4181-b711-9b490eea54da button.colab-df-convert');\n",
              "        buttonEl.style.display =\n",
              "          google.colab.kernel.accessAllowed ? 'block' : 'none';\n",
              "\n",
              "        async function convertToInteractive(key) {\n",
              "          const element = document.querySelector('#df-0e673d1a-16d8-4181-b711-9b490eea54da');\n",
              "          const dataTable =\n",
              "            await google.colab.kernel.invokeFunction('convertToInteractive',\n",
              "                                                     [key], {});\n",
              "          if (!dataTable) return;\n",
              "\n",
              "          const docLinkHtml = 'Like what you see? Visit the ' +\n",
              "            '<a target=\"_blank\" href=https://colab.research.google.com/notebooks/data_table.ipynb>data table notebook</a>'\n",
              "            + ' to learn more about interactive tables.';\n",
              "          element.innerHTML = '';\n",
              "          dataTable['output_type'] = 'display_data';\n",
              "          await google.colab.output.renderOutput(dataTable, element);\n",
              "          const docLink = document.createElement('div');\n",
              "          docLink.innerHTML = docLinkHtml;\n",
              "          element.appendChild(docLink);\n",
              "        }\n",
              "      </script>\n",
              "    </div>\n",
              "  </div>\n",
              "  "
            ],
            "text/plain": [
              "                                          tweet_text  ...                                   remove_stopwords\n",
              "0  In other words #katandandre, your food was cra...  ...  [words, #katandandre, ,, food, crapilicious, !...\n",
              "1  Why is #aussietv so white? #MKR #theblock #ImA...  ...  [#aussietv, white, ?, #mkr, #theblock, #imacel...\n",
              "2  @XochitlSuckkks a classy whore? Or more red ve...  ...  [@xochitlsuckkks, classy, whore, ?, red, velve...\n",
              "3  @Jason_Gio meh. :P  thanks for the heads up, b...  ...  [@jason_gio, meh, ., :p, thanks, heads, ,, con...\n",
              "4  @RudhoeEnglish This is an ISIS account pretend...  ...  [@rudhoeenglish, isis, account, pretending, ku...\n",
              "\n",
              "[5 rows x 6 columns]"
            ]
          },
          "metadata": {},
          "execution_count": 102
        }
      ]
    },
    {
      "cell_type": "code",
      "source": [
        "#Lemmatisation to get root words\n",
        "from nltk.stem import WordNetLemmatizer\n",
        "nltk.download('wordnet')\n",
        "wordnet_lemmatizer = WordNetLemmatizer()\n",
        "\n",
        "# lemmatise words, remove numbers\n",
        "\n",
        "data['lemmatise'] = data['remove_stopwords'].apply(lambda x: [wordnet_lemmatizer.lemmatize(y) for y in x if y.isalpha()]) \n",
        "\n",
        "data.head(5)"
      ],
      "metadata": {
        "colab": {
          "base_uri": "https://localhost:8080/",
          "height": 373
        },
        "id": "A0Vm54rBOnS0",
        "outputId": "a44b95de-82bc-4546-addf-79e7a0dd8315"
      },
      "execution_count": 103,
      "outputs": [
        {
          "output_type": "stream",
          "name": "stdout",
          "text": [
            "[nltk_data] Downloading package wordnet to /root/nltk_data...\n",
            "[nltk_data]   Package wordnet is already up-to-date!\n"
          ]
        },
        {
          "output_type": "execute_result",
          "data": {
            "text/html": [
              "\n",
              "  <div id=\"df-50b2a746-6230-40dd-b8f1-b24c395a6123\">\n",
              "    <div class=\"colab-df-container\">\n",
              "      <div>\n",
              "<style scoped>\n",
              "    .dataframe tbody tr th:only-of-type {\n",
              "        vertical-align: middle;\n",
              "    }\n",
              "\n",
              "    .dataframe tbody tr th {\n",
              "        vertical-align: top;\n",
              "    }\n",
              "\n",
              "    .dataframe thead th {\n",
              "        text-align: right;\n",
              "    }\n",
              "</style>\n",
              "<table border=\"1\" class=\"dataframe\">\n",
              "  <thead>\n",
              "    <tr style=\"text-align: right;\">\n",
              "      <th></th>\n",
              "      <th>tweet_text</th>\n",
              "      <th>cyberbullying_type</th>\n",
              "      <th>tokens</th>\n",
              "      <th>hastags</th>\n",
              "      <th>length</th>\n",
              "      <th>remove_stopwords</th>\n",
              "      <th>lemmatise</th>\n",
              "    </tr>\n",
              "  </thead>\n",
              "  <tbody>\n",
              "    <tr>\n",
              "      <th>0</th>\n",
              "      <td>In other words #katandandre, your food was cra...</td>\n",
              "      <td>not_cyberbullying</td>\n",
              "      <td>[in, other, words, #katandandre, ,, your, food...</td>\n",
              "      <td>[#katandandre, #mkr]</td>\n",
              "      <td>11</td>\n",
              "      <td>[words, #katandandre, ,, food, crapilicious, !...</td>\n",
              "      <td>[word, food, crapilicious]</td>\n",
              "    </tr>\n",
              "    <tr>\n",
              "      <th>1</th>\n",
              "      <td>Why is #aussietv so white? #MKR #theblock #ImA...</td>\n",
              "      <td>not_cyberbullying</td>\n",
              "      <td>[why, is, #aussietv, so, white, ?, #mkr, #theb...</td>\n",
              "      <td>[#aussietv, #mkr, #theblock, #imacelebrityau, ...</td>\n",
              "      <td>15</td>\n",
              "      <td>[#aussietv, white, ?, #mkr, #theblock, #imacel...</td>\n",
              "      <td>[white]</td>\n",
              "    </tr>\n",
              "    <tr>\n",
              "      <th>2</th>\n",
              "      <td>@XochitlSuckkks a classy whore? Or more red ve...</td>\n",
              "      <td>not_cyberbullying</td>\n",
              "      <td>[@xochitlsuckkks, a, classy, whore, ?, or, mor...</td>\n",
              "      <td>[]</td>\n",
              "      <td>11</td>\n",
              "      <td>[@xochitlsuckkks, classy, whore, ?, red, velve...</td>\n",
              "      <td>[classy, whore, red, velvet, cupcake]</td>\n",
              "    </tr>\n",
              "    <tr>\n",
              "      <th>3</th>\n",
              "      <td>@Jason_Gio meh. :P  thanks for the heads up, b...</td>\n",
              "      <td>not_cyberbullying</td>\n",
              "      <td>[@jason_gio, meh, ., :p, thanks, for, the, hea...</td>\n",
              "      <td>[]</td>\n",
              "      <td>21</td>\n",
              "      <td>[@jason_gio, meh, ., :p, thanks, heads, ,, con...</td>\n",
              "      <td>[meh, thanks, head, concerned, another, angry,...</td>\n",
              "    </tr>\n",
              "    <tr>\n",
              "      <th>4</th>\n",
              "      <td>@RudhoeEnglish This is an ISIS account pretend...</td>\n",
              "      <td>not_cyberbullying</td>\n",
              "      <td>[@rudhoeenglish, this, is, an, isis, account, ...</td>\n",
              "      <td>[]</td>\n",
              "      <td>21</td>\n",
              "      <td>[@rudhoeenglish, isis, account, pretending, ku...</td>\n",
              "      <td>[isi, account, pretending, kurdish, account, l...</td>\n",
              "    </tr>\n",
              "  </tbody>\n",
              "</table>\n",
              "</div>\n",
              "      <button class=\"colab-df-convert\" onclick=\"convertToInteractive('df-50b2a746-6230-40dd-b8f1-b24c395a6123')\"\n",
              "              title=\"Convert this dataframe to an interactive table.\"\n",
              "              style=\"display:none;\">\n",
              "        \n",
              "  <svg xmlns=\"http://www.w3.org/2000/svg\" height=\"24px\"viewBox=\"0 0 24 24\"\n",
              "       width=\"24px\">\n",
              "    <path d=\"M0 0h24v24H0V0z\" fill=\"none\"/>\n",
              "    <path d=\"M18.56 5.44l.94 2.06.94-2.06 2.06-.94-2.06-.94-.94-2.06-.94 2.06-2.06.94zm-11 1L8.5 8.5l.94-2.06 2.06-.94-2.06-.94L8.5 2.5l-.94 2.06-2.06.94zm10 10l.94 2.06.94-2.06 2.06-.94-2.06-.94-.94-2.06-.94 2.06-2.06.94z\"/><path d=\"M17.41 7.96l-1.37-1.37c-.4-.4-.92-.59-1.43-.59-.52 0-1.04.2-1.43.59L10.3 9.45l-7.72 7.72c-.78.78-.78 2.05 0 2.83L4 21.41c.39.39.9.59 1.41.59.51 0 1.02-.2 1.41-.59l7.78-7.78 2.81-2.81c.8-.78.8-2.07 0-2.86zM5.41 20L4 18.59l7.72-7.72 1.47 1.35L5.41 20z\"/>\n",
              "  </svg>\n",
              "      </button>\n",
              "      \n",
              "  <style>\n",
              "    .colab-df-container {\n",
              "      display:flex;\n",
              "      flex-wrap:wrap;\n",
              "      gap: 12px;\n",
              "    }\n",
              "\n",
              "    .colab-df-convert {\n",
              "      background-color: #E8F0FE;\n",
              "      border: none;\n",
              "      border-radius: 50%;\n",
              "      cursor: pointer;\n",
              "      display: none;\n",
              "      fill: #1967D2;\n",
              "      height: 32px;\n",
              "      padding: 0 0 0 0;\n",
              "      width: 32px;\n",
              "    }\n",
              "\n",
              "    .colab-df-convert:hover {\n",
              "      background-color: #E2EBFA;\n",
              "      box-shadow: 0px 1px 2px rgba(60, 64, 67, 0.3), 0px 1px 3px 1px rgba(60, 64, 67, 0.15);\n",
              "      fill: #174EA6;\n",
              "    }\n",
              "\n",
              "    [theme=dark] .colab-df-convert {\n",
              "      background-color: #3B4455;\n",
              "      fill: #D2E3FC;\n",
              "    }\n",
              "\n",
              "    [theme=dark] .colab-df-convert:hover {\n",
              "      background-color: #434B5C;\n",
              "      box-shadow: 0px 1px 3px 1px rgba(0, 0, 0, 0.15);\n",
              "      filter: drop-shadow(0px 1px 2px rgba(0, 0, 0, 0.3));\n",
              "      fill: #FFFFFF;\n",
              "    }\n",
              "  </style>\n",
              "\n",
              "      <script>\n",
              "        const buttonEl =\n",
              "          document.querySelector('#df-50b2a746-6230-40dd-b8f1-b24c395a6123 button.colab-df-convert');\n",
              "        buttonEl.style.display =\n",
              "          google.colab.kernel.accessAllowed ? 'block' : 'none';\n",
              "\n",
              "        async function convertToInteractive(key) {\n",
              "          const element = document.querySelector('#df-50b2a746-6230-40dd-b8f1-b24c395a6123');\n",
              "          const dataTable =\n",
              "            await google.colab.kernel.invokeFunction('convertToInteractive',\n",
              "                                                     [key], {});\n",
              "          if (!dataTable) return;\n",
              "\n",
              "          const docLinkHtml = 'Like what you see? Visit the ' +\n",
              "            '<a target=\"_blank\" href=https://colab.research.google.com/notebooks/data_table.ipynb>data table notebook</a>'\n",
              "            + ' to learn more about interactive tables.';\n",
              "          element.innerHTML = '';\n",
              "          dataTable['output_type'] = 'display_data';\n",
              "          await google.colab.output.renderOutput(dataTable, element);\n",
              "          const docLink = document.createElement('div');\n",
              "          docLink.innerHTML = docLinkHtml;\n",
              "          element.appendChild(docLink);\n",
              "        }\n",
              "      </script>\n",
              "    </div>\n",
              "  </div>\n",
              "  "
            ],
            "text/plain": [
              "                                          tweet_text  ...                                          lemmatise\n",
              "0  In other words #katandandre, your food was cra...  ...                         [word, food, crapilicious]\n",
              "1  Why is #aussietv so white? #MKR #theblock #ImA...  ...                                            [white]\n",
              "2  @XochitlSuckkks a classy whore? Or more red ve...  ...              [classy, whore, red, velvet, cupcake]\n",
              "3  @Jason_Gio meh. :P  thanks for the heads up, b...  ...  [meh, thanks, head, concerned, another, angry,...\n",
              "4  @RudhoeEnglish This is an ISIS account pretend...  ...  [isi, account, pretending, kurdish, account, l...\n",
              "\n",
              "[5 rows x 7 columns]"
            ]
          },
          "metadata": {},
          "execution_count": 103
        }
      ]
    },
    {
      "cell_type": "markdown",
      "source": [
        "Feature Engineering - BOWs and TF-IDF"
      ],
      "metadata": {
        "id": "C1APv47wNBvb"
      }
    },
    {
      "cell_type": "code",
      "source": [
        "#Bag of words\n",
        "from sklearn.feature_extraction.text import CountVectorizer\n",
        "vectorizer = CountVectorizer(analyzer = 'word', ngram_range = (1, 2))\n",
        "                            \n",
        "# join the processed data to be vectorised\n",
        "\n",
        "vectors = []\n",
        "\n",
        "for index, row in data.iterrows():\n",
        "    vectors.append(\", \".join(row[6]))\n",
        "\n",
        "vectorised = vectorizer.fit_transform(vectors)\n",
        "\n",
        "print(vectorised)\n",
        "vectorised.shape"
      ],
      "metadata": {
        "colab": {
          "base_uri": "https://localhost:8080/"
        },
        "id": "selrrkwMMyNF",
        "outputId": "b811fd84-2816-4359-d206-c2959436f273"
      },
      "execution_count": 104,
      "outputs": [
        {
          "output_type": "stream",
          "name": "stdout",
          "text": [
            "  (0, 349799)\t1\n",
            "  (0, 109807)\t1\n",
            "  (0, 67564)\t1\n",
            "  (0, 349938)\t1\n",
            "  (0, 109826)\t1\n",
            "  (1, 345397)\t1\n",
            "  (2, 55943)\t1\n",
            "  (2, 346352)\t1\n",
            "  (2, 257261)\t1\n",
            "  (2, 335795)\t1\n",
            "  (2, 70031)\t1\n",
            "  (2, 55965)\t1\n",
            "  (2, 346388)\t1\n",
            "  (2, 257307)\t1\n",
            "  (2, 335796)\t1\n",
            "  (3, 196340)\t1\n",
            "  (3, 314074)\t1\n",
            "  (3, 137514)\t1\n",
            "  (3, 61531)\t1\n",
            "  (3, 12001)\t1\n",
            "  (3, 11378)\t1\n",
            "  (3, 85866)\t1\n",
            "  (3, 328507)\t1\n",
            "  (3, 196352)\t1\n",
            "  (3, 314153)\t1\n",
            "  :\t:\n",
            "  (47690, 354872)\t1\n",
            "  (47690, 267528)\t1\n",
            "  (47690, 115723)\t1\n",
            "  (47690, 331449)\t1\n",
            "  (47691, 266162)\t1\n",
            "  (47691, 128637)\t1\n",
            "  (47691, 113561)\t1\n",
            "  (47691, 38193)\t1\n",
            "  (47691, 82995)\t1\n",
            "  (47691, 31207)\t1\n",
            "  (47691, 86310)\t1\n",
            "  (47691, 182772)\t1\n",
            "  (47691, 52653)\t1\n",
            "  (47691, 171012)\t1\n",
            "  (47691, 31591)\t1\n",
            "  (47691, 83043)\t1\n",
            "  (47691, 214455)\t1\n",
            "  (47691, 266468)\t1\n",
            "  (47691, 214578)\t1\n",
            "  (47691, 86622)\t1\n",
            "  (47691, 52686)\t1\n",
            "  (47691, 38229)\t1\n",
            "  (47691, 128654)\t1\n",
            "  (47691, 114145)\t1\n",
            "  (47691, 171014)\t1\n"
          ]
        },
        {
          "output_type": "execute_result",
          "data": {
            "text/plain": [
              "(47692, 358428)"
            ]
          },
          "metadata": {},
          "execution_count": 104
        }
      ]
    },
    {
      "cell_type": "code",
      "source": [
        "# initisalise LDA Model\n",
        "from sklearn.decomposition import LatentDirichletAllocation\n",
        "lda_model = LatentDirichletAllocation(n_components = 10, # number of topics\n",
        "                                  random_state = 10,          # random state\n",
        "                                  evaluate_every = -1,      # compute perplexity every n iters, default: Don't\n",
        "                                  n_jobs = -1,              # Use all available CPUs\n",
        "                                 )\n",
        "\n",
        "lda_output = lda_model.fit_transform(vectorised)\n",
        "\n",
        "# column names\n",
        "\n",
        "topic_names = [\"Topic\" + str(i) for i in range(1, lda_model.n_components + 1)]\n",
        "\n",
        "# make the pandas dataframe\n",
        "\n",
        "df_document_topic = pd.DataFrame(np.round(lda_output, 2), columns = topic_names)\n",
        "\n",
        "# get dominant topic for each document\n",
        "\n",
        "dominant_topic = (np.argmax(df_document_topic.values, axis=1)+1)\n",
        "df_document_topic['Dominant_topic'] = dominant_topic\n",
        "\n",
        "# join to original dataframes\n",
        "\n",
        "data = pd.merge(data, df_document_topic, left_index = True, right_index = True, how = 'outer')\n",
        "data['Dominant_topic']=data['Dominant_topic'].astype(int)\n",
        "display(data.head(10))"
      ],
      "metadata": {
        "colab": {
          "base_uri": "https://localhost:8080/",
          "height": 1000
        },
        "id": "g2rZbyacPqsK",
        "outputId": "350361a5-f6e6-44cc-bc61-20836bdb093f"
      },
      "execution_count": 105,
      "outputs": [
        {
          "output_type": "display_data",
          "data": {
            "text/html": [
              "\n",
              "  <div id=\"df-d049ba57-94db-44e9-b5a9-b32d4eb1b725\">\n",
              "    <div class=\"colab-df-container\">\n",
              "      <div>\n",
              "<style scoped>\n",
              "    .dataframe tbody tr th:only-of-type {\n",
              "        vertical-align: middle;\n",
              "    }\n",
              "\n",
              "    .dataframe tbody tr th {\n",
              "        vertical-align: top;\n",
              "    }\n",
              "\n",
              "    .dataframe thead th {\n",
              "        text-align: right;\n",
              "    }\n",
              "</style>\n",
              "<table border=\"1\" class=\"dataframe\">\n",
              "  <thead>\n",
              "    <tr style=\"text-align: right;\">\n",
              "      <th></th>\n",
              "      <th>tweet_text</th>\n",
              "      <th>cyberbullying_type</th>\n",
              "      <th>tokens</th>\n",
              "      <th>hastags</th>\n",
              "      <th>length</th>\n",
              "      <th>remove_stopwords</th>\n",
              "      <th>lemmatise</th>\n",
              "      <th>Topic1</th>\n",
              "      <th>Topic2</th>\n",
              "      <th>Topic3</th>\n",
              "      <th>Topic4</th>\n",
              "      <th>Topic5</th>\n",
              "      <th>Topic6</th>\n",
              "      <th>Topic7</th>\n",
              "      <th>Topic8</th>\n",
              "      <th>Topic9</th>\n",
              "      <th>Topic10</th>\n",
              "      <th>Dominant_topic</th>\n",
              "    </tr>\n",
              "  </thead>\n",
              "  <tbody>\n",
              "    <tr>\n",
              "      <th>0</th>\n",
              "      <td>In other words #katandandre, your food was cra...</td>\n",
              "      <td>not_cyberbullying</td>\n",
              "      <td>[in, other, words, #katandandre, ,, your, food...</td>\n",
              "      <td>[#katandandre, #mkr]</td>\n",
              "      <td>11</td>\n",
              "      <td>[words, #katandandre, ,, food, crapilicious, !...</td>\n",
              "      <td>[word, food, crapilicious]</td>\n",
              "      <td>0.02</td>\n",
              "      <td>0.02</td>\n",
              "      <td>0.85</td>\n",
              "      <td>0.02</td>\n",
              "      <td>0.02</td>\n",
              "      <td>0.02</td>\n",
              "      <td>0.02</td>\n",
              "      <td>0.02</td>\n",
              "      <td>0.02</td>\n",
              "      <td>0.02</td>\n",
              "      <td>3</td>\n",
              "    </tr>\n",
              "    <tr>\n",
              "      <th>1</th>\n",
              "      <td>Why is #aussietv so white? #MKR #theblock #ImA...</td>\n",
              "      <td>not_cyberbullying</td>\n",
              "      <td>[why, is, #aussietv, so, white, ?, #mkr, #theb...</td>\n",
              "      <td>[#aussietv, #mkr, #theblock, #imacelebrityau, ...</td>\n",
              "      <td>15</td>\n",
              "      <td>[#aussietv, white, ?, #mkr, #theblock, #imacel...</td>\n",
              "      <td>[white]</td>\n",
              "      <td>0.55</td>\n",
              "      <td>0.05</td>\n",
              "      <td>0.05</td>\n",
              "      <td>0.05</td>\n",
              "      <td>0.05</td>\n",
              "      <td>0.05</td>\n",
              "      <td>0.05</td>\n",
              "      <td>0.05</td>\n",
              "      <td>0.05</td>\n",
              "      <td>0.05</td>\n",
              "      <td>1</td>\n",
              "    </tr>\n",
              "    <tr>\n",
              "      <th>2</th>\n",
              "      <td>@XochitlSuckkks a classy whore? Or more red ve...</td>\n",
              "      <td>not_cyberbullying</td>\n",
              "      <td>[@xochitlsuckkks, a, classy, whore, ?, or, mor...</td>\n",
              "      <td>[]</td>\n",
              "      <td>11</td>\n",
              "      <td>[@xochitlsuckkks, classy, whore, ?, red, velve...</td>\n",
              "      <td>[classy, whore, red, velvet, cupcake]</td>\n",
              "      <td>0.01</td>\n",
              "      <td>0.01</td>\n",
              "      <td>0.01</td>\n",
              "      <td>0.01</td>\n",
              "      <td>0.91</td>\n",
              "      <td>0.01</td>\n",
              "      <td>0.01</td>\n",
              "      <td>0.01</td>\n",
              "      <td>0.01</td>\n",
              "      <td>0.01</td>\n",
              "      <td>5</td>\n",
              "    </tr>\n",
              "    <tr>\n",
              "      <th>3</th>\n",
              "      <td>@Jason_Gio meh. :P  thanks for the heads up, b...</td>\n",
              "      <td>not_cyberbullying</td>\n",
              "      <td>[@jason_gio, meh, ., :p, thanks, for, the, hea...</td>\n",
              "      <td>[]</td>\n",
              "      <td>21</td>\n",
              "      <td>[@jason_gio, meh, ., :p, thanks, heads, ,, con...</td>\n",
              "      <td>[meh, thanks, head, concerned, another, angry,...</td>\n",
              "      <td>0.01</td>\n",
              "      <td>0.01</td>\n",
              "      <td>0.94</td>\n",
              "      <td>0.01</td>\n",
              "      <td>0.01</td>\n",
              "      <td>0.01</td>\n",
              "      <td>0.01</td>\n",
              "      <td>0.01</td>\n",
              "      <td>0.01</td>\n",
              "      <td>0.01</td>\n",
              "      <td>3</td>\n",
              "    </tr>\n",
              "    <tr>\n",
              "      <th>4</th>\n",
              "      <td>@RudhoeEnglish This is an ISIS account pretend...</td>\n",
              "      <td>not_cyberbullying</td>\n",
              "      <td>[@rudhoeenglish, this, is, an, isis, account, ...</td>\n",
              "      <td>[]</td>\n",
              "      <td>21</td>\n",
              "      <td>[@rudhoeenglish, isis, account, pretending, ku...</td>\n",
              "      <td>[isi, account, pretending, kurdish, account, l...</td>\n",
              "      <td>0.01</td>\n",
              "      <td>0.01</td>\n",
              "      <td>0.01</td>\n",
              "      <td>0.01</td>\n",
              "      <td>0.01</td>\n",
              "      <td>0.01</td>\n",
              "      <td>0.01</td>\n",
              "      <td>0.01</td>\n",
              "      <td>0.94</td>\n",
              "      <td>0.01</td>\n",
              "      <td>9</td>\n",
              "    </tr>\n",
              "    <tr>\n",
              "      <th>5</th>\n",
              "      <td>@Raja5aab @Quickieleaks Yes, the test of god i...</td>\n",
              "      <td>not_cyberbullying</td>\n",
              "      <td>[@raja5aab, @quickieleaks, yes, ,, the, test, ...</td>\n",
              "      <td>[]</td>\n",
              "      <td>26</td>\n",
              "      <td>[@raja5aab, @quickieleaks, yes, ,, test, god, ...</td>\n",
              "      <td>[yes, test, god, good, bad, indifferent, weird...</td>\n",
              "      <td>0.96</td>\n",
              "      <td>0.00</td>\n",
              "      <td>0.00</td>\n",
              "      <td>0.00</td>\n",
              "      <td>0.00</td>\n",
              "      <td>0.00</td>\n",
              "      <td>0.00</td>\n",
              "      <td>0.00</td>\n",
              "      <td>0.00</td>\n",
              "      <td>0.00</td>\n",
              "      <td>1</td>\n",
              "    </tr>\n",
              "    <tr>\n",
              "      <th>6</th>\n",
              "      <td>Itu sekolah ya bukan tempat bully! Ga jauh kay...</td>\n",
              "      <td>not_cyberbullying</td>\n",
              "      <td>[itu, sekolah, ya, bukan, tempat, bully, !, ga...</td>\n",
              "      <td>[]</td>\n",
              "      <td>11</td>\n",
              "      <td>[itu, sekolah, ya, bukan, tempat, bully, !, ga...</td>\n",
              "      <td>[itu, sekolah, ya, bukan, tempat, bully, ga, j...</td>\n",
              "      <td>0.01</td>\n",
              "      <td>0.01</td>\n",
              "      <td>0.01</td>\n",
              "      <td>0.01</td>\n",
              "      <td>0.01</td>\n",
              "      <td>0.01</td>\n",
              "      <td>0.01</td>\n",
              "      <td>0.01</td>\n",
              "      <td>0.01</td>\n",
              "      <td>0.95</td>\n",
              "      <td>10</td>\n",
              "    </tr>\n",
              "    <tr>\n",
              "      <th>7</th>\n",
              "      <td>Karma. I hope it bites Kat on the butt. She is...</td>\n",
              "      <td>not_cyberbullying</td>\n",
              "      <td>[karma, ., i, hope, it, bites, kat, on, the, b...</td>\n",
              "      <td>[#mkr]</td>\n",
              "      <td>17</td>\n",
              "      <td>[karma, ., hope, bites, kat, butt, ., nasty, ....</td>\n",
              "      <td>[karma, hope, bite, kat, butt, nasty]</td>\n",
              "      <td>0.01</td>\n",
              "      <td>0.01</td>\n",
              "      <td>0.01</td>\n",
              "      <td>0.01</td>\n",
              "      <td>0.01</td>\n",
              "      <td>0.01</td>\n",
              "      <td>0.01</td>\n",
              "      <td>0.01</td>\n",
              "      <td>0.01</td>\n",
              "      <td>0.92</td>\n",
              "      <td>10</td>\n",
              "    </tr>\n",
              "    <tr>\n",
              "      <th>8</th>\n",
              "      <td>@stockputout everything but mostly my priest</td>\n",
              "      <td>not_cyberbullying</td>\n",
              "      <td>[@stockputout, everything, but, mostly, my, pr...</td>\n",
              "      <td>[]</td>\n",
              "      <td>6</td>\n",
              "      <td>[@stockputout, everything, mostly, priest]</td>\n",
              "      <td>[everything, mostly, priest]</td>\n",
              "      <td>0.02</td>\n",
              "      <td>0.02</td>\n",
              "      <td>0.02</td>\n",
              "      <td>0.02</td>\n",
              "      <td>0.02</td>\n",
              "      <td>0.02</td>\n",
              "      <td>0.85</td>\n",
              "      <td>0.02</td>\n",
              "      <td>0.02</td>\n",
              "      <td>0.02</td>\n",
              "      <td>7</td>\n",
              "    </tr>\n",
              "    <tr>\n",
              "      <th>9</th>\n",
              "      <td>Rebecca Black Drops Out of School Due to Bully...</td>\n",
              "      <td>not_cyberbullying</td>\n",
              "      <td>[rebecca, black, drops, out, of, school, due, ...</td>\n",
              "      <td>[]</td>\n",
              "      <td>10</td>\n",
              "      <td>[rebecca, black, drops, school, due, bullying, :]</td>\n",
              "      <td>[rebecca, black, drop, school, due, bullying]</td>\n",
              "      <td>0.35</td>\n",
              "      <td>0.01</td>\n",
              "      <td>0.01</td>\n",
              "      <td>0.01</td>\n",
              "      <td>0.01</td>\n",
              "      <td>0.01</td>\n",
              "      <td>0.01</td>\n",
              "      <td>0.25</td>\n",
              "      <td>0.01</td>\n",
              "      <td>0.34</td>\n",
              "      <td>1</td>\n",
              "    </tr>\n",
              "  </tbody>\n",
              "</table>\n",
              "</div>\n",
              "      <button class=\"colab-df-convert\" onclick=\"convertToInteractive('df-d049ba57-94db-44e9-b5a9-b32d4eb1b725')\"\n",
              "              title=\"Convert this dataframe to an interactive table.\"\n",
              "              style=\"display:none;\">\n",
              "        \n",
              "  <svg xmlns=\"http://www.w3.org/2000/svg\" height=\"24px\"viewBox=\"0 0 24 24\"\n",
              "       width=\"24px\">\n",
              "    <path d=\"M0 0h24v24H0V0z\" fill=\"none\"/>\n",
              "    <path d=\"M18.56 5.44l.94 2.06.94-2.06 2.06-.94-2.06-.94-.94-2.06-.94 2.06-2.06.94zm-11 1L8.5 8.5l.94-2.06 2.06-.94-2.06-.94L8.5 2.5l-.94 2.06-2.06.94zm10 10l.94 2.06.94-2.06 2.06-.94-2.06-.94-.94-2.06-.94 2.06-2.06.94z\"/><path d=\"M17.41 7.96l-1.37-1.37c-.4-.4-.92-.59-1.43-.59-.52 0-1.04.2-1.43.59L10.3 9.45l-7.72 7.72c-.78.78-.78 2.05 0 2.83L4 21.41c.39.39.9.59 1.41.59.51 0 1.02-.2 1.41-.59l7.78-7.78 2.81-2.81c.8-.78.8-2.07 0-2.86zM5.41 20L4 18.59l7.72-7.72 1.47 1.35L5.41 20z\"/>\n",
              "  </svg>\n",
              "      </button>\n",
              "      \n",
              "  <style>\n",
              "    .colab-df-container {\n",
              "      display:flex;\n",
              "      flex-wrap:wrap;\n",
              "      gap: 12px;\n",
              "    }\n",
              "\n",
              "    .colab-df-convert {\n",
              "      background-color: #E8F0FE;\n",
              "      border: none;\n",
              "      border-radius: 50%;\n",
              "      cursor: pointer;\n",
              "      display: none;\n",
              "      fill: #1967D2;\n",
              "      height: 32px;\n",
              "      padding: 0 0 0 0;\n",
              "      width: 32px;\n",
              "    }\n",
              "\n",
              "    .colab-df-convert:hover {\n",
              "      background-color: #E2EBFA;\n",
              "      box-shadow: 0px 1px 2px rgba(60, 64, 67, 0.3), 0px 1px 3px 1px rgba(60, 64, 67, 0.15);\n",
              "      fill: #174EA6;\n",
              "    }\n",
              "\n",
              "    [theme=dark] .colab-df-convert {\n",
              "      background-color: #3B4455;\n",
              "      fill: #D2E3FC;\n",
              "    }\n",
              "\n",
              "    [theme=dark] .colab-df-convert:hover {\n",
              "      background-color: #434B5C;\n",
              "      box-shadow: 0px 1px 3px 1px rgba(0, 0, 0, 0.15);\n",
              "      filter: drop-shadow(0px 1px 2px rgba(0, 0, 0, 0.3));\n",
              "      fill: #FFFFFF;\n",
              "    }\n",
              "  </style>\n",
              "\n",
              "      <script>\n",
              "        const buttonEl =\n",
              "          document.querySelector('#df-d049ba57-94db-44e9-b5a9-b32d4eb1b725 button.colab-df-convert');\n",
              "        buttonEl.style.display =\n",
              "          google.colab.kernel.accessAllowed ? 'block' : 'none';\n",
              "\n",
              "        async function convertToInteractive(key) {\n",
              "          const element = document.querySelector('#df-d049ba57-94db-44e9-b5a9-b32d4eb1b725');\n",
              "          const dataTable =\n",
              "            await google.colab.kernel.invokeFunction('convertToInteractive',\n",
              "                                                     [key], {});\n",
              "          if (!dataTable) return;\n",
              "\n",
              "          const docLinkHtml = 'Like what you see? Visit the ' +\n",
              "            '<a target=\"_blank\" href=https://colab.research.google.com/notebooks/data_table.ipynb>data table notebook</a>'\n",
              "            + ' to learn more about interactive tables.';\n",
              "          element.innerHTML = '';\n",
              "          dataTable['output_type'] = 'display_data';\n",
              "          await google.colab.output.renderOutput(dataTable, element);\n",
              "          const docLink = document.createElement('div');\n",
              "          docLink.innerHTML = docLinkHtml;\n",
              "          element.appendChild(docLink);\n",
              "        }\n",
              "      </script>\n",
              "    </div>\n",
              "  </div>\n",
              "  "
            ],
            "text/plain": [
              "                                          tweet_text  ... Dominant_topic\n",
              "0  In other words #katandandre, your food was cra...  ...              3\n",
              "1  Why is #aussietv so white? #MKR #theblock #ImA...  ...              1\n",
              "2  @XochitlSuckkks a classy whore? Or more red ve...  ...              5\n",
              "3  @Jason_Gio meh. :P  thanks for the heads up, b...  ...              3\n",
              "4  @RudhoeEnglish This is an ISIS account pretend...  ...              9\n",
              "5  @Raja5aab @Quickieleaks Yes, the test of god i...  ...              1\n",
              "6  Itu sekolah ya bukan tempat bully! Ga jauh kay...  ...             10\n",
              "7  Karma. I hope it bites Kat on the butt. She is...  ...             10\n",
              "8       @stockputout everything but mostly my priest  ...              7\n",
              "9  Rebecca Black Drops Out of School Due to Bully...  ...              1\n",
              "\n",
              "[10 rows x 18 columns]"
            ]
          },
          "metadata": {}
        }
      ]
    },
    {
      "cell_type": "code",
      "source": [
        "from sklearn.preprocessing import LabelEncoder\n",
        "LE = LabelEncoder()\n",
        "LE.fit(data['cyberbullying_type'])\n",
        "data['target'] = LE.transform(data['cyberbullying_type'])\n",
        "data.head()"
      ],
      "metadata": {
        "colab": {
          "base_uri": "https://localhost:8080/",
          "height": 582
        },
        "id": "eEzj1olcQ4un",
        "outputId": "1e502901-5582-4360-eeee-dcab86564cc4"
      },
      "execution_count": 106,
      "outputs": [
        {
          "output_type": "execute_result",
          "data": {
            "text/html": [
              "\n",
              "  <div id=\"df-7c014b3a-f5cf-4e77-933c-5b6b5733a584\">\n",
              "    <div class=\"colab-df-container\">\n",
              "      <div>\n",
              "<style scoped>\n",
              "    .dataframe tbody tr th:only-of-type {\n",
              "        vertical-align: middle;\n",
              "    }\n",
              "\n",
              "    .dataframe tbody tr th {\n",
              "        vertical-align: top;\n",
              "    }\n",
              "\n",
              "    .dataframe thead th {\n",
              "        text-align: right;\n",
              "    }\n",
              "</style>\n",
              "<table border=\"1\" class=\"dataframe\">\n",
              "  <thead>\n",
              "    <tr style=\"text-align: right;\">\n",
              "      <th></th>\n",
              "      <th>tweet_text</th>\n",
              "      <th>cyberbullying_type</th>\n",
              "      <th>tokens</th>\n",
              "      <th>hastags</th>\n",
              "      <th>length</th>\n",
              "      <th>remove_stopwords</th>\n",
              "      <th>lemmatise</th>\n",
              "      <th>Topic1</th>\n",
              "      <th>Topic2</th>\n",
              "      <th>Topic3</th>\n",
              "      <th>Topic4</th>\n",
              "      <th>Topic5</th>\n",
              "      <th>Topic6</th>\n",
              "      <th>Topic7</th>\n",
              "      <th>Topic8</th>\n",
              "      <th>Topic9</th>\n",
              "      <th>Topic10</th>\n",
              "      <th>Dominant_topic</th>\n",
              "      <th>target</th>\n",
              "    </tr>\n",
              "  </thead>\n",
              "  <tbody>\n",
              "    <tr>\n",
              "      <th>0</th>\n",
              "      <td>In other words #katandandre, your food was cra...</td>\n",
              "      <td>not_cyberbullying</td>\n",
              "      <td>[in, other, words, #katandandre, ,, your, food...</td>\n",
              "      <td>[#katandandre, #mkr]</td>\n",
              "      <td>11</td>\n",
              "      <td>[words, #katandandre, ,, food, crapilicious, !...</td>\n",
              "      <td>[word, food, crapilicious]</td>\n",
              "      <td>0.02</td>\n",
              "      <td>0.02</td>\n",
              "      <td>0.85</td>\n",
              "      <td>0.02</td>\n",
              "      <td>0.02</td>\n",
              "      <td>0.02</td>\n",
              "      <td>0.02</td>\n",
              "      <td>0.02</td>\n",
              "      <td>0.02</td>\n",
              "      <td>0.02</td>\n",
              "      <td>3</td>\n",
              "      <td>3</td>\n",
              "    </tr>\n",
              "    <tr>\n",
              "      <th>1</th>\n",
              "      <td>Why is #aussietv so white? #MKR #theblock #ImA...</td>\n",
              "      <td>not_cyberbullying</td>\n",
              "      <td>[why, is, #aussietv, so, white, ?, #mkr, #theb...</td>\n",
              "      <td>[#aussietv, #mkr, #theblock, #imacelebrityau, ...</td>\n",
              "      <td>15</td>\n",
              "      <td>[#aussietv, white, ?, #mkr, #theblock, #imacel...</td>\n",
              "      <td>[white]</td>\n",
              "      <td>0.55</td>\n",
              "      <td>0.05</td>\n",
              "      <td>0.05</td>\n",
              "      <td>0.05</td>\n",
              "      <td>0.05</td>\n",
              "      <td>0.05</td>\n",
              "      <td>0.05</td>\n",
              "      <td>0.05</td>\n",
              "      <td>0.05</td>\n",
              "      <td>0.05</td>\n",
              "      <td>1</td>\n",
              "      <td>3</td>\n",
              "    </tr>\n",
              "    <tr>\n",
              "      <th>2</th>\n",
              "      <td>@XochitlSuckkks a classy whore? Or more red ve...</td>\n",
              "      <td>not_cyberbullying</td>\n",
              "      <td>[@xochitlsuckkks, a, classy, whore, ?, or, mor...</td>\n",
              "      <td>[]</td>\n",
              "      <td>11</td>\n",
              "      <td>[@xochitlsuckkks, classy, whore, ?, red, velve...</td>\n",
              "      <td>[classy, whore, red, velvet, cupcake]</td>\n",
              "      <td>0.01</td>\n",
              "      <td>0.01</td>\n",
              "      <td>0.01</td>\n",
              "      <td>0.01</td>\n",
              "      <td>0.91</td>\n",
              "      <td>0.01</td>\n",
              "      <td>0.01</td>\n",
              "      <td>0.01</td>\n",
              "      <td>0.01</td>\n",
              "      <td>0.01</td>\n",
              "      <td>5</td>\n",
              "      <td>3</td>\n",
              "    </tr>\n",
              "    <tr>\n",
              "      <th>3</th>\n",
              "      <td>@Jason_Gio meh. :P  thanks for the heads up, b...</td>\n",
              "      <td>not_cyberbullying</td>\n",
              "      <td>[@jason_gio, meh, ., :p, thanks, for, the, hea...</td>\n",
              "      <td>[]</td>\n",
              "      <td>21</td>\n",
              "      <td>[@jason_gio, meh, ., :p, thanks, heads, ,, con...</td>\n",
              "      <td>[meh, thanks, head, concerned, another, angry,...</td>\n",
              "      <td>0.01</td>\n",
              "      <td>0.01</td>\n",
              "      <td>0.94</td>\n",
              "      <td>0.01</td>\n",
              "      <td>0.01</td>\n",
              "      <td>0.01</td>\n",
              "      <td>0.01</td>\n",
              "      <td>0.01</td>\n",
              "      <td>0.01</td>\n",
              "      <td>0.01</td>\n",
              "      <td>3</td>\n",
              "      <td>3</td>\n",
              "    </tr>\n",
              "    <tr>\n",
              "      <th>4</th>\n",
              "      <td>@RudhoeEnglish This is an ISIS account pretend...</td>\n",
              "      <td>not_cyberbullying</td>\n",
              "      <td>[@rudhoeenglish, this, is, an, isis, account, ...</td>\n",
              "      <td>[]</td>\n",
              "      <td>21</td>\n",
              "      <td>[@rudhoeenglish, isis, account, pretending, ku...</td>\n",
              "      <td>[isi, account, pretending, kurdish, account, l...</td>\n",
              "      <td>0.01</td>\n",
              "      <td>0.01</td>\n",
              "      <td>0.01</td>\n",
              "      <td>0.01</td>\n",
              "      <td>0.01</td>\n",
              "      <td>0.01</td>\n",
              "      <td>0.01</td>\n",
              "      <td>0.01</td>\n",
              "      <td>0.94</td>\n",
              "      <td>0.01</td>\n",
              "      <td>9</td>\n",
              "      <td>3</td>\n",
              "    </tr>\n",
              "  </tbody>\n",
              "</table>\n",
              "</div>\n",
              "      <button class=\"colab-df-convert\" onclick=\"convertToInteractive('df-7c014b3a-f5cf-4e77-933c-5b6b5733a584')\"\n",
              "              title=\"Convert this dataframe to an interactive table.\"\n",
              "              style=\"display:none;\">\n",
              "        \n",
              "  <svg xmlns=\"http://www.w3.org/2000/svg\" height=\"24px\"viewBox=\"0 0 24 24\"\n",
              "       width=\"24px\">\n",
              "    <path d=\"M0 0h24v24H0V0z\" fill=\"none\"/>\n",
              "    <path d=\"M18.56 5.44l.94 2.06.94-2.06 2.06-.94-2.06-.94-.94-2.06-.94 2.06-2.06.94zm-11 1L8.5 8.5l.94-2.06 2.06-.94-2.06-.94L8.5 2.5l-.94 2.06-2.06.94zm10 10l.94 2.06.94-2.06 2.06-.94-2.06-.94-.94-2.06-.94 2.06-2.06.94z\"/><path d=\"M17.41 7.96l-1.37-1.37c-.4-.4-.92-.59-1.43-.59-.52 0-1.04.2-1.43.59L10.3 9.45l-7.72 7.72c-.78.78-.78 2.05 0 2.83L4 21.41c.39.39.9.59 1.41.59.51 0 1.02-.2 1.41-.59l7.78-7.78 2.81-2.81c.8-.78.8-2.07 0-2.86zM5.41 20L4 18.59l7.72-7.72 1.47 1.35L5.41 20z\"/>\n",
              "  </svg>\n",
              "      </button>\n",
              "      \n",
              "  <style>\n",
              "    .colab-df-container {\n",
              "      display:flex;\n",
              "      flex-wrap:wrap;\n",
              "      gap: 12px;\n",
              "    }\n",
              "\n",
              "    .colab-df-convert {\n",
              "      background-color: #E8F0FE;\n",
              "      border: none;\n",
              "      border-radius: 50%;\n",
              "      cursor: pointer;\n",
              "      display: none;\n",
              "      fill: #1967D2;\n",
              "      height: 32px;\n",
              "      padding: 0 0 0 0;\n",
              "      width: 32px;\n",
              "    }\n",
              "\n",
              "    .colab-df-convert:hover {\n",
              "      background-color: #E2EBFA;\n",
              "      box-shadow: 0px 1px 2px rgba(60, 64, 67, 0.3), 0px 1px 3px 1px rgba(60, 64, 67, 0.15);\n",
              "      fill: #174EA6;\n",
              "    }\n",
              "\n",
              "    [theme=dark] .colab-df-convert {\n",
              "      background-color: #3B4455;\n",
              "      fill: #D2E3FC;\n",
              "    }\n",
              "\n",
              "    [theme=dark] .colab-df-convert:hover {\n",
              "      background-color: #434B5C;\n",
              "      box-shadow: 0px 1px 3px 1px rgba(0, 0, 0, 0.15);\n",
              "      filter: drop-shadow(0px 1px 2px rgba(0, 0, 0, 0.3));\n",
              "      fill: #FFFFFF;\n",
              "    }\n",
              "  </style>\n",
              "\n",
              "      <script>\n",
              "        const buttonEl =\n",
              "          document.querySelector('#df-7c014b3a-f5cf-4e77-933c-5b6b5733a584 button.colab-df-convert');\n",
              "        buttonEl.style.display =\n",
              "          google.colab.kernel.accessAllowed ? 'block' : 'none';\n",
              "\n",
              "        async function convertToInteractive(key) {\n",
              "          const element = document.querySelector('#df-7c014b3a-f5cf-4e77-933c-5b6b5733a584');\n",
              "          const dataTable =\n",
              "            await google.colab.kernel.invokeFunction('convertToInteractive',\n",
              "                                                     [key], {});\n",
              "          if (!dataTable) return;\n",
              "\n",
              "          const docLinkHtml = 'Like what you see? Visit the ' +\n",
              "            '<a target=\"_blank\" href=https://colab.research.google.com/notebooks/data_table.ipynb>data table notebook</a>'\n",
              "            + ' to learn more about interactive tables.';\n",
              "          element.innerHTML = '';\n",
              "          dataTable['output_type'] = 'display_data';\n",
              "          await google.colab.output.renderOutput(dataTable, element);\n",
              "          const docLink = document.createElement('div');\n",
              "          docLink.innerHTML = docLinkHtml;\n",
              "          element.appendChild(docLink);\n",
              "        }\n",
              "      </script>\n",
              "    </div>\n",
              "  </div>\n",
              "  "
            ],
            "text/plain": [
              "                                          tweet_text  ... target\n",
              "0  In other words #katandandre, your food was cra...  ...      3\n",
              "1  Why is #aussietv so white? #MKR #theblock #ImA...  ...      3\n",
              "2  @XochitlSuckkks a classy whore? Or more red ve...  ...      3\n",
              "3  @Jason_Gio meh. :P  thanks for the heads up, b...  ...      3\n",
              "4  @RudhoeEnglish This is an ISIS account pretend...  ...      3\n",
              "\n",
              "[5 rows x 19 columns]"
            ]
          },
          "metadata": {},
          "execution_count": 106
        }
      ]
    },
    {
      "cell_type": "markdown",
      "source": [
        "**BASE Model: *Multinomial Naive Bayes'***"
      ],
      "metadata": {
        "id": "_dCnZIIjzklg"
      }
    },
    {
      "cell_type": "markdown",
      "source": [
        "Split data into train and test"
      ],
      "metadata": {
        "id": "XbOP8QCDSeDD"
      }
    },
    {
      "cell_type": "code",
      "source": [
        "from sklearn.model_selection import train_test_split\n",
        "x = data['tweet_text']\n",
        "y = data['cyberbullying_type']\n",
        "x_train, x_test, y_train, y_test = train_test_split(x, y, test_size = 0.2, random_state = 42)\n",
        "x_train.shape, x_test.shape, y_train.shape, y_test.shape"
      ],
      "metadata": {
        "colab": {
          "base_uri": "https://localhost:8080/"
        },
        "id": "63hHGw7PSXlp",
        "outputId": "45df3673-2af7-4caf-9571-bc11f10ec61d"
      },
      "execution_count": 107,
      "outputs": [
        {
          "output_type": "execute_result",
          "data": {
            "text/plain": [
              "((38153,), (9539,), (38153,), (9539,))"
            ]
          },
          "metadata": {},
          "execution_count": 107
        }
      ]
    },
    {
      "cell_type": "code",
      "source": [
        "x_train[:5]"
      ],
      "metadata": {
        "colab": {
          "base_uri": "https://localhost:8080/"
        },
        "id": "66o-aTXfSz7G",
        "outputId": "3892c5fe-ff19-4b72-ed8d-7eaae0bb1509"
      },
      "execution_count": 108,
      "outputs": [
        {
          "output_type": "execute_result",
          "data": {
            "text/plain": [
              "27942    RT @avatastic: @freebsdgirl Also, anyone who h...\n",
              "13988    @Questionnier is dis a joke gay rape or babe rape\n",
              "30197    RT @DavidCleevely: Raspberry Pi Foundation loo...\n",
              "47342    STOLEN // reply and ill give you one = luv ur ...\n",
              "43358    People in Navarre are so fucking dumb there wa...\n",
              "Name: tweet_text, dtype: object"
            ]
          },
          "metadata": {},
          "execution_count": 108
        }
      ]
    },
    {
      "cell_type": "code",
      "source": [
        "y_train[:5]"
      ],
      "metadata": {
        "colab": {
          "base_uri": "https://localhost:8080/"
        },
        "id": "1x9baX11S0j9",
        "outputId": "2906d2cd-bd5c-4318-a29d-4b8dd64e2e51"
      },
      "execution_count": 109,
      "outputs": [
        {
          "output_type": "execute_result",
          "data": {
            "text/plain": [
              "27942    other_cyberbullying\n",
              "13988                 gender\n",
              "30197    other_cyberbullying\n",
              "47342              ethnicity\n",
              "43358              ethnicity\n",
              "Name: cyberbullying_type, dtype: object"
            ]
          },
          "metadata": {},
          "execution_count": 109
        }
      ]
    },
    {
      "cell_type": "code",
      "source": [
        "from sklearn.naive_bayes import MultinomialNB\n",
        "from sklearn.pipeline import Pipeline\n",
        "from sklearn.feature_extraction.text import TfidfVectorizer\n",
        "\n",
        "Model1 = Pipeline([(\"tfidf\", TfidfVectorizer()), (\"clf\", MultinomialNB())])\n",
        "Model1.fit(x_train, y_train)\n",
        "Model1.score(x_test, y_test)"
      ],
      "metadata": {
        "colab": {
          "base_uri": "https://localhost:8080/"
        },
        "id": "PFev1lAty96p",
        "outputId": "1ebd170e-6d2e-424d-9e5f-9d2571fb016f"
      },
      "execution_count": 110,
      "outputs": [
        {
          "output_type": "execute_result",
          "data": {
            "text/plain": [
              "0.7342488730474892"
            ]
          },
          "metadata": {},
          "execution_count": 110
        }
      ]
    },
    {
      "cell_type": "code",
      "source": [
        "from sklearn.feature_extraction.text import CountVectorizer\n",
        "Model2 = Pipeline([(\"BOWs\", CountVectorizer()), (\"clf\", MultinomialNB())])\n",
        "Model2.fit(x_train, y_train)\n",
        "Model2.score(x_test, y_test)"
      ],
      "metadata": {
        "colab": {
          "base_uri": "https://localhost:8080/"
        },
        "id": "MzVrjSfCzzPv",
        "outputId": "741202af-19ce-4a85-a29a-fa0b5375de49"
      },
      "execution_count": 111,
      "outputs": [
        {
          "output_type": "execute_result",
          "data": {
            "text/plain": [
              "0.7564734248873047"
            ]
          },
          "metadata": {},
          "execution_count": 111
        }
      ]
    },
    {
      "cell_type": "code",
      "source": [
        "from sklearn.neighbors import KNeighborsClassifier\n",
        "Model_Knn = Pipeline([(\"BOWs\", CountVectorizer()), (\"clf\", KNeighborsClassifier())])\n",
        "Model_Knn.fit(x_train, y_train)\n",
        "Model_Knn.score(x_test, y_test)"
      ],
      "metadata": {
        "colab": {
          "base_uri": "https://localhost:8080/"
        },
        "id": "6HJoGInwAytB",
        "outputId": "a7e0052e-848b-4acc-b9ce-b856b0f43180"
      },
      "execution_count": 112,
      "outputs": [
        {
          "output_type": "execute_result",
          "data": {
            "text/plain": [
              "0.6168361463465772"
            ]
          },
          "metadata": {},
          "execution_count": 112
        }
      ]
    },
    {
      "cell_type": "code",
      "source": [
        "from sklearn.ensemble import RandomForestClassifier\n",
        "ModelRf1 = Pipeline([(\"tfidf\", TfidfVectorizer()), (\"clf\", RandomForestClassifier(n_estimators=100))])\n",
        "ModelRf1.fit(x_train, y_train)\n",
        "ModelRf1.score(x_test, y_test)"
      ],
      "metadata": {
        "colab": {
          "base_uri": "https://localhost:8080/"
        },
        "id": "ZN0aWlbD0s2A",
        "outputId": "1a827368-61ff-4f51-e2b2-6b7636828e4a"
      },
      "execution_count": 113,
      "outputs": [
        {
          "output_type": "execute_result",
          "data": {
            "text/plain": [
              "0.8071076632770731"
            ]
          },
          "metadata": {},
          "execution_count": 113
        }
      ]
    },
    {
      "cell_type": "code",
      "source": [
        "from sklearn.ensemble import RandomForestClassifier\n",
        "ModelRf2 = Pipeline([(\"BOWs\", CountVectorizer()), (\"clf\", RandomForestClassifier(n_estimators=100))])\n",
        "ModelRf2.fit(x_train, y_train)\n",
        "ModelRf2.score(x_test, y_test)"
      ],
      "metadata": {
        "colab": {
          "base_uri": "https://localhost:8080/"
        },
        "id": "XQqjRAh11D9i",
        "outputId": "acce1ee8-496d-4a72-c652-0693780afc61"
      },
      "execution_count": 114,
      "outputs": [
        {
          "output_type": "execute_result",
          "data": {
            "text/plain": [
              "0.8063738337351923"
            ]
          },
          "metadata": {},
          "execution_count": 114
        }
      ]
    },
    {
      "cell_type": "code",
      "source": [
        "import xgboost as xgb\n",
        "from xgboost import XGBClassifier\n",
        "Modelxgb = Pipeline([(\"BOWs\", CountVectorizer()), (\"clf\", XGBClassifier())])\n",
        "Modelxgb.fit(x_train, y_train)\n",
        "Modelxgb.score(x_test, y_test)"
      ],
      "metadata": {
        "colab": {
          "base_uri": "https://localhost:8080/"
        },
        "id": "Il_W2RT76Wg7",
        "outputId": "16ace2fb-b223-4b7e-e433-18c2b053b257"
      },
      "execution_count": 115,
      "outputs": [
        {
          "output_type": "execute_result",
          "data": {
            "text/plain": [
              "0.8212600901562008"
            ]
          },
          "metadata": {},
          "execution_count": 115
        }
      ]
    },
    {
      "cell_type": "code",
      "source": [
        "from sklearn.metrics import classification_report, confusion_matrix, accuracy_score\n",
        "y_pred= Modelxgb.predict(x_test)\n",
        "\n",
        "print(\"Classification report for XGB:\\n\",classification_report(y_test,y_pred))\n",
        "print(\"Confusion Matrix:\",\"\\n\",confusion_matrix(y_test,y_pred))\n",
        "print(\"Micro F1 score for XGB:\",accuracy_score(y_test, y_pred))"
      ],
      "metadata": {
        "colab": {
          "base_uri": "https://localhost:8080/"
        },
        "id": "dXOppVlB8u_D",
        "outputId": "957b34ad-9135-4fc4-c5bb-7e6cfa48bd73"
      },
      "execution_count": 116,
      "outputs": [
        {
          "output_type": "stream",
          "name": "stdout",
          "text": [
            "Classification report for XGB:\n",
            "                      precision    recall  f1-score   support\n",
            "\n",
            "                age       0.99      0.98      0.98      1603\n",
            "          ethnicity       0.99      0.97      0.98      1603\n",
            "             gender       0.93      0.77      0.84      1531\n",
            "  not_cyberbullying       0.70      0.40      0.51      1624\n",
            "other_cyberbullying       0.53      0.89      0.67      1612\n",
            "           religion       0.97      0.92      0.95      1566\n",
            "\n",
            "           accuracy                           0.82      9539\n",
            "          macro avg       0.85      0.82      0.82      9539\n",
            "       weighted avg       0.85      0.82      0.82      9539\n",
            "\n",
            "Confusion Matrix: \n",
            " [[1565    0    3   16   19    0]\n",
            " [   0 1556    3    5   38    1]\n",
            " [   0    2 1179  115  234    1]\n",
            " [  13    3   20  648  901   39]\n",
            " [   5    4   46  114 1442    1]\n",
            " [   0    2   13   31   76 1444]]\n",
            "Micro F1 score for XGB: 0.8212600901562008\n"
          ]
        }
      ]
    },
    {
      "cell_type": "code",
      "source": [
        "#Random Forest\n",
        "y_pred= ModelRf1.predict(x_test)\n",
        "\n",
        "print(\"Classification report for Random Forest:\\n\",classification_report(y_test,y_pred))\n",
        "print(\"Confusion Matrix:\",\"\\n\",confusion_matrix(y_test,y_pred))\n",
        "print(\"Micro F1 score for Random Forest:\",accuracy_score(y_test, y_pred))"
      ],
      "metadata": {
        "colab": {
          "base_uri": "https://localhost:8080/"
        },
        "id": "gFomBw-DAEEG",
        "outputId": "a7819060-6c9a-4de3-f2ee-196b6d625a94"
      },
      "execution_count": 117,
      "outputs": [
        {
          "output_type": "stream",
          "name": "stdout",
          "text": [
            "Classification report for Random Forest:\n",
            "                      precision    recall  f1-score   support\n",
            "\n",
            "                age       0.96      0.98      0.97      1603\n",
            "          ethnicity       0.98      0.97      0.98      1603\n",
            "             gender       0.90      0.80      0.85      1531\n",
            "  not_cyberbullying       0.56      0.49      0.52      1624\n",
            "other_cyberbullying       0.53      0.66      0.59      1612\n",
            "           religion       0.95      0.95      0.95      1566\n",
            "\n",
            "           accuracy                           0.81      9539\n",
            "          macro avg       0.82      0.81      0.81      9539\n",
            "       weighted avg       0.81      0.81      0.81      9539\n",
            "\n",
            "Confusion Matrix: \n",
            " [[1576    1    3   11   12    0]\n",
            " [   7 1553    2   11   23    7]\n",
            " [   5    4 1232  118  170    2]\n",
            " [  34    7   48  795  685   55]\n",
            " [  19    7   71  439 1062   14]\n",
            " [   0    5    9   37   34 1481]]\n",
            "Micro F1 score for Random Forest: 0.8071076632770731\n"
          ]
        }
      ]
    },
    {
      "cell_type": "code",
      "source": [
        "y_pred= Model2.predict(x_test)\n",
        "\n",
        "print(\"Classification report for Multinomial Naive Bayes':\\n\",classification_report(y_test,y_pred))\n",
        "print(\"Confusion Matrix:\",\"\\n\",confusion_matrix(y_test,y_pred))\n",
        "print(\"Micro F1 score for Multinomial Naive Bayes':\",accuracy_score(y_test, y_pred))"
      ],
      "metadata": {
        "colab": {
          "base_uri": "https://localhost:8080/"
        },
        "id": "O-bGXIewAWFq",
        "outputId": "a157966e-9683-453d-9d1a-992736f4c74f"
      },
      "execution_count": 118,
      "outputs": [
        {
          "output_type": "stream",
          "name": "stdout",
          "text": [
            "Classification report for Multinomial Naive Bayes':\n",
            "                      precision    recall  f1-score   support\n",
            "\n",
            "                age       0.70      0.99      0.82      1603\n",
            "          ethnicity       0.86      0.90      0.88      1603\n",
            "             gender       0.81      0.85      0.83      1531\n",
            "  not_cyberbullying       0.69      0.36      0.47      1624\n",
            "other_cyberbullying       0.66      0.49      0.56      1612\n",
            "           religion       0.78      0.97      0.87      1566\n",
            "\n",
            "           accuracy                           0.76      9539\n",
            "          macro avg       0.75      0.76      0.74      9539\n",
            "       weighted avg       0.75      0.76      0.74      9539\n",
            "\n",
            "Confusion Matrix: \n",
            " [[1585    4    5    2    0    7]\n",
            " [  74 1441   10    2   11   65]\n",
            " [  31   31 1295   81   52   41]\n",
            " [ 286   84  133  578  349  194]\n",
            " [ 271  110  156  161  794  120]\n",
            " [  14    6    6   16    1 1523]]\n",
            "Micro F1 score for Multinomial Naive Bayes': 0.7564734248873047\n"
          ]
        }
      ]
    },
    {
      "cell_type": "code",
      "source": [
        "y_pred= Model_Knn.predict(x_test)\n",
        "\n",
        "print(\"Classification report for KNN':\\n\",classification_report(y_test,y_pred))\n",
        "print(\"Confusion Matrix:\",\"\\n\",confusion_matrix(y_test,y_pred))\n",
        "print(\"Micro F1 score for KNN:\",accuracy_score(y_test, y_pred))"
      ],
      "metadata": {
        "colab": {
          "base_uri": "https://localhost:8080/"
        },
        "id": "QjGy804xBLPn",
        "outputId": "1ce59797-f917-4fde-81f9-710aee70b460"
      },
      "execution_count": 119,
      "outputs": [
        {
          "output_type": "stream",
          "name": "stdout",
          "text": [
            "Classification report for KNN':\n",
            "                      precision    recall  f1-score   support\n",
            "\n",
            "                age       0.88      0.91      0.90      1603\n",
            "          ethnicity       0.95      0.76      0.84      1603\n",
            "             gender       0.67      0.67      0.67      1531\n",
            "  not_cyberbullying       0.35      0.42      0.38      1624\n",
            "other_cyberbullying       0.37      0.58      0.45      1612\n",
            "           religion       0.95      0.36      0.53      1566\n",
            "\n",
            "           accuracy                           0.62      9539\n",
            "          macro avg       0.70      0.62      0.63      9539\n",
            "       weighted avg       0.69      0.62      0.63      9539\n",
            "\n",
            "Confusion Matrix: \n",
            " [[1466    4    6   62   60    5]\n",
            " [  53 1216   35  148  137   14]\n",
            " [  18   12 1028  201  268    4]\n",
            " [  37    6  171  677  730    3]\n",
            " [  13    8  182  478  929    2]\n",
            " [  76   37  106  377  402  568]]\n",
            "Micro F1 score for KNN: 0.6168361463465772\n"
          ]
        }
      ]
    },
    {
      "cell_type": "code",
      "source": [
        "from sklearn.linear_model import SGDClassifier\n",
        "\n",
        "Model_sgd = Pipeline([('vect', CountVectorizer(stop_words='english')),\n",
        "                ('tfidf', TfidfTransformer()),\n",
        "                ('clf', SGDClassifier(loss='hinge', penalty='l2',alpha=1e-3, random_state=42, max_iter=5, tol=None)),\n",
        "               ])\n",
        "Model_sgd.fit(x_train, y_train)\n",
        "Model_sgd.score(x_test, y_test)\n",
        "\n",
        "y_pred = Model_sgd.predict(x_test)\n",
        "\n",
        "print('accuracy %s' % accuracy_score(y_pred, y_test))\n",
        "print(classification_report(y_test, y_pred))"
      ],
      "metadata": {
        "colab": {
          "base_uri": "https://localhost:8080/"
        },
        "id": "lfUU2Uf3-t_S",
        "outputId": "1760204b-4751-455c-c8fb-af8eb84217c5"
      },
      "execution_count": 125,
      "outputs": [
        {
          "output_type": "stream",
          "name": "stdout",
          "text": [
            "accuracy 0.7840444491036797\n",
            "                     precision    recall  f1-score   support\n",
            "\n",
            "                age       0.81      0.99      0.89      1603\n",
            "          ethnicity       0.89      0.97      0.93      1603\n",
            "             gender       0.85      0.83      0.84      1531\n",
            "  not_cyberbullying       0.64      0.43      0.52      1624\n",
            "other_cyberbullying       0.66      0.51      0.57      1612\n",
            "           religion       0.78      0.98      0.87      1566\n",
            "\n",
            "           accuracy                           0.78      9539\n",
            "          macro avg       0.77      0.79      0.77      9539\n",
            "       weighted avg       0.77      0.78      0.77      9539\n",
            "\n"
          ]
        }
      ]
    },
    {
      "cell_type": "code",
      "source": [
        "from sklearn.ensemble import VotingClassifier\n",
        "eclf = VotingClassifier(estimators=[('XGBoost', XGBClassifier()), ('RF', RandomForestClassifier()), ('MNB',MultinomialNB() ), (\"SGD\", SGDClassifier(alpha=1e-3, random_state=42, max_iter=5, tol=None))],voting='hard', weights=[3,2,1,1])\n",
        "Model_Voting =  Pipeline([('vect', CountVectorizer(stop_words='english')),\n",
        "                ('tfidf', TfidfTransformer()),\n",
        "                ('clf', eclf),\n",
        "               ])\n",
        "Model_Voting.fit(x_train, y_train)\n",
        "y_pred= Model_Voting.predict(x_test)\n",
        "\n",
        "print(\"Classification report for Ensemble Classifier':\\n\",classification_report(y_test,y_pred))\n",
        "print(\"Confusion Matrix:\",\"\\n\",confusion_matrix(y_test,y_pred))\n",
        "print(\"Micro F1 score for Ensemble Classifier:\",accuracy_score(y_test, y_pred))"
      ],
      "metadata": {
        "colab": {
          "base_uri": "https://localhost:8080/"
        },
        "id": "EC1z3T1yCFle",
        "outputId": "f85cc7b8-298b-4764-ef53-6fcf06f069fa"
      },
      "execution_count": 130,
      "outputs": [
        {
          "output_type": "stream",
          "name": "stdout",
          "text": [
            "Classification report for Ensemble Classifier':\n",
            "                      precision    recall  f1-score   support\n",
            "\n",
            "                age       0.97      0.98      0.98      1603\n",
            "          ethnicity       0.98      0.98      0.98      1603\n",
            "             gender       0.90      0.82      0.86      1531\n",
            "  not_cyberbullying       0.69      0.45      0.54      1624\n",
            "other_cyberbullying       0.58      0.82      0.68      1612\n",
            "           religion       0.95      0.96      0.95      1566\n",
            "\n",
            "           accuracy                           0.83      9539\n",
            "          macro avg       0.84      0.83      0.83      9539\n",
            "       weighted avg       0.84      0.83      0.83      9539\n",
            "\n",
            "Confusion Matrix: \n",
            " [[1578    1    3   10   11    0]\n",
            " [   1 1568    3    6   22    3]\n",
            " [   1    3 1259  112  155    1]\n",
            " [  29   10   54  726  739   66]\n",
            " [  12   14   71  187 1316   12]\n",
            " [   0    3   11   18   38 1496]]\n",
            "Micro F1 score for Ensemble Classifier: 0.8326868644512003\n"
          ]
        }
      ]
    }
  ]
}